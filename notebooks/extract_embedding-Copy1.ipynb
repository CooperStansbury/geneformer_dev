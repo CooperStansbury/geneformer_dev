{
 "cells": [
  {
   "cell_type": "code",
   "execution_count": 1,
   "id": "da3b2e7e-868a-425d-9581-bb4ac3dd4f3c",
   "metadata": {},
   "outputs": [
    {
     "name": "stderr",
     "output_type": "stream",
     "text": [
      "/home/oliven/miniconda3/envs/geneformer2/lib/python3.10/site-packages/tqdm/auto.py:21: TqdmWarning: IProgress not found. Please update jupyter and ipywidgets. See https://ipywidgets.readthedocs.io/en/stable/user_install.html\n",
      "  from .autonotebook import tqdm as notebook_tqdm\n"
     ]
    }
   ],
   "source": [
    "import seaborn as sns\n",
    "import pandas as pd \n",
    "import numpy as np\n",
    "from scipy.spatial.distance import squareform, pdist\n",
    "import matplotlib.pyplot as plt\n",
    "import torch\n",
    "import anndata as an\n",
    "import scanpy as sc\n",
    "import umap\n",
    "import gc\n",
    "from importlib import reload\n",
    "\n",
    "from datasets import Dataset, load_from_disk\n",
    "from datasets import load_dataset\n",
    "from geneformer import EmbExtractor\n",
    "import geneformer\n",
    "\n",
    "# local imports\n",
    "import geneformer_utils as gtu\n",
    "\n",
    "sns.set_style('white')"
   ]
  },
  {
   "cell_type": "code",
   "execution_count": 2,
   "id": "263bd307-d1d0-42fa-8e24-e4ceb193aee2",
   "metadata": {},
   "outputs": [],
   "source": [
    "# break"
   ]
  },
  {
   "cell_type": "code",
   "execution_count": 3,
   "id": "4104efe8-8e37-4fc3-b597-857453e1672b",
   "metadata": {},
   "outputs": [],
   "source": [
    "# model = \"/nfs/turbo/umms-indikar/shared/projects/geneformer/fine_tuned_models/geneformer-6L-30M_CellClassifier_cardiomyopathies_220224/\"\n",
    "model = \"/nfs/turbo/umms-indikar/shared/projects/geneformer/geneformer-12L-30M/\"\n",
    "# data_path = \"/nfs/turbo/umms-indikar/shared/projects/geneformer/data/rajapakse_lab_data.dataset\"\n",
    "# data_path = \"/nfs/turbo/umms-indikar/shared/projects/geneformer/data/tabula_sapiens_muscle.dataset\"\n",
    "data_path = \"/nfs/turbo/umms-indikar/shared/projects/geneformer/example_input_files/cell_classification/disease_classification/human_dcm_hcm_nf.dataset\"\n",
    "outpath = \"/scratch/indikar_root/indikar0/cstansbu/geneformer\""
   ]
  },
  {
   "cell_type": "code",
   "execution_count": 4,
   "id": "05cdd716-edaf-456f-89f2-48810dee42bc",
   "metadata": {},
   "outputs": [
    {
     "name": "stdout",
     "output_type": "stream",
     "text": [
      "df.shape=(10, 8)\n"
     ]
    },
    {
     "data": {
      "text/html": [
       "<div>\n",
       "<style scoped>\n",
       "    .dataframe tbody tr th:only-of-type {\n",
       "        vertical-align: middle;\n",
       "    }\n",
       "\n",
       "    .dataframe tbody tr th {\n",
       "        vertical-align: top;\n",
       "    }\n",
       "\n",
       "    .dataframe thead th {\n",
       "        text-align: right;\n",
       "    }\n",
       "</style>\n",
       "<table border=\"1\" class=\"dataframe\">\n",
       "  <thead>\n",
       "    <tr style=\"text-align: right;\">\n",
       "      <th></th>\n",
       "      <th>input_ids</th>\n",
       "      <th>length</th>\n",
       "      <th>cell_type</th>\n",
       "      <th>individual</th>\n",
       "      <th>age</th>\n",
       "      <th>sex</th>\n",
       "      <th>disease</th>\n",
       "      <th>lvef</th>\n",
       "    </tr>\n",
       "  </thead>\n",
       "  <tbody>\n",
       "    <tr>\n",
       "      <th>0</th>\n",
       "      <td>[11045, 176, 8088, 5053, 13408, 4476, 14768, 1...</td>\n",
       "      <td>794</td>\n",
       "      <td>Fibroblast1</td>\n",
       "      <td>1304</td>\n",
       "      <td>63.0</td>\n",
       "      <td>Female</td>\n",
       "      <td>dcm</td>\n",
       "      <td>10.0</td>\n",
       "    </tr>\n",
       "    <tr>\n",
       "      <th>1</th>\n",
       "      <td>[20495, 2693, 9756, 11142, 21009, 3842, 383, 1...</td>\n",
       "      <td>432</td>\n",
       "      <td>Endothelial1</td>\n",
       "      <td>1422</td>\n",
       "      <td>54.0</td>\n",
       "      <td>Male</td>\n",
       "      <td>hcm</td>\n",
       "      <td>70.0</td>\n",
       "    </tr>\n",
       "    <tr>\n",
       "      <th>2</th>\n",
       "      <td>[17173, 4285, 10716, 6073, 9837, 3707, 403, 13...</td>\n",
       "      <td>1130</td>\n",
       "      <td>Cardiomyocyte1</td>\n",
       "      <td>1603</td>\n",
       "      <td>69.0</td>\n",
       "      <td>Female</td>\n",
       "      <td>nf</td>\n",
       "      <td>NaN</td>\n",
       "    </tr>\n",
       "    <tr>\n",
       "      <th>3</th>\n",
       "      <td>[6633, 3373, 1329, 708, 15961, 8411, 2053, 162...</td>\n",
       "      <td>1287</td>\n",
       "      <td>Macrophage</td>\n",
       "      <td>1718</td>\n",
       "      <td>33.0</td>\n",
       "      <td>Male</td>\n",
       "      <td>nf</td>\n",
       "      <td>55.0</td>\n",
       "    </tr>\n",
       "    <tr>\n",
       "      <th>4</th>\n",
       "      <td>[85, 7258, 9695, 5306, 4072, 3605, 5347, 5572,...</td>\n",
       "      <td>1017</td>\n",
       "      <td>Fibroblast1</td>\n",
       "      <td>1430</td>\n",
       "      <td>62.0</td>\n",
       "      <td>Male</td>\n",
       "      <td>dcm</td>\n",
       "      <td>15.0</td>\n",
       "    </tr>\n",
       "  </tbody>\n",
       "</table>\n",
       "</div>"
      ],
      "text/plain": [
       "                                           input_ids  length       cell_type  \\\n",
       "0  [11045, 176, 8088, 5053, 13408, 4476, 14768, 1...     794     Fibroblast1   \n",
       "1  [20495, 2693, 9756, 11142, 21009, 3842, 383, 1...     432    Endothelial1   \n",
       "2  [17173, 4285, 10716, 6073, 9837, 3707, 403, 13...    1130  Cardiomyocyte1   \n",
       "3  [6633, 3373, 1329, 708, 15961, 8411, 2053, 162...    1287      Macrophage   \n",
       "4  [85, 7258, 9695, 5306, 4072, 3605, 5347, 5572,...    1017     Fibroblast1   \n",
       "\n",
       "  individual   age     sex disease  lvef  \n",
       "0       1304  63.0  Female     dcm  10.0  \n",
       "1       1422  54.0    Male     hcm  70.0  \n",
       "2       1603  69.0  Female      nf   NaN  \n",
       "3       1718  33.0    Male      nf  55.0  \n",
       "4       1430  62.0    Male     dcm  15.0  "
      ]
     },
     "execution_count": 4,
     "metadata": {},
     "output_type": "execute_result"
    }
   ],
   "source": [
    "reload(gtu)\n",
    "df = gtu.load_data_as_dataframe(data_path, num_cells=10, shuffle=True)\n",
    "print(f\"{df.shape=}\")\n",
    "df.head()"
   ]
  },
  {
   "cell_type": "code",
   "execution_count": 5,
   "id": "4319f63a-681e-4ca6-9dad-a139b9a3521d",
   "metadata": {},
   "outputs": [],
   "source": [
    "# print(torch.cuda.memory_summary(device=None, abbreviated=False))"
   ]
  },
  {
   "cell_type": "markdown",
   "id": "d37b94cd-4f29-4d5e-a7ba-7ff06228301e",
   "metadata": {},
   "source": [
    "# Original Geneformer Extraction"
   ]
  },
  {
   "cell_type": "code",
   "execution_count": 6,
   "id": "adc3a392-c530-4742-9c67-c1ff27bbbdf4",
   "metadata": {},
   "outputs": [
    {
     "ename": "RuntimeError",
     "evalue": "CUDA error: CUDA-capable device(s) is/are busy or unavailable\nCUDA kernel errors might be asynchronously reported at some other API call, so the stacktrace below might be incorrect.\nFor debugging consider passing CUDA_LAUNCH_BLOCKING=1.\nCompile with `TORCH_USE_CUDA_DSA` to enable device-side assertions.\n",
     "output_type": "error",
     "traceback": [
      "\u001b[0;31m---------------------------------------------------------------------------\u001b[0m",
      "\u001b[0;31mRuntimeError\u001b[0m                              Traceback (most recent call last)",
      "Cell \u001b[0;32mIn[6], line 19\u001b[0m\n\u001b[1;32m      8\u001b[0m embex \u001b[38;5;241m=\u001b[39m EmbExtractor(model_type\u001b[38;5;241m=\u001b[39m\u001b[38;5;124m\"\u001b[39m\u001b[38;5;124mPretrained\u001b[39m\u001b[38;5;124m\"\u001b[39m,\n\u001b[1;32m      9\u001b[0m                      num_classes\u001b[38;5;241m=\u001b[39m\u001b[38;5;241m0\u001b[39m,\n\u001b[1;32m     10\u001b[0m                      max_ncells\u001b[38;5;241m=\u001b[39mn_cells,\n\u001b[0;32m   (...)\u001b[0m\n\u001b[1;32m     15\u001b[0m                      nproc\u001b[38;5;241m=\u001b[39m\u001b[38;5;241m16\u001b[39m,\n\u001b[1;32m     16\u001b[0m                       )\n\u001b[1;32m     18\u001b[0m \u001b[38;5;66;03m# extracts embedding from input data\u001b[39;00m\n\u001b[0;32m---> 19\u001b[0m embs \u001b[38;5;241m=\u001b[39m \u001b[43membex\u001b[49m\u001b[38;5;241;43m.\u001b[39;49m\u001b[43mextract_embs\u001b[49m\u001b[43m(\u001b[49m\u001b[43mmodel\u001b[49m\u001b[43m,\u001b[49m\n\u001b[1;32m     20\u001b[0m \u001b[43m                          \u001b[49m\u001b[43mdata_path\u001b[49m\u001b[43m,\u001b[49m\n\u001b[1;32m     21\u001b[0m \u001b[43m                          \u001b[49m\u001b[43moutpath\u001b[49m\u001b[43m,\u001b[49m\n\u001b[1;32m     22\u001b[0m \u001b[43m                          \u001b[49m\u001b[38;5;124;43m\"\u001b[39;49m\u001b[38;5;124;43mtest\u001b[39;49m\u001b[38;5;124;43m\"\u001b[39;49m\u001b[43m)\u001b[49m\n\u001b[1;32m     24\u001b[0m embs\u001b[38;5;241m.\u001b[39mhead()\n",
      "File \u001b[0;32m~/miniconda3/envs/geneformer2/lib/python3.10/site-packages/geneformer/emb_extractor.py:562\u001b[0m, in \u001b[0;36mEmbExtractor.extract_embs\u001b[0;34m(self, model_directory, input_data_file, output_directory, output_prefix, output_torch_embs, cell_state)\u001b[0m\n\u001b[1;32m    558\u001b[0m     filtered_input_data \u001b[38;5;241m=\u001b[39m pu\u001b[38;5;241m.\u001b[39mfilter_by_dict(\n\u001b[1;32m    559\u001b[0m         filtered_input_data, cell_state, \u001b[38;5;28mself\u001b[39m\u001b[38;5;241m.\u001b[39mnproc\n\u001b[1;32m    560\u001b[0m     )\n\u001b[1;32m    561\u001b[0m downsampled_data \u001b[38;5;241m=\u001b[39m pu\u001b[38;5;241m.\u001b[39mdownsample_and_sort(filtered_input_data, \u001b[38;5;28mself\u001b[39m\u001b[38;5;241m.\u001b[39mmax_ncells)\n\u001b[0;32m--> 562\u001b[0m model \u001b[38;5;241m=\u001b[39m \u001b[43mpu\u001b[49m\u001b[38;5;241;43m.\u001b[39;49m\u001b[43mload_model\u001b[49m\u001b[43m(\u001b[49m\n\u001b[1;32m    563\u001b[0m \u001b[43m    \u001b[49m\u001b[38;5;28;43mself\u001b[39;49m\u001b[38;5;241;43m.\u001b[39;49m\u001b[43mmodel_type\u001b[49m\u001b[43m,\u001b[49m\u001b[43m \u001b[49m\u001b[38;5;28;43mself\u001b[39;49m\u001b[38;5;241;43m.\u001b[39;49m\u001b[43mnum_classes\u001b[49m\u001b[43m,\u001b[49m\u001b[43m \u001b[49m\u001b[43mmodel_directory\u001b[49m\u001b[43m,\u001b[49m\u001b[43m \u001b[49m\u001b[43mmode\u001b[49m\u001b[38;5;241;43m=\u001b[39;49m\u001b[38;5;124;43m\"\u001b[39;49m\u001b[38;5;124;43meval\u001b[39;49m\u001b[38;5;124;43m\"\u001b[39;49m\n\u001b[1;32m    564\u001b[0m \u001b[43m\u001b[49m\u001b[43m)\u001b[49m\n\u001b[1;32m    565\u001b[0m layer_to_quant \u001b[38;5;241m=\u001b[39m pu\u001b[38;5;241m.\u001b[39mquant_layers(model) \u001b[38;5;241m+\u001b[39m \u001b[38;5;28mself\u001b[39m\u001b[38;5;241m.\u001b[39memb_layer\n\u001b[1;32m    566\u001b[0m embs \u001b[38;5;241m=\u001b[39m get_embs(\n\u001b[1;32m    567\u001b[0m     model,\n\u001b[1;32m    568\u001b[0m     downsampled_data,\n\u001b[0;32m   (...)\u001b[0m\n\u001b[1;32m    573\u001b[0m     \u001b[38;5;28mself\u001b[39m\u001b[38;5;241m.\u001b[39msummary_stat,\n\u001b[1;32m    574\u001b[0m )\n",
      "File \u001b[0;32m~/miniconda3/envs/geneformer2/lib/python3.10/site-packages/geneformer/perturber_utils.py:147\u001b[0m, in \u001b[0;36mload_model\u001b[0;34m(model_type, num_classes, model_directory, mode)\u001b[0m\n\u001b[1;32m    145\u001b[0m \u001b[38;5;28;01mif\u001b[39;00m mode \u001b[38;5;241m==\u001b[39m \u001b[38;5;124m\"\u001b[39m\u001b[38;5;124meval\u001b[39m\u001b[38;5;124m\"\u001b[39m:\n\u001b[1;32m    146\u001b[0m     model\u001b[38;5;241m.\u001b[39meval()\n\u001b[0;32m--> 147\u001b[0m model \u001b[38;5;241m=\u001b[39m \u001b[43mmodel\u001b[49m\u001b[38;5;241;43m.\u001b[39;49m\u001b[43mto\u001b[49m\u001b[43m(\u001b[49m\u001b[38;5;124;43m\"\u001b[39;49m\u001b[38;5;124;43mcuda\u001b[39;49m\u001b[38;5;124;43m\"\u001b[39;49m\u001b[43m)\u001b[49m\n\u001b[1;32m    148\u001b[0m \u001b[38;5;28;01mreturn\u001b[39;00m model\n",
      "File \u001b[0;32m~/miniconda3/envs/geneformer2/lib/python3.10/site-packages/transformers/modeling_utils.py:2724\u001b[0m, in \u001b[0;36mPreTrainedModel.to\u001b[0;34m(self, *args, **kwargs)\u001b[0m\n\u001b[1;32m   2719\u001b[0m     \u001b[38;5;28;01mif\u001b[39;00m dtype_present_in_args:\n\u001b[1;32m   2720\u001b[0m         \u001b[38;5;28;01mraise\u001b[39;00m \u001b[38;5;167;01mValueError\u001b[39;00m(\n\u001b[1;32m   2721\u001b[0m             \u001b[38;5;124m\"\u001b[39m\u001b[38;5;124mYou cannot cast a GPTQ model in a new `dtype`. Make sure to load the model using `from_pretrained` using the desired\u001b[39m\u001b[38;5;124m\"\u001b[39m\n\u001b[1;32m   2722\u001b[0m             \u001b[38;5;124m\"\u001b[39m\u001b[38;5;124m `dtype` by passing the correct `torch_dtype` argument.\u001b[39m\u001b[38;5;124m\"\u001b[39m\n\u001b[1;32m   2723\u001b[0m         )\n\u001b[0;32m-> 2724\u001b[0m \u001b[38;5;28;01mreturn\u001b[39;00m \u001b[38;5;28;43msuper\u001b[39;49m\u001b[43m(\u001b[49m\u001b[43m)\u001b[49m\u001b[38;5;241;43m.\u001b[39;49m\u001b[43mto\u001b[49m\u001b[43m(\u001b[49m\u001b[38;5;241;43m*\u001b[39;49m\u001b[43margs\u001b[49m\u001b[43m,\u001b[49m\u001b[43m \u001b[49m\u001b[38;5;241;43m*\u001b[39;49m\u001b[38;5;241;43m*\u001b[39;49m\u001b[43mkwargs\u001b[49m\u001b[43m)\u001b[49m\n",
      "File \u001b[0;32m~/miniconda3/envs/geneformer2/lib/python3.10/site-packages/torch/nn/modules/module.py:1173\u001b[0m, in \u001b[0;36mModule.to\u001b[0;34m(self, *args, **kwargs)\u001b[0m\n\u001b[1;32m   1170\u001b[0m         \u001b[38;5;28;01melse\u001b[39;00m:\n\u001b[1;32m   1171\u001b[0m             \u001b[38;5;28;01mraise\u001b[39;00m\n\u001b[0;32m-> 1173\u001b[0m \u001b[38;5;28;01mreturn\u001b[39;00m \u001b[38;5;28;43mself\u001b[39;49m\u001b[38;5;241;43m.\u001b[39;49m\u001b[43m_apply\u001b[49m\u001b[43m(\u001b[49m\u001b[43mconvert\u001b[49m\u001b[43m)\u001b[49m\n",
      "File \u001b[0;32m~/miniconda3/envs/geneformer2/lib/python3.10/site-packages/torch/nn/modules/module.py:779\u001b[0m, in \u001b[0;36mModule._apply\u001b[0;34m(self, fn, recurse)\u001b[0m\n\u001b[1;32m    777\u001b[0m \u001b[38;5;28;01mif\u001b[39;00m recurse:\n\u001b[1;32m    778\u001b[0m     \u001b[38;5;28;01mfor\u001b[39;00m module \u001b[38;5;129;01min\u001b[39;00m \u001b[38;5;28mself\u001b[39m\u001b[38;5;241m.\u001b[39mchildren():\n\u001b[0;32m--> 779\u001b[0m         \u001b[43mmodule\u001b[49m\u001b[38;5;241;43m.\u001b[39;49m\u001b[43m_apply\u001b[49m\u001b[43m(\u001b[49m\u001b[43mfn\u001b[49m\u001b[43m)\u001b[49m\n\u001b[1;32m    781\u001b[0m \u001b[38;5;28;01mdef\u001b[39;00m \u001b[38;5;21mcompute_should_use_set_data\u001b[39m(tensor, tensor_applied):\n\u001b[1;32m    782\u001b[0m     \u001b[38;5;28;01mif\u001b[39;00m torch\u001b[38;5;241m.\u001b[39m_has_compatible_shallow_copy_type(tensor, tensor_applied):\n\u001b[1;32m    783\u001b[0m         \u001b[38;5;66;03m# If the new tensor has compatible tensor type as the existing tensor,\u001b[39;00m\n\u001b[1;32m    784\u001b[0m         \u001b[38;5;66;03m# the current behavior is to change the tensor in-place using `.data =`,\u001b[39;00m\n\u001b[0;32m   (...)\u001b[0m\n\u001b[1;32m    789\u001b[0m         \u001b[38;5;66;03m# global flag to let the user control whether they want the future\u001b[39;00m\n\u001b[1;32m    790\u001b[0m         \u001b[38;5;66;03m# behavior of overwriting the existing tensor or not.\u001b[39;00m\n",
      "File \u001b[0;32m~/miniconda3/envs/geneformer2/lib/python3.10/site-packages/torch/nn/modules/module.py:779\u001b[0m, in \u001b[0;36mModule._apply\u001b[0;34m(self, fn, recurse)\u001b[0m\n\u001b[1;32m    777\u001b[0m \u001b[38;5;28;01mif\u001b[39;00m recurse:\n\u001b[1;32m    778\u001b[0m     \u001b[38;5;28;01mfor\u001b[39;00m module \u001b[38;5;129;01min\u001b[39;00m \u001b[38;5;28mself\u001b[39m\u001b[38;5;241m.\u001b[39mchildren():\n\u001b[0;32m--> 779\u001b[0m         \u001b[43mmodule\u001b[49m\u001b[38;5;241;43m.\u001b[39;49m\u001b[43m_apply\u001b[49m\u001b[43m(\u001b[49m\u001b[43mfn\u001b[49m\u001b[43m)\u001b[49m\n\u001b[1;32m    781\u001b[0m \u001b[38;5;28;01mdef\u001b[39;00m \u001b[38;5;21mcompute_should_use_set_data\u001b[39m(tensor, tensor_applied):\n\u001b[1;32m    782\u001b[0m     \u001b[38;5;28;01mif\u001b[39;00m torch\u001b[38;5;241m.\u001b[39m_has_compatible_shallow_copy_type(tensor, tensor_applied):\n\u001b[1;32m    783\u001b[0m         \u001b[38;5;66;03m# If the new tensor has compatible tensor type as the existing tensor,\u001b[39;00m\n\u001b[1;32m    784\u001b[0m         \u001b[38;5;66;03m# the current behavior is to change the tensor in-place using `.data =`,\u001b[39;00m\n\u001b[0;32m   (...)\u001b[0m\n\u001b[1;32m    789\u001b[0m         \u001b[38;5;66;03m# global flag to let the user control whether they want the future\u001b[39;00m\n\u001b[1;32m    790\u001b[0m         \u001b[38;5;66;03m# behavior of overwriting the existing tensor or not.\u001b[39;00m\n",
      "File \u001b[0;32m~/miniconda3/envs/geneformer2/lib/python3.10/site-packages/torch/nn/modules/module.py:779\u001b[0m, in \u001b[0;36mModule._apply\u001b[0;34m(self, fn, recurse)\u001b[0m\n\u001b[1;32m    777\u001b[0m \u001b[38;5;28;01mif\u001b[39;00m recurse:\n\u001b[1;32m    778\u001b[0m     \u001b[38;5;28;01mfor\u001b[39;00m module \u001b[38;5;129;01min\u001b[39;00m \u001b[38;5;28mself\u001b[39m\u001b[38;5;241m.\u001b[39mchildren():\n\u001b[0;32m--> 779\u001b[0m         \u001b[43mmodule\u001b[49m\u001b[38;5;241;43m.\u001b[39;49m\u001b[43m_apply\u001b[49m\u001b[43m(\u001b[49m\u001b[43mfn\u001b[49m\u001b[43m)\u001b[49m\n\u001b[1;32m    781\u001b[0m \u001b[38;5;28;01mdef\u001b[39;00m \u001b[38;5;21mcompute_should_use_set_data\u001b[39m(tensor, tensor_applied):\n\u001b[1;32m    782\u001b[0m     \u001b[38;5;28;01mif\u001b[39;00m torch\u001b[38;5;241m.\u001b[39m_has_compatible_shallow_copy_type(tensor, tensor_applied):\n\u001b[1;32m    783\u001b[0m         \u001b[38;5;66;03m# If the new tensor has compatible tensor type as the existing tensor,\u001b[39;00m\n\u001b[1;32m    784\u001b[0m         \u001b[38;5;66;03m# the current behavior is to change the tensor in-place using `.data =`,\u001b[39;00m\n\u001b[0;32m   (...)\u001b[0m\n\u001b[1;32m    789\u001b[0m         \u001b[38;5;66;03m# global flag to let the user control whether they want the future\u001b[39;00m\n\u001b[1;32m    790\u001b[0m         \u001b[38;5;66;03m# behavior of overwriting the existing tensor or not.\u001b[39;00m\n",
      "File \u001b[0;32m~/miniconda3/envs/geneformer2/lib/python3.10/site-packages/torch/nn/modules/module.py:804\u001b[0m, in \u001b[0;36mModule._apply\u001b[0;34m(self, fn, recurse)\u001b[0m\n\u001b[1;32m    800\u001b[0m \u001b[38;5;66;03m# Tensors stored in modules are graph leaves, and we don't want to\u001b[39;00m\n\u001b[1;32m    801\u001b[0m \u001b[38;5;66;03m# track autograd history of `param_applied`, so we have to use\u001b[39;00m\n\u001b[1;32m    802\u001b[0m \u001b[38;5;66;03m# `with torch.no_grad():`\u001b[39;00m\n\u001b[1;32m    803\u001b[0m \u001b[38;5;28;01mwith\u001b[39;00m torch\u001b[38;5;241m.\u001b[39mno_grad():\n\u001b[0;32m--> 804\u001b[0m     param_applied \u001b[38;5;241m=\u001b[39m \u001b[43mfn\u001b[49m\u001b[43m(\u001b[49m\u001b[43mparam\u001b[49m\u001b[43m)\u001b[49m\n\u001b[1;32m    805\u001b[0m p_should_use_set_data \u001b[38;5;241m=\u001b[39m compute_should_use_set_data(param, param_applied)\n\u001b[1;32m    807\u001b[0m \u001b[38;5;66;03m# subclasses may have multiple child tensors so we need to use swap_tensors\u001b[39;00m\n",
      "File \u001b[0;32m~/miniconda3/envs/geneformer2/lib/python3.10/site-packages/torch/nn/modules/module.py:1159\u001b[0m, in \u001b[0;36mModule.to.<locals>.convert\u001b[0;34m(t)\u001b[0m\n\u001b[1;32m   1152\u001b[0m     \u001b[38;5;28;01mif\u001b[39;00m convert_to_format \u001b[38;5;129;01mis\u001b[39;00m \u001b[38;5;129;01mnot\u001b[39;00m \u001b[38;5;28;01mNone\u001b[39;00m \u001b[38;5;129;01mand\u001b[39;00m t\u001b[38;5;241m.\u001b[39mdim() \u001b[38;5;129;01min\u001b[39;00m (\u001b[38;5;241m4\u001b[39m, \u001b[38;5;241m5\u001b[39m):\n\u001b[1;32m   1153\u001b[0m         \u001b[38;5;28;01mreturn\u001b[39;00m t\u001b[38;5;241m.\u001b[39mto(\n\u001b[1;32m   1154\u001b[0m             device,\n\u001b[1;32m   1155\u001b[0m             dtype \u001b[38;5;28;01mif\u001b[39;00m t\u001b[38;5;241m.\u001b[39mis_floating_point() \u001b[38;5;129;01mor\u001b[39;00m t\u001b[38;5;241m.\u001b[39mis_complex() \u001b[38;5;28;01melse\u001b[39;00m \u001b[38;5;28;01mNone\u001b[39;00m,\n\u001b[1;32m   1156\u001b[0m             non_blocking,\n\u001b[1;32m   1157\u001b[0m             memory_format\u001b[38;5;241m=\u001b[39mconvert_to_format,\n\u001b[1;32m   1158\u001b[0m         )\n\u001b[0;32m-> 1159\u001b[0m     \u001b[38;5;28;01mreturn\u001b[39;00m \u001b[43mt\u001b[49m\u001b[38;5;241;43m.\u001b[39;49m\u001b[43mto\u001b[49m\u001b[43m(\u001b[49m\n\u001b[1;32m   1160\u001b[0m \u001b[43m        \u001b[49m\u001b[43mdevice\u001b[49m\u001b[43m,\u001b[49m\n\u001b[1;32m   1161\u001b[0m \u001b[43m        \u001b[49m\u001b[43mdtype\u001b[49m\u001b[43m \u001b[49m\u001b[38;5;28;43;01mif\u001b[39;49;00m\u001b[43m \u001b[49m\u001b[43mt\u001b[49m\u001b[38;5;241;43m.\u001b[39;49m\u001b[43mis_floating_point\u001b[49m\u001b[43m(\u001b[49m\u001b[43m)\u001b[49m\u001b[43m \u001b[49m\u001b[38;5;129;43;01mor\u001b[39;49;00m\u001b[43m \u001b[49m\u001b[43mt\u001b[49m\u001b[38;5;241;43m.\u001b[39;49m\u001b[43mis_complex\u001b[49m\u001b[43m(\u001b[49m\u001b[43m)\u001b[49m\u001b[43m \u001b[49m\u001b[38;5;28;43;01melse\u001b[39;49;00m\u001b[43m \u001b[49m\u001b[38;5;28;43;01mNone\u001b[39;49;00m\u001b[43m,\u001b[49m\n\u001b[1;32m   1162\u001b[0m \u001b[43m        \u001b[49m\u001b[43mnon_blocking\u001b[49m\u001b[43m,\u001b[49m\n\u001b[1;32m   1163\u001b[0m \u001b[43m    \u001b[49m\u001b[43m)\u001b[49m\n\u001b[1;32m   1164\u001b[0m \u001b[38;5;28;01mexcept\u001b[39;00m \u001b[38;5;167;01mNotImplementedError\u001b[39;00m \u001b[38;5;28;01mas\u001b[39;00m e:\n\u001b[1;32m   1165\u001b[0m     \u001b[38;5;28;01mif\u001b[39;00m \u001b[38;5;28mstr\u001b[39m(e) \u001b[38;5;241m==\u001b[39m \u001b[38;5;124m\"\u001b[39m\u001b[38;5;124mCannot copy out of meta tensor; no data!\u001b[39m\u001b[38;5;124m\"\u001b[39m:\n",
      "\u001b[0;31mRuntimeError\u001b[0m: CUDA error: CUDA-capable device(s) is/are busy or unavailable\nCUDA kernel errors might be asynchronously reported at some other API call, so the stacktrace below might be incorrect.\nFor debugging consider passing CUDA_LAUNCH_BLOCKING=1.\nCompile with `TORCH_USE_CUDA_DSA` to enable device-side assertions.\n"
     ]
    }
   ],
   "source": [
    "torch.cuda.empty_cache()\n",
    "\n",
    "n_cells = 1000\n",
    "# 0 for last layer, -1 for second to last\n",
    "layer = -1\n",
    "\n",
    "# initiate EmbExtractor\n",
    "embex = EmbExtractor(model_type=\"Pretrained\",\n",
    "                     num_classes=0,\n",
    "                     max_ncells=n_cells,\n",
    "                     emb_mode='cell',\n",
    "                     emb_layer=layer,\n",
    "                     emb_label=[\"cell_type\",],\n",
    "                     forward_batch_size=30,\n",
    "                     nproc=16,\n",
    "                      )\n",
    "\n",
    "# extracts embedding from input data\n",
    "embs = embex.extract_embs(model,\n",
    "                          data_path,\n",
    "                          outpath,\n",
    "                          \"test\")\n",
    "\n",
    "embs.head()"
   ]
  },
  {
   "cell_type": "code",
   "execution_count": 7,
   "id": "290a4af5-0bc7-44f7-ab1a-3ccc16d5ed84",
   "metadata": {},
   "outputs": [
    {
     "ename": "NameError",
     "evalue": "name 'embs' is not defined",
     "output_type": "error",
     "traceback": [
      "\u001b[0;31m---------------------------------------------------------------------------\u001b[0m",
      "\u001b[0;31mNameError\u001b[0m                                 Traceback (most recent call last)",
      "Cell \u001b[0;32mIn[7], line 2\u001b[0m\n\u001b[1;32m      1\u001b[0m \u001b[38;5;66;03m# translate into an anndata object and plot\u001b[39;00m\n\u001b[0;32m----> 2\u001b[0m adata \u001b[38;5;241m=\u001b[39m gtu\u001b[38;5;241m.\u001b[39membedding_to_adata(\u001b[43membs\u001b[49m)\n\u001b[1;32m      3\u001b[0m adata\n",
      "\u001b[0;31mNameError\u001b[0m: name 'embs' is not defined"
     ]
    }
   ],
   "source": [
    "# translate into an anndata object and plot\n",
    "adata = gtu.embedding_to_adata(embs)\n",
    "adata"
   ]
  },
  {
   "cell_type": "code",
   "execution_count": null,
   "id": "6e5d12ca-1157-4a78-992b-c57eb6ac1556",
   "metadata": {},
   "outputs": [],
   "source": [
    "sc.tl.pca(adata)\n",
    "sc.pp.neighbors(adata)\n",
    "sc.tl.umap(adata, min_dist=0.1)\n",
    "sc.pl.umap(\n",
    "    adata,\n",
    "    color=[\"cell_type\"],\n",
    "    ncols=1,\n",
    "    # Setting a smaller point size to get prevent overlap\n",
    "    size=30,\n",
    ")"
   ]
  },
  {
   "cell_type": "code",
   "execution_count": null,
   "id": "e1f25d4a-5489-4898-806b-679e0038a1fb",
   "metadata": {},
   "outputs": [],
   "source": [
    "# break"
   ]
  },
  {
   "cell_type": "markdown",
   "id": "54a274e8-e6b9-400d-9626-26903fa7773f",
   "metadata": {},
   "source": [
    "# in-memory embedding extraction"
   ]
  },
  {
   "cell_type": "code",
   "execution_count": 7,
   "id": "cba184a1-c7bb-4d60-b8d9-23f374a75ef8",
   "metadata": {},
   "outputs": [
    {
     "name": "stderr",
     "output_type": "stream",
     "text": [
      "Some weights of BertForMaskedLM were not initialized from the model checkpoint at /nfs/turbo/umms-indikar/shared/projects/geneformer/fine_tuned_models/geneformer-6L-30M_CellClassifier_cardiomyopathies_220224/ and are newly initialized: ['cls.predictions.bias', 'cls.predictions.decoder.bias', 'cls.predictions.transform.LayerNorm.bias', 'cls.predictions.transform.LayerNorm.weight', 'cls.predictions.transform.dense.bias', 'cls.predictions.transform.dense.weight']\n",
      "You should probably TRAIN this model on a down-stream task to be able to use it for predictions and inference.\n"
     ]
    },
    {
     "ename": "RuntimeError",
     "evalue": "CUDA error: CUDA-capable device(s) is/are busy or unavailable\nCUDA kernel errors might be asynchronously reported at some other API call, so the stacktrace below might be incorrect.\nFor debugging consider passing CUDA_LAUNCH_BLOCKING=1.\nCompile with `TORCH_USE_CUDA_DSA` to enable device-side assertions.\n",
     "output_type": "error",
     "traceback": [
      "\u001b[0;31m---------------------------------------------------------------------------\u001b[0m",
      "\u001b[0;31mRuntimeError\u001b[0m                              Traceback (most recent call last)",
      "Cell \u001b[0;32mIn[7], line 3\u001b[0m\n\u001b[1;32m      1\u001b[0m reload(gtu)\n\u001b[1;32m      2\u001b[0m model_path \u001b[38;5;241m=\u001b[39m \u001b[38;5;124m\"\u001b[39m\u001b[38;5;124m/nfs/turbo/umms-indikar/shared/projects/geneformer/fine_tuned_models/geneformer-6L-30M_CellClassifier_cardiomyopathies_220224/\u001b[39m\u001b[38;5;124m\"\u001b[39m\n\u001b[0;32m----> 3\u001b[0m model \u001b[38;5;241m=\u001b[39m \u001b[43mgtu\u001b[49m\u001b[38;5;241;43m.\u001b[39;49m\u001b[43mload_model\u001b[49m\u001b[43m(\u001b[49m\u001b[43mmodel_path\u001b[49m\u001b[43m)\u001b[49m\n\u001b[1;32m      4\u001b[0m \u001b[38;5;28mtype\u001b[39m(model)\n",
      "File \u001b[0;32m~/geneformer_dev/notebooks/geneformer_utils.py:95\u001b[0m, in \u001b[0;36mload_model\u001b[0;34m(model_path, model_type, n_classes, mode)\u001b[0m\n\u001b[1;32m     81\u001b[0m \u001b[38;5;28;01mdef\u001b[39;00m \u001b[38;5;21mload_model\u001b[39m(model_path, model_type\u001b[38;5;241m=\u001b[39m\u001b[38;5;124m'\u001b[39m\u001b[38;5;124mPretrained\u001b[39m\u001b[38;5;124m'\u001b[39m, n_classes\u001b[38;5;241m=\u001b[39m\u001b[38;5;241m0\u001b[39m, mode\u001b[38;5;241m=\u001b[39m\u001b[38;5;124m'\u001b[39m\u001b[38;5;124meval\u001b[39m\u001b[38;5;124m'\u001b[39m):\n\u001b[1;32m     82\u001b[0m \u001b[38;5;250m    \u001b[39m\u001b[38;5;124;03m\"\"\"\u001b[39;00m\n\u001b[1;32m     83\u001b[0m \u001b[38;5;124;03m    Loads a pre-trained or custom model for geneformer perturbations.\u001b[39;00m\n\u001b[1;32m     84\u001b[0m \n\u001b[0;32m   (...)\u001b[0m\n\u001b[1;32m     92\u001b[0m \u001b[38;5;124;03m        The loaded model object.\u001b[39;00m\n\u001b[1;32m     93\u001b[0m \u001b[38;5;124;03m    \"\"\"\u001b[39;00m\n\u001b[0;32m---> 95\u001b[0m     model \u001b[38;5;241m=\u001b[39m \u001b[43mgeneformer\u001b[49m\u001b[38;5;241;43m.\u001b[39;49m\u001b[43mperturber_utils\u001b[49m\u001b[38;5;241;43m.\u001b[39;49m\u001b[43mload_model\u001b[49m\u001b[43m(\u001b[49m\n\u001b[1;32m     96\u001b[0m \u001b[43m        \u001b[49m\u001b[43mmodel_type\u001b[49m\u001b[43m,\u001b[49m\n\u001b[1;32m     97\u001b[0m \u001b[43m        \u001b[49m\u001b[43mn_classes\u001b[49m\u001b[43m,\u001b[49m\n\u001b[1;32m     98\u001b[0m \u001b[43m        \u001b[49m\u001b[43mmodel_path\u001b[49m\u001b[43m,\u001b[49m\n\u001b[1;32m     99\u001b[0m \u001b[43m        \u001b[49m\u001b[43mmode\u001b[49m\n\u001b[1;32m    100\u001b[0m \u001b[43m    \u001b[49m\u001b[43m)\u001b[49m\n\u001b[1;32m    102\u001b[0m     \u001b[38;5;28;01mreturn\u001b[39;00m model\n",
      "File \u001b[0;32m~/miniconda3/envs/geneformer2/lib/python3.10/site-packages/geneformer/perturber_utils.py:147\u001b[0m, in \u001b[0;36mload_model\u001b[0;34m(model_type, num_classes, model_directory, mode)\u001b[0m\n\u001b[1;32m    145\u001b[0m \u001b[38;5;28;01mif\u001b[39;00m mode \u001b[38;5;241m==\u001b[39m \u001b[38;5;124m\"\u001b[39m\u001b[38;5;124meval\u001b[39m\u001b[38;5;124m\"\u001b[39m:\n\u001b[1;32m    146\u001b[0m     model\u001b[38;5;241m.\u001b[39meval()\n\u001b[0;32m--> 147\u001b[0m model \u001b[38;5;241m=\u001b[39m \u001b[43mmodel\u001b[49m\u001b[38;5;241;43m.\u001b[39;49m\u001b[43mto\u001b[49m\u001b[43m(\u001b[49m\u001b[38;5;124;43m\"\u001b[39;49m\u001b[38;5;124;43mcuda\u001b[39;49m\u001b[38;5;124;43m\"\u001b[39;49m\u001b[43m)\u001b[49m\n\u001b[1;32m    148\u001b[0m \u001b[38;5;28;01mreturn\u001b[39;00m model\n",
      "File \u001b[0;32m~/miniconda3/envs/geneformer2/lib/python3.10/site-packages/transformers/modeling_utils.py:2724\u001b[0m, in \u001b[0;36mPreTrainedModel.to\u001b[0;34m(self, *args, **kwargs)\u001b[0m\n\u001b[1;32m   2719\u001b[0m     \u001b[38;5;28;01mif\u001b[39;00m dtype_present_in_args:\n\u001b[1;32m   2720\u001b[0m         \u001b[38;5;28;01mraise\u001b[39;00m \u001b[38;5;167;01mValueError\u001b[39;00m(\n\u001b[1;32m   2721\u001b[0m             \u001b[38;5;124m\"\u001b[39m\u001b[38;5;124mYou cannot cast a GPTQ model in a new `dtype`. Make sure to load the model using `from_pretrained` using the desired\u001b[39m\u001b[38;5;124m\"\u001b[39m\n\u001b[1;32m   2722\u001b[0m             \u001b[38;5;124m\"\u001b[39m\u001b[38;5;124m `dtype` by passing the correct `torch_dtype` argument.\u001b[39m\u001b[38;5;124m\"\u001b[39m\n\u001b[1;32m   2723\u001b[0m         )\n\u001b[0;32m-> 2724\u001b[0m \u001b[38;5;28;01mreturn\u001b[39;00m \u001b[38;5;28;43msuper\u001b[39;49m\u001b[43m(\u001b[49m\u001b[43m)\u001b[49m\u001b[38;5;241;43m.\u001b[39;49m\u001b[43mto\u001b[49m\u001b[43m(\u001b[49m\u001b[38;5;241;43m*\u001b[39;49m\u001b[43margs\u001b[49m\u001b[43m,\u001b[49m\u001b[43m \u001b[49m\u001b[38;5;241;43m*\u001b[39;49m\u001b[38;5;241;43m*\u001b[39;49m\u001b[43mkwargs\u001b[49m\u001b[43m)\u001b[49m\n",
      "File \u001b[0;32m~/miniconda3/envs/geneformer2/lib/python3.10/site-packages/torch/nn/modules/module.py:1173\u001b[0m, in \u001b[0;36mModule.to\u001b[0;34m(self, *args, **kwargs)\u001b[0m\n\u001b[1;32m   1170\u001b[0m         \u001b[38;5;28;01melse\u001b[39;00m:\n\u001b[1;32m   1171\u001b[0m             \u001b[38;5;28;01mraise\u001b[39;00m\n\u001b[0;32m-> 1173\u001b[0m \u001b[38;5;28;01mreturn\u001b[39;00m \u001b[38;5;28;43mself\u001b[39;49m\u001b[38;5;241;43m.\u001b[39;49m\u001b[43m_apply\u001b[49m\u001b[43m(\u001b[49m\u001b[43mconvert\u001b[49m\u001b[43m)\u001b[49m\n",
      "File \u001b[0;32m~/miniconda3/envs/geneformer2/lib/python3.10/site-packages/torch/nn/modules/module.py:779\u001b[0m, in \u001b[0;36mModule._apply\u001b[0;34m(self, fn, recurse)\u001b[0m\n\u001b[1;32m    777\u001b[0m \u001b[38;5;28;01mif\u001b[39;00m recurse:\n\u001b[1;32m    778\u001b[0m     \u001b[38;5;28;01mfor\u001b[39;00m module \u001b[38;5;129;01min\u001b[39;00m \u001b[38;5;28mself\u001b[39m\u001b[38;5;241m.\u001b[39mchildren():\n\u001b[0;32m--> 779\u001b[0m         \u001b[43mmodule\u001b[49m\u001b[38;5;241;43m.\u001b[39;49m\u001b[43m_apply\u001b[49m\u001b[43m(\u001b[49m\u001b[43mfn\u001b[49m\u001b[43m)\u001b[49m\n\u001b[1;32m    781\u001b[0m \u001b[38;5;28;01mdef\u001b[39;00m \u001b[38;5;21mcompute_should_use_set_data\u001b[39m(tensor, tensor_applied):\n\u001b[1;32m    782\u001b[0m     \u001b[38;5;28;01mif\u001b[39;00m torch\u001b[38;5;241m.\u001b[39m_has_compatible_shallow_copy_type(tensor, tensor_applied):\n\u001b[1;32m    783\u001b[0m         \u001b[38;5;66;03m# If the new tensor has compatible tensor type as the existing tensor,\u001b[39;00m\n\u001b[1;32m    784\u001b[0m         \u001b[38;5;66;03m# the current behavior is to change the tensor in-place using `.data =`,\u001b[39;00m\n\u001b[0;32m   (...)\u001b[0m\n\u001b[1;32m    789\u001b[0m         \u001b[38;5;66;03m# global flag to let the user control whether they want the future\u001b[39;00m\n\u001b[1;32m    790\u001b[0m         \u001b[38;5;66;03m# behavior of overwriting the existing tensor or not.\u001b[39;00m\n",
      "File \u001b[0;32m~/miniconda3/envs/geneformer2/lib/python3.10/site-packages/torch/nn/modules/module.py:779\u001b[0m, in \u001b[0;36mModule._apply\u001b[0;34m(self, fn, recurse)\u001b[0m\n\u001b[1;32m    777\u001b[0m \u001b[38;5;28;01mif\u001b[39;00m recurse:\n\u001b[1;32m    778\u001b[0m     \u001b[38;5;28;01mfor\u001b[39;00m module \u001b[38;5;129;01min\u001b[39;00m \u001b[38;5;28mself\u001b[39m\u001b[38;5;241m.\u001b[39mchildren():\n\u001b[0;32m--> 779\u001b[0m         \u001b[43mmodule\u001b[49m\u001b[38;5;241;43m.\u001b[39;49m\u001b[43m_apply\u001b[49m\u001b[43m(\u001b[49m\u001b[43mfn\u001b[49m\u001b[43m)\u001b[49m\n\u001b[1;32m    781\u001b[0m \u001b[38;5;28;01mdef\u001b[39;00m \u001b[38;5;21mcompute_should_use_set_data\u001b[39m(tensor, tensor_applied):\n\u001b[1;32m    782\u001b[0m     \u001b[38;5;28;01mif\u001b[39;00m torch\u001b[38;5;241m.\u001b[39m_has_compatible_shallow_copy_type(tensor, tensor_applied):\n\u001b[1;32m    783\u001b[0m         \u001b[38;5;66;03m# If the new tensor has compatible tensor type as the existing tensor,\u001b[39;00m\n\u001b[1;32m    784\u001b[0m         \u001b[38;5;66;03m# the current behavior is to change the tensor in-place using `.data =`,\u001b[39;00m\n\u001b[0;32m   (...)\u001b[0m\n\u001b[1;32m    789\u001b[0m         \u001b[38;5;66;03m# global flag to let the user control whether they want the future\u001b[39;00m\n\u001b[1;32m    790\u001b[0m         \u001b[38;5;66;03m# behavior of overwriting the existing tensor or not.\u001b[39;00m\n",
      "File \u001b[0;32m~/miniconda3/envs/geneformer2/lib/python3.10/site-packages/torch/nn/modules/module.py:779\u001b[0m, in \u001b[0;36mModule._apply\u001b[0;34m(self, fn, recurse)\u001b[0m\n\u001b[1;32m    777\u001b[0m \u001b[38;5;28;01mif\u001b[39;00m recurse:\n\u001b[1;32m    778\u001b[0m     \u001b[38;5;28;01mfor\u001b[39;00m module \u001b[38;5;129;01min\u001b[39;00m \u001b[38;5;28mself\u001b[39m\u001b[38;5;241m.\u001b[39mchildren():\n\u001b[0;32m--> 779\u001b[0m         \u001b[43mmodule\u001b[49m\u001b[38;5;241;43m.\u001b[39;49m\u001b[43m_apply\u001b[49m\u001b[43m(\u001b[49m\u001b[43mfn\u001b[49m\u001b[43m)\u001b[49m\n\u001b[1;32m    781\u001b[0m \u001b[38;5;28;01mdef\u001b[39;00m \u001b[38;5;21mcompute_should_use_set_data\u001b[39m(tensor, tensor_applied):\n\u001b[1;32m    782\u001b[0m     \u001b[38;5;28;01mif\u001b[39;00m torch\u001b[38;5;241m.\u001b[39m_has_compatible_shallow_copy_type(tensor, tensor_applied):\n\u001b[1;32m    783\u001b[0m         \u001b[38;5;66;03m# If the new tensor has compatible tensor type as the existing tensor,\u001b[39;00m\n\u001b[1;32m    784\u001b[0m         \u001b[38;5;66;03m# the current behavior is to change the tensor in-place using `.data =`,\u001b[39;00m\n\u001b[0;32m   (...)\u001b[0m\n\u001b[1;32m    789\u001b[0m         \u001b[38;5;66;03m# global flag to let the user control whether they want the future\u001b[39;00m\n\u001b[1;32m    790\u001b[0m         \u001b[38;5;66;03m# behavior of overwriting the existing tensor or not.\u001b[39;00m\n",
      "File \u001b[0;32m~/miniconda3/envs/geneformer2/lib/python3.10/site-packages/torch/nn/modules/module.py:804\u001b[0m, in \u001b[0;36mModule._apply\u001b[0;34m(self, fn, recurse)\u001b[0m\n\u001b[1;32m    800\u001b[0m \u001b[38;5;66;03m# Tensors stored in modules are graph leaves, and we don't want to\u001b[39;00m\n\u001b[1;32m    801\u001b[0m \u001b[38;5;66;03m# track autograd history of `param_applied`, so we have to use\u001b[39;00m\n\u001b[1;32m    802\u001b[0m \u001b[38;5;66;03m# `with torch.no_grad():`\u001b[39;00m\n\u001b[1;32m    803\u001b[0m \u001b[38;5;28;01mwith\u001b[39;00m torch\u001b[38;5;241m.\u001b[39mno_grad():\n\u001b[0;32m--> 804\u001b[0m     param_applied \u001b[38;5;241m=\u001b[39m \u001b[43mfn\u001b[49m\u001b[43m(\u001b[49m\u001b[43mparam\u001b[49m\u001b[43m)\u001b[49m\n\u001b[1;32m    805\u001b[0m p_should_use_set_data \u001b[38;5;241m=\u001b[39m compute_should_use_set_data(param, param_applied)\n\u001b[1;32m    807\u001b[0m \u001b[38;5;66;03m# subclasses may have multiple child tensors so we need to use swap_tensors\u001b[39;00m\n",
      "File \u001b[0;32m~/miniconda3/envs/geneformer2/lib/python3.10/site-packages/torch/nn/modules/module.py:1159\u001b[0m, in \u001b[0;36mModule.to.<locals>.convert\u001b[0;34m(t)\u001b[0m\n\u001b[1;32m   1152\u001b[0m     \u001b[38;5;28;01mif\u001b[39;00m convert_to_format \u001b[38;5;129;01mis\u001b[39;00m \u001b[38;5;129;01mnot\u001b[39;00m \u001b[38;5;28;01mNone\u001b[39;00m \u001b[38;5;129;01mand\u001b[39;00m t\u001b[38;5;241m.\u001b[39mdim() \u001b[38;5;129;01min\u001b[39;00m (\u001b[38;5;241m4\u001b[39m, \u001b[38;5;241m5\u001b[39m):\n\u001b[1;32m   1153\u001b[0m         \u001b[38;5;28;01mreturn\u001b[39;00m t\u001b[38;5;241m.\u001b[39mto(\n\u001b[1;32m   1154\u001b[0m             device,\n\u001b[1;32m   1155\u001b[0m             dtype \u001b[38;5;28;01mif\u001b[39;00m t\u001b[38;5;241m.\u001b[39mis_floating_point() \u001b[38;5;129;01mor\u001b[39;00m t\u001b[38;5;241m.\u001b[39mis_complex() \u001b[38;5;28;01melse\u001b[39;00m \u001b[38;5;28;01mNone\u001b[39;00m,\n\u001b[1;32m   1156\u001b[0m             non_blocking,\n\u001b[1;32m   1157\u001b[0m             memory_format\u001b[38;5;241m=\u001b[39mconvert_to_format,\n\u001b[1;32m   1158\u001b[0m         )\n\u001b[0;32m-> 1159\u001b[0m     \u001b[38;5;28;01mreturn\u001b[39;00m \u001b[43mt\u001b[49m\u001b[38;5;241;43m.\u001b[39;49m\u001b[43mto\u001b[49m\u001b[43m(\u001b[49m\n\u001b[1;32m   1160\u001b[0m \u001b[43m        \u001b[49m\u001b[43mdevice\u001b[49m\u001b[43m,\u001b[49m\n\u001b[1;32m   1161\u001b[0m \u001b[43m        \u001b[49m\u001b[43mdtype\u001b[49m\u001b[43m \u001b[49m\u001b[38;5;28;43;01mif\u001b[39;49;00m\u001b[43m \u001b[49m\u001b[43mt\u001b[49m\u001b[38;5;241;43m.\u001b[39;49m\u001b[43mis_floating_point\u001b[49m\u001b[43m(\u001b[49m\u001b[43m)\u001b[49m\u001b[43m \u001b[49m\u001b[38;5;129;43;01mor\u001b[39;49;00m\u001b[43m \u001b[49m\u001b[43mt\u001b[49m\u001b[38;5;241;43m.\u001b[39;49m\u001b[43mis_complex\u001b[49m\u001b[43m(\u001b[49m\u001b[43m)\u001b[49m\u001b[43m \u001b[49m\u001b[38;5;28;43;01melse\u001b[39;49;00m\u001b[43m \u001b[49m\u001b[38;5;28;43;01mNone\u001b[39;49;00m\u001b[43m,\u001b[49m\n\u001b[1;32m   1162\u001b[0m \u001b[43m        \u001b[49m\u001b[43mnon_blocking\u001b[49m\u001b[43m,\u001b[49m\n\u001b[1;32m   1163\u001b[0m \u001b[43m    \u001b[49m\u001b[43m)\u001b[49m\n\u001b[1;32m   1164\u001b[0m \u001b[38;5;28;01mexcept\u001b[39;00m \u001b[38;5;167;01mNotImplementedError\u001b[39;00m \u001b[38;5;28;01mas\u001b[39;00m e:\n\u001b[1;32m   1165\u001b[0m     \u001b[38;5;28;01mif\u001b[39;00m \u001b[38;5;28mstr\u001b[39m(e) \u001b[38;5;241m==\u001b[39m \u001b[38;5;124m\"\u001b[39m\u001b[38;5;124mCannot copy out of meta tensor; no data!\u001b[39m\u001b[38;5;124m\"\u001b[39m:\n",
      "\u001b[0;31mRuntimeError\u001b[0m: CUDA error: CUDA-capable device(s) is/are busy or unavailable\nCUDA kernel errors might be asynchronously reported at some other API call, so the stacktrace below might be incorrect.\nFor debugging consider passing CUDA_LAUNCH_BLOCKING=1.\nCompile with `TORCH_USE_CUDA_DSA` to enable device-side assertions.\n"
     ]
    }
   ],
   "source": [
    "reload(gtu)\n",
    "model_path = \"/nfs/turbo/umms-indikar/shared/projects/geneformer/fine_tuned_models/geneformer-6L-30M_CellClassifier_cardiomyopathies_220224/\"\n",
    "model = gtu.load_model(model_path)\n",
    "type(model)"
   ]
  },
  {
   "cell_type": "code",
   "execution_count": null,
   "id": "adfd1a02-0f17-4cf5-98fc-d061a0e8c11a",
   "metadata": {},
   "outputs": [],
   "source": [
    "data_path = \"/nfs/turbo/umms-indikar/shared/projects/geneformer/data/rajapakse_lab_data.dataset\"\n",
    "data = load_from_disk(data_path)\n",
    "type(data)"
   ]
  },
  {
   "cell_type": "code",
   "execution_count": 17,
   "id": "ab97e3e0-fc25-4a87-a419-515426184b22",
   "metadata": {},
   "outputs": [
    {
     "name": "stdout",
     "output_type": "stream",
     "text": [
      "0\n"
     ]
    }
   ],
   "source": [
    "reload(gtu)\n",
    "token_path = gtu.DEFAULT_TOKEN_PATH\n",
    "tokens = gtu.load_pickle(token_path)\n",
    "print(tokens.get(\"<pad>\"))\n",
    "# len(tokens)"
   ]
  },
  {
   "cell_type": "code",
   "execution_count": 18,
   "id": "c0ccc5bb-0ff8-4e55-b002-87358e1b8491",
   "metadata": {},
   "outputs": [
    {
     "ename": "AttributeError",
     "evalue": "'str' object has no attribute 'bert'",
     "output_type": "error",
     "traceback": [
      "\u001b[0;31m---------------------------------------------------------------------------\u001b[0m",
      "\u001b[0;31mAttributeError\u001b[0m                            Traceback (most recent call last)",
      "Cell \u001b[0;32mIn[18], line 2\u001b[0m\n\u001b[1;32m      1\u001b[0m reload(gtu)\n\u001b[0;32m----> 2\u001b[0m embs \u001b[38;5;241m=\u001b[39m \u001b[43mgtu\u001b[49m\u001b[38;5;241;43m.\u001b[39;49m\u001b[43mextract_embedding_in_mem\u001b[49m\u001b[43m(\u001b[49m\u001b[43mmodel\u001b[49m\u001b[43m,\u001b[49m\u001b[43m \u001b[49m\u001b[43mdata\u001b[49m\u001b[43m)\u001b[49m\n\u001b[1;32m      3\u001b[0m embs\u001b[38;5;241m.\u001b[39mhead()\n",
      "File \u001b[0;32m~/geneformer_dev/notebooks/geneformer_utils.py:45\u001b[0m, in \u001b[0;36mextract_embedding_in_mem\u001b[0;34m(model, data, emb_mode, layer_to_quant, forward_batch_size)\u001b[0m\n\u001b[1;32m     24\u001b[0m \u001b[38;5;28;01mdef\u001b[39;00m \u001b[38;5;21mextract_embedding_in_mem\u001b[39m(model, data, emb_mode\u001b[38;5;241m=\u001b[39m\u001b[38;5;124m'\u001b[39m\u001b[38;5;124mcell\u001b[39m\u001b[38;5;124m'\u001b[39m, layer_to_quant\u001b[38;5;241m=\u001b[39m\u001b[38;5;241m-\u001b[39m\u001b[38;5;241m1\u001b[39m, forward_batch_size\u001b[38;5;241m=\u001b[39m\u001b[38;5;241m10\u001b[39m):\n\u001b[1;32m     25\u001b[0m \u001b[38;5;250m    \u001b[39m\u001b[38;5;124;03m\"\"\"Extracts embeddings from a model and returns them as a DataFrame.\u001b[39;00m\n\u001b[1;32m     26\u001b[0m \n\u001b[1;32m     27\u001b[0m \u001b[38;5;124;03m    This function provides an in-memory extraction of embeddings, allowing for convenient\u001b[39;00m\n\u001b[0;32m   (...)\u001b[0m\n\u001b[1;32m     42\u001b[0m \u001b[38;5;124;03m        ValueError: If `data` is not in the correct format.\u001b[39;00m\n\u001b[1;32m     43\u001b[0m \u001b[38;5;124;03m    \"\"\"\u001b[39;00m\n\u001b[0;32m---> 45\u001b[0m     embs \u001b[38;5;241m=\u001b[39m \u001b[43mgeneformer\u001b[49m\u001b[38;5;241;43m.\u001b[39;49m\u001b[43memb_extractor\u001b[49m\u001b[38;5;241;43m.\u001b[39;49m\u001b[43mget_embs\u001b[49m\u001b[43m(\u001b[49m\n\u001b[1;32m     46\u001b[0m \u001b[43m        \u001b[49m\u001b[43mmodel\u001b[49m\u001b[43m,\u001b[49m\n\u001b[1;32m     47\u001b[0m \u001b[43m        \u001b[49m\u001b[43mdata\u001b[49m\u001b[43m,\u001b[49m\n\u001b[1;32m     48\u001b[0m \u001b[43m        \u001b[49m\u001b[43memb_mode\u001b[49m\u001b[43m,\u001b[49m\n\u001b[1;32m     49\u001b[0m \u001b[43m        \u001b[49m\u001b[43mlayer_to_quant\u001b[49m\u001b[43m,\u001b[49m\n\u001b[1;32m     50\u001b[0m \u001b[43m        \u001b[49m\u001b[38;5;241;43m0\u001b[39;49m\u001b[43m,\u001b[49m\u001b[43m  \u001b[49m\u001b[38;5;66;43;03m# Assuming this is a constant parameter for the function\u001b[39;49;00m\n\u001b[1;32m     51\u001b[0m \u001b[43m        \u001b[49m\u001b[43mforward_batch_size\u001b[49m\u001b[43m,\u001b[49m\n\u001b[1;32m     52\u001b[0m \u001b[43m        \u001b[49m\u001b[43msummary_stat\u001b[49m\u001b[38;5;241;43m=\u001b[39;49m\u001b[38;5;28;43;01mNone\u001b[39;49;00m\u001b[43m,\u001b[49m\u001b[43m  \u001b[49m\n\u001b[1;32m     53\u001b[0m \u001b[43m        \u001b[49m\u001b[43msilent\u001b[49m\u001b[38;5;241;43m=\u001b[39;49m\u001b[38;5;28;43;01mFalse\u001b[39;49;00m\u001b[43m,\u001b[49m\u001b[43m \u001b[49m\n\u001b[1;32m     54\u001b[0m \u001b[43m    \u001b[49m\u001b[43m)\u001b[49m\n\u001b[1;32m     55\u001b[0m     data \u001b[38;5;241m=\u001b[39m embs\u001b[38;5;241m.\u001b[39mcpu()\u001b[38;5;241m.\u001b[39mnumpy()\n\u001b[1;32m     56\u001b[0m     \u001b[38;5;28;01mif\u001b[39;00m emb_mode\u001b[38;5;241m==\u001b[39m\u001b[38;5;124m'\u001b[39m\u001b[38;5;124mcell\u001b[39m\u001b[38;5;124m'\u001b[39m:\n",
      "File \u001b[0;32m~/miniconda3/envs/geneformer2/lib/python3.10/site-packages/geneformer/emb_extractor.py:44\u001b[0m, in \u001b[0;36mget_embs\u001b[0;34m(model, filtered_input_data, emb_mode, layer_to_quant, pad_token_id, forward_batch_size, summary_stat, silent)\u001b[0m\n\u001b[1;32m     34\u001b[0m \u001b[38;5;28;01mdef\u001b[39;00m \u001b[38;5;21mget_embs\u001b[39m(\n\u001b[1;32m     35\u001b[0m     model,\n\u001b[1;32m     36\u001b[0m     filtered_input_data,\n\u001b[0;32m   (...)\u001b[0m\n\u001b[1;32m     42\u001b[0m     silent\u001b[38;5;241m=\u001b[39m\u001b[38;5;28;01mFalse\u001b[39;00m,\n\u001b[1;32m     43\u001b[0m ):\n\u001b[0;32m---> 44\u001b[0m     model_input_size \u001b[38;5;241m=\u001b[39m \u001b[43mpu\u001b[49m\u001b[38;5;241;43m.\u001b[39;49m\u001b[43mget_model_input_size\u001b[49m\u001b[43m(\u001b[49m\u001b[43mmodel\u001b[49m\u001b[43m)\u001b[49m\n\u001b[1;32m     45\u001b[0m     total_batch_length \u001b[38;5;241m=\u001b[39m \u001b[38;5;28mlen\u001b[39m(filtered_input_data)\n\u001b[1;32m     47\u001b[0m     \u001b[38;5;28;01mif\u001b[39;00m summary_stat \u001b[38;5;129;01mis\u001b[39;00m \u001b[38;5;28;01mNone\u001b[39;00m:\n",
      "File \u001b[0;32m~/miniconda3/envs/geneformer2/lib/python3.10/site-packages/geneformer/perturber_utils.py:160\u001b[0m, in \u001b[0;36mget_model_input_size\u001b[0;34m(model)\u001b[0m\n\u001b[1;32m    159\u001b[0m \u001b[38;5;28;01mdef\u001b[39;00m \u001b[38;5;21mget_model_input_size\u001b[39m(model):\n\u001b[0;32m--> 160\u001b[0m     \u001b[38;5;28;01mreturn\u001b[39;00m \u001b[38;5;28mint\u001b[39m(re\u001b[38;5;241m.\u001b[39msplit(\u001b[38;5;124m\"\u001b[39m\u001b[38;5;124m\\\u001b[39m\u001b[38;5;124m(|,\u001b[39m\u001b[38;5;124m\"\u001b[39m, \u001b[38;5;28mstr\u001b[39m(\u001b[43mmodel\u001b[49m\u001b[38;5;241;43m.\u001b[39;49m\u001b[43mbert\u001b[49m\u001b[38;5;241m.\u001b[39membeddings\u001b[38;5;241m.\u001b[39mposition_embeddings))[\u001b[38;5;241m1\u001b[39m])\n",
      "\u001b[0;31mAttributeError\u001b[0m: 'str' object has no attribute 'bert'"
     ]
    }
   ],
   "source": [
    "reload(gtu)\n",
    "embs = gtu.extract_embedding_in_mem(model, data)\n",
    "embs.head()"
   ]
  },
  {
   "cell_type": "markdown",
   "id": "d43ce39a-c7e9-4600-a29c-2d5926afde58",
   "metadata": {},
   "source": [
    "# a simple perturbation example\n",
    "\n"
   ]
  },
  {
   "cell_type": "code",
   "execution_count": 16,
   "id": "9620d4c4-b309-4751-8a7f-8a8fc0ebdb5b",
   "metadata": {},
   "outputs": [
    {
     "data": {
      "text/html": [
       "<div>\n",
       "<style scoped>\n",
       "    .dataframe tbody tr th:only-of-type {\n",
       "        vertical-align: middle;\n",
       "    }\n",
       "\n",
       "    .dataframe tbody tr th {\n",
       "        vertical-align: top;\n",
       "    }\n",
       "\n",
       "    .dataframe thead th {\n",
       "        text-align: right;\n",
       "    }\n",
       "</style>\n",
       "<table border=\"1\" class=\"dataframe\">\n",
       "  <thead>\n",
       "    <tr style=\"text-align: right;\">\n",
       "      <th></th>\n",
       "      <th>gene_id</th>\n",
       "      <th>token_id</th>\n",
       "      <th>gene_name</th>\n",
       "      <th>nonzero_median</th>\n",
       "      <th>gene_version</th>\n",
       "      <th>gene_biotype</th>\n",
       "      <th>Chromosome</th>\n",
       "      <th>Start</th>\n",
       "      <th>End</th>\n",
       "      <th>scenic_tf</th>\n",
       "    </tr>\n",
       "  </thead>\n",
       "  <tbody>\n",
       "    <tr>\n",
       "      <th>0</th>\n",
       "      <td>&lt;pad&gt;</td>\n",
       "      <td>0</td>\n",
       "      <td>NaN</td>\n",
       "      <td>NaN</td>\n",
       "      <td>NaN</td>\n",
       "      <td>NaN</td>\n",
       "      <td>NaN</td>\n",
       "      <td>NaN</td>\n",
       "      <td>NaN</td>\n",
       "      <td>False</td>\n",
       "    </tr>\n",
       "    <tr>\n",
       "      <th>1</th>\n",
       "      <td>&lt;mask&gt;</td>\n",
       "      <td>1</td>\n",
       "      <td>NaN</td>\n",
       "      <td>NaN</td>\n",
       "      <td>NaN</td>\n",
       "      <td>NaN</td>\n",
       "      <td>NaN</td>\n",
       "      <td>NaN</td>\n",
       "      <td>NaN</td>\n",
       "      <td>False</td>\n",
       "    </tr>\n",
       "    <tr>\n",
       "      <th>2</th>\n",
       "      <td>ENSG00000000003</td>\n",
       "      <td>2</td>\n",
       "      <td>TSPAN6</td>\n",
       "      <td>2.001186</td>\n",
       "      <td>15.0</td>\n",
       "      <td>protein_coding</td>\n",
       "      <td>X</td>\n",
       "      <td>100627107.0</td>\n",
       "      <td>100639991.0</td>\n",
       "      <td>False</td>\n",
       "    </tr>\n",
       "    <tr>\n",
       "      <th>3</th>\n",
       "      <td>ENSG00000000005</td>\n",
       "      <td>3</td>\n",
       "      <td>TNMD</td>\n",
       "      <td>3.228213</td>\n",
       "      <td>6.0</td>\n",
       "      <td>protein_coding</td>\n",
       "      <td>X</td>\n",
       "      <td>100584935.0</td>\n",
       "      <td>100599885.0</td>\n",
       "      <td>False</td>\n",
       "    </tr>\n",
       "    <tr>\n",
       "      <th>4</th>\n",
       "      <td>ENSG00000000419</td>\n",
       "      <td>4</td>\n",
       "      <td>DPM1</td>\n",
       "      <td>2.218874</td>\n",
       "      <td>14.0</td>\n",
       "      <td>protein_coding</td>\n",
       "      <td>20</td>\n",
       "      <td>50934866.0</td>\n",
       "      <td>50959140.0</td>\n",
       "      <td>False</td>\n",
       "    </tr>\n",
       "  </tbody>\n",
       "</table>\n",
       "</div>"
      ],
      "text/plain": [
       "           gene_id  token_id gene_name  nonzero_median  gene_version  \\\n",
       "0            <pad>         0       NaN             NaN           NaN   \n",
       "1           <mask>         1       NaN             NaN           NaN   \n",
       "2  ENSG00000000003         2    TSPAN6        2.001186          15.0   \n",
       "3  ENSG00000000005         3      TNMD        3.228213           6.0   \n",
       "4  ENSG00000000419         4      DPM1        2.218874          14.0   \n",
       "\n",
       "     gene_biotype Chromosome        Start          End  scenic_tf  \n",
       "0             NaN        NaN          NaN          NaN      False  \n",
       "1             NaN        NaN          NaN          NaN      False  \n",
       "2  protein_coding          X  100627107.0  100639991.0      False  \n",
       "3  protein_coding          X  100584935.0  100599885.0      False  \n",
       "4  protein_coding         20   50934866.0   50959140.0      False  "
      ]
     },
     "execution_count": 16,
     "metadata": {},
     "output_type": "execute_result"
    }
   ],
   "source": [
    "token_data_path = \"/nfs/turbo/umms-indikar/shared/projects/geneformer/token_mappings.csv\"\n",
    "token_df = pd.read_csv(token_data_path)\n",
    "token_df.head()"
   ]
  },
  {
   "cell_type": "code",
   "execution_count": 17,
   "id": "217fd4a9-e9de-4b74-9c92-504834887ff4",
   "metadata": {},
   "outputs": [
    {
     "data": {
      "text/html": [
       "<div>\n",
       "<style scoped>\n",
       "    .dataframe tbody tr th:only-of-type {\n",
       "        vertical-align: middle;\n",
       "    }\n",
       "\n",
       "    .dataframe tbody tr th {\n",
       "        vertical-align: top;\n",
       "    }\n",
       "\n",
       "    .dataframe thead th {\n",
       "        text-align: right;\n",
       "    }\n",
       "</style>\n",
       "<table border=\"1\" class=\"dataframe\">\n",
       "  <thead>\n",
       "    <tr style=\"text-align: right;\">\n",
       "      <th></th>\n",
       "      <th>gene_id</th>\n",
       "      <th>token_id</th>\n",
       "      <th>gene_name</th>\n",
       "      <th>nonzero_median</th>\n",
       "      <th>gene_version</th>\n",
       "      <th>gene_biotype</th>\n",
       "      <th>Chromosome</th>\n",
       "      <th>Start</th>\n",
       "      <th>End</th>\n",
       "      <th>scenic_tf</th>\n",
       "    </tr>\n",
       "  </thead>\n",
       "  <tbody>\n",
       "    <tr>\n",
       "      <th>7301</th>\n",
       "      <td>ENSG00000136826</td>\n",
       "      <td>7301</td>\n",
       "      <td>KLF4</td>\n",
       "      <td>3.854239</td>\n",
       "      <td>15.0</td>\n",
       "      <td>protein_coding</td>\n",
       "      <td>9</td>\n",
       "      <td>107484851.0</td>\n",
       "      <td>107490482.0</td>\n",
       "      <td>True</td>\n",
       "    </tr>\n",
       "    <tr>\n",
       "      <th>7352</th>\n",
       "      <td>ENSG00000136997</td>\n",
       "      <td>7352</td>\n",
       "      <td>MYC</td>\n",
       "      <td>3.453890</td>\n",
       "      <td>21.0</td>\n",
       "      <td>protein_coding</td>\n",
       "      <td>8</td>\n",
       "      <td>127735433.0</td>\n",
       "      <td>127742951.0</td>\n",
       "      <td>True</td>\n",
       "    </tr>\n",
       "    <tr>\n",
       "      <th>14712</th>\n",
       "      <td>ENSG00000181449</td>\n",
       "      <td>14712</td>\n",
       "      <td>SOX2</td>\n",
       "      <td>6.858042</td>\n",
       "      <td>4.0</td>\n",
       "      <td>protein_coding</td>\n",
       "      <td>3</td>\n",
       "      <td>181711924.0</td>\n",
       "      <td>181714436.0</td>\n",
       "      <td>True</td>\n",
       "    </tr>\n",
       "    <tr>\n",
       "      <th>17679</th>\n",
       "      <td>ENSG00000204531</td>\n",
       "      <td>17679</td>\n",
       "      <td>POU5F1</td>\n",
       "      <td>3.540753</td>\n",
       "      <td>21.0</td>\n",
       "      <td>protein_coding</td>\n",
       "      <td>6</td>\n",
       "      <td>31164336.0</td>\n",
       "      <td>31180731.0</td>\n",
       "      <td>True</td>\n",
       "    </tr>\n",
       "  </tbody>\n",
       "</table>\n",
       "</div>"
      ],
      "text/plain": [
       "               gene_id  token_id gene_name  nonzero_median  gene_version  \\\n",
       "7301   ENSG00000136826      7301      KLF4        3.854239          15.0   \n",
       "7352   ENSG00000136997      7352       MYC        3.453890          21.0   \n",
       "14712  ENSG00000181449     14712      SOX2        6.858042           4.0   \n",
       "17679  ENSG00000204531     17679    POU5F1        3.540753          21.0   \n",
       "\n",
       "         gene_biotype Chromosome        Start          End  scenic_tf  \n",
       "7301   protein_coding          9  107484851.0  107490482.0       True  \n",
       "7352   protein_coding          8  127735433.0  127742951.0       True  \n",
       "14712  protein_coding          3  181711924.0  181714436.0       True  \n",
       "17679  protein_coding          6   31164336.0   31180731.0       True  "
      ]
     },
     "execution_count": 17,
     "metadata": {},
     "output_type": "execute_result"
    }
   ],
   "source": [
    "# extract the yamanaka factors\n",
    "query_genes = [\n",
    "    'POU5F1', # oct4\n",
    "    'SOX2',\n",
    "    'KLF4',\n",
    "    'MYC'   \n",
    "]\n",
    "\n",
    "genes = token_df[token_df['gene_name'].isin(query_genes)]\n",
    "force_tokens = genes['token_id'].to_list()\n",
    "genes"
   ]
  },
  {
   "cell_type": "code",
   "execution_count": 23,
   "id": "b8af675f-3a44-40f9-b3ee-a68c3fc143bd",
   "metadata": {},
   "outputs": [
    {
     "name": "stdout",
     "output_type": "stream",
     "text": [
      "                                           input_ids\n",
      "0  [10920, 4415, 7492, 11900, 11350, 10027, 3584,...\n",
      "1  [4415, 10920, 7492, 10027, 11350, 3584, 1732, ...\n",
      "2  [4415, 10920, 7492, 2852, 10027, 11350, 3584, ...\n",
      "3  [7492, 4415, 10920, 9235, 6013, 6839, 10939, 5...\n",
      "4  [7492, 4415, 10920, 11900, 16683, 10027, 6013,...\n",
      "(66, 1)\n",
      "                                           input_ids\n",
      "0  [7301, 7352, 14712, 17679, 10920, 4415, 7492, ...\n",
      "1  [7301, 7352, 14712, 17679, 4415, 10920, 7492, ...\n",
      "2  [7301, 7352, 14712, 17679, 4415, 10920, 7492, ...\n",
      "3  [7301, 7352, 14712, 17679, 7492, 4415, 10920, ...\n",
      "4  [7301, 7352, 14712, 17679, 7492, 4415, 10920, ...\n",
      "df.shape=(132, 9)\n"
     ]
    }
   ],
   "source": [
    "# convert the arrow dataset to a dataframe\n",
    "raw_data = data.to_pandas()\n",
    "raw_data['type'] = 'raw'\n",
    "print(raw_data[['input_ids']].head())\n",
    "print(raw_data[['input_ids']].shape)\n",
    "\n",
    "# perturb the cells\n",
    "perturbed = raw_data.copy()\n",
    "perturbed['type'] = 'perturbed'\n",
    "perturbed['input_ids'] = perturbed['input_ids'].apply(lambda x: list(force_tokens) + list(x)[:len(x) - len(force_tokens)])\n",
    "print(perturbed[['input_ids']].head())\n",
    "\n",
    "# join the data back together\n",
    "#check on the dimensions of this it seems sus perhaps like there are copies of everything\n",
    "df = pd.concat([raw_data, perturbed])\n",
    "print(f\"{df.shape=}\")\n",
    "#df.head()"
   ]
  },
  {
   "cell_type": "code",
   "execution_count": null,
   "id": "be19ef91-1539-4c0b-bee2-463abcbae15f",
   "metadata": {},
   "outputs": [],
   "source": [
    "# The input id lists are just 128 + 4.  That can't be a coincidence, why were there "
   ]
  },
  {
   "cell_type": "code",
   "execution_count": 19,
   "id": "01ef70ed-f519-457c-aa9e-dfd093237d8e",
   "metadata": {},
   "outputs": [
    {
     "name": "stderr",
     "output_type": "stream",
     "text": [
      "100%|██████████| 14/14 [00:01<00:00, 13.38it/s]\n"
     ]
    },
    {
     "data": {
      "text/html": [
       "<div>\n",
       "<style scoped>\n",
       "    .dataframe tbody tr th:only-of-type {\n",
       "        vertical-align: middle;\n",
       "    }\n",
       "\n",
       "    .dataframe tbody tr th {\n",
       "        vertical-align: top;\n",
       "    }\n",
       "\n",
       "    .dataframe thead th {\n",
       "        text-align: right;\n",
       "    }\n",
       "</style>\n",
       "<table border=\"1\" class=\"dataframe\">\n",
       "  <thead>\n",
       "    <tr style=\"text-align: right;\">\n",
       "      <th></th>\n",
       "      <th>0</th>\n",
       "      <th>1</th>\n",
       "      <th>2</th>\n",
       "      <th>3</th>\n",
       "      <th>4</th>\n",
       "      <th>5</th>\n",
       "      <th>6</th>\n",
       "      <th>7</th>\n",
       "      <th>8</th>\n",
       "      <th>9</th>\n",
       "      <th>...</th>\n",
       "      <th>246</th>\n",
       "      <th>247</th>\n",
       "      <th>248</th>\n",
       "      <th>249</th>\n",
       "      <th>250</th>\n",
       "      <th>251</th>\n",
       "      <th>252</th>\n",
       "      <th>253</th>\n",
       "      <th>254</th>\n",
       "      <th>255</th>\n",
       "    </tr>\n",
       "  </thead>\n",
       "  <tbody>\n",
       "    <tr>\n",
       "      <th>0</th>\n",
       "      <td>2.979183</td>\n",
       "      <td>0.178517</td>\n",
       "      <td>0.188426</td>\n",
       "      <td>0.126767</td>\n",
       "      <td>0.054358</td>\n",
       "      <td>1.263473</td>\n",
       "      <td>0.146052</td>\n",
       "      <td>-0.803534</td>\n",
       "      <td>0.400076</td>\n",
       "      <td>-1.905356</td>\n",
       "      <td>...</td>\n",
       "      <td>0.832997</td>\n",
       "      <td>0.329420</td>\n",
       "      <td>-0.378388</td>\n",
       "      <td>1.103023</td>\n",
       "      <td>-1.227957</td>\n",
       "      <td>1.602475</td>\n",
       "      <td>0.533580</td>\n",
       "      <td>-0.425285</td>\n",
       "      <td>1.339452</td>\n",
       "      <td>-2.345872</td>\n",
       "    </tr>\n",
       "    <tr>\n",
       "      <th>1</th>\n",
       "      <td>2.994610</td>\n",
       "      <td>0.428593</td>\n",
       "      <td>0.266766</td>\n",
       "      <td>0.070220</td>\n",
       "      <td>0.052456</td>\n",
       "      <td>1.262768</td>\n",
       "      <td>0.212589</td>\n",
       "      <td>-0.852712</td>\n",
       "      <td>0.475181</td>\n",
       "      <td>-1.983257</td>\n",
       "      <td>...</td>\n",
       "      <td>0.750081</td>\n",
       "      <td>0.345057</td>\n",
       "      <td>-0.335371</td>\n",
       "      <td>1.074961</td>\n",
       "      <td>-1.261357</td>\n",
       "      <td>1.513204</td>\n",
       "      <td>0.412000</td>\n",
       "      <td>-0.420056</td>\n",
       "      <td>1.283152</td>\n",
       "      <td>-2.388969</td>\n",
       "    </tr>\n",
       "    <tr>\n",
       "      <th>2</th>\n",
       "      <td>2.995043</td>\n",
       "      <td>0.328111</td>\n",
       "      <td>0.277155</td>\n",
       "      <td>0.180654</td>\n",
       "      <td>-0.012740</td>\n",
       "      <td>1.330186</td>\n",
       "      <td>0.128360</td>\n",
       "      <td>-0.834138</td>\n",
       "      <td>0.455106</td>\n",
       "      <td>-2.073669</td>\n",
       "      <td>...</td>\n",
       "      <td>0.694448</td>\n",
       "      <td>0.367784</td>\n",
       "      <td>-0.341777</td>\n",
       "      <td>1.121613</td>\n",
       "      <td>-1.252905</td>\n",
       "      <td>1.408749</td>\n",
       "      <td>0.423753</td>\n",
       "      <td>-0.430617</td>\n",
       "      <td>1.296298</td>\n",
       "      <td>-2.425880</td>\n",
       "    </tr>\n",
       "    <tr>\n",
       "      <th>3</th>\n",
       "      <td>3.040588</td>\n",
       "      <td>0.043143</td>\n",
       "      <td>0.172200</td>\n",
       "      <td>0.030262</td>\n",
       "      <td>0.052932</td>\n",
       "      <td>1.182893</td>\n",
       "      <td>0.165487</td>\n",
       "      <td>-0.770852</td>\n",
       "      <td>0.325189</td>\n",
       "      <td>-1.666766</td>\n",
       "      <td>...</td>\n",
       "      <td>0.910159</td>\n",
       "      <td>0.170595</td>\n",
       "      <td>-0.392468</td>\n",
       "      <td>1.130279</td>\n",
       "      <td>-1.159098</td>\n",
       "      <td>1.763494</td>\n",
       "      <td>0.613409</td>\n",
       "      <td>-0.385079</td>\n",
       "      <td>1.314380</td>\n",
       "      <td>-2.093091</td>\n",
       "    </tr>\n",
       "    <tr>\n",
       "      <th>4</th>\n",
       "      <td>2.991683</td>\n",
       "      <td>0.434422</td>\n",
       "      <td>0.203075</td>\n",
       "      <td>0.017746</td>\n",
       "      <td>0.066662</td>\n",
       "      <td>1.205739</td>\n",
       "      <td>0.190587</td>\n",
       "      <td>-0.779800</td>\n",
       "      <td>0.443083</td>\n",
       "      <td>-1.873510</td>\n",
       "      <td>...</td>\n",
       "      <td>0.825267</td>\n",
       "      <td>0.259383</td>\n",
       "      <td>-0.336455</td>\n",
       "      <td>1.109637</td>\n",
       "      <td>-1.246545</td>\n",
       "      <td>1.608525</td>\n",
       "      <td>0.482107</td>\n",
       "      <td>-0.358869</td>\n",
       "      <td>1.308622</td>\n",
       "      <td>-2.219175</td>\n",
       "    </tr>\n",
       "  </tbody>\n",
       "</table>\n",
       "<p>5 rows × 256 columns</p>\n",
       "</div>"
      ],
      "text/plain": [
       "        0         1         2         3         4         5         6    \\\n",
       "0  2.979183  0.178517  0.188426  0.126767  0.054358  1.263473  0.146052   \n",
       "1  2.994610  0.428593  0.266766  0.070220  0.052456  1.262768  0.212589   \n",
       "2  2.995043  0.328111  0.277155  0.180654 -0.012740  1.330186  0.128360   \n",
       "3  3.040588  0.043143  0.172200  0.030262  0.052932  1.182893  0.165487   \n",
       "4  2.991683  0.434422  0.203075  0.017746  0.066662  1.205739  0.190587   \n",
       "\n",
       "        7         8         9    ...       246       247       248       249  \\\n",
       "0 -0.803534  0.400076 -1.905356  ...  0.832997  0.329420 -0.378388  1.103023   \n",
       "1 -0.852712  0.475181 -1.983257  ...  0.750081  0.345057 -0.335371  1.074961   \n",
       "2 -0.834138  0.455106 -2.073669  ...  0.694448  0.367784 -0.341777  1.121613   \n",
       "3 -0.770852  0.325189 -1.666766  ...  0.910159  0.170595 -0.392468  1.130279   \n",
       "4 -0.779800  0.443083 -1.873510  ...  0.825267  0.259383 -0.336455  1.109637   \n",
       "\n",
       "        250       251       252       253       254       255  \n",
       "0 -1.227957  1.602475  0.533580 -0.425285  1.339452 -2.345872  \n",
       "1 -1.261357  1.513204  0.412000 -0.420056  1.283152 -2.388969  \n",
       "2 -1.252905  1.408749  0.423753 -0.430617  1.296298 -2.425880  \n",
       "3 -1.159098  1.763494  0.613409 -0.385079  1.314380 -2.093091  \n",
       "4 -1.246545  1.608525  0.482107 -0.358869  1.308622 -2.219175  \n",
       "\n",
       "[5 rows x 256 columns]"
      ]
     },
     "execution_count": 19,
     "metadata": {},
     "output_type": "execute_result"
    }
   ],
   "source": [
    "# convert back into arrow dataset\n",
    "new_data = Dataset.from_pandas(df)\n",
    "\n",
    "# extract embeddings \n",
    "embs = gtu.extract_embedding_in_mem(model, new_data)\n",
    "embs.head()"
   ]
  },
  {
   "cell_type": "code",
   "execution_count": 20,
   "id": "244a9c8c-13c4-44c2-80f5-4adb757359ee",
   "metadata": {},
   "outputs": [
    {
     "name": "stderr",
     "output_type": "stream",
     "text": [
      "/home/oliven/miniconda3/envs/geneformer2/lib/python3.10/site-packages/anndata/_core/anndata.py:767: UserWarning: \n",
      "AnnData expects .obs.index to contain strings, but got values like:\n",
      "    [0, 1, 2, 3, 4]\n",
      "\n",
      "    Inferred to be: integer\n",
      "\n",
      "  value_idx = self._prep_dim_index(value.index, attr)\n"
     ]
    },
    {
     "data": {
      "image/png": "[encoded data removed]",
      "text/plain": [
       "<Figure size 640x480 with 1 Axes>"
      ]
     },
     "metadata": {},
     "output_type": "display_data"
    }
   ],
   "source": [
    "reload(gtu)\n",
    "adata = gtu.make_embedding_anndata(embs, df)\n",
    "\n",
    "sc.tl.pca(adata)\n",
    "sc.pp.neighbors(adata)\n",
    "sc.tl.umap(adata, min_dist=0.1)\n",
    "sc.pl.umap(\n",
    "    adata,\n",
    "    color=[\"type\"],\n",
    "    ncols=1,\n",
    "    # Setting a smaller point size to get prevent overlap\n",
    "    size=30,\n",
    ")"
   ]
  },
  {
   "cell_type": "markdown",
   "id": "fef76096-0a3a-45fd-bdfc-dba273b8c67b",
   "metadata": {},
   "source": [
    "# Archive"
   ]
  },
  {
   "cell_type": "code",
   "execution_count": null,
   "id": "494ffed4-f012-44c4-9833-5d126ef9357a",
   "metadata": {},
   "outputs": [],
   "source": [
    "break"
   ]
  },
  {
   "cell_type": "markdown",
   "id": "adbbef48-5325-4b8e-87fa-cf6df9ba9711",
   "metadata": {},
   "source": [
    "# Neighbor Graph (no PCA of embeddings)"
   ]
  },
  {
   "cell_type": "code",
   "execution_count": null,
   "id": "b2cb8438-b363-4113-851d-3a89e5c8fefa",
   "metadata": {},
   "outputs": [],
   "source": [
    "sc.pp.neighbors(adata)\n",
    "sc.tl.umap(adata)\n",
    "sc.pl.umap(\n",
    "    adata,\n",
    "    color=[\"cell_type\", \"dataset\"],\n",
    "    n_cols=1,\n",
    "    # Setting a smaller point size to get prevent overlap\n",
    "    size=10,\n",
    ")"
   ]
  },
  {
   "cell_type": "code",
   "execution_count": null,
   "id": "f5f55e49-8c37-40c6-8062-ded826241b8f",
   "metadata": {},
   "outputs": [],
   "source": [
    "break"
   ]
  },
  {
   "cell_type": "code",
   "execution_count": null,
   "id": "5707dd9c-8335-459e-bd91-faeb571e76ac",
   "metadata": {},
   "outputs": [],
   "source": []
  },
  {
   "cell_type": "code",
   "execution_count": null,
   "id": "01843c0f-0c46-4d5f-9587-42e4208d5ea1",
   "metadata": {},
   "outputs": [],
   "source": []
  },
  {
   "cell_type": "code",
   "execution_count": null,
   "id": "a66d40fe-29af-474c-b5e2-2c4383518a29",
   "metadata": {},
   "outputs": [],
   "source": [
    "comp_1 = 4\n",
    "comp_2 = 5\n",
    "\n",
    "sns.scatterplot(data=embs,\n",
    "                x=comp_1,\n",
    "                y=comp_2,\n",
    "                ec='none',\n",
    "                lw=0.1,\n",
    "                alpha=0.9,\n",
    "                hue='dataset',\n",
    "                s=5)\n",
    "\n",
    "\n",
    "plt.xticks([])\n",
    "plt.yticks([])\n",
    "\n",
    "sns.move_legend(plt.gca(), \n",
    "                loc='upper right',\n",
    "                bbox_to_anchor=(1.7, 1))\n",
    "\n",
    "plt.gca().set_aspect('equal')"
   ]
  },
  {
   "cell_type": "code",
   "execution_count": null,
   "id": "b255fd35-e66c-41dd-9e10-a791783e0976",
   "metadata": {},
   "outputs": [],
   "source": []
  },
  {
   "cell_type": "code",
   "execution_count": null,
   "id": "e691cfd5-86d2-4aab-96ae-a3af46c0bf71",
   "metadata": {},
   "outputs": [],
   "source": []
  },
  {
   "cell_type": "code",
   "execution_count": null,
   "id": "9298cb8e-6608-4cfb-9b00-49dc1652e02e",
   "metadata": {},
   "outputs": [],
   "source": []
  },
  {
   "cell_type": "code",
   "execution_count": null,
   "id": "0baab1a6-f2aa-426e-8e2d-46692345406b",
   "metadata": {},
   "outputs": [],
   "source": [
    "sc.tl.pca(adata, n_comps=5)\n",
    "sc.pp.neighbors(adata)\n",
    "sc.tl.umap(adata)\n",
    "sc.pl.umap(\n",
    "    adata,\n",
    "    color=\"cell_type\",\n",
    "    # Setting a smaller point size to get prevent overlap\n",
    "    size=10,\n",
    ")"
   ]
  },
  {
   "cell_type": "code",
   "execution_count": null,
   "id": "fcb95f92-f5eb-47a7-8be1-2269e8810e05",
   "metadata": {},
   "outputs": [],
   "source": [
    "break"
   ]
  },
  {
   "cell_type": "code",
   "execution_count": null,
   "id": "db772b72-2c63-4103-a8c5-c27b107e7b50",
   "metadata": {},
   "outputs": [],
   "source": [
    "sc.tl.leiden(adata, n_iterations=2)\n",
    "sc.pl.umap(adata, color=[\"leiden\"])"
   ]
  },
  {
   "cell_type": "code",
   "execution_count": null,
   "id": "bdf80196-1d40-4b5c-95b3-24b589d052f9",
   "metadata": {},
   "outputs": [],
   "source": []
  },
  {
   "cell_type": "code",
   "execution_count": null,
   "id": "cff8517e-12a2-4b3b-aeb8-dcbe9f9f01d3",
   "metadata": {},
   "outputs": [],
   "source": []
  },
  {
   "cell_type": "code",
   "execution_count": null,
   "id": "8ffb54a2-92d6-437e-a600-25970da5b401",
   "metadata": {},
   "outputs": [],
   "source": [
    "break"
   ]
  },
  {
   "cell_type": "code",
   "execution_count": null,
   "id": "18e7c503-eb9f-4897-b929-5c0bb0ba1926",
   "metadata": {},
   "outputs": [],
   "source": [
    "sns.scatterplot(data=embs,\n",
    "                x=0,\n",
    "                y=1,\n",
    "                hue='dataset',\n",
    "                s=10)\n",
    "\n",
    "sns.move_legend(plt.gca(), \n",
    "                loc='upper right',\n",
    "                bbox_to_anchor=(1.7, 1))\n",
    "\n",
    "plt.gca().set_aspect('equal')"
   ]
  },
  {
   "cell_type": "code",
   "execution_count": null,
   "id": "9ee40f89-6b88-4d60-9a62-ea1e767e30d9",
   "metadata": {},
   "outputs": [],
   "source": [
    "break"
   ]
  },
  {
   "cell_type": "code",
   "execution_count": null,
   "id": "123fd075-6f6c-481d-89cf-d80ee5f6ecb1",
   "metadata": {},
   "outputs": [],
   "source": [
    "sc.tl.pca(adata)\n",
    "sc.pp.neighbors(adata, n_neighbors=21)\n",
    "sc.tl.umap(adata, min_dist=0.2)\n",
    "\n",
    "adata"
   ]
  },
  {
   "cell_type": "code",
   "execution_count": null,
   "id": "113e3bec-15b2-414f-9a6e-53149465d48f",
   "metadata": {},
   "outputs": [],
   "source": [
    "sc.pl.umap(adata, \n",
    "           color=['dataset'])"
   ]
  },
  {
   "cell_type": "code",
   "execution_count": null,
   "id": "88bf1b9d-c333-4112-b3ec-d3bcb4cd81b0",
   "metadata": {},
   "outputs": [],
   "source": [
    "break"
   ]
  },
  {
   "cell_type": "code",
   "execution_count": null,
   "id": "66a1bed4-7eb8-4c50-bf92-1f68033a519f",
   "metadata": {},
   "outputs": [],
   "source": []
  },
  {
   "cell_type": "code",
   "execution_count": null,
   "id": "5fec5868-ab5f-455c-9dc8-d084a0da551a",
   "metadata": {},
   "outputs": [],
   "source": []
  },
  {
   "cell_type": "code",
   "execution_count": null,
   "id": "3a48932e-d460-4620-a5b8-f5d2a0011d84",
   "metadata": {},
   "outputs": [],
   "source": [
    "df = embs.copy()\n",
    "\n",
    "sns.scatterplot(data=df,  \n",
    "                x=0,\n",
    "                y=2,\n",
    "                alpha=0.6,\n",
    "                s=10,\n",
    "                palette=\"Set1\",\n",
    "                # legend=False,\n",
    "                hue='dataset')\n",
    "\n",
    "sns.move_legend(plt.gca(), \n",
    "                loc='upper right',\n",
    "                bbox_to_anchor=(1.4, 1))\n"
   ]
  },
  {
   "cell_type": "code",
   "execution_count": null,
   "id": "579094bf-3b29-4d3b-8b7c-dfb688454fc2",
   "metadata": {},
   "outputs": [],
   "source": []
  }
 ],
 "metadata": {
  "kernelspec": {
   "display_name": "geneformer2",
   "language": "python",
   "name": "geneformer2"
  },
  "language_info": {
   "codemirror_mode": {
    "name": "ipython",
    "version": 3
   },
   "file_extension": ".py",
   "mimetype": "text/x-python",
   "name": "python",
   "nbconvert_exporter": "python",
   "pygments_lexer": "ipython3",
   "version": "3.10.14"
  }
 },
 "nbformat": 4,
 "nbformat_minor": 5
}
