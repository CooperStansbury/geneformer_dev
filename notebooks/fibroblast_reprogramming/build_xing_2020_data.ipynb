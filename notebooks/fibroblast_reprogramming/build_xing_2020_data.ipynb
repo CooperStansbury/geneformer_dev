{
 "cells": [
  {
   "cell_type": "code",
   "execution_count": 1,
   "id": "171390d6-6df9-453c-86ae-b561b8c9c395",
   "metadata": {},
   "outputs": [],
   "source": [
    "import os\n",
    "import anndata as an\n",
    "import scanpy as sc\n",
    "import pandas as pd\n",
    "from scipy import sparse"
   ]
  },
  {
   "cell_type": "code",
   "execution_count": 2,
   "id": "e3b3d169-6c68-4549-817e-353db65c17e4",
   "metadata": {},
   "outputs": [
    {
     "data": {
      "text/html": [
       "<div>\n",
       "<style scoped>\n",
       "    .dataframe tbody tr th:only-of-type {\n",
       "        vertical-align: middle;\n",
       "    }\n",
       "\n",
       "    .dataframe tbody tr th {\n",
       "        vertical-align: top;\n",
       "    }\n",
       "\n",
       "    .dataframe thead th {\n",
       "        text-align: right;\n",
       "    }\n",
       "</style>\n",
       "<table border=\"1\" class=\"dataframe\">\n",
       "  <thead>\n",
       "    <tr style=\"text-align: right;\">\n",
       "      <th></th>\n",
       "      <th>Unnamed: 0</th>\n",
       "      <th>AAACCTGAGGAGTTGC-1</th>\n",
       "      <th>AAACCTGAGTACTTGC-1</th>\n",
       "      <th>AAACCTGAGTATGACA-1</th>\n",
       "      <th>AAACCTGCACCATGTA-1</th>\n",
       "      <th>AAACCTGCACCTTGTC-1</th>\n",
       "      <th>AAACCTGCACGGTGTC-1</th>\n",
       "      <th>AAACCTGCAGGACGTA-1</th>\n",
       "      <th>AAACCTGCATTGGTAC-1</th>\n",
       "      <th>AAACCTGTCAAAGACA-1</th>\n",
       "      <th>...</th>\n",
       "      <th>TTTCCTCTCGCACTCT-6</th>\n",
       "      <th>TTTCCTCTCTCCTATA-6</th>\n",
       "      <th>TTTGCGCCACCAGTTA-6</th>\n",
       "      <th>TTTGCGCGTCTGATTG-6</th>\n",
       "      <th>TTTGGTTCAATAACGA-6</th>\n",
       "      <th>TTTGGTTGTTACGACT-6</th>\n",
       "      <th>TTTGGTTTCTGTCTCG-6</th>\n",
       "      <th>TTTGGTTTCTTCGGTC-6</th>\n",
       "      <th>TTTGTCACAATGTAAG-6</th>\n",
       "      <th>TTTGTCATCCAAGTAC-6</th>\n",
       "    </tr>\n",
       "  </thead>\n",
       "  <tbody>\n",
       "    <tr>\n",
       "      <th>0</th>\n",
       "      <td>ENSG00000243485</td>\n",
       "      <td>0</td>\n",
       "      <td>0</td>\n",
       "      <td>0</td>\n",
       "      <td>0</td>\n",
       "      <td>0</td>\n",
       "      <td>0</td>\n",
       "      <td>0</td>\n",
       "      <td>0</td>\n",
       "      <td>0</td>\n",
       "      <td>...</td>\n",
       "      <td>0</td>\n",
       "      <td>0</td>\n",
       "      <td>0</td>\n",
       "      <td>0</td>\n",
       "      <td>0</td>\n",
       "      <td>0</td>\n",
       "      <td>0</td>\n",
       "      <td>0</td>\n",
       "      <td>0</td>\n",
       "      <td>0</td>\n",
       "    </tr>\n",
       "    <tr>\n",
       "      <th>1</th>\n",
       "      <td>ENSG00000237613</td>\n",
       "      <td>0</td>\n",
       "      <td>0</td>\n",
       "      <td>0</td>\n",
       "      <td>0</td>\n",
       "      <td>0</td>\n",
       "      <td>0</td>\n",
       "      <td>0</td>\n",
       "      <td>0</td>\n",
       "      <td>0</td>\n",
       "      <td>...</td>\n",
       "      <td>0</td>\n",
       "      <td>0</td>\n",
       "      <td>0</td>\n",
       "      <td>0</td>\n",
       "      <td>0</td>\n",
       "      <td>0</td>\n",
       "      <td>0</td>\n",
       "      <td>0</td>\n",
       "      <td>0</td>\n",
       "      <td>0</td>\n",
       "    </tr>\n",
       "    <tr>\n",
       "      <th>2</th>\n",
       "      <td>ENSG00000186092</td>\n",
       "      <td>0</td>\n",
       "      <td>0</td>\n",
       "      <td>0</td>\n",
       "      <td>0</td>\n",
       "      <td>0</td>\n",
       "      <td>0</td>\n",
       "      <td>0</td>\n",
       "      <td>0</td>\n",
       "      <td>0</td>\n",
       "      <td>...</td>\n",
       "      <td>0</td>\n",
       "      <td>0</td>\n",
       "      <td>0</td>\n",
       "      <td>0</td>\n",
       "      <td>0</td>\n",
       "      <td>0</td>\n",
       "      <td>0</td>\n",
       "      <td>0</td>\n",
       "      <td>0</td>\n",
       "      <td>0</td>\n",
       "    </tr>\n",
       "    <tr>\n",
       "      <th>3</th>\n",
       "      <td>ENSG00000238009</td>\n",
       "      <td>0</td>\n",
       "      <td>0</td>\n",
       "      <td>0</td>\n",
       "      <td>0</td>\n",
       "      <td>0</td>\n",
       "      <td>0</td>\n",
       "      <td>0</td>\n",
       "      <td>0</td>\n",
       "      <td>0</td>\n",
       "      <td>...</td>\n",
       "      <td>0</td>\n",
       "      <td>0</td>\n",
       "      <td>0</td>\n",
       "      <td>0</td>\n",
       "      <td>0</td>\n",
       "      <td>0</td>\n",
       "      <td>0</td>\n",
       "      <td>0</td>\n",
       "      <td>0</td>\n",
       "      <td>0</td>\n",
       "    </tr>\n",
       "    <tr>\n",
       "      <th>4</th>\n",
       "      <td>ENSG00000239945</td>\n",
       "      <td>0</td>\n",
       "      <td>0</td>\n",
       "      <td>0</td>\n",
       "      <td>0</td>\n",
       "      <td>0</td>\n",
       "      <td>0</td>\n",
       "      <td>0</td>\n",
       "      <td>0</td>\n",
       "      <td>0</td>\n",
       "      <td>...</td>\n",
       "      <td>0</td>\n",
       "      <td>0</td>\n",
       "      <td>0</td>\n",
       "      <td>0</td>\n",
       "      <td>0</td>\n",
       "      <td>0</td>\n",
       "      <td>0</td>\n",
       "      <td>0</td>\n",
       "      <td>0</td>\n",
       "      <td>0</td>\n",
       "    </tr>\n",
       "  </tbody>\n",
       "</table>\n",
       "<p>5 rows × 32139 columns</p>\n",
       "</div>"
      ],
      "text/plain": [
       "        Unnamed: 0  AAACCTGAGGAGTTGC-1  AAACCTGAGTACTTGC-1  \\\n",
       "0  ENSG00000243485                   0                   0   \n",
       "1  ENSG00000237613                   0                   0   \n",
       "2  ENSG00000186092                   0                   0   \n",
       "3  ENSG00000238009                   0                   0   \n",
       "4  ENSG00000239945                   0                   0   \n",
       "\n",
       "   AAACCTGAGTATGACA-1  AAACCTGCACCATGTA-1  AAACCTGCACCTTGTC-1  \\\n",
       "0                   0                   0                   0   \n",
       "1                   0                   0                   0   \n",
       "2                   0                   0                   0   \n",
       "3                   0                   0                   0   \n",
       "4                   0                   0                   0   \n",
       "\n",
       "   AAACCTGCACGGTGTC-1  AAACCTGCAGGACGTA-1  AAACCTGCATTGGTAC-1  \\\n",
       "0                   0                   0                   0   \n",
       "1                   0                   0                   0   \n",
       "2                   0                   0                   0   \n",
       "3                   0                   0                   0   \n",
       "4                   0                   0                   0   \n",
       "\n",
       "   AAACCTGTCAAAGACA-1  ...  TTTCCTCTCGCACTCT-6  TTTCCTCTCTCCTATA-6  \\\n",
       "0                   0  ...                   0                   0   \n",
       "1                   0  ...                   0                   0   \n",
       "2                   0  ...                   0                   0   \n",
       "3                   0  ...                   0                   0   \n",
       "4                   0  ...                   0                   0   \n",
       "\n",
       "   TTTGCGCCACCAGTTA-6  TTTGCGCGTCTGATTG-6  TTTGGTTCAATAACGA-6  \\\n",
       "0                   0                   0                   0   \n",
       "1                   0                   0                   0   \n",
       "2                   0                   0                   0   \n",
       "3                   0                   0                   0   \n",
       "4                   0                   0                   0   \n",
       "\n",
       "   TTTGGTTGTTACGACT-6  TTTGGTTTCTGTCTCG-6  TTTGGTTTCTTCGGTC-6  \\\n",
       "0                   0                   0                   0   \n",
       "1                   0                   0                   0   \n",
       "2                   0                   0                   0   \n",
       "3                   0                   0                   0   \n",
       "4                   0                   0                   0   \n",
       "\n",
       "   TTTGTCACAATGTAAG-6  TTTGTCATCCAAGTAC-6  \n",
       "0                   0                   0  \n",
       "1                   0                   0  \n",
       "2                   0                   0  \n",
       "3                   0                   0  \n",
       "4                   0                   0  \n",
       "\n",
       "[5 rows x 32139 columns]"
      ]
     },
     "execution_count": 2,
     "metadata": {},
     "output_type": "execute_result"
    }
   ],
   "source": [
    "count_path = \"/nfs/turbo/umms-indikar/shared/projects/geneformer/data/xing_2020_reprogramming_data/GSE118258_UMI.csv.gz\"\n",
    "\n",
    "X = pd.read_csv(count_path)\n",
    "X.head()"
   ]
  },
  {
   "cell_type": "code",
   "execution_count": 3,
   "id": "01d0c509-1136-41f5-b10a-c55bcc939997",
   "metadata": {},
   "outputs": [
    {
     "data": {
      "text/plain": [
       "(32138, 32738)"
      ]
     },
     "execution_count": 3,
     "metadata": {},
     "output_type": "execute_result"
    }
   ],
   "source": [
    "# update columns and rows\n",
    "Xt = X.copy()\n",
    "Xt = Xt.rename(columns = {'Unnamed: 0' : 'gene_id'})\n",
    "Xt = Xt.set_index('gene_id')\n",
    "Xt = Xt.T\n",
    "Xt.shape"
   ]
  },
  {
   "cell_type": "code",
   "execution_count": 4,
   "id": "c98de7da-bf4d-47c7-8c08-b0d38f62336d",
   "metadata": {},
   "outputs": [
    {
     "data": {
      "text/plain": [
       "AnnData object with n_obs × n_vars = 32138 × 32738"
      ]
     },
     "execution_count": 4,
     "metadata": {},
     "output_type": "execute_result"
    }
   ],
   "source": [
    "# build anndata\n",
    "adata = an.AnnData(sparse.csr_matrix(Xt.to_numpy()))  # Sparse matrix for efficiency\n",
    "adata.var_names = Xt.columns\n",
    "adata.obs_names = Xt.index\n",
    "adata"
   ]
  },
  {
   "cell_type": "code",
   "execution_count": 5,
   "id": "a3c454a2-9860-419b-a5d2-7a175004cd72",
   "metadata": {},
   "outputs": [
    {
     "data": {
      "text/plain": [
       "AnnData object with n_obs × n_vars = 32138 × 32738\n",
       "    obs: 'Cell ID', 'Time-point'"
      ]
     },
     "execution_count": 5,
     "metadata": {},
     "output_type": "execute_result"
    }
   ],
   "source": [
    "# load the metadata \n",
    "obs_path = \"/nfs/turbo/umms-indikar/shared/projects/geneformer/data/xing_2020_reprogramming_data/GSE118258_Annotation.txt.gz\"\n",
    "obs = pd.read_csv(obs_path, sep='\\t')\n",
    "obs['cell_id'] = obs['Cell ID'].copy()\n",
    "obs = obs.set_index('cell_id')\n",
    "\n",
    "adata.obs = obs.copy()\n",
    "adata"
   ]
  },
  {
   "cell_type": "code",
   "execution_count": 6,
   "id": "23c56c5b-2598-4050-b04a-0f82d49d5b90",
   "metadata": {},
   "outputs": [
    {
     "data": {
      "text/plain": [
       "AnnData object with n_obs × n_vars = 32138 × 32738\n",
       "    obs: 'Cell ID', 'Time-point'\n",
       "    var: 'gene_name', 'gene_biotype', 'scenic_tf', 'ensembl_id'"
      ]
     },
     "execution_count": 6,
     "metadata": {},
     "output_type": "execute_result"
    }
   ],
   "source": [
    "# load the gene names\n",
    "\n",
    "gene_path = \"/scratch/indikar_root/indikar1/shared_data/geneformer/resources/token_mapping.csv\"\n",
    "gene_map = pd.read_csv(gene_path)\n",
    "\n",
    "var = pd.DataFrame({'gene_id' : Xt.columns})\n",
    "var = pd.merge(var, gene_map[['gene_id', 'gene_name', 'gene_biotype', 'scenic_tf']],\n",
    "               how='left',\n",
    "               left_on='gene_id',\n",
    "               right_on='gene_id',\n",
    "              )\n",
    "\n",
    "var['ensembl_id'] = var['gene_id'].copy()\n",
    "var = var.set_index('gene_id')\n",
    "var = var.astype(str)\n",
    "\n",
    "adata.var = var\n",
    "adata"
   ]
  },
  {
   "cell_type": "code",
   "execution_count": 7,
   "id": "6f2d9411-d908-4d62-9635-ac106c3977a3",
   "metadata": {},
   "outputs": [
    {
     "name": "stdout",
     "output_type": "stream",
     "text": [
      "done\n"
     ]
    }
   ],
   "source": [
    "outpath = \"/nfs/turbo/umms-indikar/shared/projects/geneformer/data/xing_2020_reprogramming_data/fib_reprogramming.h5ad\"\n",
    "adata.write(outpath)\n",
    "print('done')"
   ]
  },
  {
   "cell_type": "code",
   "execution_count": null,
   "id": "6f012a2a-2559-4117-a7a1-1e7ea8858f0d",
   "metadata": {},
   "outputs": [],
   "source": []
  }
 ],
 "metadata": {
  "kernelspec": {
   "display_name": "scanpy",
   "language": "python",
   "name": "scanpy"
  },
  "language_info": {
   "codemirror_mode": {
    "name": "ipython",
    "version": 3
   },
   "file_extension": ".py",
   "mimetype": "text/x-python",
   "name": "python",
   "nbconvert_exporter": "python",
   "pygments_lexer": "ipython3",
   "version": "3.12.3"
  }
 },
 "nbformat": 4,
 "nbformat_minor": 5
}
