{
 "cells": [
  {
   "cell_type": "code",
   "execution_count": null,
   "id": "e10ac0c9-40ce-41fb-b6fa-3d62b76f2e57",
   "metadata": {},
   "outputs": [
    {
     "name": "stderr",
     "output_type": "stream",
     "text": [
      "/home/cstansbu/miniconda3/envs/geneformer/lib/python3.10/site-packages/tqdm/auto.py:21: TqdmWarning: IProgress not found. Please update jupyter and ipywidgets. See https://ipywidgets.readthedocs.io/en/stable/user_install.html\n",
      "  from .autonotebook import tqdm as notebook_tqdm\n"
     ]
    }
   ],
   "source": [
    "import torch\n",
    "import pandas as pd\n",
    "from geneformer import InSilicoPerturber\n",
    "from geneformer import InSilicoPerturberStats\n",
    "from geneformer import EmbExtractor\n",
    "from geneformer import in_silico_perturber_stats as stats"
   ]
  },
  {
   "cell_type": "markdown",
   "id": "cbd6851c-060e-4967-b816-e605ffe58b23",
   "metadata": {
    "tags": []
   },
   "source": [
    "### in silico perturbation in deletion mode to determine genes whose deletion in the dilated cardiomyopathy (dcm) state significantly shifts the embedding towards non-failing (nf) state"
   ]
  },
  {
   "cell_type": "code",
   "execution_count": null,
   "id": "c53e98cd-c603-4878-82ba-db471181bb55",
   "metadata": {},
   "outputs": [],
   "source": [
    "torch.cuda.empty_cache()\n",
    "\n",
    "# first obtain start, goal, and alt embedding positions\n",
    "# this function was changed to be separate from perturb_data\n",
    "# to avoid repeating calcuations when parallelizing perturb_data\n",
    "cell_states_to_model={\"state_key\": \"cell_type\", \n",
    "                      \"start_state\": \"FB\", \n",
    "                      \"goal_state\": \"HSC\", \n",
    "                      \"alt_states\": [\"iHSC\"]}\n",
    "\n",
    "embex = EmbExtractor(model_type=\"Pretrained\",\n",
    "                     num_classes=3,\n",
    "                     max_ncells=100,\n",
    "                     emb_layer=0,\n",
    "                     summary_stat=\"exact_mean\",\n",
    "                     forward_batch_size=20,\n",
    "                     nproc=1)\n",
    "\n",
    "\n",
    "model = \"/nfs/turbo/umms-indikar/shared/projects/geneformer/geneformer-12L-30M/\"\n",
    "data_path = \"/scratch/indikar_root/indikar1/cstansbu/HSC/geneformer_inputs/iHSC.dataset\"\n",
    "outpath = \"/scratch/indikar_root/indikar1/cstansbu/geneformer\"\n",
    "\n",
    "state_embs_dict = embex.get_state_embs(cell_states_to_model,\n",
    "                                       model,\n",
    "                                       data_path,\n",
    "                                       outpath,\n",
    "                                       \"preturb\")\n",
    "\n",
    "print('done')"
   ]
  },
  {
   "cell_type": "code",
   "execution_count": null,
   "id": "e43f28e8-ff56-4f03-9d1a-f106be4311bd",
   "metadata": {},
   "outputs": [],
   "source": [
    "# break"
   ]
  },
  {
   "cell_type": "code",
   "execution_count": null,
   "id": "981e1190-62da-4543-b7d3-6e2a2d6a6d56",
   "metadata": {
    "tags": []
   },
   "outputs": [],
   "source": [
    "genes = [\n",
    "    'ENSG00000162924', # GATA2 \n",
    "    # 'ENSG00000179348', # GFI1B\n",
    "    # 'ENSG00000165702', # FOS\n",
    "    # 'ENSG00000170345', # STAT5A\n",
    "    # 'ENSG00000126561', # REL\n",
    "]\n",
    "\n",
    "isp = InSilicoPerturber(perturb_type=\"overexpress\",\n",
    "                        perturb_rank_shift=None,\n",
    "                        genes_to_perturb='all',\n",
    "                        combos=0, # individually, or in pairs `1'\n",
    "                        anchor_gene=None,\n",
    "                        model_type=\"Pretrained\",\n",
    "                        num_classes=0, # pretrained model\n",
    "                        emb_mode=\"cell\",\n",
    "                        cell_emb_style=\"mean_pool\",\n",
    "                        cell_states_to_model=cell_states_to_model,\n",
    "                        state_embs_dict=state_embs_dict,\n",
    "                        max_ncells=1000,\n",
    "                        emb_layer=-1,\n",
    "                        forward_batch_size=10,\n",
    "                        nproc=1)"
   ]
  },
  {
   "cell_type": "code",
   "execution_count": null,
   "id": "938d5277-260c-408c-a679-de26dd314b67",
   "metadata": {},
   "outputs": [],
   "source": [
    "break"
   ]
  },
  {
   "cell_type": "code",
   "execution_count": null,
   "id": "0525a663-871a-4ce0-a135-cc203817ffa9",
   "metadata": {},
   "outputs": [],
   "source": [
    "# outputs intermediate files from in silico perturbation\n",
    "isp.perturb_data(model,\n",
    "                 data_path,\n",
    "                 outpath,\n",
    "                 \"preturb\")"
   ]
  },
  {
   "cell_type": "code",
   "execution_count": null,
   "id": "8c6ed686-2be2-49f7-bea3-98c25da21feb",
   "metadata": {},
   "outputs": [],
   "source": [
    "break"
   ]
  },
  {
   "cell_type": "code",
   "execution_count": null,
   "id": "8fe773bd-a651-425b-afde-5df84475ef65",
   "metadata": {},
   "outputs": [],
   "source": []
  },
  {
   "cell_type": "code",
   "execution_count": null,
   "id": "f8aadabb-516a-4dc0-b307-6de880e64e26",
   "metadata": {},
   "outputs": [],
   "source": [
    "ispstats = InSilicoPerturberStats(mode=\"goal_state_shift\",\n",
    "                                  genes_perturbed='all',\n",
    "                                  combos=0,\n",
    "                                  anchor_gene=None,\n",
    "                                  token_dictionary_file=\"/nfs/turbo/umms-indikar/shared/projects/HSC/data/geneformer/token_dictionary.pkl\",\n",
    "                                  gene_name_id_dictionary_file=\"/nfs/turbo/umms-indikar/shared/projects/HSC/data/geneformer/geneformer/gene_name_id_dict.pkl\",\n",
    "                                  cell_states_to_model=cell_states_to_model)"
   ]
  },
  {
   "cell_type": "code",
   "execution_count": null,
   "id": "170841a7-3845-4bf9-8091-acc279250867",
   "metadata": {},
   "outputs": [],
   "source": []
  },
  {
   "cell_type": "code",
   "execution_count": null,
   "id": "ffecfae6-e737-43e3-99e9-fa37ff46610b",
   "metadata": {},
   "outputs": [],
   "source": [
    "# extracts data from intermediate files and processes stats to output in final .csv\n",
    "\n",
    "result_path = \"/scratch/indikar_root/indikar1/cstansbu/geneformer/test\"\n",
    "\n",
    "perturb_path = \"/scratch/indikar_root/indikar1/cstansbu/geneformer/\"\n",
    "ispstats.get_stats(perturb_path,\n",
    "                   None,\n",
    "                   outpath,\n",
    "                   result_path)"
   ]
  },
  {
   "cell_type": "code",
   "execution_count": null,
   "id": "dea1d486-358a-4e51-8225-2cf5eced6897",
   "metadata": {},
   "outputs": [],
   "source": [
    "df = pd.read_csv(f\"{result_path}.csv\")\n",
    "df.head()\n"
   ]
  },
  {
   "cell_type": "code",
   "execution_count": null,
   "id": "65f764a7-a4c3-4fe0-a4a5-67a62f4197f4",
   "metadata": {},
   "outputs": [],
   "source": []
  }
 ],
 "metadata": {
  "kernelspec": {
   "display_name": "geneformer",
   "language": "python",
   "name": "geneformer"
  },
  "language_info": {
   "codemirror_mode": {
    "name": "ipython",
    "version": 3
   },
   "file_extension": ".py",
   "mimetype": "text/x-python",
   "name": "python",
   "nbconvert_exporter": "python",
   "pygments_lexer": "ipython3",
   "version": "3.10.13"
  }
 },
 "nbformat": 4,
 "nbformat_minor": 5
}
