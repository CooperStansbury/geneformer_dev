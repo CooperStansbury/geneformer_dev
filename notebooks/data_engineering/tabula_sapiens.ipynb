{
 "cells": [
  {
   "cell_type": "code",
   "execution_count": 4,
   "id": "1e0b616c-d67a-4df2-a4ab-7c88042910c1",
   "metadata": {},
   "outputs": [],
   "source": [
    "import scanpy as sc\n",
    "import anndata as an\n",
    "import pandas as pd"
   ]
  },
  {
   "cell_type": "code",
   "execution_count": 5,
   "id": "c1da6c4b-553f-42e2-953c-5641dfe4acf4",
   "metadata": {},
   "outputs": [
    {
     "data": {
      "text/plain": [
       "AnnData object with n_obs × n_vars = 21412 × 20582\n",
       "    obs: 'Barcode', 'Library', 'dataset'\n",
       "    var: 'gene_name'\n",
       "    layers: 'raw_counts'"
      ]
     },
     "execution_count": 5,
     "metadata": {},
     "output_type": "execute_result"
    }
   ],
   "source": [
    "fpath = \"/nfs/turbo/umms-indikar/shared/projects/HSC/data/pellin_2019/pellin.anndata.h5ad\"\n",
    "\n",
    "adata = sc.read_h5ad(fpath)\n",
    "adata"
   ]
  },
  {
   "cell_type": "code",
   "execution_count": null,
   "id": "36be314d-9442-4dce-88c6-72e6ffeaba49",
   "metadata": {},
   "outputs": [],
   "source": [
    "break"
   ]
  },
  {
   "cell_type": "code",
   "execution_count": null,
   "id": "ed230d15-c5fa-4153-852b-cd4f4dae3854",
   "metadata": {},
   "outputs": [],
   "source": []
  },
  {
   "cell_type": "code",
   "execution_count": null,
   "id": "7f518d4a-354c-4042-ba8e-6fc69550ddb7",
   "metadata": {},
   "outputs": [],
   "source": []
  },
  {
   "cell_type": "code",
   "execution_count": null,
   "id": "7b8f679d-cf90-480f-855a-1bae8cf61ace",
   "metadata": {},
   "outputs": [],
   "source": []
  },
  {
   "cell_type": "code",
   "execution_count": null,
   "id": "0228dff6-7948-4174-85e4-ebfedd3f1343",
   "metadata": {},
   "outputs": [],
   "source": [
    "def aggregate_gene_counts(adata):\n",
    "    \"\"\"\n",
    "    Aggregates raw counts from an AnnData object at the gene level.\n",
    "\n",
    "    Args:\n",
    "        adata: An AnnData object containing gene expression data in a layer named 'raw_counts'.\n",
    "\n",
    "    Returns:\n",
    "        pandas.DataFrame: A DataFrame with gene names as index and summed raw counts as columns.\n",
    "    \"\"\"\n",
    "    # Extract raw counts and transpose for gene-wise analysis\n",
    "    df = adata.to_df(layer='raw_counts').T\n",
    "    \n",
    "    # Reset index to a column named 'gene_name'\n",
    "    df.reset_index(names='gene_name', inplace=True)\n",
    "\n",
    "    # Pre-aggregation info for debugging\n",
    "    print(f\"Initial shape: {df.shape}\")\n",
    "\n",
    "    # Extract base gene names (remove potential suffixes)\n",
    "    df['gene_name'] = df['gene_name'].astype(str).str.split(\".\", n=1, expand=True)[0]  \n",
    "\n",
    "    # Group by gene name and sum counts across all cells\n",
    "    df = df.groupby('gene_name').sum()\n",
    "\n",
    "    # Post-aggregation info\n",
    "    print(f\"Final shape: {df.shape}\")\n",
    "\n",
    "    return df.T\n",
    "\n",
    "df = aggregate_gene_counts(adata)\n",
    "df.head()"
   ]
  },
  {
   "cell_type": "code",
   "execution_count": null,
   "id": "b8311c1a-78f9-4804-9823-5a99e6b5da9b",
   "metadata": {},
   "outputs": [],
   "source": []
  },
  {
   "cell_type": "code",
   "execution_count": null,
   "id": "67b7e185-7f8c-4735-a729-225ddc87adba",
   "metadata": {},
   "outputs": [],
   "source": []
  },
  {
   "cell_type": "code",
   "execution_count": null,
   "id": "160ec7ac-a28e-4bf4-a30a-e1d1a94925d9",
   "metadata": {},
   "outputs": [],
   "source": [
    "df = adata.to_df(layer='raw_counts').T\n",
    "df = df.reset_index(names='gene_name')\n",
    "print(f\"{df.shape=}\")\n",
    "df['gene_name'] = df['gene_name'].apply(lambda x: x.split(\".\")[0])\n",
    "df = df.groupby('gene_name').sum()\n",
    "print(f\"{df.shape=}\")\n",
    "df.head()"
   ]
  },
  {
   "cell_type": "code",
   "execution_count": null,
   "id": "fd51b443-d805-4f92-be7e-2524986ef233",
   "metadata": {},
   "outputs": [],
   "source": [
    "def create_anndata_from_dataframe(df, adata):\n",
    "    \"\"\"\n",
    "    Creates an AnnData object from a pandas DataFrame and incorporates metadata from an existing AnnData object.\n",
    "\n",
    "    Args:\n",
    "        df: A pandas DataFrame where rows are features (e.g., genes) and columns are samples.\n",
    "        adata: An existing AnnData object containing metadata to be transferred (obs and var_names).\n",
    "\n",
    "    Returns:\n",
    "        anndata.AnnData: The newly created AnnData object.\n",
    "    \"\"\"\n",
    "    # Create AnnData from the DataFrame's numerical values\n",
    "    pdf = an.AnnData(df.to_numpy())\n",
    "\n",
    "    # Copy observation metadata (e.g., cell IDs, annotations)\n",
    "    pdf.obs = adata.obs.copy()\n",
    "\n",
    "    # Create variable annotation with Ensembl IDs\n",
    "    pdf.var = pd.DataFrame({'ensembl_id': df.columns})\n",
    "\n",
    "    # Set variable and observation names from the DataFrame\n",
    "    pdf.var_names = df.columns\n",
    "    pdf.obs_names = df.index\n",
    "\n",
    "    return pdf\n",
    "\n",
    "pdf = create_anndata_from_dataframe(df, adata)\n",
    "pdf"
   ]
  },
  {
   "cell_type": "code",
   "execution_count": null,
   "id": "74459f92-f97e-43e1-9503-c73456f416f2",
   "metadata": {},
   "outputs": [],
   "source": [
    "pdf.obs.head()"
   ]
  },
  {
   "cell_type": "code",
   "execution_count": null,
   "id": "ae4e2666-e825-4079-879a-8ba8273042d4",
   "metadata": {},
   "outputs": [],
   "source": []
  },
  {
   "cell_type": "code",
   "execution_count": null,
   "id": "73233d51-ce6f-4fe3-8543-34644a919e1d",
   "metadata": {},
   "outputs": [],
   "source": [
    "pdf = an.AnnData(df.to_numpy())\n",
    "pdf.obs = adata.obs.copy()\n",
    "pdf.var = pd.DataFrame({'ensembl_id' : df.index})\n",
    "pdf.var_names = df.index\n",
    "pdf.obs_names = df.columns\n",
    "\n",
    "pdf\n"
   ]
  },
  {
   "cell_type": "code",
   "execution_count": null,
   "id": "e2f90752-6183-48c6-af1f-d6a6ec6c4465",
   "metadata": {},
   "outputs": [],
   "source": []
  },
  {
   "cell_type": "code",
   "execution_count": null,
   "id": "e9fc1c7d-d97c-42dd-97b2-c3e9651804fb",
   "metadata": {},
   "outputs": [],
   "source": [
    "pdf.var.head()"
   ]
  },
  {
   "cell_type": "code",
   "execution_count": null,
   "id": "64749e76-0e79-4cdc-ac68-f09e5e8339ef",
   "metadata": {},
   "outputs": [],
   "source": [
    "adata.var['']"
   ]
  },
  {
   "cell_type": "code",
   "execution_count": null,
   "id": "a23f494e-34ba-44e5-b00e-2f3d5bc4ec00",
   "metadata": {},
   "outputs": [],
   "source": []
  },
  {
   "cell_type": "code",
   "execution_count": null,
   "id": "19618aa0-3878-43da-a778-2b646970d154",
   "metadata": {},
   "outputs": [],
   "source": [
    "fpath = \"/nfs/turbo/umms-indikar/shared/projects/geneformer/data/rajapakse_lab_data_jpic.h5ad\"\n",
    "\n",
    "adata = sc.read_h5ad(fpath)\n",
    "adata"
   ]
  },
  {
   "cell_type": "code",
   "execution_count": null,
   "id": "05721bfa-6a11-41a8-9045-b6b2dd09f36e",
   "metadata": {},
   "outputs": [],
   "source": [
    "adata.obs"
   ]
  },
  {
   "cell_type": "code",
   "execution_count": null,
   "id": "2f773430-6e29-49f8-8ddf-e667a3abe3af",
   "metadata": {},
   "outputs": [],
   "source": [
    "fpath = \"/scratch/indikar_root/indikar1/cstansbu/HSC/scanpy/clustered.anndata.h5ad\"\n",
    "\n",
    "adata = sc.read_h5ad(fpath)\n",
    "adata"
   ]
  },
  {
   "cell_type": "code",
   "execution_count": null,
   "id": "4126105e-8e16-408d-831f-39b47c663864",
   "metadata": {},
   "outputs": [],
   "source": []
  },
  {
   "cell_type": "code",
   "execution_count": null,
   "id": "c1851daa-d29b-4745-b712-784da82011c8",
   "metadata": {},
   "outputs": [],
   "source": []
  },
  {
   "cell_type": "code",
   "execution_count": null,
   "id": "57fe8340-bb73-4e45-bc7c-9d3d9d3ac3bf",
   "metadata": {},
   "outputs": [],
   "source": []
  },
  {
   "cell_type": "code",
   "execution_count": null,
   "id": "9820ab72-1f7c-4a4d-a47a-8feb94549b5b",
   "metadata": {},
   "outputs": [],
   "source": []
  },
  {
   "cell_type": "code",
   "execution_count": null,
   "id": "ad3cb2d8-b949-4ecb-9dde-c0a696841f9b",
   "metadata": {},
   "outputs": [],
   "source": [
    "adata.obs['celltype'].value_counts()"
   ]
  },
  {
   "cell_type": "code",
   "execution_count": null,
   "id": "3e75e168-ec51-4e8f-abdf-d03128315133",
   "metadata": {},
   "outputs": [],
   "source": [
    "adata.obs[adata.obs['celltype'] == 'FB']['organ_tissue'].value_counts()"
   ]
  },
  {
   "cell_type": "code",
   "execution_count": null,
   "id": "093d0d9c-c271-4609-8440-83ffef6c89b8",
   "metadata": {},
   "outputs": [],
   "source": []
  }
 ],
 "metadata": {
  "kernelspec": {
   "display_name": "scanpy",
   "language": "python",
   "name": "scanpy"
  },
  "language_info": {
   "codemirror_mode": {
    "name": "ipython",
    "version": 3
   },
   "file_extension": ".py",
   "mimetype": "text/x-python",
   "name": "python",
   "nbconvert_exporter": "python",
   "pygments_lexer": "ipython3",
   "version": "3.12.3"
  }
 },
 "nbformat": 4,
 "nbformat_minor": 5
}
