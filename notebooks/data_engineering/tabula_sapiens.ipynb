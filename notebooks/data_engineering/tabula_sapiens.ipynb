{
 "cells": [
  {
   "cell_type": "code",
   "execution_count": 2,
   "id": "1e0b616c-d67a-4df2-a4ab-7c88042910c1",
   "metadata": {},
   "outputs": [],
   "source": [
    "import scanpy as sc\n",
    "import anndata as an\n",
    "import pandas as pd"
   ]
  },
  {
   "cell_type": "code",
   "execution_count": 12,
   "id": "9f76d68a-c7ea-4d61-be42-908c85cc660d",
   "metadata": {},
   "outputs": [
    {
     "data": {
      "text/html": [
       "<div>\n",
       "<style scoped>\n",
       "    .dataframe tbody tr th:only-of-type {\n",
       "        vertical-align: middle;\n",
       "    }\n",
       "\n",
       "    .dataframe tbody tr th {\n",
       "        vertical-align: top;\n",
       "    }\n",
       "\n",
       "    .dataframe thead th {\n",
       "        text-align: right;\n",
       "    }\n",
       "</style>\n",
       "<table border=\"1\" class=\"dataframe\">\n",
       "  <thead>\n",
       "    <tr style=\"text-align: right;\">\n",
       "      <th></th>\n",
       "      <th>gene_id</th>\n",
       "      <th>token_id</th>\n",
       "      <th>gene_name</th>\n",
       "      <th>nonzero_median</th>\n",
       "      <th>gene_version</th>\n",
       "      <th>gene_biotype</th>\n",
       "      <th>Chromosome</th>\n",
       "      <th>Start</th>\n",
       "      <th>End</th>\n",
       "      <th>scenic_tf</th>\n",
       "    </tr>\n",
       "  </thead>\n",
       "  <tbody>\n",
       "    <tr>\n",
       "      <th>0</th>\n",
       "      <td>&lt;pad&gt;</td>\n",
       "      <td>0</td>\n",
       "      <td>NaN</td>\n",
       "      <td>NaN</td>\n",
       "      <td>NaN</td>\n",
       "      <td>NaN</td>\n",
       "      <td>NaN</td>\n",
       "      <td>NaN</td>\n",
       "      <td>NaN</td>\n",
       "      <td>False</td>\n",
       "    </tr>\n",
       "    <tr>\n",
       "      <th>1</th>\n",
       "      <td>&lt;mask&gt;</td>\n",
       "      <td>1</td>\n",
       "      <td>NaN</td>\n",
       "      <td>NaN</td>\n",
       "      <td>NaN</td>\n",
       "      <td>NaN</td>\n",
       "      <td>NaN</td>\n",
       "      <td>NaN</td>\n",
       "      <td>NaN</td>\n",
       "      <td>False</td>\n",
       "    </tr>\n",
       "    <tr>\n",
       "      <th>2</th>\n",
       "      <td>ENSG00000000003</td>\n",
       "      <td>2</td>\n",
       "      <td>TSPAN6</td>\n",
       "      <td>2.001186</td>\n",
       "      <td>15.0</td>\n",
       "      <td>protein_coding</td>\n",
       "      <td>X</td>\n",
       "      <td>100627107.0</td>\n",
       "      <td>100639991.0</td>\n",
       "      <td>False</td>\n",
       "    </tr>\n",
       "    <tr>\n",
       "      <th>3</th>\n",
       "      <td>ENSG00000000005</td>\n",
       "      <td>3</td>\n",
       "      <td>TNMD</td>\n",
       "      <td>3.228213</td>\n",
       "      <td>6.0</td>\n",
       "      <td>protein_coding</td>\n",
       "      <td>X</td>\n",
       "      <td>100584935.0</td>\n",
       "      <td>100599885.0</td>\n",
       "      <td>False</td>\n",
       "    </tr>\n",
       "    <tr>\n",
       "      <th>4</th>\n",
       "      <td>ENSG00000000419</td>\n",
       "      <td>4</td>\n",
       "      <td>DPM1</td>\n",
       "      <td>2.218874</td>\n",
       "      <td>14.0</td>\n",
       "      <td>protein_coding</td>\n",
       "      <td>20</td>\n",
       "      <td>50934866.0</td>\n",
       "      <td>50959140.0</td>\n",
       "      <td>False</td>\n",
       "    </tr>\n",
       "  </tbody>\n",
       "</table>\n",
       "</div>"
      ],
      "text/plain": [
       "           gene_id  token_id gene_name  nonzero_median  gene_version  \\\n",
       "0            <pad>         0       NaN             NaN           NaN   \n",
       "1           <mask>         1       NaN             NaN           NaN   \n",
       "2  ENSG00000000003         2    TSPAN6        2.001186          15.0   \n",
       "3  ENSG00000000005         3      TNMD        3.228213           6.0   \n",
       "4  ENSG00000000419         4      DPM1        2.218874          14.0   \n",
       "\n",
       "     gene_biotype Chromosome        Start          End  scenic_tf  \n",
       "0             NaN        NaN          NaN          NaN      False  \n",
       "1             NaN        NaN          NaN          NaN      False  \n",
       "2  protein_coding          X  100627107.0  100639991.0      False  \n",
       "3  protein_coding          X  100584935.0  100599885.0      False  \n",
       "4  protein_coding         20   50934866.0   50959140.0      False  "
      ]
     },
     "execution_count": 12,
     "metadata": {},
     "output_type": "execute_result"
    }
   ],
   "source": [
    "fpath = \"/scratch/indikar_root/indikar1/shared_data/geneformer/resources/token_mapping.csv\"\n",
    "\n",
    "df = pd.read_csv(fpath)\n",
    "df.head()"
   ]
  },
  {
   "cell_type": "code",
   "execution_count": null,
   "id": "efadbcf9-5144-401c-9d91-94f3c34b47d9",
   "metadata": {},
   "outputs": [],
   "source": []
  },
  {
   "cell_type": "code",
   "execution_count": 11,
   "id": "82e6281f-ca43-4f6c-8f04-9ba7ab686fed",
   "metadata": {},
   "outputs": [
    {
     "data": {
      "text/plain": [
       "STD.CellType\n",
       "Refined.HSC    3703\n",
       "MEP            3622\n",
       "CD4            2544\n",
       "MPP            2302\n",
       "EryP           2248\n",
       "ProB           2104\n",
       "CD8            1963\n",
       "MKP            1932\n",
       "Mono           1434\n",
       "HSC            1293\n",
       "MDP            1138\n",
       "NK             1017\n",
       "CLP             947\n",
       "GMP             933\n",
       "B               748\n",
       "LMPP            459\n",
       "CMP             416\n",
       "Plasma           63\n",
       "cDC              58\n",
       "pDC              24\n",
       "unknown           0\n",
       "Name: count, dtype: int64"
      ]
     },
     "execution_count": 11,
     "metadata": {},
     "output_type": "execute_result"
    }
   ],
   "source": [
    "adata.obs['STD.CellType'].value_counts()"
   ]
  },
  {
   "cell_type": "code",
   "execution_count": null,
   "id": "36be314d-9442-4dce-88c6-72e6ffeaba49",
   "metadata": {},
   "outputs": [],
   "source": [
    "break"
   ]
  },
  {
   "cell_type": "code",
   "execution_count": 9,
   "id": "ed230d15-c5fa-4153-852b-cd4f4dae3854",
   "metadata": {},
   "outputs": [
    {
     "data": {
      "text/plain": [
       "dataset\n",
       "LinNegCD34PosCD164Pos     6343\n",
       "LinNegCD34NegCD164high    4434\n",
       "LinNegCD34lowCD164high    4266\n",
       "CMP                       1576\n",
       "HSC                       1282\n",
       "MEP                       1211\n",
       "GMP                       1012\n",
       "PreBNK                     592\n",
       "LinNegCD34NegCD164low      358\n",
       "MPP                        215\n",
       "MLP                        123\n",
       "Name: count, dtype: int64"
      ]
     },
     "execution_count": 9,
     "metadata": {},
     "output_type": "execute_result"
    }
   ],
   "source": [
    "adata.obs['dataset'].value_counts()"
   ]
  },
  {
   "cell_type": "code",
   "execution_count": null,
   "id": "7f518d4a-354c-4042-ba8e-6fc69550ddb7",
   "metadata": {},
   "outputs": [],
   "source": []
  },
  {
   "cell_type": "code",
   "execution_count": null,
   "id": "7b8f679d-cf90-480f-855a-1bae8cf61ace",
   "metadata": {},
   "outputs": [],
   "source": []
  },
  {
   "cell_type": "code",
   "execution_count": null,
   "id": "0228dff6-7948-4174-85e4-ebfedd3f1343",
   "metadata": {},
   "outputs": [],
   "source": [
    "def aggregate_gene_counts(adata):\n",
    "    \"\"\"\n",
    "    Aggregates raw counts from an AnnData object at the gene level.\n",
    "\n",
    "    Args:\n",
    "        adata: An AnnData object containing gene expression data in a layer named 'raw_counts'.\n",
    "\n",
    "    Returns:\n",
    "        pandas.DataFrame: A DataFrame with gene names as index and summed raw counts as columns.\n",
    "    \"\"\"\n",
    "    # Extract raw counts and transpose for gene-wise analysis\n",
    "    df = adata.to_df(layer='raw_counts').T\n",
    "    \n",
    "    # Reset index to a column named 'gene_name'\n",
    "    df.reset_index(names='gene_name', inplace=True)\n",
    "\n",
    "    # Pre-aggregation info for debugging\n",
    "    print(f\"Initial shape: {df.shape}\")\n",
    "\n",
    "    # Extract base gene names (remove potential suffixes)\n",
    "    df['gene_name'] = df['gene_name'].astype(str).str.split(\".\", n=1, expand=True)[0]  \n",
    "\n",
    "    # Group by gene name and sum counts across all cells\n",
    "    df = df.groupby('gene_name').sum()\n",
    "\n",
    "    # Post-aggregation info\n",
    "    print(f\"Final shape: {df.shape}\")\n",
    "\n",
    "    return df.T\n",
    "\n",
    "df = aggregate_gene_counts(adata)\n",
    "df.head()"
   ]
  },
  {
   "cell_type": "code",
   "execution_count": null,
   "id": "b8311c1a-78f9-4804-9823-5a99e6b5da9b",
   "metadata": {},
   "outputs": [],
   "source": []
  },
  {
   "cell_type": "code",
   "execution_count": null,
   "id": "67b7e185-7f8c-4735-a729-225ddc87adba",
   "metadata": {},
   "outputs": [],
   "source": []
  },
  {
   "cell_type": "code",
   "execution_count": null,
   "id": "160ec7ac-a28e-4bf4-a30a-e1d1a94925d9",
   "metadata": {},
   "outputs": [],
   "source": [
    "df = adata.to_df(layer='raw_counts').T\n",
    "df = df.reset_index(names='gene_name')\n",
    "print(f\"{df.shape=}\")\n",
    "df['gene_name'] = df['gene_name'].apply(lambda x: x.split(\".\")[0])\n",
    "df = df.groupby('gene_name').sum()\n",
    "print(f\"{df.shape=}\")\n",
    "df.head()"
   ]
  },
  {
   "cell_type": "code",
   "execution_count": null,
   "id": "fd51b443-d805-4f92-be7e-2524986ef233",
   "metadata": {},
   "outputs": [],
   "source": [
    "def create_anndata_from_dataframe(df, adata):\n",
    "    \"\"\"\n",
    "    Creates an AnnData object from a pandas DataFrame and incorporates metadata from an existing AnnData object.\n",
    "\n",
    "    Args:\n",
    "        df: A pandas DataFrame where rows are features (e.g., genes) and columns are samples.\n",
    "        adata: An existing AnnData object containing metadata to be transferred (obs and var_names).\n",
    "\n",
    "    Returns:\n",
    "        anndata.AnnData: The newly created AnnData object.\n",
    "    \"\"\"\n",
    "    # Create AnnData from the DataFrame's numerical values\n",
    "    pdf = an.AnnData(df.to_numpy())\n",
    "\n",
    "    # Copy observation metadata (e.g., cell IDs, annotations)\n",
    "    pdf.obs = adata.obs.copy()\n",
    "\n",
    "    # Create variable annotation with Ensembl IDs\n",
    "    pdf.var = pd.DataFrame({'ensembl_id': df.columns})\n",
    "\n",
    "    # Set variable and observation names from the DataFrame\n",
    "    pdf.var_names = df.columns\n",
    "    pdf.obs_names = df.index\n",
    "\n",
    "    return pdf\n",
    "\n",
    "pdf = create_anndata_from_dataframe(df, adata)\n",
    "pdf"
   ]
  },
  {
   "cell_type": "code",
   "execution_count": null,
   "id": "74459f92-f97e-43e1-9503-c73456f416f2",
   "metadata": {},
   "outputs": [],
   "source": [
    "pdf.obs.head()"
   ]
  },
  {
   "cell_type": "code",
   "execution_count": null,
   "id": "ae4e2666-e825-4079-879a-8ba8273042d4",
   "metadata": {},
   "outputs": [],
   "source": []
  },
  {
   "cell_type": "code",
   "execution_count": null,
   "id": "73233d51-ce6f-4fe3-8543-34644a919e1d",
   "metadata": {},
   "outputs": [],
   "source": [
    "pdf = an.AnnData(df.to_numpy())\n",
    "pdf.obs = adata.obs.copy()\n",
    "pdf.var = pd.DataFrame({'ensembl_id' : df.index})\n",
    "pdf.var_names = df.index\n",
    "pdf.obs_names = df.columns\n",
    "\n",
    "pdf\n"
   ]
  },
  {
   "cell_type": "code",
   "execution_count": null,
   "id": "e2f90752-6183-48c6-af1f-d6a6ec6c4465",
   "metadata": {},
   "outputs": [],
   "source": []
  },
  {
   "cell_type": "code",
   "execution_count": null,
   "id": "e9fc1c7d-d97c-42dd-97b2-c3e9651804fb",
   "metadata": {},
   "outputs": [],
   "source": [
    "pdf.var.head()"
   ]
  },
  {
   "cell_type": "code",
   "execution_count": null,
   "id": "64749e76-0e79-4cdc-ac68-f09e5e8339ef",
   "metadata": {},
   "outputs": [],
   "source": [
    "adata.var['']"
   ]
  },
  {
   "cell_type": "code",
   "execution_count": null,
   "id": "a23f494e-34ba-44e5-b00e-2f3d5bc4ec00",
   "metadata": {},
   "outputs": [],
   "source": []
  },
  {
   "cell_type": "code",
   "execution_count": null,
   "id": "19618aa0-3878-43da-a778-2b646970d154",
   "metadata": {},
   "outputs": [],
   "source": [
    "fpath = \"/nfs/turbo/umms-indikar/shared/projects/geneformer/data/rajapakse_lab_data_jpic.h5ad\"\n",
    "\n",
    "adata = sc.read_h5ad(fpath)\n",
    "adata"
   ]
  },
  {
   "cell_type": "code",
   "execution_count": null,
   "id": "05721bfa-6a11-41a8-9045-b6b2dd09f36e",
   "metadata": {},
   "outputs": [],
   "source": [
    "adata.obs"
   ]
  },
  {
   "cell_type": "code",
   "execution_count": null,
   "id": "2f773430-6e29-49f8-8ddf-e667a3abe3af",
   "metadata": {},
   "outputs": [],
   "source": [
    "fpath = \"/scratch/indikar_root/indikar1/cstansbu/HSC/scanpy/clustered.anndata.h5ad\"\n",
    "\n",
    "adata = sc.read_h5ad(fpath)\n",
    "adata"
   ]
  },
  {
   "cell_type": "code",
   "execution_count": null,
   "id": "4126105e-8e16-408d-831f-39b47c663864",
   "metadata": {},
   "outputs": [],
   "source": []
  },
  {
   "cell_type": "code",
   "execution_count": null,
   "id": "c1851daa-d29b-4745-b712-784da82011c8",
   "metadata": {},
   "outputs": [],
   "source": []
  },
  {
   "cell_type": "code",
   "execution_count": null,
   "id": "57fe8340-bb73-4e45-bc7c-9d3d9d3ac3bf",
   "metadata": {},
   "outputs": [],
   "source": []
  },
  {
   "cell_type": "code",
   "execution_count": null,
   "id": "9820ab72-1f7c-4a4d-a47a-8feb94549b5b",
   "metadata": {},
   "outputs": [],
   "source": []
  },
  {
   "cell_type": "code",
   "execution_count": null,
   "id": "ad3cb2d8-b949-4ecb-9dde-c0a696841f9b",
   "metadata": {},
   "outputs": [],
   "source": [
    "adata.obs['celltype'].value_counts()"
   ]
  },
  {
   "cell_type": "code",
   "execution_count": null,
   "id": "3e75e168-ec51-4e8f-abdf-d03128315133",
   "metadata": {},
   "outputs": [],
   "source": [
    "adata.obs[adata.obs['celltype'] == 'FB']['organ_tissue'].value_counts()"
   ]
  },
  {
   "cell_type": "code",
   "execution_count": null,
   "id": "093d0d9c-c271-4609-8440-83ffef6c89b8",
   "metadata": {},
   "outputs": [],
   "source": []
  }
 ],
 "metadata": {
  "kernelspec": {
   "display_name": "scanpy",
   "language": "python",
   "name": "scanpy"
  },
  "language_info": {
   "codemirror_mode": {
    "name": "ipython",
    "version": 3
   },
   "file_extension": ".py",
   "mimetype": "text/x-python",
   "name": "python",
   "nbconvert_exporter": "python",
   "pygments_lexer": "ipython3",
   "version": "3.12.3"
  }
 },
 "nbformat": 4,
 "nbformat_minor": 5
}
