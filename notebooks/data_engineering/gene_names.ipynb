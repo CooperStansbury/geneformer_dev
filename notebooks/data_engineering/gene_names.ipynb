{
 "cells": [
  {
   "cell_type": "code",
   "execution_count": 1,
   "id": "ddebb9e9-4c1b-4649-8481-c8a35c4bd3c8",
   "metadata": {},
   "outputs": [],
   "source": [
    "import pickle\n",
    "import pandas as pd"
   ]
  },
  {
   "cell_type": "code",
   "execution_count": 5,
   "id": "ad9f52d1-ad52-4661-8abc-7c75a32068f3",
   "metadata": {},
   "outputs": [
    {
     "name": "stdout",
     "output_type": "stream",
     "text": [
      "done\n"
     ]
    }
   ],
   "source": [
    "fpath = \"/nfs/turbo/umms-indikar/shared/projects/geneformer/token_mappings.csv\"\n",
    "df = pd.read_csv(fpath, usecols=['gene_name', 'gene_id'])\n",
    "df = df[df['gene_name'].notna()]\n",
    "\n",
    "def save_dict_to_pickle(dictionary, filename):\n",
    "    \"\"\"Saves a Python dictionary to a pickle file.\n",
    "\n",
    "    Args:\n",
    "        dictionary: The dictionary to be saved.\n",
    "        filename: The name of the pickle file (should end in '.pkl').\n",
    "    \"\"\"\n",
    "    with open(filename, 'wb') as file:  # Open in binary write mode ('wb')\n",
    "        pickle.dump(dictionary, file)\n",
    "\n",
    "gene_map = dict(zip(df.gene_name.values, df.gene_id.values))\n",
    "\n",
    "outpath = \"/nfs/turbo/umms-indikar/shared/projects/geneformer/gene_names.pkl\"\n",
    "save_dict_to_pickle(gene_map, outpath)\n",
    "print('done')"
   ]
  },
  {
   "cell_type": "code",
   "execution_count": null,
   "id": "584347cf-7c57-4b7c-bbce-5d1c121e806b",
   "metadata": {},
   "outputs": [],
   "source": []
  }
 ],
 "metadata": {
  "kernelspec": {
   "display_name": "geneformer",
   "language": "python",
   "name": "geneformer"
  },
  "language_info": {
   "codemirror_mode": {
    "name": "ipython",
    "version": 3
   },
   "file_extension": ".py",
   "mimetype": "text/x-python",
   "name": "python",
   "nbconvert_exporter": "python",
   "pygments_lexer": "ipython3",
   "version": "3.10.13"
  }
 },
 "nbformat": 4,
 "nbformat_minor": 5
}
