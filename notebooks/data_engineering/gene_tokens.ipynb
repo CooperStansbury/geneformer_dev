{
 "cells": [
  {
   "cell_type": "code",
   "execution_count": 1,
   "id": "25debe04-0abc-409d-be52-b73337091321",
   "metadata": {},
   "outputs": [],
   "source": [
    "import pandas as pd"
   ]
  },
  {
   "cell_type": "code",
   "execution_count": 2,
   "id": "aca4148b-5777-45a0-b695-05f753c536b8",
   "metadata": {},
   "outputs": [
    {
     "data": {
      "text/html": [
       "<div>\n",
       "<style scoped>\n",
       "    .dataframe tbody tr th:only-of-type {\n",
       "        vertical-align: middle;\n",
       "    }\n",
       "\n",
       "    .dataframe tbody tr th {\n",
       "        vertical-align: top;\n",
       "    }\n",
       "\n",
       "    .dataframe thead th {\n",
       "        text-align: right;\n",
       "    }\n",
       "</style>\n",
       "<table border=\"1\" class=\"dataframe\">\n",
       "  <thead>\n",
       "    <tr style=\"text-align: right;\">\n",
       "      <th></th>\n",
       "      <th>gene_id</th>\n",
       "      <th>token_id</th>\n",
       "      <th>gene_name</th>\n",
       "      <th>nonzero_median</th>\n",
       "      <th>gene_version</th>\n",
       "      <th>gene_biotype</th>\n",
       "      <th>Chromosome</th>\n",
       "      <th>Start</th>\n",
       "      <th>End</th>\n",
       "      <th>scenic_tf</th>\n",
       "    </tr>\n",
       "  </thead>\n",
       "  <tbody>\n",
       "    <tr>\n",
       "      <th>0</th>\n",
       "      <td>&lt;pad&gt;</td>\n",
       "      <td>0</td>\n",
       "      <td>NaN</td>\n",
       "      <td>NaN</td>\n",
       "      <td>NaN</td>\n",
       "      <td>NaN</td>\n",
       "      <td>NaN</td>\n",
       "      <td>NaN</td>\n",
       "      <td>NaN</td>\n",
       "      <td>False</td>\n",
       "    </tr>\n",
       "    <tr>\n",
       "      <th>1</th>\n",
       "      <td>&lt;mask&gt;</td>\n",
       "      <td>1</td>\n",
       "      <td>NaN</td>\n",
       "      <td>NaN</td>\n",
       "      <td>NaN</td>\n",
       "      <td>NaN</td>\n",
       "      <td>NaN</td>\n",
       "      <td>NaN</td>\n",
       "      <td>NaN</td>\n",
       "      <td>False</td>\n",
       "    </tr>\n",
       "    <tr>\n",
       "      <th>2</th>\n",
       "      <td>ENSG00000000003</td>\n",
       "      <td>2</td>\n",
       "      <td>TSPAN6</td>\n",
       "      <td>2.001186</td>\n",
       "      <td>15.0</td>\n",
       "      <td>protein_coding</td>\n",
       "      <td>X</td>\n",
       "      <td>100627107.0</td>\n",
       "      <td>100639991.0</td>\n",
       "      <td>False</td>\n",
       "    </tr>\n",
       "    <tr>\n",
       "      <th>3</th>\n",
       "      <td>ENSG00000000005</td>\n",
       "      <td>3</td>\n",
       "      <td>TNMD</td>\n",
       "      <td>3.228213</td>\n",
       "      <td>6.0</td>\n",
       "      <td>protein_coding</td>\n",
       "      <td>X</td>\n",
       "      <td>100584935.0</td>\n",
       "      <td>100599885.0</td>\n",
       "      <td>False</td>\n",
       "    </tr>\n",
       "    <tr>\n",
       "      <th>4</th>\n",
       "      <td>ENSG00000000419</td>\n",
       "      <td>4</td>\n",
       "      <td>DPM1</td>\n",
       "      <td>2.218874</td>\n",
       "      <td>14.0</td>\n",
       "      <td>protein_coding</td>\n",
       "      <td>20</td>\n",
       "      <td>50934866.0</td>\n",
       "      <td>50959140.0</td>\n",
       "      <td>False</td>\n",
       "    </tr>\n",
       "  </tbody>\n",
       "</table>\n",
       "</div>"
      ],
      "text/plain": [
       "           gene_id  token_id gene_name  nonzero_median  gene_version  \\\n",
       "0            <pad>         0       NaN             NaN           NaN   \n",
       "1           <mask>         1       NaN             NaN           NaN   \n",
       "2  ENSG00000000003         2    TSPAN6        2.001186          15.0   \n",
       "3  ENSG00000000005         3      TNMD        3.228213           6.0   \n",
       "4  ENSG00000000419         4      DPM1        2.218874          14.0   \n",
       "\n",
       "     gene_biotype Chromosome        Start          End  scenic_tf  \n",
       "0             NaN        NaN          NaN          NaN      False  \n",
       "1             NaN        NaN          NaN          NaN      False  \n",
       "2  protein_coding          X  100627107.0  100639991.0      False  \n",
       "3  protein_coding          X  100584935.0  100599885.0      False  \n",
       "4  protein_coding         20   50934866.0   50959140.0      False  "
      ]
     },
     "execution_count": 2,
     "metadata": {},
     "output_type": "execute_result"
    }
   ],
   "source": [
    "fpath = \"/scratch/indikar_root/indikar1/shared_data/geneformer/resources/token_mapping.csv\"\n",
    "\n",
    "df = pd.read_csv(fpath)\n",
    "df.head()"
   ]
  },
  {
   "cell_type": "code",
   "execution_count": 5,
   "id": "378f52ed-218d-461c-8648-09f18b29a503",
   "metadata": {},
   "outputs": [
    {
     "data": {
      "text/plain": [
       "gene_biotype\n",
       "protein_coding                        19111\n",
       "miRNA                                  1802\n",
       "lncRNA                                  262\n",
       "transcribed_unprocessed_pseudogene       48\n",
       "transcribed_unitary_pseudogene           25\n",
       "unprocessed_pseudogene                   15\n",
       "processed_pseudogene                     14\n",
       "transcribed_processed_pseudogene         10\n",
       "misc_RNA                                  6\n",
       "IG_V_gene                                 1\n",
       "TEC                                       1\n",
       "IG_V_pseudogene                           1\n",
       "Name: count, dtype: int64"
      ]
     },
     "execution_count": 5,
     "metadata": {},
     "output_type": "execute_result"
    }
   ],
   "source": [
    "df['gene_biotype'].value_counts()"
   ]
  },
  {
   "cell_type": "code",
   "execution_count": null,
   "id": "fc7f0409-9088-406e-8570-c7d78b470e1e",
   "metadata": {},
   "outputs": [],
   "source": []
  }
 ],
 "metadata": {
  "kernelspec": {
   "display_name": "geneformer",
   "language": "python",
   "name": "geneformer"
  },
  "language_info": {
   "codemirror_mode": {
    "name": "ipython",
    "version": 3
   },
   "file_extension": ".py",
   "mimetype": "text/x-python",
   "name": "python",
   "nbconvert_exporter": "python",
   "pygments_lexer": "ipython3",
   "version": "3.10.13"
  }
 },
 "nbformat": 4,
 "nbformat_minor": 5
}
