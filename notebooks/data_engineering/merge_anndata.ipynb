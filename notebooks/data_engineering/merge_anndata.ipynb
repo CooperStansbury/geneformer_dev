{
 "cells": [
  {
   "cell_type": "code",
   "execution_count": 4,
   "id": "652da1e7-8f2e-4077-a200-55de5d87d498",
   "metadata": {},
   "outputs": [],
   "source": [
    "import sys\n",
    "import os\n",
    "import h5py\n",
    "import pandas as pd\n",
    "import scanpy as sc\n",
    "import anndata as an\n",
    "import glob"
   ]
  },
  {
   "cell_type": "code",
   "execution_count": 3,
   "id": "437cac36-e971-4170-9d4e-b68ad201cc37",
   "metadata": {},
   "outputs": [
    {
     "data": {
      "text/plain": [
       "['/scratch/indikar_root/indikar1/shared_data/geneformer/anndata/TS_Fat.h5ad',\n",
       " '/scratch/indikar_root/indikar1/shared_data/geneformer/anndata/pellin.h5ad',\n",
       " '/scratch/indikar_root/indikar1/shared_data/geneformer/anndata/weng_young1_all_t1.h5ad',\n",
       " '/scratch/indikar_root/indikar1/shared_data/geneformer/anndata/iHSC.h5ad',\n",
       " '/scratch/indikar_root/indikar1/shared_data/geneformer/anndata/TS_Blood.h5ad',\n",
       " '/scratch/indikar_root/indikar1/shared_data/geneformer/anndata/TS_Bone_Marrow.h5ad',\n",
       " '/scratch/indikar_root/indikar1/shared_data/geneformer/anndata/TS_Vasculature.h5ad',\n",
       " '/scratch/indikar_root/indikar1/shared_data/geneformer/anndata/weng_young1_all_t2.h5ad',\n",
       " '/scratch/indikar_root/indikar1/shared_data/geneformer/anndata/weng_old2_BMMC_HSPC.h5ad',\n",
       " '/scratch/indikar_root/indikar1/shared_data/geneformer/anndata/weng_old1_BMMC_HSPC.h5ad',\n",
       " '/scratch/indikar_root/indikar1/shared_data/geneformer/anndata/weng_young2_HSC.h5ad',\n",
       " '/scratch/indikar_root/indikar1/shared_data/geneformer/anndata/weng_young2_all.h5ad']"
      ]
     },
     "execution_count": 3,
     "metadata": {},
     "output_type": "execute_result"
    }
   ],
   "source": [
    "dpath = \"/scratch/indikar_root/indikar1/shared_data/geneformer/anndata/\"\n",
    "file_list = glob.glob(f\"{dpath}/*\")\n",
    "file_list"
   ]
  },
  {
   "cell_type": "code",
   "execution_count": 15,
   "id": "8dc98314-68c5-4637-96c7-48f45aff1e32",
   "metadata": {},
   "outputs": [
    {
     "name": "stdout",
     "output_type": "stream",
     "text": [
      "/scratch/indikar_root/indikar1/shared_data/geneformer/anndata/TS_Blood.h5ad\n",
      "['anatomical_information', 'cell_id', 'cell_ontology_class', 'compartment', 'donor', 'free_annotation', 'gender', 'manually_annotated', 'method', 'n_counts_UMIs', 'n_genes', 'organ_tissue']\n",
      "['ensembl_id', 'gene_name', 'gene_symbol']\n",
      "[]\n",
      "\n",
      "/scratch/indikar_root/indikar1/shared_data/geneformer/anndata/TS_Bone_Marrow.h5ad\n",
      "['anatomical_information', 'cell_id', 'cell_ontology_class', 'compartment', 'donor', 'free_annotation', 'gender', 'manually_annotated', 'method', 'n_counts_UMIs', 'n_genes', 'organ_tissue']\n",
      "['ensembl_id', 'gene_name', 'gene_symbol']\n",
      "[]\n",
      "\n",
      "/scratch/indikar_root/indikar1/shared_data/geneformer/anndata/TS_Fat.h5ad\n",
      "['anatomical_information', 'cell_id', 'cell_ontology_class', 'compartment', 'donor', 'free_annotation', 'gender', 'manually_annotated', 'method', 'n_counts_UMIs', 'n_genes', 'organ_tissue']\n",
      "['ensembl_id', 'gene_name', 'gene_symbol']\n",
      "[]\n",
      "\n",
      "/scratch/indikar_root/indikar1/shared_data/geneformer/anndata/TS_Vasculature.h5ad\n",
      "['anatomical_information', 'cell_id', 'cell_ontology_class', 'compartment', 'donor', 'free_annotation', 'gender', 'manually_annotated', 'method', 'n_counts_UMIs', 'n_genes', 'organ_tissue']\n",
      "['ensembl_id', 'gene_name', 'gene_symbol']\n",
      "[]\n",
      "\n",
      "/scratch/indikar_root/indikar1/shared_data/geneformer/anndata/iHSC.h5ad\n",
      "['cell_id', 'doublet_score', 'n_genes', 'n_genes_by_counts', 'pct_counts_mt', 'predicted_doublet', 'total_counts', 'total_counts_mt']\n",
      "['Chromosome', 'End', 'Start', 'Strand', 'dispersions', 'dispersions_norm', 'ensembl_id', 'gene_id', 'gene_name', 'highly_variable', 'mean_counts', 'means', 'mt', 'n_cells', 'n_cells_by_counts', 'pct_dropout_by_counts', 'total_counts']\n",
      "['filtered_counts', 'raw_counts']\n",
      "\n",
      "/scratch/indikar_root/indikar1/shared_data/geneformer/anndata/pellin.h5ad\n",
      "['Barcode', 'Library', 'cell_id', 'dataset']\n",
      "['gene_name', 'var_name']\n",
      "['raw_counts']\n",
      "\n",
      "/scratch/indikar_root/indikar1/shared_data/geneformer/anndata/weng_old1_BMMC_HSPC.h5ad\n",
      "['ATAC.weight', 'ClonalGroup', 'MitoCoverage', 'Origin.Seurat', 'SCT.weight', 'STD.CellType', 'STD_Cat', 'STD_Cat2', 'Sample', 'Sig.B1', 'Sig.CTL1', 'Sig.EarlyE1', 'Sig.HSC1', 'Sig.LateE1', 'Sig.Mono1', 'Sig.NK1', 'Sig.Plasma1', 'Sig.PreB1', 'Sig.ProB1', 'Sig.ProMono1', 'Sig.Prog1', 'Sig.T1', 'Sig.cDC1', 'Sig.ncMono1', 'Sig.pDC1', '_index', 'nCount_ATAC', 'nCount_RNA', 'nCount_SCT', 'nFeature_ATAC', 'nFeature_RNA', 'nFeature_SCT', 'seurat_clusters', 'wsnn_res.0.8']\n",
      "['_index', 'gene_name', 'name']\n",
      "['raw_counts']\n",
      "\n",
      "/scratch/indikar_root/indikar1/shared_data/geneformer/anndata/weng_old2_BMMC_HSPC.h5ad\n",
      "['ATAC.weight', 'ClonalGroup', 'MitoCoverage', 'Origin.Seurat', 'SCT.weight', 'STD.CellType', 'STD_Cat', 'STD_Cat2', 'Sample', 'Sig.B1', 'Sig.CTL1', 'Sig.EarlyE1', 'Sig.HSC1', 'Sig.LateE1', 'Sig.Mono1', 'Sig.NK1', 'Sig.Plasma1', 'Sig.PreB1', 'Sig.ProB1', 'Sig.ProMono1', 'Sig.Prog1', 'Sig.T1', 'Sig.cDC1', 'Sig.ncMono1', 'Sig.pDC1', '_index', 'nCount_ATAC', 'nCount_RNA', 'nCount_SCT', 'nFeature_ATAC', 'nFeature_RNA', 'nFeature_SCT', 'seurat_clusters', 'wsnn_res.0.8']\n",
      "['_index', 'gene_name', 'name']\n",
      "['raw_counts']\n",
      "\n",
      "/scratch/indikar_root/indikar1/shared_data/geneformer/anndata/weng_young1_all_t1.h5ad\n",
      "['ATAC.weight', 'ClonalGroup', 'ClonalGroup.Prob', 'SCT.weight', 'STD.CellType', 'STD_Cat', 'STD_Cat2', 'Sample', 'Sig.B1', 'Sig.CTL1', 'Sig.EarlyE1', 'Sig.HSC1', 'Sig.LateE1', 'Sig.Mono1', 'Sig.NK1', 'Sig.Plasma1', 'Sig.PreB1', 'Sig.ProB1', 'Sig.ProMono1', 'Sig.Prog1', 'Sig.T1', 'Sig.cDC1', 'Sig.ncMono1', 'Sig.pDC1', '_index', 'meanCov', 'nCount_ATAC', 'nCount_RNA', 'nCount_SCT', 'nFeature_ATAC', 'nFeature_RNA', 'nFeature_SCT', 'seurat_clusters']\n",
      "['_index', 'gene_name', 'name']\n",
      "['raw_counts']\n",
      "\n",
      "/scratch/indikar_root/indikar1/shared_data/geneformer/anndata/weng_young1_all_t2.h5ad\n",
      "['ATAC.weight', 'ClonalGroup', 'ClonalGroup.Prob', 'SCT.weight', 'STD.CellType', 'STD_Cat', 'STD_Cat2', 'Sample', 'Sig.B1', 'Sig.CTL1', 'Sig.EarlyE1', 'Sig.HSC1', 'Sig.LateE1', 'Sig.Mono1', 'Sig.NK1', 'Sig.Plasma1', 'Sig.PreB1', 'Sig.ProB1', 'Sig.ProMono1', 'Sig.Prog1', 'Sig.T1', 'Sig.cDC1', 'Sig.ncMono1', 'Sig.pDC1', '_index', 'meanCov', 'nCount_ATAC', 'nCount_RNA', 'nCount_SCT', 'nFeature_ATAC', 'nFeature_RNA', 'nFeature_SCT', 'seurat_clusters']\n",
      "['_index', 'gene_name', 'name']\n",
      "['raw_counts']\n",
      "\n",
      "/scratch/indikar_root/indikar1/shared_data/geneformer/anndata/weng_young2_HSC.h5ad\n",
      "['ATAC.weight', 'CD34', 'CRHBP', 'ClonalGroup', 'HLF', 'MitoCoverage', 'SCT.weight', 'STD.CellType', 'STD_Cat', 'STD_Cat2', 'Sample', '_index', 'nCount_ATAC', 'nCount_RNA', 'nCount_SCT', 'nFeature_ATAC', 'nFeature_RNA', 'nFeature_SCT', 'seurat_clusters']\n",
      "['_index', 'gene_name', 'name']\n",
      "['raw_counts']\n",
      "\n",
      "/scratch/indikar_root/indikar1/shared_data/geneformer/anndata/weng_young2_all.h5ad\n",
      "['ATAC.weight', 'ClonalGroup', 'ClonalGroup.Prob', 'MitoCoverage', 'SCT.weight', 'STD.CellType', 'STD_Cat', 'STD_Cat2', 'Sample', 'Sig.B1', 'Sig.CTL1', 'Sig.EarlyE1', 'Sig.HSC1', 'Sig.LateE1', 'Sig.Mono1', 'Sig.NK1', 'Sig.Plasma1', 'Sig.PreB1', 'Sig.ProB1', 'Sig.ProMono1', 'Sig.Prog1', 'Sig.T1', 'Sig.cDC1', 'Sig.ncMono1', 'Sig.pDC1', '_index', 'nCount_ATAC', 'nCount_RNA', 'nCount_SCT', 'nFeature_ATAC', 'nFeature_RNA', 'nFeature_SCT', 'seurat_clusters']\n",
      "['_index', 'gene_name', 'name']\n",
      "['raw_counts']\n",
      "\n"
     ]
    }
   ],
   "source": [
    "def get_h5ad_attributes(h5ad_path, attribute_name=\"obs\"):\n",
    "    \"\"\"\n",
    "    Extracts attribute names from a specified field (default: 'obs')\n",
    "    of an h5ad AnnData file, returning them as a list.\n",
    "\n",
    "    Args:\n",
    "        h5ad_path (str): The path to the h5ad file.\n",
    "        attribute_name (str, optional): The field within the h5ad file to extract attributes from (default: 'obs').\n",
    "\n",
    "    Returns:\n",
    "        list: A list of unique attribute names found in the specified field of the h5ad file. \n",
    "              If the specified attribute does not exist in the file, returns an empty list.\n",
    "    \"\"\"\n",
    "    with h5py.File(h5ad_path, mode=\"r\") as store:\n",
    "        if attribute_name not in store:\n",
    "            return []\n",
    "        return list(store[attribute_name].keys())\n",
    "    \n",
    "    \n",
    "for file in sorted(file_list):\n",
    "    print(f\"{file}\")\n",
    "    print(get_h5ad_attributes(file, attribute_name=\"obs\"))\n",
    "    print(get_h5ad_attributes(file, attribute_name=\"var\"))\n",
    "    print(get_h5ad_attributes(file, attribute_name=\"layers\"))\n",
    "    print()\n"
   ]
  },
  {
   "cell_type": "code",
   "execution_count": 23,
   "id": "0ba8e0c8-1044-4aa0-86ce-e6c7424e4cb1",
   "metadata": {},
   "outputs": [
    {
     "data": {
      "text/plain": [
       "AnnData object with n_obs × n_vars = 8574 × 15065\n",
       "    obs: 'n_genes', 'doublet_score', 'predicted_doublet', 'n_genes_by_counts', 'total_counts', 'total_counts_mt', 'pct_counts_mt'\n",
       "    var: 'gene_name', 'Chromosome', 'Start', 'End', 'Strand', 'n_cells', 'mt', 'n_cells_by_counts', 'mean_counts', 'pct_dropout_by_counts', 'total_counts', 'highly_variable', 'means', 'dispersions', 'dispersions_norm', 'ensembl_id'\n",
       "    uns: 'HSC_vs_FB', 'HSC_vs_FB_pure', 'clusters', 'fb_vs_hsc_up', 'go_annotations', 'hsc_v_fib_up', 'hvg', 'log1p', 'neighbors', 'panglaodb', 'pca', 'scenic_transcription_factors', 'scrublet', 'tabula_sapiens_deg', 'umap', 'v5_tags'\n",
       "    obsm: 'X_pca', 'X_umap'\n",
       "    varm: 'PCs'\n",
       "    layers: 'filtered_counts', 'raw_counts'\n",
       "    obsp: 'connectivities', 'distances'"
      ]
     },
     "execution_count": 23,
     "metadata": {},
     "output_type": "execute_result"
    }
   ],
   "source": [
    "fpath = \"/scratch/indikar_root/indikar1/shared_data/geneformer/anndata/iHSC.h5ad\"\n",
    "\n",
    "adata = sc.read_h5ad(fpath)\n",
    "adata"
   ]
  },
  {
   "cell_type": "code",
   "execution_count": null,
   "id": "099695e8-6949-457e-aa6e-4163f84fb229",
   "metadata": {},
   "outputs": [],
   "source": []
  }
 ],
 "metadata": {
  "kernelspec": {
   "display_name": "scanpy",
   "language": "python",
   "name": "scanpy"
  },
  "language_info": {
   "codemirror_mode": {
    "name": "ipython",
    "version": 3
   },
   "file_extension": ".py",
   "mimetype": "text/x-python",
   "name": "python",
   "nbconvert_exporter": "python",
   "pygments_lexer": "ipython3",
   "version": "3.12.3"
  }
 },
 "nbformat": 4,
 "nbformat_minor": 5
}
