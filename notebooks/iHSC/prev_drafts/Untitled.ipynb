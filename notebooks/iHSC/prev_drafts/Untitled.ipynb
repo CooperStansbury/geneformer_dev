{
 "cells": [
  {
   "cell_type": "code",
   "execution_count": 2,
   "id": "cc060b44-cdf1-4e83-a934-6022e6db10ba",
   "metadata": {},
   "outputs": [
    {
     "name": "stdout",
     "output_type": "stream",
     "text": [
      "Checkpoint 1\n"
     ]
    },
    {
     "name": "stderr",
     "output_type": "stream",
     "text": [
      "/home/oliven/miniconda3/envs/geneformer2/lib/python3.10/site-packages/tqdm/auto.py:21: TqdmWarning: IProgress not found. Please update jupyter and ipywidgets. See https://ipywidgets.readthedocs.io/en/stable/user_install.html\n",
      "  from .autonotebook import tqdm as notebook_tqdm\n"
     ]
    },
    {
     "name": "stdout",
     "output_type": "stream",
     "text": [
      "Checkpoint 2\n",
      "Checkpoint 3\n",
      "All done!\n"
     ]
    }
   ],
   "source": [
    "import seaborn as sns\n",
    "import pandas as pd \n",
    "import numpy as np\n",
    "from scipy.spatial.distance import squareform, pdist\n",
    "import matplotlib.pyplot as plt\n",
    "import torch\n",
    "print(\"Checkpoint 1\")\n",
    "import anndata as an\n",
    "import scanpy as sc\n",
    "import umap\n",
    "import gc\n",
    "from importlib import reload\n",
    "print(\"Checkpoint 2\")\n",
    "\n",
    "from datasets import Dataset, load_from_disk\n",
    "from datasets import load_dataset\n",
    "from geneformer import EmbExtractor\n",
    "import geneformer\n",
    "\n",
    "print(\"Checkpoint 3\")\n",
    "\n",
    "# local imports\n",
    "import geneformer_utils as gtu\n",
    "\n",
    "sns.set_style('white')\n",
    "print(\"All done!\")"
   ]
  },
  {
   "cell_type": "code",
   "execution_count": 3,
   "id": "d57e9763-fcd6-4dd7-bc71-a2364f722bf5",
   "metadata": {},
   "outputs": [
    {
     "data": {
      "text/html": [
       "<div>\n",
       "<style scoped>\n",
       "    .dataframe tbody tr th:only-of-type {\n",
       "        vertical-align: middle;\n",
       "    }\n",
       "\n",
       "    .dataframe tbody tr th {\n",
       "        vertical-align: top;\n",
       "    }\n",
       "\n",
       "    .dataframe thead th {\n",
       "        text-align: right;\n",
       "    }\n",
       "</style>\n",
       "<table border=\"1\" class=\"dataframe\">\n",
       "  <thead>\n",
       "    <tr style=\"text-align: right;\">\n",
       "      <th></th>\n",
       "      <th>input_ids</th>\n",
       "      <th>organ_tissue</th>\n",
       "      <th>method</th>\n",
       "      <th>donor</th>\n",
       "      <th>anatomical_information</th>\n",
       "      <th>n_counts_UMIs</th>\n",
       "      <th>n_genes</th>\n",
       "      <th>cell_ontology_class</th>\n",
       "      <th>free_annotation</th>\n",
       "      <th>manually_annotated</th>\n",
       "      <th>compartment</th>\n",
       "      <th>gender</th>\n",
       "      <th>length</th>\n",
       "    </tr>\n",
       "  </thead>\n",
       "  <tbody>\n",
       "    <tr>\n",
       "      <th>0</th>\n",
       "      <td>[16345, 9009, 13048, 6489, 10292, 9508, 12698,...</td>\n",
       "      <td>Vasculature</td>\n",
       "      <td>10X</td>\n",
       "      <td>TSP14</td>\n",
       "      <td>CoronaryArteries</td>\n",
       "      <td>12027.0</td>\n",
       "      <td>3428</td>\n",
       "      <td>fibroblast</td>\n",
       "      <td>fibroblast</td>\n",
       "      <td>True</td>\n",
       "      <td>stromal</td>\n",
       "      <td>male</td>\n",
       "      <td>2048</td>\n",
       "    </tr>\n",
       "    <tr>\n",
       "      <th>1</th>\n",
       "      <td>[12119, 9190, 16876, 3396, 8654, 5298, 4692, 1...</td>\n",
       "      <td>Vasculature</td>\n",
       "      <td>10X</td>\n",
       "      <td>TSP14</td>\n",
       "      <td>CoronaryArteries</td>\n",
       "      <td>5342.0</td>\n",
       "      <td>2010</td>\n",
       "      <td>fibroblast</td>\n",
       "      <td>fibroblast</td>\n",
       "      <td>True</td>\n",
       "      <td>stromal</td>\n",
       "      <td>male</td>\n",
       "      <td>2048</td>\n",
       "    </tr>\n",
       "    <tr>\n",
       "      <th>2</th>\n",
       "      <td>[5511, 11358, 14120, 6128, 2348, 1720, 2411, 2...</td>\n",
       "      <td>Vasculature</td>\n",
       "      <td>10X</td>\n",
       "      <td>TSP2</td>\n",
       "      <td>Aorta</td>\n",
       "      <td>7725.0</td>\n",
       "      <td>2682</td>\n",
       "      <td>macrophage</td>\n",
       "      <td>macrophage</td>\n",
       "      <td>True</td>\n",
       "      <td>immune</td>\n",
       "      <td>female</td>\n",
       "      <td>2048</td>\n",
       "    </tr>\n",
       "    <tr>\n",
       "      <th>3</th>\n",
       "      <td>[2411, 1513, 21227, 14120, 1720, 8981, 2124, 7...</td>\n",
       "      <td>Vasculature</td>\n",
       "      <td>10X</td>\n",
       "      <td>TSP14</td>\n",
       "      <td>AortaVeneCava</td>\n",
       "      <td>13593.0</td>\n",
       "      <td>3679</td>\n",
       "      <td>macrophage</td>\n",
       "      <td>macrophage</td>\n",
       "      <td>True</td>\n",
       "      <td>immune</td>\n",
       "      <td>male</td>\n",
       "      <td>2048</td>\n",
       "    </tr>\n",
       "    <tr>\n",
       "      <th>4</th>\n",
       "      <td>[3878, 9009, 4115, 1950, 376, 16281, 16916, 14...</td>\n",
       "      <td>Vasculature</td>\n",
       "      <td>10X</td>\n",
       "      <td>TSP14</td>\n",
       "      <td>CoronaryArteries</td>\n",
       "      <td>10892.0</td>\n",
       "      <td>3730</td>\n",
       "      <td>fibroblast</td>\n",
       "      <td>fibroblast</td>\n",
       "      <td>True</td>\n",
       "      <td>stromal</td>\n",
       "      <td>male</td>\n",
       "      <td>2048</td>\n",
       "    </tr>\n",
       "  </tbody>\n",
       "</table>\n",
       "</div>"
      ],
      "text/plain": [
       "                                           input_ids organ_tissue method  \\\n",
       "0  [16345, 9009, 13048, 6489, 10292, 9508, 12698,...  Vasculature    10X   \n",
       "1  [12119, 9190, 16876, 3396, 8654, 5298, 4692, 1...  Vasculature    10X   \n",
       "2  [5511, 11358, 14120, 6128, 2348, 1720, 2411, 2...  Vasculature    10X   \n",
       "3  [2411, 1513, 21227, 14120, 1720, 8981, 2124, 7...  Vasculature    10X   \n",
       "4  [3878, 9009, 4115, 1950, 376, 16281, 16916, 14...  Vasculature    10X   \n",
       "\n",
       "   donor anatomical_information  n_counts_UMIs  n_genes cell_ontology_class  \\\n",
       "0  TSP14       CoronaryArteries        12027.0     3428          fibroblast   \n",
       "1  TSP14       CoronaryArteries         5342.0     2010          fibroblast   \n",
       "2   TSP2                  Aorta         7725.0     2682          macrophage   \n",
       "3  TSP14          AortaVeneCava        13593.0     3679          macrophage   \n",
       "4  TSP14       CoronaryArteries        10892.0     3730          fibroblast   \n",
       "\n",
       "  free_annotation  manually_annotated compartment  gender  length  \n",
       "0      fibroblast                True     stromal    male    2048  \n",
       "1      fibroblast                True     stromal    male    2048  \n",
       "2      macrophage                True      immune  female    2048  \n",
       "3      macrophage                True      immune    male    2048  \n",
       "4      fibroblast                True     stromal    male    2048  "
      ]
     },
     "execution_count": 3,
     "metadata": {},
     "output_type": "execute_result"
    }
   ],
   "source": [
    "reload(gtu)\n",
    "torch.cuda.empty_cache()\n",
    "num_cells = 1000\n",
    "\n",
    "\"\"\"Load the model\"\"\"\n",
    "#model_path = \"/nfs/turbo/umms-indikar/shared/projects/geneformer/fine_tuned_models/geneformer-6L-30M_CellClassifier_cardiomyopathies_220224/\"\n",
    "model_path = \"/nfs/turbo/umms-indikar/shared/projects/geneformer/geneformer-12L-30M/\"\n",
    "model = gtu.load_model(model_path)\n",
    "\n",
    "\"\"\"Load the data\"\"\"\n",
    "data_path = \"/scratch/indikar_root/indikar1/shared_data/geneformer/datasets/TS_Vasculature.dataset\"\n",
    "df = gtu.load_data_as_dataframe(data_path, num_cells=num_cells, shuffle=True)\n",
    "df.head()\n"
   ]
  },
  {
   "cell_type": "code",
   "execution_count": 4,
   "id": "a89c7579-04af-4479-9714-cc3e419daaa1",
   "metadata": {},
   "outputs": [
    {
     "name": "stdout",
     "output_type": "stream",
     "text": [
      "done!\n"
     ]
    }
   ],
   "source": [
    "# # convert into arrow dataset\n",
    "# data = Dataset.from_pandas(df)\n",
    "\n",
    "# # useful for later\n",
    "# features = df.columns.to_list()\n",
    "# features.remove(\"input_ids\")\n",
    "\n",
    "# print(f\"{df.shape=}\")\n",
    "# df.head()\n",
    "df[\"cell_ontology_class\"]\n",
    "df[\"free_annotation\"]\n",
    "\n",
    "# just me making sure that cell_ontology_class and free_annotation are equal (they are)\n",
    "#faster way?\n",
    "for index, row in df.loc[:, ['cell_ontology_class', 'free_annotation']].iterrows():\n",
    "    if (row['cell_ontology_class'] != row['free_annotation']):\n",
    "        print(\"unequal\")\n",
    "print(\"done!\")"
   ]
  },
  {
   "cell_type": "code",
   "execution_count": 5,
   "id": "5b84021a-c9ee-4b29-963e-b32da612f1e3",
   "metadata": {},
   "outputs": [
    {
     "name": "stdout",
     "output_type": "stream",
     "text": [
      "                                             input_ids organ_tissue  \\\n",
      "0    [16345, 9009, 13048, 6489, 10292, 9508, 12698,...  Vasculature   \n",
      "1    [12119, 9190, 16876, 3396, 8654, 5298, 4692, 1...  Vasculature   \n",
      "4    [3878, 9009, 4115, 1950, 376, 16281, 16916, 14...  Vasculature   \n",
      "6    [3878, 16916, 18367, 9009, 1950, 12119, 16876,...  Vasculature   \n",
      "7    [6196, 16916, 10920, 11828, 8133, 16166, 8163,...  Vasculature   \n",
      "..                                                 ...          ...   \n",
      "984  [12119, 18367, 16876, 9123, 303, 6541, 10057, ...  Vasculature   \n",
      "985  [376, 3878, 12119, 5592, 15960, 16916, 16281, ...  Vasculature   \n",
      "988  [9009, 12119, 16916, 8658, 16876, 3878, 15960,...  Vasculature   \n",
      "996  [2649, 5592, 2124, 16166, 7414, 376, 454, 220,...  Vasculature   \n",
      "998  [12119, 4840, 15960, 19437, 2649, 6252, 5080, ...  Vasculature   \n",
      "\n",
      "        method  donor anatomical_information  n_counts_UMIs  n_genes  \\\n",
      "0          10X  TSP14       CoronaryArteries        12027.0     3428   \n",
      "1          10X  TSP14       CoronaryArteries         5342.0     2010   \n",
      "4          10X  TSP14       CoronaryArteries        10892.0     3730   \n",
      "6          10X   TSP2                  Aorta        11052.0     2696   \n",
      "7          10X  TSP14       CoronaryArteries        30514.0     5563   \n",
      "..         ...    ...                    ...            ...      ...   \n",
      "984  smartseq2   TSP2                    nan       327008.0     2480   \n",
      "985        10X   TSP2                  Aorta        14329.0     3656   \n",
      "988        10X   TSP2                  Aorta        22357.0     4544   \n",
      "996        10X   TSP2                  Aorta        18005.0     4380   \n",
      "998        10X   TSP2                  Aorta         9198.0     2985   \n",
      "\n",
      "    cell_ontology_class free_annotation  manually_annotated compartment  \\\n",
      "0            fibroblast      fibroblast                True     stromal   \n",
      "1            fibroblast      fibroblast                True     stromal   \n",
      "4            fibroblast      fibroblast                True     stromal   \n",
      "6            fibroblast      fibroblast                True     stromal   \n",
      "7            fibroblast      fibroblast                True     stromal   \n",
      "..                  ...             ...                 ...         ...   \n",
      "984          fibroblast      fibroblast                True     stromal   \n",
      "985          fibroblast      fibroblast                True     stromal   \n",
      "988          fibroblast      fibroblast                True     stromal   \n",
      "996          fibroblast      fibroblast                True     stromal   \n",
      "998          fibroblast      fibroblast                True     stromal   \n",
      "\n",
      "     gender  length  \n",
      "0      male    2048  \n",
      "1      male    2048  \n",
      "4      male    2048  \n",
      "6    female    2048  \n",
      "7      male    2048  \n",
      "..      ...     ...  \n",
      "984  female    2048  \n",
      "985  female    2048  \n",
      "988  female    2048  \n",
      "996  female    2048  \n",
      "998  female    2048  \n",
      "\n",
      "[354 rows x 13 columns]\n"
     ]
    },
    {
     "data": {
      "text/plain": [
       "(354, 13)"
      ]
     },
     "execution_count": 5,
     "metadata": {},
     "output_type": "execute_result"
    }
   ],
   "source": [
    "# Lookin for fibroblast guys to filter and safe that as filtered_df\n",
    "def search_string(s, search):\n",
    "    return search in str(s).lower()\n",
    "\n",
    "mask = df.apply(lambda x: x.map(lambda s: search_string(s, 'fibroblast')))\n",
    "\n",
    "filtered_df = df.loc[mask.any(axis=1)]\n",
    "\n",
    "print(filtered_df)\n",
    "filtered_df.shape\n"
   ]
  },
  {
   "cell_type": "code",
   "execution_count": 6,
   "id": "6977c1fc-c38d-4062-a05d-939b6b20837a",
   "metadata": {},
   "outputs": [
    {
     "name": "stderr",
     "output_type": "stream",
     "text": [
      "Saving the dataset (1/1 shards): 100%|██████████| 354/354 [00:00<00:00, 19503.52 examples/s]\n"
     ]
    }
   ],
   "source": [
    "# convert filtered stuff to df\n",
    "filtered_dataset = Dataset.from_pandas(filtered_df)\n",
    "filtered_dataset.save_to_disk(\"/home/oliven/geneformer_dev/notebooks/ts_output\")\n",
    "loaded_dataset = Dataset.load_from_disk(\"/home/oliven/geneformer_dev/notebooks/ts_output\")"
   ]
  },
  {
   "cell_type": "code",
   "execution_count": 8,
   "id": "b70362b7-871b-4726-a611-ddfb9293c639",
   "metadata": {},
   "outputs": [
    {
     "name": "stderr",
     "output_type": "stream",
     "text": [
      "100%|██████████| 36/36 [00:15<00:00,  2.37it/s]\n"
     ]
    }
   ],
   "source": [
    "# Extract the embedding\n",
    "mem_embs = gtu.extract_embedding_in_mem(model, loaded_dataset)\n",
    "#embs.head()\n",
    "mem_embs.shape\n",
    "# 354 x 512 is promising that the filtering was done right\n",
    "# i checked and it's a df\n",
    "\n",
    "# save to ts_output folder\n",
    "mem_embs.to_csv('/home/oliven/geneformer_dev/notebooks/ts_output/mem_embs.csv')\n"
   ]
  },
  {
   "cell_type": "code",
   "execution_count": 1,
   "id": "bbcb9a8c-c39b-4270-98cd-a4527407540b",
   "metadata": {
    "scrolled": true
   },
   "outputs": [
    {
     "ename": "NameError",
     "evalue": "name 'gtu' is not defined",
     "output_type": "error",
     "traceback": [
      "\u001b[0;31m---------------------------------------------------------------------------\u001b[0m",
      "\u001b[0;31mNameError\u001b[0m                                 Traceback (most recent call last)",
      "Cell \u001b[0;32mIn[1], line 1\u001b[0m\n\u001b[0;32m----> 1\u001b[0m adata \u001b[38;5;241m=\u001b[39m \u001b[43mgtu\u001b[49m\u001b[38;5;241m.\u001b[39membedding_to_adata(mem_embs)\n\u001b[1;32m      2\u001b[0m adata\u001b[38;5;241m.\u001b[39mobs \u001b[38;5;241m=\u001b[39m loaded_dataset\u001b[38;5;241m.\u001b[39mto_pandas()\u001b[38;5;241m.\u001b[39mcopy()\n\u001b[1;32m      3\u001b[0m adata\n",
      "\u001b[0;31mNameError\u001b[0m: name 'gtu' is not defined"
     ]
    }
   ],
   "source": [
    "# takes embeddings into anndata, puts metadata into obs\n",
    "adata = gtu.embedding_to_adata(mem_embs)\n",
    "adata.obs = loaded_dataset.to_pandas().copy()\n",
    "adata"
   ]
  },
  {
   "cell_type": "code",
   "execution_count": 9,
   "id": "688d2284-1526-4da3-bdbc-af75a6c9b5de",
   "metadata": {
    "jupyter": {
     "source_hidden": true
    },
    "scrolled": true
   },
   "outputs": [
    {
     "name": "stderr",
     "output_type": "stream",
     "text": [
      "Label compartment from labels_to_plot not present in provided embeddings dataframe.\n",
      "Label gender from labels_to_plot not present in provided embeddings dataframe.\n"
     ]
    }
   ],
   "source": [
    "# initiate EmbExtractor but dont actually get the embeddings just use the ones you already have\n",
    "membex = EmbExtractor(model_type=\"CellClassifier\",\n",
    "                     num_classes=3,\n",
    "\n",
    "                     max_ncells=1000,\n",
    "                     emb_layer=-1,\n",
    "                     emb_label=[\"compartment\",\"gender\"],\n",
    "                     labels_to_plot=[\"compartment\", \"gender\"],\n",
    "                     forward_batch_size=30,\n",
    "                     nproc=4)\n",
    "membex.plot_embs(embs=mem_embs, \n",
    "                plot_style=\"umap\",\n",
    "                output_directory='/home/oliven/geneformer_dev/notebooks/ts_output/',  \n",
    "                output_prefix=\"mem_emb_plot\")\n",
    "\n",
    "#                      filter_data={\"cell_type\":[\"Cardiomyocyte1\",\"Cardiomyocyte2\",\"Cardiomyocyte3\"]},"
   ]
  },
  {
   "cell_type": "code",
   "execution_count": null,
   "id": "6f102f4c-2f21-4985-88a2-2d6092b756d2",
   "metadata": {
    "jupyter": {
     "source_hidden": true
    }
   },
   "outputs": [],
   "source": [
    "# alternative way to extract the embedding\n",
    "\n",
    "# # model = \"/nfs/turbo/umms-indikar/shared/projects/geneformer/fine_tuned_models/geneformer-6L-30M_CellClassifier_cardiomyopathies_220224/\"\n",
    "# model = \"/nfs/turbo/umms-indikar/shared/projects/geneformer/geneformer-12L-30M/\"\n",
    "# # data_path = \"/nfs/turbo/umms-indikar/shared/projects/geneformer/data/rajapakse_lab_data.dataset\"\n",
    "# # data_path = \"/nfs/turbo/umms-indikar/shared/projects/geneformer/data/tabula_sapiens_muscle.dataset\"\n",
    "# data_path = \"/scratch/indikar_root/indikar1/shared_data/geneformer/datasets/TS_Vasculature.dataset\"\n",
    "# outpath = \"/home/oliven/geneformer_dev/notebooks/ts_output/\"\n",
    "\n",
    "\n",
    "# torch.cuda.empty_cache()\n",
    "\n",
    "# n_cells = 1000\n",
    "# # 0 for last layer, -1 for second to last\n",
    "# layer = -1\n",
    "\n",
    "# # initiate EmbExtractor\n",
    "# embex = EmbExtractor(model_type=\"Pretrained\",\n",
    "#                      num_classes=0,\n",
    "#                      max_ncells=n_cells,\n",
    "#                      emb_mode='cell',\n",
    "#                      emb_layer=layer,\n",
    "#                      emb_label=[\"cell_type\",],\n",
    "#                      forward_batch_size=30,\n",
    "#                      nproc=16,\n",
    "#                       )\n",
    "\n",
    "# # # extracts embedding from input data\n",
    "# # embs = embex.extract_embs(model,\n",
    "# #                           data_path,\n",
    "# #                           outpath,\n",
    "# #                           \"test\")\n",
    "\n",
    "# embs.head()"
   ]
  },
  {
   "cell_type": "code",
   "execution_count": 10,
   "id": "d5acfef4-53ab-42a4-94e7-635b5828f318",
   "metadata": {},
   "outputs": [
    {
     "name": "stderr",
     "output_type": "stream",
     "text": [
      "/tmp/ipykernel_290376/1513053456.py:21: UserWarning: No data for colormapping provided via 'c'. Parameters 'cmap' will be ignored\n",
      "  plt.scatter(embedding[:, 0], embedding[:, 1], s=5, cmap='Spectral')\n"
     ]
    },
    {
     "data": {
      "image/png": "[encoded data removed]",
      "text/plain": [
       "<Figure size 1000x800 with 1 Axes>"
      ]
     },
     "metadata": {},
     "output_type": "display_data"
    }
   ],
   "source": [
    "#newer\n",
    "import pandas as pd\n",
    "import umap\n",
    "import matplotlib.pyplot as plt\n",
    "\n",
    "# Load the CSV file\n",
    "file_path = '/home/oliven/geneformer_dev/notebooks/ts_output/mem_embs.csv'  # Update this path to the location of your file\n",
    "data = pd.read_csv(file_path)\n",
    "\n",
    "# Drop the unnamed index column\n",
    "data_vectors = data.drop(columns=['Unnamed: 0'])\n",
    "\n",
    "# Create a UMAP reducer object\n",
    "reducer = umap.UMAP()\n",
    "\n",
    "# Fit and transform the data\n",
    "embedding = reducer.fit_transform(data_vectors)\n",
    "\n",
    "# Plotting the UMAP results\n",
    "plt.figure(figsize=(10, 8))\n",
    "plt.scatter(embedding[:, 0], embedding[:, 1], s=5, cmap='Spectral')\n",
    "plt.title('UMAP Projection of Vectors')\n",
    "plt.xlabel('UMAP1')\n",
    "plt.ylabel('UMAP2')\n",
    "plt.show()\n",
    "\n",
    "\n",
    "\n",
    "#this is all fine and dandy but i don't have any of the metadata that was in the original file I extracted this from.  what's the best way to do this?"
   ]
  },
  {
   "cell_type": "code",
   "execution_count": 1,
   "id": "09dce03d-573a-4fb2-8caa-a97d4ed2c552",
   "metadata": {},
   "outputs": [
    {
     "ename": "KeyboardInterrupt",
     "evalue": "",
     "output_type": "error",
     "traceback": [
      "\u001b[0;31m---------------------------------------------------------------------------\u001b[0m",
      "\u001b[0;31mKeyboardInterrupt\u001b[0m                         Traceback (most recent call last)",
      "Cell \u001b[0;32mIn[1], line 2\u001b[0m\n\u001b[1;32m      1\u001b[0m \u001b[38;5;28;01mimport\u001b[39;00m \u001b[38;5;21;01mpandas\u001b[39;00m \u001b[38;5;28;01mas\u001b[39;00m \u001b[38;5;21;01mpd\u001b[39;00m\n\u001b[0;32m----> 2\u001b[0m \u001b[38;5;28;01mimport\u001b[39;00m \u001b[38;5;21;01mumap\u001b[39;00m\n\u001b[1;32m      3\u001b[0m \u001b[38;5;28;01mimport\u001b[39;00m \u001b[38;5;21;01mmatplotlib\u001b[39;00m\u001b[38;5;21;01m.\u001b[39;00m\u001b[38;5;21;01mpyplot\u001b[39;00m \u001b[38;5;28;01mas\u001b[39;00m \u001b[38;5;21;01mplt\u001b[39;00m\n\u001b[1;32m      6\u001b[0m \u001b[38;5;66;03m# Initialize UMAP with 2 components\u001b[39;00m\n",
      "File \u001b[0;32m~/miniconda3/envs/geneformer2/lib/python3.10/site-packages/umap/__init__.py:2\u001b[0m\n\u001b[1;32m      1\u001b[0m \u001b[38;5;28;01mfrom\u001b[39;00m \u001b[38;5;21;01mwarnings\u001b[39;00m \u001b[38;5;28;01mimport\u001b[39;00m warn, catch_warnings, simplefilter\n\u001b[0;32m----> 2\u001b[0m \u001b[38;5;28;01mfrom\u001b[39;00m \u001b[38;5;21;01m.\u001b[39;00m\u001b[38;5;21;01mumap_\u001b[39;00m \u001b[38;5;28;01mimport\u001b[39;00m UMAP\n\u001b[1;32m      4\u001b[0m \u001b[38;5;28;01mtry\u001b[39;00m:\n\u001b[1;32m      5\u001b[0m     \u001b[38;5;28;01mwith\u001b[39;00m catch_warnings():\n",
      "File \u001b[0;32m~/miniconda3/envs/geneformer2/lib/python3.10/site-packages/umap/umap_.py:11\u001b[0m\n\u001b[1;32m      8\u001b[0m \u001b[38;5;28;01mimport\u001b[39;00m \u001b[38;5;21;01mtime\u001b[39;00m\n\u001b[1;32m     10\u001b[0m \u001b[38;5;28;01mfrom\u001b[39;00m \u001b[38;5;21;01mscipy\u001b[39;00m\u001b[38;5;21;01m.\u001b[39;00m\u001b[38;5;21;01moptimize\u001b[39;00m \u001b[38;5;28;01mimport\u001b[39;00m curve_fit\n\u001b[0;32m---> 11\u001b[0m \u001b[38;5;28;01mfrom\u001b[39;00m \u001b[38;5;21;01msklearn\u001b[39;00m\u001b[38;5;21;01m.\u001b[39;00m\u001b[38;5;21;01mbase\u001b[39;00m \u001b[38;5;28;01mimport\u001b[39;00m BaseEstimator\n\u001b[1;32m     12\u001b[0m \u001b[38;5;28;01mfrom\u001b[39;00m \u001b[38;5;21;01msklearn\u001b[39;00m\u001b[38;5;21;01m.\u001b[39;00m\u001b[38;5;21;01mutils\u001b[39;00m \u001b[38;5;28;01mimport\u001b[39;00m check_random_state, check_array\n\u001b[1;32m     13\u001b[0m \u001b[38;5;28;01mfrom\u001b[39;00m \u001b[38;5;21;01msklearn\u001b[39;00m\u001b[38;5;21;01m.\u001b[39;00m\u001b[38;5;21;01mutils\u001b[39;00m\u001b[38;5;21;01m.\u001b[39;00m\u001b[38;5;21;01mvalidation\u001b[39;00m \u001b[38;5;28;01mimport\u001b[39;00m check_is_fitted\n",
      "File \u001b[0;32m~/miniconda3/envs/geneformer2/lib/python3.10/site-packages/sklearn/__init__.py:96\u001b[0m\n\u001b[1;32m     85\u001b[0m \u001b[38;5;66;03m# `_distributor_init` allows distributors to run custom init code.\u001b[39;00m\n\u001b[1;32m     86\u001b[0m \u001b[38;5;66;03m# For instance, for the Windows wheel, this is used to pre-load the\u001b[39;00m\n\u001b[1;32m     87\u001b[0m \u001b[38;5;66;03m# vcomp shared library runtime for OpenMP embedded in the sklearn/.libs\u001b[39;00m\n\u001b[0;32m   (...)\u001b[0m\n\u001b[1;32m     90\u001b[0m \u001b[38;5;66;03m# later is linked to the OpenMP runtime to make it possible to introspect\u001b[39;00m\n\u001b[1;32m     91\u001b[0m \u001b[38;5;66;03m# it and importing it first would fail if the OpenMP dll cannot be found.\u001b[39;00m\n\u001b[1;32m     92\u001b[0m \u001b[38;5;28;01mfrom\u001b[39;00m \u001b[38;5;21;01m.\u001b[39;00m \u001b[38;5;28;01mimport\u001b[39;00m (\n\u001b[1;32m     93\u001b[0m     __check_build,  \u001b[38;5;66;03m# noqa: F401\u001b[39;00m\n\u001b[1;32m     94\u001b[0m     _distributor_init,  \u001b[38;5;66;03m# noqa: F401\u001b[39;00m\n\u001b[1;32m     95\u001b[0m )\n\u001b[0;32m---> 96\u001b[0m \u001b[38;5;28;01mfrom\u001b[39;00m \u001b[38;5;21;01m.\u001b[39;00m\u001b[38;5;21;01mbase\u001b[39;00m \u001b[38;5;28;01mimport\u001b[39;00m clone\n\u001b[1;32m     97\u001b[0m \u001b[38;5;28;01mfrom\u001b[39;00m \u001b[38;5;21;01m.\u001b[39;00m\u001b[38;5;21;01mutils\u001b[39;00m\u001b[38;5;21;01m.\u001b[39;00m\u001b[38;5;21;01m_show_versions\u001b[39;00m \u001b[38;5;28;01mimport\u001b[39;00m show_versions\n\u001b[1;32m     99\u001b[0m __all__ \u001b[38;5;241m=\u001b[39m [\n\u001b[1;32m    100\u001b[0m     \u001b[38;5;124m\"\u001b[39m\u001b[38;5;124mcalibration\u001b[39m\u001b[38;5;124m\"\u001b[39m,\n\u001b[1;32m    101\u001b[0m     \u001b[38;5;124m\"\u001b[39m\u001b[38;5;124mcluster\u001b[39m\u001b[38;5;124m\"\u001b[39m,\n\u001b[0;32m   (...)\u001b[0m\n\u001b[1;32m    142\u001b[0m     \u001b[38;5;124m\"\u001b[39m\u001b[38;5;124mshow_versions\u001b[39m\u001b[38;5;124m\"\u001b[39m,\n\u001b[1;32m    143\u001b[0m ]\n",
      "File \u001b[0;32m~/miniconda3/envs/geneformer2/lib/python3.10/site-packages/sklearn/base.py:19\u001b[0m\n\u001b[1;32m     17\u001b[0m \u001b[38;5;28;01mfrom\u001b[39;00m \u001b[38;5;21;01m.\u001b[39;00m\u001b[38;5;21;01m_config\u001b[39;00m \u001b[38;5;28;01mimport\u001b[39;00m config_context, get_config\n\u001b[1;32m     18\u001b[0m \u001b[38;5;28;01mfrom\u001b[39;00m \u001b[38;5;21;01m.\u001b[39;00m\u001b[38;5;21;01mexceptions\u001b[39;00m \u001b[38;5;28;01mimport\u001b[39;00m InconsistentVersionWarning\n\u001b[0;32m---> 19\u001b[0m \u001b[38;5;28;01mfrom\u001b[39;00m \u001b[38;5;21;01m.\u001b[39;00m\u001b[38;5;21;01mutils\u001b[39;00m\u001b[38;5;21;01m.\u001b[39;00m\u001b[38;5;21;01m_estimator_html_repr\u001b[39;00m \u001b[38;5;28;01mimport\u001b[39;00m _HTMLDocumentationLinkMixin, estimator_html_repr\n\u001b[1;32m     20\u001b[0m \u001b[38;5;28;01mfrom\u001b[39;00m \u001b[38;5;21;01m.\u001b[39;00m\u001b[38;5;21;01mutils\u001b[39;00m\u001b[38;5;21;01m.\u001b[39;00m\u001b[38;5;21;01m_metadata_requests\u001b[39;00m \u001b[38;5;28;01mimport\u001b[39;00m _MetadataRequester, _routing_enabled\n\u001b[1;32m     21\u001b[0m \u001b[38;5;28;01mfrom\u001b[39;00m \u001b[38;5;21;01m.\u001b[39;00m\u001b[38;5;21;01mutils\u001b[39;00m\u001b[38;5;21;01m.\u001b[39;00m\u001b[38;5;21;01m_param_validation\u001b[39;00m \u001b[38;5;28;01mimport\u001b[39;00m validate_parameter_constraints\n",
      "File \u001b[0;32m~/miniconda3/envs/geneformer2/lib/python3.10/site-packages/sklearn/utils/__init__.py:13\u001b[0m\n\u001b[1;32m     11\u001b[0m \u001b[38;5;28;01mfrom\u001b[39;00m \u001b[38;5;21;01m.\u001b[39;00m \u001b[38;5;28;01mimport\u001b[39;00m _joblib, metadata_routing\n\u001b[1;32m     12\u001b[0m \u001b[38;5;28;01mfrom\u001b[39;00m \u001b[38;5;21;01m.\u001b[39;00m\u001b[38;5;21;01m_bunch\u001b[39;00m \u001b[38;5;28;01mimport\u001b[39;00m Bunch\n\u001b[0;32m---> 13\u001b[0m \u001b[38;5;28;01mfrom\u001b[39;00m \u001b[38;5;21;01m.\u001b[39;00m\u001b[38;5;21;01m_chunking\u001b[39;00m \u001b[38;5;28;01mimport\u001b[39;00m gen_batches, gen_even_slices\n\u001b[1;32m     14\u001b[0m \u001b[38;5;28;01mfrom\u001b[39;00m \u001b[38;5;21;01m.\u001b[39;00m\u001b[38;5;21;01m_estimator_html_repr\u001b[39;00m \u001b[38;5;28;01mimport\u001b[39;00m estimator_html_repr\n\u001b[1;32m     16\u001b[0m \u001b[38;5;66;03m# Make _safe_indexing importable from here for backward compat as this particular\u001b[39;00m\n\u001b[1;32m     17\u001b[0m \u001b[38;5;66;03m# helper is considered semi-private and typically very useful for third-party\u001b[39;00m\n\u001b[1;32m     18\u001b[0m \u001b[38;5;66;03m# libraries that want to comply with scikit-learn's estimator API. In particular,\u001b[39;00m\n\u001b[1;32m     19\u001b[0m \u001b[38;5;66;03m# _safe_indexing was included in our public API documentation despite the leading\u001b[39;00m\n\u001b[1;32m     20\u001b[0m \u001b[38;5;66;03m# `_` in its name.\u001b[39;00m\n",
      "File \u001b[0;32m~/miniconda3/envs/geneformer2/lib/python3.10/site-packages/sklearn/utils/_chunking.py:8\u001b[0m\n\u001b[1;32m      5\u001b[0m \u001b[38;5;28;01mimport\u001b[39;00m \u001b[38;5;21;01mnumpy\u001b[39;00m \u001b[38;5;28;01mas\u001b[39;00m \u001b[38;5;21;01mnp\u001b[39;00m\n\u001b[1;32m      7\u001b[0m \u001b[38;5;28;01mfrom\u001b[39;00m \u001b[38;5;21;01m.\u001b[39;00m\u001b[38;5;21;01m.\u001b[39;00m\u001b[38;5;21;01m_config\u001b[39;00m \u001b[38;5;28;01mimport\u001b[39;00m get_config\n\u001b[0;32m----> 8\u001b[0m \u001b[38;5;28;01mfrom\u001b[39;00m \u001b[38;5;21;01m.\u001b[39;00m\u001b[38;5;21;01m_param_validation\u001b[39;00m \u001b[38;5;28;01mimport\u001b[39;00m Interval, validate_params\n\u001b[1;32m     11\u001b[0m \u001b[38;5;28;01mdef\u001b[39;00m \u001b[38;5;21mchunk_generator\u001b[39m(gen, chunksize):\n\u001b[1;32m     12\u001b[0m \u001b[38;5;250m    \u001b[39m\u001b[38;5;124;03m\"\"\"Chunk generator, ``gen`` into lists of length ``chunksize``. The last\u001b[39;00m\n\u001b[1;32m     13\u001b[0m \u001b[38;5;124;03m    chunk may have a length less than ``chunksize``.\"\"\"\u001b[39;00m\n",
      "File \u001b[0;32m~/miniconda3/envs/geneformer2/lib/python3.10/site-packages/sklearn/utils/_param_validation.py:14\u001b[0m\n\u001b[1;32m     11\u001b[0m \u001b[38;5;28;01mfrom\u001b[39;00m \u001b[38;5;21;01mscipy\u001b[39;00m\u001b[38;5;21;01m.\u001b[39;00m\u001b[38;5;21;01msparse\u001b[39;00m \u001b[38;5;28;01mimport\u001b[39;00m csr_matrix, issparse\n\u001b[1;32m     13\u001b[0m \u001b[38;5;28;01mfrom\u001b[39;00m \u001b[38;5;21;01m.\u001b[39;00m\u001b[38;5;21;01m.\u001b[39;00m\u001b[38;5;21;01m_config\u001b[39;00m \u001b[38;5;28;01mimport\u001b[39;00m config_context, get_config\n\u001b[0;32m---> 14\u001b[0m \u001b[38;5;28;01mfrom\u001b[39;00m \u001b[38;5;21;01m.\u001b[39;00m\u001b[38;5;21;01mvalidation\u001b[39;00m \u001b[38;5;28;01mimport\u001b[39;00m _is_arraylike_not_scalar\n\u001b[1;32m     17\u001b[0m \u001b[38;5;28;01mclass\u001b[39;00m \u001b[38;5;21;01mInvalidParameterError\u001b[39;00m(\u001b[38;5;167;01mValueError\u001b[39;00m, \u001b[38;5;167;01mTypeError\u001b[39;00m):\n\u001b[1;32m     18\u001b[0m \u001b[38;5;250m    \u001b[39m\u001b[38;5;124;03m\"\"\"Custom exception to be raised when the parameter of a class/method/function\u001b[39;00m\n\u001b[1;32m     19\u001b[0m \u001b[38;5;124;03m    does not have a valid type or value.\u001b[39;00m\n\u001b[1;32m     20\u001b[0m \u001b[38;5;124;03m    \"\"\"\u001b[39;00m\n",
      "File \u001b[0;32m~/miniconda3/envs/geneformer2/lib/python3.10/site-packages/sklearn/utils/validation.py:29\u001b[0m\n\u001b[1;32m     27\u001b[0m \u001b[38;5;28;01mfrom\u001b[39;00m \u001b[38;5;21;01m.\u001b[39;00m\u001b[38;5;21;01m.\u001b[39;00m \u001b[38;5;28;01mimport\u001b[39;00m get_config \u001b[38;5;28;01mas\u001b[39;00m _get_config\n\u001b[1;32m     28\u001b[0m \u001b[38;5;28;01mfrom\u001b[39;00m \u001b[38;5;21;01m.\u001b[39;00m\u001b[38;5;21;01m.\u001b[39;00m\u001b[38;5;21;01mexceptions\u001b[39;00m \u001b[38;5;28;01mimport\u001b[39;00m DataConversionWarning, NotFittedError, PositiveSpectrumWarning\n\u001b[0;32m---> 29\u001b[0m \u001b[38;5;28;01mfrom\u001b[39;00m \u001b[38;5;21;01m.\u001b[39;00m\u001b[38;5;21;01m.\u001b[39;00m\u001b[38;5;21;01mutils\u001b[39;00m\u001b[38;5;21;01m.\u001b[39;00m\u001b[38;5;21;01m_array_api\u001b[39;00m \u001b[38;5;28;01mimport\u001b[39;00m _asarray_with_order, _is_numpy_namespace, get_namespace\n\u001b[1;32m     30\u001b[0m \u001b[38;5;28;01mfrom\u001b[39;00m \u001b[38;5;21;01m.\u001b[39;00m\u001b[38;5;21;01m.\u001b[39;00m\u001b[38;5;21;01mutils\u001b[39;00m\u001b[38;5;21;01m.\u001b[39;00m\u001b[38;5;21;01mfixes\u001b[39;00m \u001b[38;5;28;01mimport\u001b[39;00m ComplexWarning, _preserve_dia_indices_dtype\n\u001b[1;32m     31\u001b[0m \u001b[38;5;28;01mfrom\u001b[39;00m \u001b[38;5;21;01m.\u001b[39;00m\u001b[38;5;21;01m_isfinite\u001b[39;00m \u001b[38;5;28;01mimport\u001b[39;00m FiniteStatus, cy_isfinite\n",
      "File \u001b[0;32m~/miniconda3/envs/geneformer2/lib/python3.10/site-packages/sklearn/utils/_array_api.py:11\u001b[0m\n\u001b[1;32m      8\u001b[0m \u001b[38;5;28;01mimport\u001b[39;00m \u001b[38;5;21;01mscipy\u001b[39;00m\u001b[38;5;21;01m.\u001b[39;00m\u001b[38;5;21;01mspecial\u001b[39;00m \u001b[38;5;28;01mas\u001b[39;00m \u001b[38;5;21;01mspecial\u001b[39;00m\n\u001b[1;32m     10\u001b[0m \u001b[38;5;28;01mfrom\u001b[39;00m \u001b[38;5;21;01m.\u001b[39;00m\u001b[38;5;21;01m.\u001b[39;00m\u001b[38;5;21;01m_config\u001b[39;00m \u001b[38;5;28;01mimport\u001b[39;00m get_config\n\u001b[0;32m---> 11\u001b[0m \u001b[38;5;28;01mfrom\u001b[39;00m \u001b[38;5;21;01m.\u001b[39;00m\u001b[38;5;21;01mfixes\u001b[39;00m \u001b[38;5;28;01mimport\u001b[39;00m parse_version\n\u001b[1;32m     13\u001b[0m _NUMPY_NAMESPACE_NAMES \u001b[38;5;241m=\u001b[39m {\u001b[38;5;124m\"\u001b[39m\u001b[38;5;124mnumpy\u001b[39m\u001b[38;5;124m\"\u001b[39m, \u001b[38;5;124m\"\u001b[39m\u001b[38;5;124marray_api_compat.numpy\u001b[39m\u001b[38;5;124m\"\u001b[39m}\n\u001b[1;32m     16\u001b[0m \u001b[38;5;28;01mdef\u001b[39;00m \u001b[38;5;21myield_namespaces\u001b[39m(include_numpy_namespaces\u001b[38;5;241m=\u001b[39m\u001b[38;5;28;01mTrue\u001b[39;00m):\n",
      "File \u001b[0;32m~/miniconda3/envs/geneformer2/lib/python3.10/site-packages/sklearn/utils/fixes.py:20\u001b[0m\n\u001b[1;32m     18\u001b[0m \u001b[38;5;28;01mimport\u001b[39;00m \u001b[38;5;21;01mscipy\u001b[39;00m\n\u001b[1;32m     19\u001b[0m \u001b[38;5;28;01mimport\u001b[39;00m \u001b[38;5;21;01mscipy\u001b[39;00m\u001b[38;5;21;01m.\u001b[39;00m\u001b[38;5;21;01msparse\u001b[39;00m\u001b[38;5;21;01m.\u001b[39;00m\u001b[38;5;21;01mlinalg\u001b[39;00m\n\u001b[0;32m---> 20\u001b[0m \u001b[38;5;28;01mimport\u001b[39;00m \u001b[38;5;21;01mscipy\u001b[39;00m\u001b[38;5;21;01m.\u001b[39;00m\u001b[38;5;21;01mstats\u001b[39;00m\n\u001b[1;32m     22\u001b[0m \u001b[38;5;28;01mimport\u001b[39;00m \u001b[38;5;21;01msklearn\u001b[39;00m\n\u001b[1;32m     24\u001b[0m \u001b[38;5;28;01mfrom\u001b[39;00m \u001b[38;5;21;01m.\u001b[39;00m\u001b[38;5;21;01m.\u001b[39;00m\u001b[38;5;21;01mexternals\u001b[39;00m\u001b[38;5;21;01m.\u001b[39;00m\u001b[38;5;21;01m_packaging\u001b[39;00m\u001b[38;5;21;01m.\u001b[39;00m\u001b[38;5;21;01mversion\u001b[39;00m \u001b[38;5;28;01mimport\u001b[39;00m parse \u001b[38;5;28;01mas\u001b[39;00m parse_version\n",
      "File \u001b[0;32m~/miniconda3/envs/geneformer2/lib/python3.10/site-packages/scipy/stats/__init__.py:610\u001b[0m\n\u001b[1;32m      1\u001b[0m \u001b[38;5;124;03m\"\"\"\u001b[39;00m\n\u001b[1;32m      2\u001b[0m \u001b[38;5;124;03m.. _statsrefmanual:\u001b[39;00m\n\u001b[1;32m      3\u001b[0m \n\u001b[0;32m   (...)\u001b[0m\n\u001b[1;32m    605\u001b[0m \n\u001b[1;32m    606\u001b[0m \u001b[38;5;124;03m\"\"\"\u001b[39;00m  \u001b[38;5;66;03m# noqa: E501\u001b[39;00m\n\u001b[1;32m    608\u001b[0m \u001b[38;5;28;01mfrom\u001b[39;00m \u001b[38;5;21;01m.\u001b[39;00m\u001b[38;5;21;01m_warnings_errors\u001b[39;00m \u001b[38;5;28;01mimport\u001b[39;00m (ConstantInputWarning, NearConstantInputWarning,\n\u001b[1;32m    609\u001b[0m                                DegenerateDataWarning, FitError)\n\u001b[0;32m--> 610\u001b[0m \u001b[38;5;28;01mfrom\u001b[39;00m \u001b[38;5;21;01m.\u001b[39;00m\u001b[38;5;21;01m_stats_py\u001b[39;00m \u001b[38;5;28;01mimport\u001b[39;00m \u001b[38;5;241m*\u001b[39m\n\u001b[1;32m    611\u001b[0m \u001b[38;5;28;01mfrom\u001b[39;00m \u001b[38;5;21;01m.\u001b[39;00m\u001b[38;5;21;01m_variation\u001b[39;00m \u001b[38;5;28;01mimport\u001b[39;00m variation\n\u001b[1;32m    612\u001b[0m \u001b[38;5;28;01mfrom\u001b[39;00m \u001b[38;5;21;01m.\u001b[39;00m\u001b[38;5;21;01mdistributions\u001b[39;00m \u001b[38;5;28;01mimport\u001b[39;00m \u001b[38;5;241m*\u001b[39m\n",
      "File \u001b[0;32m~/miniconda3/envs/geneformer2/lib/python3.10/site-packages/scipy/stats/_stats_py.py:49\u001b[0m\n\u001b[1;32m     46\u001b[0m \u001b[38;5;66;03m# Import unused here but needs to stay until end of deprecation periode\u001b[39;00m\n\u001b[1;32m     47\u001b[0m \u001b[38;5;66;03m# See https://github.com/scipy/scipy/issues/15765#issuecomment-1875564522\u001b[39;00m\n\u001b[1;32m     48\u001b[0m \u001b[38;5;28;01mfrom\u001b[39;00m \u001b[38;5;21;01mscipy\u001b[39;00m \u001b[38;5;28;01mimport\u001b[39;00m linalg  \u001b[38;5;66;03m# noqa: F401\u001b[39;00m\n\u001b[0;32m---> 49\u001b[0m \u001b[38;5;28;01mfrom\u001b[39;00m \u001b[38;5;21;01m.\u001b[39;00m \u001b[38;5;28;01mimport\u001b[39;00m distributions\n\u001b[1;32m     50\u001b[0m \u001b[38;5;28;01mfrom\u001b[39;00m \u001b[38;5;21;01m.\u001b[39;00m \u001b[38;5;28;01mimport\u001b[39;00m _mstats_basic \u001b[38;5;28;01mas\u001b[39;00m mstats_basic\n\u001b[1;32m     52\u001b[0m \u001b[38;5;28;01mfrom\u001b[39;00m \u001b[38;5;21;01m.\u001b[39;00m\u001b[38;5;21;01m_stats_mstats_common\u001b[39;00m \u001b[38;5;28;01mimport\u001b[39;00m _find_repeats, theilslopes, siegelslopes\n",
      "File \u001b[0;32m~/miniconda3/envs/geneformer2/lib/python3.10/site-packages/scipy/stats/distributions.py:10\u001b[0m\n\u001b[1;32m      1\u001b[0m \u001b[38;5;66;03m#\u001b[39;00m\n\u001b[1;32m      2\u001b[0m \u001b[38;5;66;03m# Author:  Travis Oliphant  2002-2011 with contributions from\u001b[39;00m\n\u001b[1;32m      3\u001b[0m \u001b[38;5;66;03m#          SciPy Developers 2004-2011\u001b[39;00m\n\u001b[0;32m   (...)\u001b[0m\n\u001b[1;32m      6\u001b[0m \u001b[38;5;66;03m#       instead of `git blame -Lxxx,+x`.\u001b[39;00m\n\u001b[1;32m      7\u001b[0m \u001b[38;5;66;03m#\u001b[39;00m\n\u001b[1;32m      8\u001b[0m \u001b[38;5;28;01mfrom\u001b[39;00m \u001b[38;5;21;01m.\u001b[39;00m\u001b[38;5;21;01m_distn_infrastructure\u001b[39;00m \u001b[38;5;28;01mimport\u001b[39;00m (rv_discrete, rv_continuous, rv_frozen)  \u001b[38;5;66;03m# noqa: F401\u001b[39;00m\n\u001b[0;32m---> 10\u001b[0m \u001b[38;5;28;01mfrom\u001b[39;00m \u001b[38;5;21;01m.\u001b[39;00m \u001b[38;5;28;01mimport\u001b[39;00m _continuous_distns\n\u001b[1;32m     11\u001b[0m \u001b[38;5;28;01mfrom\u001b[39;00m \u001b[38;5;21;01m.\u001b[39;00m \u001b[38;5;28;01mimport\u001b[39;00m _discrete_distns\n\u001b[1;32m     13\u001b[0m \u001b[38;5;28;01mfrom\u001b[39;00m \u001b[38;5;21;01m.\u001b[39;00m\u001b[38;5;21;01m_continuous_distns\u001b[39;00m \u001b[38;5;28;01mimport\u001b[39;00m \u001b[38;5;241m*\u001b[39m  \u001b[38;5;66;03m# noqa: F403\u001b[39;00m\n",
      "File \u001b[0;32m~/miniconda3/envs/geneformer2/lib/python3.10/site-packages/scipy/stats/_continuous_distns.py:12\u001b[0m\n\u001b[1;32m     10\u001b[0m \u001b[38;5;28;01mimport\u001b[39;00m \u001b[38;5;21;01mnumpy\u001b[39;00m \u001b[38;5;28;01mas\u001b[39;00m \u001b[38;5;21;01mnp\u001b[39;00m\n\u001b[1;32m     11\u001b[0m \u001b[38;5;28;01mfrom\u001b[39;00m \u001b[38;5;21;01mnumpy\u001b[39;00m\u001b[38;5;21;01m.\u001b[39;00m\u001b[38;5;21;01mpolynomial\u001b[39;00m \u001b[38;5;28;01mimport\u001b[39;00m Polynomial\n\u001b[0;32m---> 12\u001b[0m \u001b[38;5;28;01mfrom\u001b[39;00m \u001b[38;5;21;01mscipy\u001b[39;00m\u001b[38;5;21;01m.\u001b[39;00m\u001b[38;5;21;01minterpolate\u001b[39;00m \u001b[38;5;28;01mimport\u001b[39;00m BSpline\n\u001b[1;32m     13\u001b[0m \u001b[38;5;28;01mfrom\u001b[39;00m \u001b[38;5;21;01mscipy\u001b[39;00m\u001b[38;5;21;01m.\u001b[39;00m\u001b[38;5;21;01m_lib\u001b[39;00m\u001b[38;5;21;01m.\u001b[39;00m\u001b[38;5;21;01mdoccer\u001b[39;00m \u001b[38;5;28;01mimport\u001b[39;00m (extend_notes_in_docstring,\n\u001b[1;32m     14\u001b[0m                                replace_notes_in_docstring,\n\u001b[1;32m     15\u001b[0m                                inherit_docstring_from)\n\u001b[1;32m     16\u001b[0m \u001b[38;5;28;01mfrom\u001b[39;00m \u001b[38;5;21;01mscipy\u001b[39;00m\u001b[38;5;21;01m.\u001b[39;00m\u001b[38;5;21;01m_lib\u001b[39;00m\u001b[38;5;21;01m.\u001b[39;00m\u001b[38;5;21;01m_ccallback\u001b[39;00m \u001b[38;5;28;01mimport\u001b[39;00m LowLevelCallable\n",
      "File \u001b[0;32m~/miniconda3/envs/geneformer2/lib/python3.10/site-packages/scipy/interpolate/__init__.py:175\u001b[0m\n\u001b[1;32m    171\u001b[0m \u001b[38;5;28;01mfrom\u001b[39;00m \u001b[38;5;21;01m.\u001b[39;00m\u001b[38;5;21;01m_fitpack2\u001b[39;00m \u001b[38;5;28;01mimport\u001b[39;00m \u001b[38;5;241m*\u001b[39m\n\u001b[1;32m    173\u001b[0m \u001b[38;5;28;01mfrom\u001b[39;00m \u001b[38;5;21;01m.\u001b[39;00m\u001b[38;5;21;01m_rbf\u001b[39;00m \u001b[38;5;28;01mimport\u001b[39;00m Rbf\n\u001b[0;32m--> 175\u001b[0m \u001b[38;5;28;01mfrom\u001b[39;00m \u001b[38;5;21;01m.\u001b[39;00m\u001b[38;5;21;01m_rbfinterp\u001b[39;00m \u001b[38;5;28;01mimport\u001b[39;00m \u001b[38;5;241m*\u001b[39m\n\u001b[1;32m    177\u001b[0m \u001b[38;5;28;01mfrom\u001b[39;00m \u001b[38;5;21;01m.\u001b[39;00m\u001b[38;5;21;01m_polyint\u001b[39;00m \u001b[38;5;28;01mimport\u001b[39;00m \u001b[38;5;241m*\u001b[39m\n\u001b[1;32m    179\u001b[0m \u001b[38;5;28;01mfrom\u001b[39;00m \u001b[38;5;21;01m.\u001b[39;00m\u001b[38;5;21;01m_cubic\u001b[39;00m \u001b[38;5;28;01mimport\u001b[39;00m \u001b[38;5;241m*\u001b[39m\n",
      "File \u001b[0;32m<frozen importlib._bootstrap>:1027\u001b[0m, in \u001b[0;36m_find_and_load\u001b[0;34m(name, import_)\u001b[0m\n",
      "File \u001b[0;32m<frozen importlib._bootstrap>:1006\u001b[0m, in \u001b[0;36m_find_and_load_unlocked\u001b[0;34m(name, import_)\u001b[0m\n",
      "File \u001b[0;32m<frozen importlib._bootstrap>:688\u001b[0m, in \u001b[0;36m_load_unlocked\u001b[0;34m(spec)\u001b[0m\n",
      "File \u001b[0;32m<frozen importlib._bootstrap_external>:879\u001b[0m, in \u001b[0;36mexec_module\u001b[0;34m(self, module)\u001b[0m\n",
      "File \u001b[0;32m<frozen importlib._bootstrap_external>:975\u001b[0m, in \u001b[0;36mget_code\u001b[0;34m(self, fullname)\u001b[0m\n",
      "File \u001b[0;32m<frozen importlib._bootstrap_external>:1074\u001b[0m, in \u001b[0;36mget_data\u001b[0;34m(self, path)\u001b[0m\n",
      "\u001b[0;31mKeyboardInterrupt\u001b[0m: "
     ]
    }
   ],
   "source": [
    "\n",
    "\n",
    "#this is all fine and dandy but i don't have any of the metadata that was in the original file I extracted this from.  what's the best way to do this?"
   ]
  },
  {
   "cell_type": "code",
   "execution_count": null,
   "id": "36d88deb-d0dc-40cf-97a6-78b97be0f513",
   "metadata": {},
   "outputs": [],
   "source": [
    "break"
   ]
  },
  {
   "cell_type": "code",
   "execution_count": null,
   "id": "2602a1d2-3098-4acf-97c2-60cb5c47bdf2",
   "metadata": {},
   "outputs": [],
   "source": []
  },
  {
   "cell_type": "code",
   "execution_count": null,
   "id": "fc081130-0f53-418b-b4b4-5da464632264",
   "metadata": {},
   "outputs": [],
   "source": []
  },
  {
   "cell_type": "code",
   "execution_count": null,
   "id": "f7a33353-a121-4a9b-99cc-9656fe146868",
   "metadata": {},
   "outputs": [],
   "source": []
  },
  {
   "cell_type": "code",
   "execution_count": null,
   "id": "8b2360b5-7129-4522-a4b7-f8df7d2a4644",
   "metadata": {},
   "outputs": [],
   "source": []
  },
  {
   "cell_type": "code",
   "execution_count": null,
   "id": "a4773766-8217-4d9f-a582-4b5f458e9174",
   "metadata": {},
   "outputs": [],
   "source": []
  },
  {
   "cell_type": "code",
   "execution_count": null,
   "id": "44d5adc8-93e2-4c3b-a657-9f2ff13bc72e",
   "metadata": {},
   "outputs": [],
   "source": []
  },
  {
   "cell_type": "markdown",
   "id": "54eed2ba-a450-4aa0-aa29-a29b5b543510",
   "metadata": {},
   "source": [
    "### Perturbation I would hope"
   ]
  },
  {
   "cell_type": "code",
   "execution_count": 16,
   "id": "39e093d7-19a4-496b-9b4d-0a300227478e",
   "metadata": {},
   "outputs": [
    {
     "name": "stderr",
     "output_type": "stream",
     "text": [
      "The single value dictionary for cell_states_to_model will be replaced with a dictionary with named keys for start, goal, and alternate states. Please specify state_key, start_state, goal_state, and alt_states in the cell_states_to_model dictionary for future use. For example, cell_states_to_model={'state_key': 'disease', 'start_state': 'dcm', 'goal_state': 'nf', 'alt_states': ['hcm', 'other1', 'other2']}\n"
     ]
    },
    {
     "name": "stdout",
     "output_type": "stream",
     "text": [
      "done\n"
     ]
    }
   ],
   "source": [
    "cell_states_to_model={\"state_key\": \"cell_ontology_class\"}\n",
    "#is this where you would add on entries for pre and post-embeddings?  they don't exist yet as cols in the data so im gonna leave it\n",
    "\n",
    "embex = EmbExtractor(model_type=\"Pretrained\",\n",
    "                     num_classes=3,\n",
    "                     max_ncells=1000,\n",
    "                     emb_layer=0,\n",
    "                     summary_stat=\"exact_mean\",\n",
    "                     forward_batch_size=20,\n",
    "                     nproc=1)\n",
    "\n",
    "\n",
    "model = \"/nfs/turbo/umms-indikar/shared/projects/geneformer/geneformer-12L-30M/\"\n",
    "data_path = \"/scratch/indikar_root/indikar1/shared_data/geneformer/datasets/TS_Vasculature.dataset\"\n",
    "outpath = \"/home/oliven/geneformer_dev/notebooks/ts_output/\"\n",
    "\n",
    "state_embs_dict = embex.get_state_embs(cell_states_to_model,\n",
    "                                       model,\n",
    "                                       data_path,\n",
    "                                       outpath,\n",
    "                                       \"preturb\")\n",
    "\n",
    "print('done')"
   ]
  },
  {
   "cell_type": "code",
   "execution_count": null,
   "id": "b606f563-8583-4e7a-8258-800ee0994942",
   "metadata": {},
   "outputs": [],
   "source": [
    "\n",
    "genes = [\n",
    "    'ENSG00000162924', # GATA2 \n",
    "    'ENSG00000179348', # GFI1B\n",
    "    'ENSG00000165702', # FOS\n",
    "    'ENSG00000170345', # STAT5A\n",
    "    'ENSG00000126561', # REL\n",
    "]\n",
    "\n",
    "isp = InSilicoPerturber(perturb_type=\"overexpress\",\n",
    "                        perturb_rank_shift=None,\n",
    "                        genes_to_perturb=genes,\n",
    "                        combos=0, # individually, or in pairs `1'\n",
    "                        anchor_gene=None,\n",
    "                        model_type=\"Pretrained\",\n",
    "                        num_classes=0, # pretrained model\n",
    "                        emb_mode=\"cell\",\n",
    "                        cell_emb_style=\"mean_pool\",\n",
    "                        cell_states_to_model=cell_states_to_model,\n",
    "                        state_embs_dict=state_embs_dict,\n",
    "                        max_ncells=1000,\n",
    "                        emb_layer=-1,\n",
    "                        forward_batch_size=10,\n",
    "                        nproc=1)"
   ]
  },
  {
   "cell_type": "code",
   "execution_count": null,
   "id": "3c9b77e6-cb45-42b7-8e52-79f49ec070ad",
   "metadata": {},
   "outputs": [],
   "source": []
  },
  {
   "cell_type": "code",
   "execution_count": null,
   "id": "536f41e3-4784-4e38-a8ef-4971feeeb653",
   "metadata": {},
   "outputs": [],
   "source": []
  },
  {
   "cell_type": "code",
   "execution_count": null,
   "id": "a69616b9-e8a3-4e75-856b-ce31afe77604",
   "metadata": {},
   "outputs": [],
   "source": []
  },
  {
   "cell_type": "code",
   "execution_count": null,
   "id": "f7caadc8-e1f5-48df-8d56-789ea7831a50",
   "metadata": {},
   "outputs": [],
   "source": []
  },
  {
   "cell_type": "code",
   "execution_count": null,
   "id": "52f1e9ee-1e6c-48ed-b943-4a0e054ff887",
   "metadata": {},
   "outputs": [],
   "source": []
  },
  {
   "cell_type": "code",
   "execution_count": null,
   "id": "a506e087-3fdd-495f-b567-d4c27072f7c8",
   "metadata": {},
   "outputs": [],
   "source": []
  },
  {
   "cell_type": "markdown",
   "id": "c11129da-dd9b-455e-9cdb-ea1c6adb2cce",
   "metadata": {},
   "source": [
    "### Get prettier metadata attempts"
   ]
  },
  {
   "cell_type": "code",
   "execution_count": 8,
   "id": "0263cf80-4dc9-4aba-b0a6-70061c174c08",
   "metadata": {},
   "outputs": [
    {
     "data": {
      "text/html": [
       "<div>\n",
       "<style scoped>\n",
       "    .dataframe tbody tr th:only-of-type {\n",
       "        vertical-align: middle;\n",
       "    }\n",
       "\n",
       "    .dataframe tbody tr th {\n",
       "        vertical-align: top;\n",
       "    }\n",
       "\n",
       "    .dataframe thead th {\n",
       "        text-align: right;\n",
       "    }\n",
       "</style>\n",
       "<table border=\"1\" class=\"dataframe\">\n",
       "  <thead>\n",
       "    <tr style=\"text-align: right;\">\n",
       "      <th></th>\n",
       "      <th>input_ids</th>\n",
       "      <th>organ_tissue</th>\n",
       "      <th>method</th>\n",
       "      <th>donor</th>\n",
       "      <th>anatomical_information</th>\n",
       "      <th>n_counts_UMIs</th>\n",
       "      <th>n_genes</th>\n",
       "      <th>cell_ontology_class</th>\n",
       "      <th>free_annotation</th>\n",
       "      <th>manually_annotated</th>\n",
       "      <th>compartment</th>\n",
       "      <th>gender</th>\n",
       "      <th>length</th>\n",
       "    </tr>\n",
       "  </thead>\n",
       "  <tbody>\n",
       "    <tr>\n",
       "      <th>0</th>\n",
       "      <td>[16345, 9009, 13048, 6489, 10292, 9508, 12698,...</td>\n",
       "      <td>Vasculature</td>\n",
       "      <td>10X</td>\n",
       "      <td>TSP14</td>\n",
       "      <td>CoronaryArteries</td>\n",
       "      <td>12027.0</td>\n",
       "      <td>3428</td>\n",
       "      <td>fibroblast</td>\n",
       "      <td>fibroblast</td>\n",
       "      <td>True</td>\n",
       "      <td>stromal</td>\n",
       "      <td>male</td>\n",
       "      <td>2048</td>\n",
       "    </tr>\n",
       "    <tr>\n",
       "      <th>1</th>\n",
       "      <td>[12119, 9190, 16876, 3396, 8654, 5298, 4692, 1...</td>\n",
       "      <td>Vasculature</td>\n",
       "      <td>10X</td>\n",
       "      <td>TSP14</td>\n",
       "      <td>CoronaryArteries</td>\n",
       "      <td>5342.0</td>\n",
       "      <td>2010</td>\n",
       "      <td>fibroblast</td>\n",
       "      <td>fibroblast</td>\n",
       "      <td>True</td>\n",
       "      <td>stromal</td>\n",
       "      <td>male</td>\n",
       "      <td>2048</td>\n",
       "    </tr>\n",
       "    <tr>\n",
       "      <th>2</th>\n",
       "      <td>[5511, 11358, 14120, 6128, 2348, 1720, 2411, 2...</td>\n",
       "      <td>Vasculature</td>\n",
       "      <td>10X</td>\n",
       "      <td>TSP2</td>\n",
       "      <td>Aorta</td>\n",
       "      <td>7725.0</td>\n",
       "      <td>2682</td>\n",
       "      <td>macrophage</td>\n",
       "      <td>macrophage</td>\n",
       "      <td>True</td>\n",
       "      <td>immune</td>\n",
       "      <td>female</td>\n",
       "      <td>2048</td>\n",
       "    </tr>\n",
       "    <tr>\n",
       "      <th>3</th>\n",
       "      <td>[2411, 1513, 21227, 14120, 1720, 8981, 2124, 7...</td>\n",
       "      <td>Vasculature</td>\n",
       "      <td>10X</td>\n",
       "      <td>TSP14</td>\n",
       "      <td>AortaVeneCava</td>\n",
       "      <td>13593.0</td>\n",
       "      <td>3679</td>\n",
       "      <td>macrophage</td>\n",
       "      <td>macrophage</td>\n",
       "      <td>True</td>\n",
       "      <td>immune</td>\n",
       "      <td>male</td>\n",
       "      <td>2048</td>\n",
       "    </tr>\n",
       "    <tr>\n",
       "      <th>4</th>\n",
       "      <td>[3878, 9009, 4115, 1950, 376, 16281, 16916, 14...</td>\n",
       "      <td>Vasculature</td>\n",
       "      <td>10X</td>\n",
       "      <td>TSP14</td>\n",
       "      <td>CoronaryArteries</td>\n",
       "      <td>10892.0</td>\n",
       "      <td>3730</td>\n",
       "      <td>fibroblast</td>\n",
       "      <td>fibroblast</td>\n",
       "      <td>True</td>\n",
       "      <td>stromal</td>\n",
       "      <td>male</td>\n",
       "      <td>2048</td>\n",
       "    </tr>\n",
       "  </tbody>\n",
       "</table>\n",
       "</div>"
      ],
      "text/plain": [
       "                                           input_ids organ_tissue method  \\\n",
       "0  [16345, 9009, 13048, 6489, 10292, 9508, 12698,...  Vasculature    10X   \n",
       "1  [12119, 9190, 16876, 3396, 8654, 5298, 4692, 1...  Vasculature    10X   \n",
       "2  [5511, 11358, 14120, 6128, 2348, 1720, 2411, 2...  Vasculature    10X   \n",
       "3  [2411, 1513, 21227, 14120, 1720, 8981, 2124, 7...  Vasculature    10X   \n",
       "4  [3878, 9009, 4115, 1950, 376, 16281, 16916, 14...  Vasculature    10X   \n",
       "\n",
       "   donor anatomical_information  n_counts_UMIs  n_genes cell_ontology_class  \\\n",
       "0  TSP14       CoronaryArteries        12027.0     3428          fibroblast   \n",
       "1  TSP14       CoronaryArteries         5342.0     2010          fibroblast   \n",
       "2   TSP2                  Aorta         7725.0     2682          macrophage   \n",
       "3  TSP14          AortaVeneCava        13593.0     3679          macrophage   \n",
       "4  TSP14       CoronaryArteries        10892.0     3730          fibroblast   \n",
       "\n",
       "  free_annotation  manually_annotated compartment  gender  length  \n",
       "0      fibroblast                True     stromal    male    2048  \n",
       "1      fibroblast                True     stromal    male    2048  \n",
       "2      macrophage                True      immune  female    2048  \n",
       "3      macrophage                True      immune    male    2048  \n",
       "4      fibroblast                True     stromal    male    2048  "
      ]
     },
     "execution_count": 8,
     "metadata": {},
     "output_type": "execute_result"
    }
   ],
   "source": [
    "#repeat prelims\n",
    "reload(gtu)\n",
    "torch.cuda.empty_cache()\n",
    "num_cells = 1000\n",
    "\n",
    "\"\"\"Load the model\"\"\"\n",
    "#model_path = \"/nfs/turbo/umms-indikar/shared/projects/geneformer/fine_tuned_models/geneformer-6L-30M_CellClassifier_cardiomyopathies_220224/\"\n",
    "model_path = \"/nfs/turbo/umms-indikar/shared/projects/geneformer/geneformer-12L-30M/\"\n",
    "model = gtu.load_model(model_path)\n",
    "\n",
    "\"\"\"Load the data\"\"\"\n",
    "data_path = \"/scratch/indikar_root/indikar1/shared_data/geneformer/datasets/TS_Vasculature.dataset\"\n",
    "df_itrue = gtu.load_data_as_dataframe(data_path, num_cells=num_cells, shuffle=True)\n",
    "df_itrue.head()"
   ]
  },
  {
   "cell_type": "code",
   "execution_count": 9,
   "id": "64912af2-daf3-4965-8726-04a332f545be",
   "metadata": {},
   "outputs": [
    {
     "name": "stdout",
     "output_type": "stream",
     "text": [
      "                                             input_ids organ_tissue  \\\n",
      "0    [16345, 9009, 13048, 6489, 10292, 9508, 12698,...  Vasculature   \n",
      "1    [12119, 9190, 16876, 3396, 8654, 5298, 4692, 1...  Vasculature   \n",
      "4    [3878, 9009, 4115, 1950, 376, 16281, 16916, 14...  Vasculature   \n",
      "6    [3878, 16916, 18367, 9009, 1950, 12119, 16876,...  Vasculature   \n",
      "7    [6196, 16916, 10920, 11828, 8133, 16166, 8163,...  Vasculature   \n",
      "..                                                 ...          ...   \n",
      "984  [12119, 18367, 16876, 9123, 303, 6541, 10057, ...  Vasculature   \n",
      "985  [376, 3878, 12119, 5592, 15960, 16916, 16281, ...  Vasculature   \n",
      "988  [9009, 12119, 16916, 8658, 16876, 3878, 15960,...  Vasculature   \n",
      "996  [2649, 5592, 2124, 16166, 7414, 376, 454, 220,...  Vasculature   \n",
      "998  [12119, 4840, 15960, 19437, 2649, 6252, 5080, ...  Vasculature   \n",
      "\n",
      "        method  donor anatomical_information  n_counts_UMIs  n_genes  \\\n",
      "0          10X  TSP14       CoronaryArteries        12027.0     3428   \n",
      "1          10X  TSP14       CoronaryArteries         5342.0     2010   \n",
      "4          10X  TSP14       CoronaryArteries        10892.0     3730   \n",
      "6          10X   TSP2                  Aorta        11052.0     2696   \n",
      "7          10X  TSP14       CoronaryArteries        30514.0     5563   \n",
      "..         ...    ...                    ...            ...      ...   \n",
      "984  smartseq2   TSP2                    nan       327008.0     2480   \n",
      "985        10X   TSP2                  Aorta        14329.0     3656   \n",
      "988        10X   TSP2                  Aorta        22357.0     4544   \n",
      "996        10X   TSP2                  Aorta        18005.0     4380   \n",
      "998        10X   TSP2                  Aorta         9198.0     2985   \n",
      "\n",
      "    cell_ontology_class free_annotation  manually_annotated compartment  \\\n",
      "0            fibroblast      fibroblast                True     stromal   \n",
      "1            fibroblast      fibroblast                True     stromal   \n",
      "4            fibroblast      fibroblast                True     stromal   \n",
      "6            fibroblast      fibroblast                True     stromal   \n",
      "7            fibroblast      fibroblast                True     stromal   \n",
      "..                  ...             ...                 ...         ...   \n",
      "984          fibroblast      fibroblast                True     stromal   \n",
      "985          fibroblast      fibroblast                True     stromal   \n",
      "988          fibroblast      fibroblast                True     stromal   \n",
      "996          fibroblast      fibroblast                True     stromal   \n",
      "998          fibroblast      fibroblast                True     stromal   \n",
      "\n",
      "     gender  length  \n",
      "0      male    2048  \n",
      "1      male    2048  \n",
      "4      male    2048  \n",
      "6    female    2048  \n",
      "7      male    2048  \n",
      "..      ...     ...  \n",
      "984  female    2048  \n",
      "985  female    2048  \n",
      "988  female    2048  \n",
      "996  female    2048  \n",
      "998  female    2048  \n",
      "\n",
      "[354 rows x 13 columns]\n"
     ]
    },
    {
     "data": {
      "text/plain": [
       "(354, 13)"
      ]
     },
     "execution_count": 9,
     "metadata": {},
     "output_type": "execute_result"
    }
   ],
   "source": [
    "#second part prelims \n",
    "def search_string(s, search):\n",
    "    return search in str(s).lower()\n",
    "\n",
    "mask = df.apply(lambda x: x.map(lambda s: search_string(s, 'fibroblast')))\n",
    "\n",
    "filtered_df_itrue = df.loc[mask.any(axis=1)]\n",
    "\n",
    "print(filtered_df_itrue)\n",
    "filtered_df_itrue.shape\n"
   ]
  },
  {
   "cell_type": "code",
   "execution_count": 18,
   "id": "2e792d34-343a-4318-b16d-9510efed7cab",
   "metadata": {},
   "outputs": [
    {
     "name": "stderr",
     "output_type": "stream",
     "text": [
      "Saving the dataset (1/1 shards): 100%|██████████| 354/354 [00:00<00:00, 19083.15 examples/s]\n",
      "100%|██████████| 36/36 [00:09<00:00,  3.78it/s]\n"
     ]
    },
    {
     "name": "stdout",
     "output_type": "stream",
     "text": [
      "mem_embs_itrue.shape=(354, 512)\n"
     ]
    }
   ],
   "source": [
    "#third pt prelims\n",
    "# convert filtered stuff to df\n",
    "filtered_dataset_itrue = Dataset.from_pandas(filtered_df_itrue)\n",
    "filtered_dataset_itrue.save_to_disk(\"/home/oliven/geneformer_dev/notebooks/ts_output\")\n",
    "loaded_dataset_itrue = Dataset.load_from_disk(\"/home/oliven/geneformer_dev/notebooks/ts_output\")\n",
    "\n",
    "mem_embs_itrue = gtu.extract_embedding_in_mem(model, loaded_dataset_itrue)\n",
    "print(f\"{mem_embs_itrue.shape=}\")\n",
    "mem_embs.to_csv('/home/oliven/geneformer_dev/notebooks/ts_output/mem_embs_itrue.csv')"
   ]
  },
  {
   "cell_type": "code",
   "execution_count": null,
   "id": "aedcb04b-0810-4179-9dc2-686e499a936d",
   "metadata": {},
   "outputs": [],
   "source": []
  },
  {
   "cell_type": "code",
   "execution_count": 21,
   "id": "1cfb75c1-41c9-4697-bf02-ce952d69329a",
   "metadata": {},
   "outputs": [
    {
     "name": "stderr",
     "output_type": "stream",
     "text": [
      "/tmp/ipykernel_3370336/2594092092.py:9: SettingWithCopyWarning: \n",
      "A value is trying to be set on a copy of a slice from a DataFrame.\n",
      "Try using .loc[row_indexer,col_indexer] = value instead\n",
      "\n",
      "See the caveats in the documentation: https://pandas.pydata.org/pandas-docs/stable/user_guide/indexing.html#returning-a-view-versus-a-copy\n",
      "  filtered_df_itrue['embeddings'] = mem_embs_itrue.values.tolist()\n"
     ]
    },
    {
     "ename": "KeyError",
     "evalue": "'embeddings'",
     "output_type": "error",
     "traceback": [
      "\u001b[0;31m---------------------------------------------------------------------------\u001b[0m",
      "\u001b[0;31mKeyError\u001b[0m                                  Traceback (most recent call last)",
      "File \u001b[0;32m~/miniconda3/envs/geneformer2/lib/python3.10/site-packages/pandas/core/indexes/base.py:3805\u001b[0m, in \u001b[0;36mIndex.get_loc\u001b[0;34m(self, key)\u001b[0m\n\u001b[1;32m   3804\u001b[0m \u001b[38;5;28;01mtry\u001b[39;00m:\n\u001b[0;32m-> 3805\u001b[0m     \u001b[38;5;28;01mreturn\u001b[39;00m \u001b[38;5;28;43mself\u001b[39;49m\u001b[38;5;241;43m.\u001b[39;49m\u001b[43m_engine\u001b[49m\u001b[38;5;241;43m.\u001b[39;49m\u001b[43mget_loc\u001b[49m\u001b[43m(\u001b[49m\u001b[43mcasted_key\u001b[49m\u001b[43m)\u001b[49m\n\u001b[1;32m   3806\u001b[0m \u001b[38;5;28;01mexcept\u001b[39;00m \u001b[38;5;167;01mKeyError\u001b[39;00m \u001b[38;5;28;01mas\u001b[39;00m err:\n",
      "File \u001b[0;32mindex.pyx:167\u001b[0m, in \u001b[0;36mpandas._libs.index.IndexEngine.get_loc\u001b[0;34m()\u001b[0m\n",
      "File \u001b[0;32mindex.pyx:196\u001b[0m, in \u001b[0;36mpandas._libs.index.IndexEngine.get_loc\u001b[0;34m()\u001b[0m\n",
      "File \u001b[0;32mpandas/_libs/hashtable_class_helper.pxi:7081\u001b[0m, in \u001b[0;36mpandas._libs.hashtable.PyObjectHashTable.get_item\u001b[0;34m()\u001b[0m\n",
      "File \u001b[0;32mpandas/_libs/hashtable_class_helper.pxi:7089\u001b[0m, in \u001b[0;36mpandas._libs.hashtable.PyObjectHashTable.get_item\u001b[0;34m()\u001b[0m\n",
      "\u001b[0;31mKeyError\u001b[0m: 'embeddings'",
      "\nThe above exception was the direct cause of the following exception:\n",
      "\u001b[0;31mKeyError\u001b[0m                                  Traceback (most recent call last)",
      "Cell \u001b[0;32mIn[21], line 13\u001b[0m\n\u001b[1;32m     11\u001b[0m \u001b[38;5;66;03m# Merge the filtered_df with embeddings back to the original df\u001b[39;00m\n\u001b[1;32m     12\u001b[0m df_itrue[\u001b[38;5;124m'\u001b[39m\u001b[38;5;124membeddings\u001b[39m\u001b[38;5;124m'\u001b[39m] \u001b[38;5;241m=\u001b[39m np\u001b[38;5;241m.\u001b[39mnan  \u001b[38;5;66;03m# Initialize the new column with NaN\u001b[39;00m\n\u001b[0;32m---> 13\u001b[0m df\u001b[38;5;241m.\u001b[39mloc_itrue[filtered_df\u001b[38;5;241m.\u001b[39mindex, \u001b[38;5;124m'\u001b[39m\u001b[38;5;124membeddings\u001b[39m\u001b[38;5;124m'\u001b[39m] \u001b[38;5;241m=\u001b[39m \u001b[43mfiltered_df\u001b[49m\u001b[43m[\u001b[49m\u001b[38;5;124;43m'\u001b[39;49m\u001b[38;5;124;43membeddings\u001b[39;49m\u001b[38;5;124;43m'\u001b[39;49m\u001b[43m]\u001b[49m\n\u001b[1;32m     15\u001b[0m \u001b[38;5;66;03m# Save the fibroblast_df as a separate object\u001b[39;00m\n\u001b[1;32m     16\u001b[0m fibroblast_df_itrue \u001b[38;5;241m=\u001b[39m filtered_df_itrue\u001b[38;5;241m.\u001b[39mcopy()\n",
      "File \u001b[0;32m~/miniconda3/envs/geneformer2/lib/python3.10/site-packages/pandas/core/frame.py:4102\u001b[0m, in \u001b[0;36mDataFrame.__getitem__\u001b[0;34m(self, key)\u001b[0m\n\u001b[1;32m   4100\u001b[0m \u001b[38;5;28;01mif\u001b[39;00m \u001b[38;5;28mself\u001b[39m\u001b[38;5;241m.\u001b[39mcolumns\u001b[38;5;241m.\u001b[39mnlevels \u001b[38;5;241m>\u001b[39m \u001b[38;5;241m1\u001b[39m:\n\u001b[1;32m   4101\u001b[0m     \u001b[38;5;28;01mreturn\u001b[39;00m \u001b[38;5;28mself\u001b[39m\u001b[38;5;241m.\u001b[39m_getitem_multilevel(key)\n\u001b[0;32m-> 4102\u001b[0m indexer \u001b[38;5;241m=\u001b[39m \u001b[38;5;28;43mself\u001b[39;49m\u001b[38;5;241;43m.\u001b[39;49m\u001b[43mcolumns\u001b[49m\u001b[38;5;241;43m.\u001b[39;49m\u001b[43mget_loc\u001b[49m\u001b[43m(\u001b[49m\u001b[43mkey\u001b[49m\u001b[43m)\u001b[49m\n\u001b[1;32m   4103\u001b[0m \u001b[38;5;28;01mif\u001b[39;00m is_integer(indexer):\n\u001b[1;32m   4104\u001b[0m     indexer \u001b[38;5;241m=\u001b[39m [indexer]\n",
      "File \u001b[0;32m~/miniconda3/envs/geneformer2/lib/python3.10/site-packages/pandas/core/indexes/base.py:3812\u001b[0m, in \u001b[0;36mIndex.get_loc\u001b[0;34m(self, key)\u001b[0m\n\u001b[1;32m   3807\u001b[0m     \u001b[38;5;28;01mif\u001b[39;00m \u001b[38;5;28misinstance\u001b[39m(casted_key, \u001b[38;5;28mslice\u001b[39m) \u001b[38;5;129;01mor\u001b[39;00m (\n\u001b[1;32m   3808\u001b[0m         \u001b[38;5;28misinstance\u001b[39m(casted_key, abc\u001b[38;5;241m.\u001b[39mIterable)\n\u001b[1;32m   3809\u001b[0m         \u001b[38;5;129;01mand\u001b[39;00m \u001b[38;5;28many\u001b[39m(\u001b[38;5;28misinstance\u001b[39m(x, \u001b[38;5;28mslice\u001b[39m) \u001b[38;5;28;01mfor\u001b[39;00m x \u001b[38;5;129;01min\u001b[39;00m casted_key)\n\u001b[1;32m   3810\u001b[0m     ):\n\u001b[1;32m   3811\u001b[0m         \u001b[38;5;28;01mraise\u001b[39;00m InvalidIndexError(key)\n\u001b[0;32m-> 3812\u001b[0m     \u001b[38;5;28;01mraise\u001b[39;00m \u001b[38;5;167;01mKeyError\u001b[39;00m(key) \u001b[38;5;28;01mfrom\u001b[39;00m \u001b[38;5;21;01merr\u001b[39;00m\n\u001b[1;32m   3813\u001b[0m \u001b[38;5;28;01mexcept\u001b[39;00m \u001b[38;5;167;01mTypeError\u001b[39;00m:\n\u001b[1;32m   3814\u001b[0m     \u001b[38;5;66;03m# If we have a listlike key, _check_indexing_error will raise\u001b[39;00m\n\u001b[1;32m   3815\u001b[0m     \u001b[38;5;66;03m#  InvalidIndexError. Otherwise we fall through and re-raise\u001b[39;00m\n\u001b[1;32m   3816\u001b[0m     \u001b[38;5;66;03m#  the TypeError.\u001b[39;00m\n\u001b[1;32m   3817\u001b[0m     \u001b[38;5;28mself\u001b[39m\u001b[38;5;241m.\u001b[39m_check_indexing_error(key)\n",
      "\u001b[0;31mKeyError\u001b[0m: 'embeddings'"
     ]
    }
   ],
   "source": [
    "# Assuming mem_embs is a DataFrame with the extracted embeddings for the fibroblast cells\n",
    "# and df is the original DataFrame.\n",
    "\n",
    "# Ensure mem_embs is indexed in the same order as filtered_df\n",
    "filtered_df_itrue.reset_index(drop=True, inplace=True)\n",
    "mem_embs_itrue.reset_index(drop=True, inplace=True)\n",
    "\n",
    "# Add the embeddings to the filtered dataframe\n",
    "filtered_df_itrue['embeddings'] = mem_embs_itrue.values.tolist()\n",
    "\n",
    "# Merge the filtered_df with embeddings back to the original df\n",
    "df_itrue['embeddings'] = np.nan  # Initialize the new column with NaN\n",
    "df.loc_itrue[filtered_df.index, 'embeddings'] = filtered_df['embeddings']\n",
    "\n",
    "# Save the fibroblast_df as a separate object\n",
    "fibroblast_df_itrue = filtered_df_itrue.copy()\n",
    "\n",
    "# Save the original dataframe with embeddings to a new CSV or any other desired format\n",
    "df_itrue.to_csv('/home/oliven/geneformer_dev/notebooks/ts_output/original_df_with_embeddings_itrue.csv', index=True)\n",
    "\n",
    "# Save the fibroblast_df as a separate CSV or any other desired format\n",
    "fibroblast_df_itrue.to_csv('/home/oliven/geneformer_dev/notebooks/ts_output/fibroblast_df_itrue.csv', index=True)"
   ]
  },
  {
   "cell_type": "code",
   "execution_count": 23,
   "id": "3ff90903-2e07-478a-8411-b8fcc2af20b3",
   "metadata": {
    "scrolled": true
   },
   "outputs": [
    {
     "ename": "ValueError",
     "evalue": "Must have equal len keys and value when setting with an iterable",
     "output_type": "error",
     "traceback": [
      "\u001b[0;31m---------------------------------------------------------------------------\u001b[0m",
      "\u001b[0;31mTypeError\u001b[0m                                 Traceback (most recent call last)",
      "\u001b[0;31mTypeError\u001b[0m: float() argument must be a string or a real number, not 'list'",
      "\nThe above exception was the direct cause of the following exception:\n",
      "\u001b[0;31mValueError\u001b[0m                                Traceback (most recent call last)",
      "File \u001b[0;32m~/miniconda3/envs/geneformer2/lib/python3.10/site-packages/pandas/core/frame.py:4563\u001b[0m, in \u001b[0;36mDataFrame._set_value\u001b[0;34m(self, index, col, value, takeable)\u001b[0m\n\u001b[1;32m   4562\u001b[0m     iindex \u001b[38;5;241m=\u001b[39m \u001b[38;5;28mself\u001b[39m\u001b[38;5;241m.\u001b[39mindex\u001b[38;5;241m.\u001b[39mget_loc(index)\n\u001b[0;32m-> 4563\u001b[0m \u001b[38;5;28;43mself\u001b[39;49m\u001b[38;5;241;43m.\u001b[39;49m\u001b[43m_mgr\u001b[49m\u001b[38;5;241;43m.\u001b[39;49m\u001b[43mcolumn_setitem\u001b[49m\u001b[43m(\u001b[49m\u001b[43micol\u001b[49m\u001b[43m,\u001b[49m\u001b[43m \u001b[49m\u001b[43miindex\u001b[49m\u001b[43m,\u001b[49m\u001b[43m \u001b[49m\u001b[43mvalue\u001b[49m\u001b[43m,\u001b[49m\u001b[43m \u001b[49m\u001b[43minplace_only\u001b[49m\u001b[38;5;241;43m=\u001b[39;49m\u001b[38;5;28;43;01mTrue\u001b[39;49;00m\u001b[43m)\u001b[49m\n\u001b[1;32m   4564\u001b[0m \u001b[38;5;28mself\u001b[39m\u001b[38;5;241m.\u001b[39m_clear_item_cache()\n",
      "File \u001b[0;32m~/miniconda3/envs/geneformer2/lib/python3.10/site-packages/pandas/core/internals/managers.py:1335\u001b[0m, in \u001b[0;36mBlockManager.column_setitem\u001b[0;34m(self, loc, idx, value, inplace_only)\u001b[0m\n\u001b[1;32m   1334\u001b[0m \u001b[38;5;28;01mif\u001b[39;00m inplace_only:\n\u001b[0;32m-> 1335\u001b[0m     \u001b[43mcol_mgr\u001b[49m\u001b[38;5;241;43m.\u001b[39;49m\u001b[43msetitem_inplace\u001b[49m\u001b[43m(\u001b[49m\u001b[43midx\u001b[49m\u001b[43m,\u001b[49m\u001b[43m \u001b[49m\u001b[43mvalue\u001b[49m\u001b[43m)\u001b[49m\n\u001b[1;32m   1336\u001b[0m \u001b[38;5;28;01melse\u001b[39;00m:\n",
      "File \u001b[0;32m~/miniconda3/envs/geneformer2/lib/python3.10/site-packages/pandas/core/internals/managers.py:2044\u001b[0m, in \u001b[0;36mSingleBlockManager.setitem_inplace\u001b[0;34m(self, indexer, value, warn)\u001b[0m\n\u001b[1;32m   2038\u001b[0m         warnings\u001b[38;5;241m.\u001b[39mwarn(\n\u001b[1;32m   2039\u001b[0m             COW_WARNING_SETITEM_MSG,\n\u001b[1;32m   2040\u001b[0m             \u001b[38;5;167;01mFutureWarning\u001b[39;00m,\n\u001b[1;32m   2041\u001b[0m             stacklevel\u001b[38;5;241m=\u001b[39mfind_stack_level(),\n\u001b[1;32m   2042\u001b[0m         )\n\u001b[0;32m-> 2044\u001b[0m \u001b[38;5;28;43msuper\u001b[39;49m\u001b[43m(\u001b[49m\u001b[43m)\u001b[49m\u001b[38;5;241;43m.\u001b[39;49m\u001b[43msetitem_inplace\u001b[49m\u001b[43m(\u001b[49m\u001b[43mindexer\u001b[49m\u001b[43m,\u001b[49m\u001b[43m \u001b[49m\u001b[43mvalue\u001b[49m\u001b[43m)\u001b[49m\n",
      "File \u001b[0;32m~/miniconda3/envs/geneformer2/lib/python3.10/site-packages/pandas/core/internals/base.py:363\u001b[0m, in \u001b[0;36mSingleDataManager.setitem_inplace\u001b[0;34m(self, indexer, value, warn)\u001b[0m\n\u001b[1;32m    361\u001b[0m     value \u001b[38;5;241m=\u001b[39m value[\u001b[38;5;241m0\u001b[39m, \u001b[38;5;241m.\u001b[39m\u001b[38;5;241m.\u001b[39m\u001b[38;5;241m.\u001b[39m]\n\u001b[0;32m--> 363\u001b[0m \u001b[43marr\u001b[49m\u001b[43m[\u001b[49m\u001b[43mindexer\u001b[49m\u001b[43m]\u001b[49m \u001b[38;5;241m=\u001b[39m value\n",
      "\u001b[0;31mValueError\u001b[0m: setting an array element with a sequence.",
      "\nDuring handling of the above exception, another exception occurred:\n",
      "\u001b[0;31mValueError\u001b[0m                                Traceback (most recent call last)",
      "Cell \u001b[0;32mIn[23], line 13\u001b[0m\n\u001b[1;32m     11\u001b[0m \u001b[38;5;66;03m# Iterate over the filtered_df to set the embeddings in the original df\u001b[39;00m\n\u001b[1;32m     12\u001b[0m \u001b[38;5;28;01mfor\u001b[39;00m idx \u001b[38;5;129;01min\u001b[39;00m filtered_df\u001b[38;5;241m.\u001b[39mindex:\n\u001b[0;32m---> 13\u001b[0m     \u001b[43mdf\u001b[49m\u001b[38;5;241;43m.\u001b[39;49m\u001b[43mat\u001b[49m\u001b[43m[\u001b[49m\u001b[43midx\u001b[49m\u001b[43m,\u001b[49m\u001b[43m \u001b[49m\u001b[38;5;124;43m'\u001b[39;49m\u001b[38;5;124;43membeddings\u001b[39;49m\u001b[38;5;124;43m'\u001b[39;49m\u001b[43m]\u001b[49m \u001b[38;5;241m=\u001b[39m mem_embs\u001b[38;5;241m.\u001b[39mloc[idx]\u001b[38;5;241m.\u001b[39mtolist()\n\u001b[1;32m     15\u001b[0m \u001b[38;5;66;03m# Save the original dataframe with embeddings to a new CSV or any other desired format\u001b[39;00m\n\u001b[1;32m     16\u001b[0m df\u001b[38;5;241m.\u001b[39mto_csv(\u001b[38;5;124m'\u001b[39m\u001b[38;5;124m/home/oliven/geneformer_dev/notebooks/ts_output/original_df_with_embeddings.csv\u001b[39m\u001b[38;5;124m'\u001b[39m, index\u001b[38;5;241m=\u001b[39m\u001b[38;5;28;01mFalse\u001b[39;00m)\n",
      "File \u001b[0;32m~/miniconda3/envs/geneformer2/lib/python3.10/site-packages/pandas/core/indexing.py:2586\u001b[0m, in \u001b[0;36m_AtIndexer.__setitem__\u001b[0;34m(self, key, value)\u001b[0m\n\u001b[1;32m   2583\u001b[0m     \u001b[38;5;28mself\u001b[39m\u001b[38;5;241m.\u001b[39mobj\u001b[38;5;241m.\u001b[39mloc[key] \u001b[38;5;241m=\u001b[39m value\n\u001b[1;32m   2584\u001b[0m     \u001b[38;5;28;01mreturn\u001b[39;00m\n\u001b[0;32m-> 2586\u001b[0m \u001b[38;5;28;01mreturn\u001b[39;00m \u001b[38;5;28;43msuper\u001b[39;49m\u001b[43m(\u001b[49m\u001b[43m)\u001b[49m\u001b[38;5;241;43m.\u001b[39;49m\u001b[38;5;21;43m__setitem__\u001b[39;49m\u001b[43m(\u001b[49m\u001b[43mkey\u001b[49m\u001b[43m,\u001b[49m\u001b[43m \u001b[49m\u001b[43mvalue\u001b[49m\u001b[43m)\u001b[49m\n",
      "File \u001b[0;32m~/miniconda3/envs/geneformer2/lib/python3.10/site-packages/pandas/core/indexing.py:2542\u001b[0m, in \u001b[0;36m_ScalarAccessIndexer.__setitem__\u001b[0;34m(self, key, value)\u001b[0m\n\u001b[1;32m   2539\u001b[0m \u001b[38;5;28;01mif\u001b[39;00m \u001b[38;5;28mlen\u001b[39m(key) \u001b[38;5;241m!=\u001b[39m \u001b[38;5;28mself\u001b[39m\u001b[38;5;241m.\u001b[39mndim:\n\u001b[1;32m   2540\u001b[0m     \u001b[38;5;28;01mraise\u001b[39;00m \u001b[38;5;167;01mValueError\u001b[39;00m(\u001b[38;5;124m\"\u001b[39m\u001b[38;5;124mNot enough indexers for scalar access (setting)!\u001b[39m\u001b[38;5;124m\"\u001b[39m)\n\u001b[0;32m-> 2542\u001b[0m \u001b[38;5;28;43mself\u001b[39;49m\u001b[38;5;241;43m.\u001b[39;49m\u001b[43mobj\u001b[49m\u001b[38;5;241;43m.\u001b[39;49m\u001b[43m_set_value\u001b[49m\u001b[43m(\u001b[49m\u001b[38;5;241;43m*\u001b[39;49m\u001b[43mkey\u001b[49m\u001b[43m,\u001b[49m\u001b[43m \u001b[49m\u001b[43mvalue\u001b[49m\u001b[38;5;241;43m=\u001b[39;49m\u001b[43mvalue\u001b[49m\u001b[43m,\u001b[49m\u001b[43m \u001b[49m\u001b[43mtakeable\u001b[49m\u001b[38;5;241;43m=\u001b[39;49m\u001b[38;5;28;43mself\u001b[39;49m\u001b[38;5;241;43m.\u001b[39;49m\u001b[43m_takeable\u001b[49m\u001b[43m)\u001b[49m\n",
      "File \u001b[0;32m~/miniconda3/envs/geneformer2/lib/python3.10/site-packages/pandas/core/frame.py:4575\u001b[0m, in \u001b[0;36mDataFrame._set_value\u001b[0;34m(self, index, col, value, takeable)\u001b[0m\n\u001b[1;32m   4573\u001b[0m         \u001b[38;5;28mself\u001b[39m\u001b[38;5;241m.\u001b[39miloc[index, col] \u001b[38;5;241m=\u001b[39m value\n\u001b[1;32m   4574\u001b[0m     \u001b[38;5;28;01melse\u001b[39;00m:\n\u001b[0;32m-> 4575\u001b[0m         \u001b[38;5;28;43mself\u001b[39;49m\u001b[38;5;241;43m.\u001b[39;49m\u001b[43mloc\u001b[49m\u001b[43m[\u001b[49m\u001b[43mindex\u001b[49m\u001b[43m,\u001b[49m\u001b[43m \u001b[49m\u001b[43mcol\u001b[49m\u001b[43m]\u001b[49m \u001b[38;5;241m=\u001b[39m value\n\u001b[1;32m   4576\u001b[0m     \u001b[38;5;28mself\u001b[39m\u001b[38;5;241m.\u001b[39m_item_cache\u001b[38;5;241m.\u001b[39mpop(col, \u001b[38;5;28;01mNone\u001b[39;00m)\n\u001b[1;32m   4578\u001b[0m \u001b[38;5;28;01mexcept\u001b[39;00m InvalidIndexError \u001b[38;5;28;01mas\u001b[39;00m ii_err:\n\u001b[1;32m   4579\u001b[0m     \u001b[38;5;66;03m# GH48729: Seems like you are trying to assign a value to a\u001b[39;00m\n\u001b[1;32m   4580\u001b[0m     \u001b[38;5;66;03m# row when only scalar options are permitted\u001b[39;00m\n",
      "File \u001b[0;32m~/miniconda3/envs/geneformer2/lib/python3.10/site-packages/pandas/core/indexing.py:911\u001b[0m, in \u001b[0;36m_LocationIndexer.__setitem__\u001b[0;34m(self, key, value)\u001b[0m\n\u001b[1;32m    908\u001b[0m \u001b[38;5;28mself\u001b[39m\u001b[38;5;241m.\u001b[39m_has_valid_setitem_indexer(key)\n\u001b[1;32m    910\u001b[0m iloc \u001b[38;5;241m=\u001b[39m \u001b[38;5;28mself\u001b[39m \u001b[38;5;28;01mif\u001b[39;00m \u001b[38;5;28mself\u001b[39m\u001b[38;5;241m.\u001b[39mname \u001b[38;5;241m==\u001b[39m \u001b[38;5;124m\"\u001b[39m\u001b[38;5;124miloc\u001b[39m\u001b[38;5;124m\"\u001b[39m \u001b[38;5;28;01melse\u001b[39;00m \u001b[38;5;28mself\u001b[39m\u001b[38;5;241m.\u001b[39mobj\u001b[38;5;241m.\u001b[39miloc\n\u001b[0;32m--> 911\u001b[0m \u001b[43miloc\u001b[49m\u001b[38;5;241;43m.\u001b[39;49m\u001b[43m_setitem_with_indexer\u001b[49m\u001b[43m(\u001b[49m\u001b[43mindexer\u001b[49m\u001b[43m,\u001b[49m\u001b[43m \u001b[49m\u001b[43mvalue\u001b[49m\u001b[43m,\u001b[49m\u001b[43m \u001b[49m\u001b[38;5;28;43mself\u001b[39;49m\u001b[38;5;241;43m.\u001b[39;49m\u001b[43mname\u001b[49m\u001b[43m)\u001b[49m\n",
      "File \u001b[0;32m~/miniconda3/envs/geneformer2/lib/python3.10/site-packages/pandas/core/indexing.py:1942\u001b[0m, in \u001b[0;36m_iLocIndexer._setitem_with_indexer\u001b[0;34m(self, indexer, value, name)\u001b[0m\n\u001b[1;32m   1939\u001b[0m \u001b[38;5;66;03m# align and set the values\u001b[39;00m\n\u001b[1;32m   1940\u001b[0m \u001b[38;5;28;01mif\u001b[39;00m take_split_path:\n\u001b[1;32m   1941\u001b[0m     \u001b[38;5;66;03m# We have to operate column-wise\u001b[39;00m\n\u001b[0;32m-> 1942\u001b[0m     \u001b[38;5;28;43mself\u001b[39;49m\u001b[38;5;241;43m.\u001b[39;49m\u001b[43m_setitem_with_indexer_split_path\u001b[49m\u001b[43m(\u001b[49m\u001b[43mindexer\u001b[49m\u001b[43m,\u001b[49m\u001b[43m \u001b[49m\u001b[43mvalue\u001b[49m\u001b[43m,\u001b[49m\u001b[43m \u001b[49m\u001b[43mname\u001b[49m\u001b[43m)\u001b[49m\n\u001b[1;32m   1943\u001b[0m \u001b[38;5;28;01melse\u001b[39;00m:\n\u001b[1;32m   1944\u001b[0m     \u001b[38;5;28mself\u001b[39m\u001b[38;5;241m.\u001b[39m_setitem_single_block(indexer, value, name)\n",
      "File \u001b[0;32m~/miniconda3/envs/geneformer2/lib/python3.10/site-packages/pandas/core/indexing.py:1998\u001b[0m, in \u001b[0;36m_iLocIndexer._setitem_with_indexer_split_path\u001b[0;34m(self, indexer, value, name)\u001b[0m\n\u001b[1;32m   1993\u001b[0m     \u001b[38;5;28;01mif\u001b[39;00m \u001b[38;5;28mlen\u001b[39m(value) \u001b[38;5;241m==\u001b[39m \u001b[38;5;241m1\u001b[39m \u001b[38;5;129;01mand\u001b[39;00m \u001b[38;5;129;01mnot\u001b[39;00m is_integer(info_axis):\n\u001b[1;32m   1994\u001b[0m         \u001b[38;5;66;03m# This is a case like df.iloc[:3, [1]] = [0]\u001b[39;00m\n\u001b[1;32m   1995\u001b[0m         \u001b[38;5;66;03m#  where we treat as df.iloc[:3, 1] = 0\u001b[39;00m\n\u001b[1;32m   1996\u001b[0m         \u001b[38;5;28;01mreturn\u001b[39;00m \u001b[38;5;28mself\u001b[39m\u001b[38;5;241m.\u001b[39m_setitem_with_indexer((pi, info_axis[\u001b[38;5;241m0\u001b[39m]), value[\u001b[38;5;241m0\u001b[39m])\n\u001b[0;32m-> 1998\u001b[0m     \u001b[38;5;28;01mraise\u001b[39;00m \u001b[38;5;167;01mValueError\u001b[39;00m(\n\u001b[1;32m   1999\u001b[0m         \u001b[38;5;124m\"\u001b[39m\u001b[38;5;124mMust have equal len keys and value \u001b[39m\u001b[38;5;124m\"\u001b[39m\n\u001b[1;32m   2000\u001b[0m         \u001b[38;5;124m\"\u001b[39m\u001b[38;5;124mwhen setting with an iterable\u001b[39m\u001b[38;5;124m\"\u001b[39m\n\u001b[1;32m   2001\u001b[0m     )\n\u001b[1;32m   2003\u001b[0m \u001b[38;5;28;01melif\u001b[39;00m lplane_indexer \u001b[38;5;241m==\u001b[39m \u001b[38;5;241m0\u001b[39m \u001b[38;5;129;01mand\u001b[39;00m \u001b[38;5;28mlen\u001b[39m(value) \u001b[38;5;241m==\u001b[39m \u001b[38;5;28mlen\u001b[39m(\u001b[38;5;28mself\u001b[39m\u001b[38;5;241m.\u001b[39mobj\u001b[38;5;241m.\u001b[39mindex):\n\u001b[1;32m   2004\u001b[0m     \u001b[38;5;66;03m# We get here in one case via .loc with a all-False mask\u001b[39;00m\n\u001b[1;32m   2005\u001b[0m     \u001b[38;5;28;01mpass\u001b[39;00m\n",
      "\u001b[0;31mValueError\u001b[0m: Must have equal len keys and value when setting with an iterable"
     ]
    }
   ],
   "source": [
    "\n",
    "\n",
    "# Assuming mem_embs is a DataFrame with the extracted embeddings for the fibroblast cells\n",
    "# and df is the original DataFrame.\n",
    "\n",
    "# Ensure mem_embs is indexed in the same order as filtered_df\n",
    "filtered_df.reset_index(drop=True, inplace=True)\n",
    "mem_embs.reset_index(drop=True, inplace=True)\n",
    "\n",
    "# Create a new column in the original dataframe and fill it with NaN\n",
    "df['embeddings'] = np.nan\n",
    "\n",
    "# Iterate over the filtered_df to set the embeddings in the original df\n",
    "for idx in filtered_df.index:\n",
    "    df.at[idx, 'embeddings'] = mem_embs.loc[idx].tolist()\n",
    "\n",
    "# Save the original dataframe with embeddings to a new CSV or any other desired format\n",
    "df.to_csv('/home/oliven/geneformer_dev/notebooks/ts_output/original_df_with_embeddings.csv', index=False)\n",
    "\n",
    "# Save the fibroblast_df as a separate CSV or any other desired format\n",
    "fibroblast_df = filtered_df.copy()\n",
    "fibroblast_df.to_csv('/home/oliven/geneformer_dev/notebooks/ts_output/fibroblast_df.csv', index=False)"
   ]
  },
  {
   "cell_type": "code",
   "execution_count": 25,
   "id": "cca9e61a-8035-410e-8681-ba7d5d3551e5",
   "metadata": {},
   "outputs": [],
   "source": [
    "import pandas as pd\n",
    "import numpy as np\n",
    "\n",
    "# Assuming mem_embs is a DataFrame with the extracted embeddings for the fibroblast cells\n",
    "# and df is the original DataFrame.\n",
    "\n",
    "# Ensure mem_embs is indexed in the same order as filtered_df\n",
    "filtered_df.reset_index(drop=True, inplace=True)\n",
    "mem_embs.reset_index(drop=True, inplace=True)\n",
    "\n",
    "# Create a new column in the original dataframe and fill it with NaN\n",
    "df['embeddings'] = np.nan\n",
    "\n",
    "# Convert the NaN values to a suitable format for holding lists\n",
    "df['embeddings'] = df['embeddings'].apply(lambda x: [np.nan]*mem_embs.shape[1])\n",
    "\n",
    "# Iterate over the filtered_df to set the embeddings in the original df\n",
    "for original_idx, filtered_idx in zip(filtered_df.index, mem_embs.index):\n",
    "    df.at[original_idx, 'embeddings'] = mem_embs.loc[filtered_idx].tolist()\n",
    "\n",
    "# Save the original dataframe with embeddings to a new CSV or any other desired format\n",
    "df.to_csv('/home/oliven/geneformer_dev/notebooks/ts_output/original_df_with_embeddings.csv', index=False)\n",
    "\n",
    "# Save the fibroblast_df as a separate CSV or any other desired format\n",
    "fibroblast_df = filtered_df.copy()\n",
    "fibroblast_df.to_csv('/home/oliven/geneformer_dev/notebooks/ts_output/fibroblast_df.csv', index=False)\n"
   ]
  },
  {
   "cell_type": "code",
   "execution_count": 26,
   "id": "773bed7b-d1a5-4b56-8331-00f8045c3e6b",
   "metadata": {},
   "outputs": [
    {
     "ename": "ValueError",
     "evalue": "Must have equal len keys and value when setting with an iterable",
     "output_type": "error",
     "traceback": [
      "\u001b[0;31m---------------------------------------------------------------------------\u001b[0m",
      "\u001b[0;31mValueError\u001b[0m                                Traceback (most recent call last)",
      "Cell \u001b[0;32mIn[26], line 12\u001b[0m\n\u001b[1;32m     10\u001b[0m \u001b[38;5;66;03m# Iterate over the filtered_df to set the embeddings in the original df\u001b[39;00m\n\u001b[1;32m     11\u001b[0m \u001b[38;5;28;01mfor\u001b[39;00m idx \u001b[38;5;129;01min\u001b[39;00m filtered_df\u001b[38;5;241m.\u001b[39mindex:\n\u001b[0;32m---> 12\u001b[0m     \u001b[43mdf\u001b[49m\u001b[38;5;241;43m.\u001b[39;49m\u001b[43mloc\u001b[49m\u001b[43m[\u001b[49m\u001b[43midx\u001b[49m\u001b[43m,\u001b[49m\u001b[43m \u001b[49m\u001b[38;5;124;43m'\u001b[39;49m\u001b[38;5;124;43membeddings\u001b[39;49m\u001b[38;5;124;43m'\u001b[39;49m\u001b[43m]\u001b[49m \u001b[38;5;241m=\u001b[39m mem_embs\u001b[38;5;241m.\u001b[39mloc[idx]\u001b[38;5;241m.\u001b[39mvalues\n\u001b[1;32m     14\u001b[0m \u001b[38;5;66;03m# Save the original dataframe with embeddings to a new CSV or any other desired format\u001b[39;00m\n\u001b[1;32m     15\u001b[0m df\u001b[38;5;241m.\u001b[39mto_csv(\u001b[38;5;124m'\u001b[39m\u001b[38;5;124m/home/oliven/geneformer_dev/notebooks/ts_output/original_df_with_embeddings.csv\u001b[39m\u001b[38;5;124m'\u001b[39m, index\u001b[38;5;241m=\u001b[39m\u001b[38;5;28;01mFalse\u001b[39;00m)\n",
      "File \u001b[0;32m~/miniconda3/envs/geneformer2/lib/python3.10/site-packages/pandas/core/indexing.py:911\u001b[0m, in \u001b[0;36m_LocationIndexer.__setitem__\u001b[0;34m(self, key, value)\u001b[0m\n\u001b[1;32m    908\u001b[0m \u001b[38;5;28mself\u001b[39m\u001b[38;5;241m.\u001b[39m_has_valid_setitem_indexer(key)\n\u001b[1;32m    910\u001b[0m iloc \u001b[38;5;241m=\u001b[39m \u001b[38;5;28mself\u001b[39m \u001b[38;5;28;01mif\u001b[39;00m \u001b[38;5;28mself\u001b[39m\u001b[38;5;241m.\u001b[39mname \u001b[38;5;241m==\u001b[39m \u001b[38;5;124m\"\u001b[39m\u001b[38;5;124miloc\u001b[39m\u001b[38;5;124m\"\u001b[39m \u001b[38;5;28;01melse\u001b[39;00m \u001b[38;5;28mself\u001b[39m\u001b[38;5;241m.\u001b[39mobj\u001b[38;5;241m.\u001b[39miloc\n\u001b[0;32m--> 911\u001b[0m \u001b[43miloc\u001b[49m\u001b[38;5;241;43m.\u001b[39;49m\u001b[43m_setitem_with_indexer\u001b[49m\u001b[43m(\u001b[49m\u001b[43mindexer\u001b[49m\u001b[43m,\u001b[49m\u001b[43m \u001b[49m\u001b[43mvalue\u001b[49m\u001b[43m,\u001b[49m\u001b[43m \u001b[49m\u001b[38;5;28;43mself\u001b[39;49m\u001b[38;5;241;43m.\u001b[39;49m\u001b[43mname\u001b[49m\u001b[43m)\u001b[49m\n",
      "File \u001b[0;32m~/miniconda3/envs/geneformer2/lib/python3.10/site-packages/pandas/core/indexing.py:1942\u001b[0m, in \u001b[0;36m_iLocIndexer._setitem_with_indexer\u001b[0;34m(self, indexer, value, name)\u001b[0m\n\u001b[1;32m   1939\u001b[0m \u001b[38;5;66;03m# align and set the values\u001b[39;00m\n\u001b[1;32m   1940\u001b[0m \u001b[38;5;28;01mif\u001b[39;00m take_split_path:\n\u001b[1;32m   1941\u001b[0m     \u001b[38;5;66;03m# We have to operate column-wise\u001b[39;00m\n\u001b[0;32m-> 1942\u001b[0m     \u001b[38;5;28;43mself\u001b[39;49m\u001b[38;5;241;43m.\u001b[39;49m\u001b[43m_setitem_with_indexer_split_path\u001b[49m\u001b[43m(\u001b[49m\u001b[43mindexer\u001b[49m\u001b[43m,\u001b[49m\u001b[43m \u001b[49m\u001b[43mvalue\u001b[49m\u001b[43m,\u001b[49m\u001b[43m \u001b[49m\u001b[43mname\u001b[49m\u001b[43m)\u001b[49m\n\u001b[1;32m   1943\u001b[0m \u001b[38;5;28;01melse\u001b[39;00m:\n\u001b[1;32m   1944\u001b[0m     \u001b[38;5;28mself\u001b[39m\u001b[38;5;241m.\u001b[39m_setitem_single_block(indexer, value, name)\n",
      "File \u001b[0;32m~/miniconda3/envs/geneformer2/lib/python3.10/site-packages/pandas/core/indexing.py:1998\u001b[0m, in \u001b[0;36m_iLocIndexer._setitem_with_indexer_split_path\u001b[0;34m(self, indexer, value, name)\u001b[0m\n\u001b[1;32m   1993\u001b[0m     \u001b[38;5;28;01mif\u001b[39;00m \u001b[38;5;28mlen\u001b[39m(value) \u001b[38;5;241m==\u001b[39m \u001b[38;5;241m1\u001b[39m \u001b[38;5;129;01mand\u001b[39;00m \u001b[38;5;129;01mnot\u001b[39;00m is_integer(info_axis):\n\u001b[1;32m   1994\u001b[0m         \u001b[38;5;66;03m# This is a case like df.iloc[:3, [1]] = [0]\u001b[39;00m\n\u001b[1;32m   1995\u001b[0m         \u001b[38;5;66;03m#  where we treat as df.iloc[:3, 1] = 0\u001b[39;00m\n\u001b[1;32m   1996\u001b[0m         \u001b[38;5;28;01mreturn\u001b[39;00m \u001b[38;5;28mself\u001b[39m\u001b[38;5;241m.\u001b[39m_setitem_with_indexer((pi, info_axis[\u001b[38;5;241m0\u001b[39m]), value[\u001b[38;5;241m0\u001b[39m])\n\u001b[0;32m-> 1998\u001b[0m     \u001b[38;5;28;01mraise\u001b[39;00m \u001b[38;5;167;01mValueError\u001b[39;00m(\n\u001b[1;32m   1999\u001b[0m         \u001b[38;5;124m\"\u001b[39m\u001b[38;5;124mMust have equal len keys and value \u001b[39m\u001b[38;5;124m\"\u001b[39m\n\u001b[1;32m   2000\u001b[0m         \u001b[38;5;124m\"\u001b[39m\u001b[38;5;124mwhen setting with an iterable\u001b[39m\u001b[38;5;124m\"\u001b[39m\n\u001b[1;32m   2001\u001b[0m     )\n\u001b[1;32m   2003\u001b[0m \u001b[38;5;28;01melif\u001b[39;00m lplane_indexer \u001b[38;5;241m==\u001b[39m \u001b[38;5;241m0\u001b[39m \u001b[38;5;129;01mand\u001b[39;00m \u001b[38;5;28mlen\u001b[39m(value) \u001b[38;5;241m==\u001b[39m \u001b[38;5;28mlen\u001b[39m(\u001b[38;5;28mself\u001b[39m\u001b[38;5;241m.\u001b[39mobj\u001b[38;5;241m.\u001b[39mindex):\n\u001b[1;32m   2004\u001b[0m     \u001b[38;5;66;03m# We get here in one case via .loc with a all-False mask\u001b[39;00m\n\u001b[1;32m   2005\u001b[0m     \u001b[38;5;28;01mpass\u001b[39;00m\n",
      "\u001b[0;31mValueError\u001b[0m: Must have equal len keys and value when setting with an iterable"
     ]
    }
   ],
   "source": [
    "import pandas as pd\n",
    "import numpy as np\n",
    "\n",
    "# Assuming mem_embs is a DataFrame with the extracted embeddings for the fibroblast cells\n",
    "# and df is the original DataFrame.\n",
    "\n",
    "# Initialize a new column in df for embeddings and fill with NaN\n",
    "df['embeddings'] = np.nan\n",
    "\n",
    "# Iterate over the filtered_df to set the embeddings in the original df\n",
    "for idx in filtered_df.index:\n",
    "    df.loc[idx, 'embeddings'] = mem_embs.loc[idx].values\n",
    "\n",
    "# Save the original dataframe with embeddings to a new CSV or any other desired format\n",
    "df.to_csv('/home/oliven/geneformer_dev/notebooks/ts_output/original_df_with_embeddings.csv', index=False)\n",
    "\n",
    "# Save the fibroblast_df as a separate CSV or any other desired format\n",
    "fibroblast_df = filtered_df.copy()\n",
    "fibroblast_df.to_csv('/home/oliven/geneformer_dev/notebooks/ts_output/fibroblast_df.csv', index=False)\n"
   ]
  },
  {
   "cell_type": "code",
   "execution_count": 7,
   "id": "681f491b-76c7-4c05-ad5d-c2b290421dad",
   "metadata": {},
   "outputs": [
    {
     "ename": "KeyError",
     "evalue": "354",
     "output_type": "error",
     "traceback": [
      "\u001b[0;31m---------------------------------------------------------------------------\u001b[0m",
      "\u001b[0;31mValueError\u001b[0m                                Traceback (most recent call last)",
      "File \u001b[0;32m~/miniconda3/envs/geneformer2/lib/python3.10/site-packages/pandas/core/indexes/range.py:413\u001b[0m, in \u001b[0;36mRangeIndex.get_loc\u001b[0;34m(self, key)\u001b[0m\n\u001b[1;32m    412\u001b[0m \u001b[38;5;28;01mtry\u001b[39;00m:\n\u001b[0;32m--> 413\u001b[0m     \u001b[38;5;28;01mreturn\u001b[39;00m \u001b[38;5;28;43mself\u001b[39;49m\u001b[38;5;241;43m.\u001b[39;49m\u001b[43m_range\u001b[49m\u001b[38;5;241;43m.\u001b[39;49m\u001b[43mindex\u001b[49m\u001b[43m(\u001b[49m\u001b[43mnew_key\u001b[49m\u001b[43m)\u001b[49m\n\u001b[1;32m    414\u001b[0m \u001b[38;5;28;01mexcept\u001b[39;00m \u001b[38;5;167;01mValueError\u001b[39;00m \u001b[38;5;28;01mas\u001b[39;00m err:\n",
      "\u001b[0;31mValueError\u001b[0m: 354 is not in range",
      "\nThe above exception was the direct cause of the following exception:\n",
      "\u001b[0;31mKeyError\u001b[0m                                  Traceback (most recent call last)",
      "Cell \u001b[0;32mIn[7], line 15\u001b[0m\n\u001b[1;32m     13\u001b[0m \u001b[38;5;66;03m# Iterate over the filtered_df to set the embeddings in the original df\u001b[39;00m\n\u001b[1;32m     14\u001b[0m \u001b[38;5;28;01mfor\u001b[39;00m idx \u001b[38;5;129;01min\u001b[39;00m filtered_df\u001b[38;5;241m.\u001b[39mindex:\n\u001b[0;32m---> 15\u001b[0m     df\u001b[38;5;241m.\u001b[39mat[idx, \u001b[38;5;124m'\u001b[39m\u001b[38;5;124membeddings\u001b[39m\u001b[38;5;124m'\u001b[39m] \u001b[38;5;241m=\u001b[39m \u001b[43mmem_embs\u001b[49m\u001b[38;5;241;43m.\u001b[39;49m\u001b[43mloc\u001b[49m\u001b[43m[\u001b[49m\u001b[43midx\u001b[49m\u001b[43m]\u001b[49m\u001b[38;5;241m.\u001b[39mvalues\u001b[38;5;241m.\u001b[39mtolist()\n\u001b[1;32m     17\u001b[0m \u001b[38;5;66;03m# Save the original dataframe with embeddings to a new CSV or any other desired format\u001b[39;00m\n\u001b[1;32m     18\u001b[0m df\u001b[38;5;241m.\u001b[39mto_csv(\u001b[38;5;124m'\u001b[39m\u001b[38;5;124m/home/oliven/geneformer_dev/notebooks/ts_output/original_df_with_embeddings.csv\u001b[39m\u001b[38;5;124m'\u001b[39m, index\u001b[38;5;241m=\u001b[39m\u001b[38;5;28;01mFalse\u001b[39;00m)\n",
      "File \u001b[0;32m~/miniconda3/envs/geneformer2/lib/python3.10/site-packages/pandas/core/indexing.py:1191\u001b[0m, in \u001b[0;36m_LocationIndexer.__getitem__\u001b[0;34m(self, key)\u001b[0m\n\u001b[1;32m   1189\u001b[0m maybe_callable \u001b[38;5;241m=\u001b[39m com\u001b[38;5;241m.\u001b[39mapply_if_callable(key, \u001b[38;5;28mself\u001b[39m\u001b[38;5;241m.\u001b[39mobj)\n\u001b[1;32m   1190\u001b[0m maybe_callable \u001b[38;5;241m=\u001b[39m \u001b[38;5;28mself\u001b[39m\u001b[38;5;241m.\u001b[39m_check_deprecated_callable_usage(key, maybe_callable)\n\u001b[0;32m-> 1191\u001b[0m \u001b[38;5;28;01mreturn\u001b[39;00m \u001b[38;5;28;43mself\u001b[39;49m\u001b[38;5;241;43m.\u001b[39;49m\u001b[43m_getitem_axis\u001b[49m\u001b[43m(\u001b[49m\u001b[43mmaybe_callable\u001b[49m\u001b[43m,\u001b[49m\u001b[43m \u001b[49m\u001b[43maxis\u001b[49m\u001b[38;5;241;43m=\u001b[39;49m\u001b[43maxis\u001b[49m\u001b[43m)\u001b[49m\n",
      "File \u001b[0;32m~/miniconda3/envs/geneformer2/lib/python3.10/site-packages/pandas/core/indexing.py:1431\u001b[0m, in \u001b[0;36m_LocIndexer._getitem_axis\u001b[0;34m(self, key, axis)\u001b[0m\n\u001b[1;32m   1429\u001b[0m \u001b[38;5;66;03m# fall thru to straight lookup\u001b[39;00m\n\u001b[1;32m   1430\u001b[0m \u001b[38;5;28mself\u001b[39m\u001b[38;5;241m.\u001b[39m_validate_key(key, axis)\n\u001b[0;32m-> 1431\u001b[0m \u001b[38;5;28;01mreturn\u001b[39;00m \u001b[38;5;28;43mself\u001b[39;49m\u001b[38;5;241;43m.\u001b[39;49m\u001b[43m_get_label\u001b[49m\u001b[43m(\u001b[49m\u001b[43mkey\u001b[49m\u001b[43m,\u001b[49m\u001b[43m \u001b[49m\u001b[43maxis\u001b[49m\u001b[38;5;241;43m=\u001b[39;49m\u001b[43maxis\u001b[49m\u001b[43m)\u001b[49m\n",
      "File \u001b[0;32m~/miniconda3/envs/geneformer2/lib/python3.10/site-packages/pandas/core/indexing.py:1381\u001b[0m, in \u001b[0;36m_LocIndexer._get_label\u001b[0;34m(self, label, axis)\u001b[0m\n\u001b[1;32m   1379\u001b[0m \u001b[38;5;28;01mdef\u001b[39;00m \u001b[38;5;21m_get_label\u001b[39m(\u001b[38;5;28mself\u001b[39m, label, axis: AxisInt):\n\u001b[1;32m   1380\u001b[0m     \u001b[38;5;66;03m# GH#5567 this will fail if the label is not present in the axis.\u001b[39;00m\n\u001b[0;32m-> 1381\u001b[0m     \u001b[38;5;28;01mreturn\u001b[39;00m \u001b[38;5;28;43mself\u001b[39;49m\u001b[38;5;241;43m.\u001b[39;49m\u001b[43mobj\u001b[49m\u001b[38;5;241;43m.\u001b[39;49m\u001b[43mxs\u001b[49m\u001b[43m(\u001b[49m\u001b[43mlabel\u001b[49m\u001b[43m,\u001b[49m\u001b[43m \u001b[49m\u001b[43maxis\u001b[49m\u001b[38;5;241;43m=\u001b[39;49m\u001b[43maxis\u001b[49m\u001b[43m)\u001b[49m\n",
      "File \u001b[0;32m~/miniconda3/envs/geneformer2/lib/python3.10/site-packages/pandas/core/generic.py:4301\u001b[0m, in \u001b[0;36mNDFrame.xs\u001b[0;34m(self, key, axis, level, drop_level)\u001b[0m\n\u001b[1;32m   4299\u001b[0m             new_index \u001b[38;5;241m=\u001b[39m index[loc]\n\u001b[1;32m   4300\u001b[0m \u001b[38;5;28;01melse\u001b[39;00m:\n\u001b[0;32m-> 4301\u001b[0m     loc \u001b[38;5;241m=\u001b[39m \u001b[43mindex\u001b[49m\u001b[38;5;241;43m.\u001b[39;49m\u001b[43mget_loc\u001b[49m\u001b[43m(\u001b[49m\u001b[43mkey\u001b[49m\u001b[43m)\u001b[49m\n\u001b[1;32m   4303\u001b[0m     \u001b[38;5;28;01mif\u001b[39;00m \u001b[38;5;28misinstance\u001b[39m(loc, np\u001b[38;5;241m.\u001b[39mndarray):\n\u001b[1;32m   4304\u001b[0m         \u001b[38;5;28;01mif\u001b[39;00m loc\u001b[38;5;241m.\u001b[39mdtype \u001b[38;5;241m==\u001b[39m np\u001b[38;5;241m.\u001b[39mbool_:\n",
      "File \u001b[0;32m~/miniconda3/envs/geneformer2/lib/python3.10/site-packages/pandas/core/indexes/range.py:415\u001b[0m, in \u001b[0;36mRangeIndex.get_loc\u001b[0;34m(self, key)\u001b[0m\n\u001b[1;32m    413\u001b[0m         \u001b[38;5;28;01mreturn\u001b[39;00m \u001b[38;5;28mself\u001b[39m\u001b[38;5;241m.\u001b[39m_range\u001b[38;5;241m.\u001b[39mindex(new_key)\n\u001b[1;32m    414\u001b[0m     \u001b[38;5;28;01mexcept\u001b[39;00m \u001b[38;5;167;01mValueError\u001b[39;00m \u001b[38;5;28;01mas\u001b[39;00m err:\n\u001b[0;32m--> 415\u001b[0m         \u001b[38;5;28;01mraise\u001b[39;00m \u001b[38;5;167;01mKeyError\u001b[39;00m(key) \u001b[38;5;28;01mfrom\u001b[39;00m \u001b[38;5;21;01merr\u001b[39;00m\n\u001b[1;32m    416\u001b[0m \u001b[38;5;28;01mif\u001b[39;00m \u001b[38;5;28misinstance\u001b[39m(key, Hashable):\n\u001b[1;32m    417\u001b[0m     \u001b[38;5;28;01mraise\u001b[39;00m \u001b[38;5;167;01mKeyError\u001b[39;00m(key)\n",
      "\u001b[0;31mKeyError\u001b[0m: 354"
     ]
    }
   ],
   "source": [
    "import pandas as pd\n",
    "import numpy as np\n",
    "\n",
    "# Assuming mem_embs is a DataFrame with the extracted embeddings for the fibroblast cells\n",
    "# and df is the original DataFrame.\n",
    "\n",
    "# Initialize a new column in df for embeddings and fill with NaN\n",
    "df['embeddings'] = np.nan\n",
    "\n",
    "# Convert the NaN values to a suitable format for holding lists\n",
    "df['embeddings'] = df['embeddings'].apply(lambda x: [np.nan] * mem_embs.shape[1] if pd.isna(x) else x)\n",
    "\n",
    "# Iterate over the filtered_df to set the embeddings in the original df\n",
    "for idx in filtered_df.index:\n",
    "    df.at[idx, 'embeddings'] = mem_embs.loc[idx].values.tolist()\n",
    "\n",
    "# Save the original dataframe with embeddings to a new CSV or any other desired format\n",
    "df.to_csv('/home/oliven/geneformer_dev/notebooks/ts_output/original_df_with_embeddings.csv', index=False)\n",
    "\n",
    "# Save the fibroblast_df as a separate CSV or any other desired format\n",
    "fibroblast_df = filtered_df.copy()\n",
    "fibroblast_df.to_csv('/home/oliven/geneformer_dev/notebooks/ts_output/fibroblast_df.csv', index=False)\n"
   ]
  },
  {
   "cell_type": "code",
   "execution_count": null,
   "id": "3c8e5fc2-9f34-48aa-82ff-ef5e00891839",
   "metadata": {},
   "outputs": [],
   "source": [
    "# Step 1: Filter rows containing 'fibroblast'\n",
    "mask = df.apply(lambda x: x.map(lambda s: search_string(s, 'fibroblast')))\n",
    "filtered_df = df.loc[mask.any(axis=1)]\n",
    "\n",
    "# Step 2: Apply extract_embedding_in_mem function and save embeddings\n",
    "def apply_embedding(row):\n",
    "    if search_string(row, 'fibroblast'):\n",
    "        return extract_embedding_in_mem(row)\n",
    "    else:\n",
    "        return None\n",
    "\n",
    "filtered_df['embeddings'] = filtered_df.apply(apply_embedding, axis=1)\n",
    "\n",
    "print(filtered_df)\n",
    "print(filtered_df.shape)\n"
   ]
  },
  {
   "cell_type": "code",
   "execution_count": 8,
   "id": "706ab90e-9564-4054-836d-e53ece46bd3b",
   "metadata": {},
   "outputs": [
    {
     "ename": "NameError",
     "evalue": "name 'extract_embedding_in_mem' is not defined",
     "output_type": "error",
     "traceback": [
      "\u001b[0;31m---------------------------------------------------------------------------\u001b[0m",
      "\u001b[0;31mNameError\u001b[0m                                 Traceback (most recent call last)",
      "Cell \u001b[0;32mIn[8], line 15\u001b[0m\n\u001b[1;32m     12\u001b[0m         \u001b[38;5;28;01mreturn\u001b[39;00m \u001b[38;5;28;01mNone\u001b[39;00m\n\u001b[1;32m     14\u001b[0m \u001b[38;5;66;03m# Apply function to original df to preserve indexes\u001b[39;00m\n\u001b[0;32m---> 15\u001b[0m df[\u001b[38;5;124m'\u001b[39m\u001b[38;5;124membeddings\u001b[39m\u001b[38;5;124m'\u001b[39m] \u001b[38;5;241m=\u001b[39m \u001b[43mdf\u001b[49m\u001b[38;5;241;43m.\u001b[39;49m\u001b[43mapply\u001b[49m\u001b[43m(\u001b[49m\u001b[43mapply_embedding\u001b[49m\u001b[43m,\u001b[49m\u001b[43m \u001b[49m\u001b[43maxis\u001b[49m\u001b[38;5;241;43m=\u001b[39;49m\u001b[38;5;241;43m1\u001b[39;49m\u001b[43m)\u001b[49m\n\u001b[1;32m     17\u001b[0m \u001b[38;5;66;03m# Step 3: Convert to Dataset and save to disk\u001b[39;00m\n\u001b[1;32m     18\u001b[0m dataset \u001b[38;5;241m=\u001b[39m Dataset\u001b[38;5;241m.\u001b[39mfrom_pandas(df)\n",
      "File \u001b[0;32m~/miniconda3/envs/geneformer2/lib/python3.10/site-packages/pandas/core/frame.py:10374\u001b[0m, in \u001b[0;36mDataFrame.apply\u001b[0;34m(self, func, axis, raw, result_type, args, by_row, engine, engine_kwargs, **kwargs)\u001b[0m\n\u001b[1;32m  10360\u001b[0m \u001b[38;5;28;01mfrom\u001b[39;00m \u001b[38;5;21;01mpandas\u001b[39;00m\u001b[38;5;21;01m.\u001b[39;00m\u001b[38;5;21;01mcore\u001b[39;00m\u001b[38;5;21;01m.\u001b[39;00m\u001b[38;5;21;01mapply\u001b[39;00m \u001b[38;5;28;01mimport\u001b[39;00m frame_apply\n\u001b[1;32m  10362\u001b[0m op \u001b[38;5;241m=\u001b[39m frame_apply(\n\u001b[1;32m  10363\u001b[0m     \u001b[38;5;28mself\u001b[39m,\n\u001b[1;32m  10364\u001b[0m     func\u001b[38;5;241m=\u001b[39mfunc,\n\u001b[0;32m   (...)\u001b[0m\n\u001b[1;32m  10372\u001b[0m     kwargs\u001b[38;5;241m=\u001b[39mkwargs,\n\u001b[1;32m  10373\u001b[0m )\n\u001b[0;32m> 10374\u001b[0m \u001b[38;5;28;01mreturn\u001b[39;00m \u001b[43mop\u001b[49m\u001b[38;5;241;43m.\u001b[39;49m\u001b[43mapply\u001b[49m\u001b[43m(\u001b[49m\u001b[43m)\u001b[49m\u001b[38;5;241m.\u001b[39m__finalize__(\u001b[38;5;28mself\u001b[39m, method\u001b[38;5;241m=\u001b[39m\u001b[38;5;124m\"\u001b[39m\u001b[38;5;124mapply\u001b[39m\u001b[38;5;124m\"\u001b[39m)\n",
      "File \u001b[0;32m~/miniconda3/envs/geneformer2/lib/python3.10/site-packages/pandas/core/apply.py:916\u001b[0m, in \u001b[0;36mFrameApply.apply\u001b[0;34m(self)\u001b[0m\n\u001b[1;32m    913\u001b[0m \u001b[38;5;28;01melif\u001b[39;00m \u001b[38;5;28mself\u001b[39m\u001b[38;5;241m.\u001b[39mraw:\n\u001b[1;32m    914\u001b[0m     \u001b[38;5;28;01mreturn\u001b[39;00m \u001b[38;5;28mself\u001b[39m\u001b[38;5;241m.\u001b[39mapply_raw(engine\u001b[38;5;241m=\u001b[39m\u001b[38;5;28mself\u001b[39m\u001b[38;5;241m.\u001b[39mengine, engine_kwargs\u001b[38;5;241m=\u001b[39m\u001b[38;5;28mself\u001b[39m\u001b[38;5;241m.\u001b[39mengine_kwargs)\n\u001b[0;32m--> 916\u001b[0m \u001b[38;5;28;01mreturn\u001b[39;00m \u001b[38;5;28;43mself\u001b[39;49m\u001b[38;5;241;43m.\u001b[39;49m\u001b[43mapply_standard\u001b[49m\u001b[43m(\u001b[49m\u001b[43m)\u001b[49m\n",
      "File \u001b[0;32m~/miniconda3/envs/geneformer2/lib/python3.10/site-packages/pandas/core/apply.py:1063\u001b[0m, in \u001b[0;36mFrameApply.apply_standard\u001b[0;34m(self)\u001b[0m\n\u001b[1;32m   1061\u001b[0m \u001b[38;5;28;01mdef\u001b[39;00m \u001b[38;5;21mapply_standard\u001b[39m(\u001b[38;5;28mself\u001b[39m):\n\u001b[1;32m   1062\u001b[0m     \u001b[38;5;28;01mif\u001b[39;00m \u001b[38;5;28mself\u001b[39m\u001b[38;5;241m.\u001b[39mengine \u001b[38;5;241m==\u001b[39m \u001b[38;5;124m\"\u001b[39m\u001b[38;5;124mpython\u001b[39m\u001b[38;5;124m\"\u001b[39m:\n\u001b[0;32m-> 1063\u001b[0m         results, res_index \u001b[38;5;241m=\u001b[39m \u001b[38;5;28;43mself\u001b[39;49m\u001b[38;5;241;43m.\u001b[39;49m\u001b[43mapply_series_generator\u001b[49m\u001b[43m(\u001b[49m\u001b[43m)\u001b[49m\n\u001b[1;32m   1064\u001b[0m     \u001b[38;5;28;01melse\u001b[39;00m:\n\u001b[1;32m   1065\u001b[0m         results, res_index \u001b[38;5;241m=\u001b[39m \u001b[38;5;28mself\u001b[39m\u001b[38;5;241m.\u001b[39mapply_series_numba()\n",
      "File \u001b[0;32m~/miniconda3/envs/geneformer2/lib/python3.10/site-packages/pandas/core/apply.py:1081\u001b[0m, in \u001b[0;36mFrameApply.apply_series_generator\u001b[0;34m(self)\u001b[0m\n\u001b[1;32m   1078\u001b[0m \u001b[38;5;28;01mwith\u001b[39;00m option_context(\u001b[38;5;124m\"\u001b[39m\u001b[38;5;124mmode.chained_assignment\u001b[39m\u001b[38;5;124m\"\u001b[39m, \u001b[38;5;28;01mNone\u001b[39;00m):\n\u001b[1;32m   1079\u001b[0m     \u001b[38;5;28;01mfor\u001b[39;00m i, v \u001b[38;5;129;01min\u001b[39;00m \u001b[38;5;28menumerate\u001b[39m(series_gen):\n\u001b[1;32m   1080\u001b[0m         \u001b[38;5;66;03m# ignore SettingWithCopy here in case the user mutates\u001b[39;00m\n\u001b[0;32m-> 1081\u001b[0m         results[i] \u001b[38;5;241m=\u001b[39m \u001b[38;5;28;43mself\u001b[39;49m\u001b[38;5;241;43m.\u001b[39;49m\u001b[43mfunc\u001b[49m\u001b[43m(\u001b[49m\u001b[43mv\u001b[49m\u001b[43m,\u001b[49m\u001b[43m \u001b[49m\u001b[38;5;241;43m*\u001b[39;49m\u001b[38;5;28;43mself\u001b[39;49m\u001b[38;5;241;43m.\u001b[39;49m\u001b[43margs\u001b[49m\u001b[43m,\u001b[49m\u001b[43m \u001b[49m\u001b[38;5;241;43m*\u001b[39;49m\u001b[38;5;241;43m*\u001b[39;49m\u001b[38;5;28;43mself\u001b[39;49m\u001b[38;5;241;43m.\u001b[39;49m\u001b[43mkwargs\u001b[49m\u001b[43m)\u001b[49m\n\u001b[1;32m   1082\u001b[0m         \u001b[38;5;28;01mif\u001b[39;00m \u001b[38;5;28misinstance\u001b[39m(results[i], ABCSeries):\n\u001b[1;32m   1083\u001b[0m             \u001b[38;5;66;03m# If we have a view on v, we need to make a copy because\u001b[39;00m\n\u001b[1;32m   1084\u001b[0m             \u001b[38;5;66;03m#  series_generator will swap out the underlying data\u001b[39;00m\n\u001b[1;32m   1085\u001b[0m             results[i] \u001b[38;5;241m=\u001b[39m results[i]\u001b[38;5;241m.\u001b[39mcopy(deep\u001b[38;5;241m=\u001b[39m\u001b[38;5;28;01mFalse\u001b[39;00m)\n",
      "Cell \u001b[0;32mIn[8], line 10\u001b[0m, in \u001b[0;36mapply_embedding\u001b[0;34m(row)\u001b[0m\n\u001b[1;32m      8\u001b[0m \u001b[38;5;28;01mdef\u001b[39;00m \u001b[38;5;21mapply_embedding\u001b[39m(row):\n\u001b[1;32m      9\u001b[0m     \u001b[38;5;28;01mif\u001b[39;00m search_string(row, \u001b[38;5;124m'\u001b[39m\u001b[38;5;124mfibroblast\u001b[39m\u001b[38;5;124m'\u001b[39m):\n\u001b[0;32m---> 10\u001b[0m         \u001b[38;5;28;01mreturn\u001b[39;00m \u001b[43mextract_embedding_in_mem\u001b[49m(row)\n\u001b[1;32m     11\u001b[0m     \u001b[38;5;28;01melse\u001b[39;00m:\n\u001b[1;32m     12\u001b[0m         \u001b[38;5;28;01mreturn\u001b[39;00m \u001b[38;5;28;01mNone\u001b[39;00m\n",
      "\u001b[0;31mNameError\u001b[0m: name 'extract_embedding_in_mem' is not defined"
     ]
    }
   ],
   "source": [
    "from datasets import Dataset\n",
    "\n",
    "# Step 1: Filter rows containing 'fibroblast' in original df\n",
    "mask = df.apply(lambda x: x.map(lambda s: search_string(s, 'fibroblast')))\n",
    "filtered_df = df.loc[mask.any(axis=1)]\n",
    "\n",
    "# Step 2: Function to apply for extracting embeddings\n",
    "def apply_embedding(row):\n",
    "    if search_string(row, 'fibroblast'):\n",
    "        return extract_embedding_in_mem(row)\n",
    "    else:\n",
    "        return None\n",
    "\n",
    "# Apply function to original df to preserve indexes\n",
    "df['embeddings'] = df.apply(apply_embedding, axis=1)\n",
    "\n",
    "# Step 3: Convert to Dataset and save to disk\n",
    "dataset = Dataset.from_pandas(df)\n",
    "dataset.save_to_disk(\"/home/oliven/geneformer_dev/notebooks/ts_output\")\n",
    "\n",
    "# Optionally load from disk\n",
    "loaded_dataset = Dataset.load_from_disk(\"/home/oliven/geneformer_dev/notebooks/ts_output\")\n"
   ]
  },
  {
   "cell_type": "code",
   "execution_count": null,
   "id": "dca2dbe3-6e3b-4e7a-a62b-2c696b66e72e",
   "metadata": {},
   "outputs": [],
   "source": [
    "for index, row in df.iterrows():\n",
    "    if 'fibroblast' in row['text_column']:\n",
    "        embeddings = extract_embedding_in_mem(row['text_column'])\n",
    "        df.at[index, 'embeddings'] = embeddings"
   ]
  },
  {
   "cell_type": "code",
   "execution_count": 6,
   "id": "bbf8613e-3f59-4e32-bb1d-b616a85a3ed6",
   "metadata": {},
   "outputs": [
    {
     "ename": "KeyError",
     "evalue": "'text_column'",
     "output_type": "error",
     "traceback": [
      "\u001b[0;31m---------------------------------------------------------------------------\u001b[0m",
      "\u001b[0;31mKeyError\u001b[0m                                  Traceback (most recent call last)",
      "File \u001b[0;32m~/miniconda3/envs/geneformer2/lib/python3.10/site-packages/pandas/core/indexes/base.py:3805\u001b[0m, in \u001b[0;36mIndex.get_loc\u001b[0;34m(self, key)\u001b[0m\n\u001b[1;32m   3804\u001b[0m \u001b[38;5;28;01mtry\u001b[39;00m:\n\u001b[0;32m-> 3805\u001b[0m     \u001b[38;5;28;01mreturn\u001b[39;00m \u001b[38;5;28;43mself\u001b[39;49m\u001b[38;5;241;43m.\u001b[39;49m\u001b[43m_engine\u001b[49m\u001b[38;5;241;43m.\u001b[39;49m\u001b[43mget_loc\u001b[49m\u001b[43m(\u001b[49m\u001b[43mcasted_key\u001b[49m\u001b[43m)\u001b[49m\n\u001b[1;32m   3806\u001b[0m \u001b[38;5;28;01mexcept\u001b[39;00m \u001b[38;5;167;01mKeyError\u001b[39;00m \u001b[38;5;28;01mas\u001b[39;00m err:\n",
      "File \u001b[0;32mindex.pyx:167\u001b[0m, in \u001b[0;36mpandas._libs.index.IndexEngine.get_loc\u001b[0;34m()\u001b[0m\n",
      "File \u001b[0;32mindex.pyx:196\u001b[0m, in \u001b[0;36mpandas._libs.index.IndexEngine.get_loc\u001b[0;34m()\u001b[0m\n",
      "File \u001b[0;32mpandas/_libs/hashtable_class_helper.pxi:7081\u001b[0m, in \u001b[0;36mpandas._libs.hashtable.PyObjectHashTable.get_item\u001b[0;34m()\u001b[0m\n",
      "File \u001b[0;32mpandas/_libs/hashtable_class_helper.pxi:7089\u001b[0m, in \u001b[0;36mpandas._libs.hashtable.PyObjectHashTable.get_item\u001b[0;34m()\u001b[0m\n",
      "\u001b[0;31mKeyError\u001b[0m: 'text_column'",
      "\nThe above exception was the direct cause of the following exception:\n",
      "\u001b[0;31mKeyError\u001b[0m                                  Traceback (most recent call last)",
      "Cell \u001b[0;32mIn[6], line 2\u001b[0m\n\u001b[1;32m      1\u001b[0m \u001b[38;5;66;03m# Step 1: Create a mask to filter rows containing 'fibroblast'\u001b[39;00m\n\u001b[0;32m----> 2\u001b[0m mask \u001b[38;5;241m=\u001b[39m \u001b[43mdf\u001b[49m\u001b[43m[\u001b[49m\u001b[38;5;124;43m'\u001b[39;49m\u001b[38;5;124;43mtext_column\u001b[39;49m\u001b[38;5;124;43m'\u001b[39;49m\u001b[43m]\u001b[49m\u001b[38;5;241m.\u001b[39mstr\u001b[38;5;241m.\u001b[39mcontains(\u001b[38;5;124m'\u001b[39m\u001b[38;5;124mfibroblast\u001b[39m\u001b[38;5;124m'\u001b[39m, case\u001b[38;5;241m=\u001b[39m\u001b[38;5;28;01mFalse\u001b[39;00m, na\u001b[38;5;241m=\u001b[39m\u001b[38;5;28;01mFalse\u001b[39;00m)\n\u001b[1;32m      4\u001b[0m \u001b[38;5;66;03m# Step 2: Copy the masked DataFrame, preserving the original indexes\u001b[39;00m\n\u001b[1;32m      5\u001b[0m filtered_df_2 \u001b[38;5;241m=\u001b[39m df[mask]\u001b[38;5;241m.\u001b[39mcopy()\n",
      "File \u001b[0;32m~/miniconda3/envs/geneformer2/lib/python3.10/site-packages/pandas/core/frame.py:4102\u001b[0m, in \u001b[0;36mDataFrame.__getitem__\u001b[0;34m(self, key)\u001b[0m\n\u001b[1;32m   4100\u001b[0m \u001b[38;5;28;01mif\u001b[39;00m \u001b[38;5;28mself\u001b[39m\u001b[38;5;241m.\u001b[39mcolumns\u001b[38;5;241m.\u001b[39mnlevels \u001b[38;5;241m>\u001b[39m \u001b[38;5;241m1\u001b[39m:\n\u001b[1;32m   4101\u001b[0m     \u001b[38;5;28;01mreturn\u001b[39;00m \u001b[38;5;28mself\u001b[39m\u001b[38;5;241m.\u001b[39m_getitem_multilevel(key)\n\u001b[0;32m-> 4102\u001b[0m indexer \u001b[38;5;241m=\u001b[39m \u001b[38;5;28;43mself\u001b[39;49m\u001b[38;5;241;43m.\u001b[39;49m\u001b[43mcolumns\u001b[49m\u001b[38;5;241;43m.\u001b[39;49m\u001b[43mget_loc\u001b[49m\u001b[43m(\u001b[49m\u001b[43mkey\u001b[49m\u001b[43m)\u001b[49m\n\u001b[1;32m   4103\u001b[0m \u001b[38;5;28;01mif\u001b[39;00m is_integer(indexer):\n\u001b[1;32m   4104\u001b[0m     indexer \u001b[38;5;241m=\u001b[39m [indexer]\n",
      "File \u001b[0;32m~/miniconda3/envs/geneformer2/lib/python3.10/site-packages/pandas/core/indexes/base.py:3812\u001b[0m, in \u001b[0;36mIndex.get_loc\u001b[0;34m(self, key)\u001b[0m\n\u001b[1;32m   3807\u001b[0m     \u001b[38;5;28;01mif\u001b[39;00m \u001b[38;5;28misinstance\u001b[39m(casted_key, \u001b[38;5;28mslice\u001b[39m) \u001b[38;5;129;01mor\u001b[39;00m (\n\u001b[1;32m   3808\u001b[0m         \u001b[38;5;28misinstance\u001b[39m(casted_key, abc\u001b[38;5;241m.\u001b[39mIterable)\n\u001b[1;32m   3809\u001b[0m         \u001b[38;5;129;01mand\u001b[39;00m \u001b[38;5;28many\u001b[39m(\u001b[38;5;28misinstance\u001b[39m(x, \u001b[38;5;28mslice\u001b[39m) \u001b[38;5;28;01mfor\u001b[39;00m x \u001b[38;5;129;01min\u001b[39;00m casted_key)\n\u001b[1;32m   3810\u001b[0m     ):\n\u001b[1;32m   3811\u001b[0m         \u001b[38;5;28;01mraise\u001b[39;00m InvalidIndexError(key)\n\u001b[0;32m-> 3812\u001b[0m     \u001b[38;5;28;01mraise\u001b[39;00m \u001b[38;5;167;01mKeyError\u001b[39;00m(key) \u001b[38;5;28;01mfrom\u001b[39;00m \u001b[38;5;21;01merr\u001b[39;00m\n\u001b[1;32m   3813\u001b[0m \u001b[38;5;28;01mexcept\u001b[39;00m \u001b[38;5;167;01mTypeError\u001b[39;00m:\n\u001b[1;32m   3814\u001b[0m     \u001b[38;5;66;03m# If we have a listlike key, _check_indexing_error will raise\u001b[39;00m\n\u001b[1;32m   3815\u001b[0m     \u001b[38;5;66;03m#  InvalidIndexError. Otherwise we fall through and re-raise\u001b[39;00m\n\u001b[1;32m   3816\u001b[0m     \u001b[38;5;66;03m#  the TypeError.\u001b[39;00m\n\u001b[1;32m   3817\u001b[0m     \u001b[38;5;28mself\u001b[39m\u001b[38;5;241m.\u001b[39m_check_indexing_error(key)\n",
      "\u001b[0;31mKeyError\u001b[0m: 'text_column'"
     ]
    }
   ],
   "source": [
    "# Step 1: Create a mask to filter rows containing 'fibroblast'\n",
    "mask = df['text_column'].str.contains('fibroblast', case=False, na=False)\n",
    "\n",
    "# Step 2: Copy the masked DataFrame, preserving the original indexes\n",
    "filtered_df_2 = df[mask].copy()\n",
    "\n",
    "# Step 3: Apply the extract_embedding_in_mem function\n",
    "filtered_df_2 = extract_embedding_in_mem(filtered_df)\n",
    "\n",
    "# Step 4: Merge the results back into the original DataFrame\n",
    "df.loc[filtered_df.index, 'embeddings'] = filtered_df['embeddings']\n",
    "\n",
    "print(df)"
   ]
  },
  {
   "cell_type": "code",
   "execution_count": null,
   "id": "5a251275-e6d2-4c4f-94a1-a0f17b1c0b71",
   "metadata": {},
   "outputs": [],
   "source": []
  }
 ],
 "metadata": {
  "kernelspec": {
   "display_name": "geneformer2",
   "language": "python",
   "name": "geneformer2"
  },
  "language_info": {
   "codemirror_mode": {
    "name": "ipython",
    "version": 3
   },
   "file_extension": ".py",
   "mimetype": "text/x-python",
   "name": "python",
   "nbconvert_exporter": "python",
   "pygments_lexer": "ipython3",
   "version": "3.10.14"
  }
 },
 "nbformat": 4,
 "nbformat_minor": 5
}
