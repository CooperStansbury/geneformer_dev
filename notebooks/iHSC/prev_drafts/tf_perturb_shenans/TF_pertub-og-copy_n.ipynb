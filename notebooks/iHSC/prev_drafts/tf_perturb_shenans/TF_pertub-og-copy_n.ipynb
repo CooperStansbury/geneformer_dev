{
 "cells": [
  {
   "cell_type": "code",
   "execution_count": 1,
   "id": "da3b2e7e-868a-425d-9581-bb4ac3dd4f3c",
   "metadata": {
    "scrolled": true
   },
   "outputs": [
    {
     "name": "stderr",
     "output_type": "stream",
     "text": [
      "/home/oliven/miniconda3/envs/geneformer2/lib/python3.10/site-packages/tqdm/auto.py:21: TqdmWarning: IProgress not found. Please update jupyter and ipywidgets. See https://ipywidgets.readthedocs.io/en/stable/user_install.html\n",
      "  from .autonotebook import tqdm as notebook_tqdm\n"
     ]
    },
    {
     "name": "stdout",
     "output_type": "stream",
     "text": [
      "done\n"
     ]
    }
   ],
   "source": [
    "import sys\n",
    "import seaborn as sns\n",
    "import pandas as pd \n",
    "import numpy as np\n",
    "from scipy.spatial.distance import squareform, pdist\n",
    "from scipy.spatial.distance import cdist\n",
    "import matplotlib.pyplot as plt\n",
    "import torch\n",
    "import anndata as an\n",
    "import scanpy as sc\n",
    "import os\n",
    "from importlib import reload\n",
    "\n",
    "from datasets import Dataset, load_from_disk\n",
    "from datasets import load_dataset\n",
    "#YOU are the problem >:(\n",
    "from geneformer import EmbExtractor\n",
    "import geneformer\n",
    "\n",
    "# local imports\n",
    "sys.path.insert(0, '../../scripts/')\n",
    "import geneformer_utils as gtu\n",
    "\n",
    "sns.set_style('white')\n",
    "torch.cuda.empty_cache()\n",
    "\n",
    "\n",
    "print(\"done\")"
   ]
  },
  {
   "cell_type": "code",
   "execution_count": 2,
   "id": "e26e86b0-7add-414e-b367-21b871fb8d7c",
   "metadata": {
    "scrolled": true
   },
   "outputs": [
    {
     "ename": "SyntaxError",
     "evalue": "'break' outside loop (668683560.py, line 1)",
     "output_type": "error",
     "traceback": [
      "\u001b[0;36m  Cell \u001b[0;32mIn[2], line 1\u001b[0;36m\u001b[0m\n\u001b[0;31m    break\u001b[0m\n\u001b[0m    ^\u001b[0m\n\u001b[0;31mSyntaxError\u001b[0m\u001b[0;31m:\u001b[0m 'break' outside loop\n"
     ]
    }
   ],
   "source": [
    "break"
   ]
  },
  {
   "cell_type": "markdown",
   "id": "5eeea253-f91c-4aa6-a8ef-4a827056f00b",
   "metadata": {},
   "source": [
    "# Load the model"
   ]
  },
  {
   "cell_type": "code",
   "execution_count": 3,
   "id": "87de1584-98aa-4cd9-a338-9b9eed1650bc",
   "metadata": {},
   "outputs": [
    {
     "name": "stderr",
     "output_type": "stream",
     "text": [
      "Some weights of BertForMaskedLM were not initialized from the model checkpoint at /scratch/indikar_root/indikar1/shared_data/geneformer/fine_tune/240715_geneformer_cellClassifier_no_induced/ksplit1/ and are newly initialized: ['cls.predictions.bias', 'cls.predictions.decoder.bias', 'cls.predictions.transform.LayerNorm.bias', 'cls.predictions.transform.LayerNorm.weight', 'cls.predictions.transform.dense.bias', 'cls.predictions.transform.dense.weight']\n",
      "You should probably TRAIN this model on a down-stream task to be able to use it for predictions and inference.\n"
     ]
    },
    {
     "name": "stdout",
     "output_type": "stream",
     "text": [
      "loaded!\n"
     ]
    }
   ],
   "source": [
    "\"\"\"Load the model\"\"\"\n",
    "# model_path = \"/nfs/turbo/umms-indikar/shared/projects/geneformer/fine_tuned_models/geneformer-6L-30M_CellClassifier_cardiomyopathies_220224/\"\n",
    "# model_path = \"/nfs/turbo/umms-indikar/shared/projects/geneformer/geneformer-12L-30M/\"\n",
    "model_path = \"/scratch/indikar_root/indikar1/shared_data/geneformer/fine_tune/240715_geneformer_cellClassifier_no_induced/ksplit1/\"\n",
    "model = gtu.load_model(model_path)\n",
    "print('loaded!')"
   ]
  },
  {
   "cell_type": "code",
   "execution_count": 4,
   "id": "7d9182ca-4507-4d11-9426-54c2a4d2387e",
   "metadata": {},
   "outputs": [],
   "source": [
    "# model"
   ]
  },
  {
   "cell_type": "code",
   "execution_count": 5,
   "id": "639a173a-95b1-4b0b-b660-c1cb36ef504a",
   "metadata": {},
   "outputs": [
    {
     "data": {
      "text/html": [
       "<div>\n",
       "<style scoped>\n",
       "    .dataframe tbody tr th:only-of-type {\n",
       "        vertical-align: middle;\n",
       "    }\n",
       "\n",
       "    .dataframe tbody tr th {\n",
       "        vertical-align: top;\n",
       "    }\n",
       "\n",
       "    .dataframe thead th {\n",
       "        text-align: right;\n",
       "    }\n",
       "</style>\n",
       "<table border=\"1\" class=\"dataframe\">\n",
       "  <thead>\n",
       "    <tr style=\"text-align: right;\">\n",
       "      <th></th>\n",
       "      <th>gene_id</th>\n",
       "      <th>token_id</th>\n",
       "      <th>gene_name</th>\n",
       "      <th>nonzero_median</th>\n",
       "      <th>gene_version</th>\n",
       "      <th>gene_biotype</th>\n",
       "      <th>Chromosome</th>\n",
       "      <th>Start</th>\n",
       "      <th>End</th>\n",
       "      <th>scenic_tf</th>\n",
       "    </tr>\n",
       "  </thead>\n",
       "  <tbody>\n",
       "    <tr>\n",
       "      <th>0</th>\n",
       "      <td>&lt;pad&gt;</td>\n",
       "      <td>0</td>\n",
       "      <td>NaN</td>\n",
       "      <td>NaN</td>\n",
       "      <td>NaN</td>\n",
       "      <td>NaN</td>\n",
       "      <td>NaN</td>\n",
       "      <td>NaN</td>\n",
       "      <td>NaN</td>\n",
       "      <td>False</td>\n",
       "    </tr>\n",
       "    <tr>\n",
       "      <th>1</th>\n",
       "      <td>&lt;mask&gt;</td>\n",
       "      <td>1</td>\n",
       "      <td>NaN</td>\n",
       "      <td>NaN</td>\n",
       "      <td>NaN</td>\n",
       "      <td>NaN</td>\n",
       "      <td>NaN</td>\n",
       "      <td>NaN</td>\n",
       "      <td>NaN</td>\n",
       "      <td>False</td>\n",
       "    </tr>\n",
       "    <tr>\n",
       "      <th>2</th>\n",
       "      <td>ENSG00000000003</td>\n",
       "      <td>2</td>\n",
       "      <td>TSPAN6</td>\n",
       "      <td>2.001186</td>\n",
       "      <td>15.0</td>\n",
       "      <td>protein_coding</td>\n",
       "      <td>X</td>\n",
       "      <td>100627107.0</td>\n",
       "      <td>100639991.0</td>\n",
       "      <td>False</td>\n",
       "    </tr>\n",
       "    <tr>\n",
       "      <th>3</th>\n",
       "      <td>ENSG00000000005</td>\n",
       "      <td>3</td>\n",
       "      <td>TNMD</td>\n",
       "      <td>3.228213</td>\n",
       "      <td>6.0</td>\n",
       "      <td>protein_coding</td>\n",
       "      <td>X</td>\n",
       "      <td>100584935.0</td>\n",
       "      <td>100599885.0</td>\n",
       "      <td>False</td>\n",
       "    </tr>\n",
       "    <tr>\n",
       "      <th>4</th>\n",
       "      <td>ENSG00000000419</td>\n",
       "      <td>4</td>\n",
       "      <td>DPM1</td>\n",
       "      <td>2.218874</td>\n",
       "      <td>14.0</td>\n",
       "      <td>protein_coding</td>\n",
       "      <td>20</td>\n",
       "      <td>50934866.0</td>\n",
       "      <td>50959140.0</td>\n",
       "      <td>False</td>\n",
       "    </tr>\n",
       "  </tbody>\n",
       "</table>\n",
       "</div>"
      ],
      "text/plain": [
       "           gene_id  token_id gene_name  nonzero_median  gene_version  \\\n",
       "0            <pad>         0       NaN             NaN           NaN   \n",
       "1           <mask>         1       NaN             NaN           NaN   \n",
       "2  ENSG00000000003         2    TSPAN6        2.001186          15.0   \n",
       "3  ENSG00000000005         3      TNMD        3.228213           6.0   \n",
       "4  ENSG00000000419         4      DPM1        2.218874          14.0   \n",
       "\n",
       "     gene_biotype Chromosome        Start          End  scenic_tf  \n",
       "0             NaN        NaN          NaN          NaN      False  \n",
       "1             NaN        NaN          NaN          NaN      False  \n",
       "2  protein_coding          X  100627107.0  100639991.0      False  \n",
       "3  protein_coding          X  100584935.0  100599885.0      False  \n",
       "4  protein_coding         20   50934866.0   50959140.0      False  "
      ]
     },
     "execution_count": 5,
     "metadata": {},
     "output_type": "execute_result"
    }
   ],
   "source": [
    "token_data_path = \"/scratch/indikar_root/indikar1/shared_data/geneformer/resources/token_mapping.csv\"\n",
    "token_df = pd.read_csv(token_data_path)\n",
    "token_df.head()"
   ]
  },
  {
   "cell_type": "markdown",
   "id": "43d30c78-221c-4943-ac7c-6af9d7238d73",
   "metadata": {},
   "source": [
    "# Load data"
   ]
  },
  {
   "cell_type": "code",
   "execution_count": 6,
   "id": "2b34537b-5e2f-4c43-ac74-0921df0800cb",
   "metadata": {},
   "outputs": [
    {
     "name": "stdout",
     "output_type": "stream",
     "text": [
      "df.shape=(12000, 4)\n",
      "df.shape=(1639, 4)\n"
     ]
    },
    {
     "data": {
      "text/plain": [
       "Dataset({\n",
       "    features: ['input_ids', 'cell_type', 'dataset', 'length', '__index_level_0__'],\n",
       "    num_rows: 1639\n",
       "})"
      ]
     },
     "execution_count": 6,
     "metadata": {},
     "output_type": "execute_result"
    }
   ],
   "source": [
    "dpath = \"/scratch/indikar_root/indikar1/shared_data/geneformer/datasets/\"\n",
    "\n",
    "\n",
    "def load_data(path, sample_size=None):\n",
    "    \"\"\"\n",
    "    Loads data from a file, processes cell types, and returns a DataFrame.\n",
    "\n",
    "    Args:\n",
    "        path (str): The path to the dataset file.\n",
    "        sample_size (int, optional): Number of cells to sample. Defaults to None.\n",
    "    Returns:\n",
    "        pandas.DataFrame: The processed DataFrame.\n",
    "    \"\"\"\n",
    "\n",
    "    df = gtu.load_data_as_dataframe(path, num_cells=sample_size, shuffle=True)\n",
    "\n",
    "    if \"iHSC\" in path:\n",
    "        df['cell_type'] = \"iHSC\"\n",
    "    elif \"pellin\" in path:\n",
    "        df['cell_type'] = df['dataset']\n",
    "    elif \"weng\" in path:\n",
    "        df['cell_type'] = df['STD.CellType']\n",
    "    else:\n",
    "        df['cell_type'] = df['free_annotation']\n",
    "\n",
    "    # Extract basename without extension and assign to 'dataset' column\n",
    "    df['dataset'] = os.path.splitext(os.path.basename(path))[0]\n",
    "    df = df[['input_ids', 'cell_type', 'dataset', 'length']]\n",
    "\n",
    "    return df\n",
    "\n",
    "sample_size = 1000\n",
    "\n",
    "df = []\n",
    "\n",
    "for dataset in os.listdir(dpath):\n",
    "    data_path = f\"{dpath}{dataset}\"\n",
    "    tmp = load_data(data_path, sample_size)\n",
    "    \n",
    "    df.append(tmp)\n",
    "    \n",
    "df = pd.concat(df)\n",
    "print(f\"{df.shape=}\")\n",
    "df = df[df['cell_type'].isin(['HSC', 'Fibroblasts'])]\n",
    "print(f\"{df.shape=}\")\n",
    "\n",
    "df['cell_type'].value_counts()\n",
    "\n",
    "data = Dataset.from_pandas(df)\n",
    "data"
   ]
  },
  {
   "cell_type": "code",
   "execution_count": null,
   "id": "2295e9b7-3d31-41bf-9990-2360e3528300",
   "metadata": {},
   "outputs": [],
   "source": [
    "print(df['cell_type'].value_counts())"
   ]
  },
  {
   "cell_type": "code",
   "execution_count": null,
   "id": "a9b0fff8-280a-4ef9-ba1d-1c77a191ce06",
   "metadata": {},
   "outputs": [],
   "source": [
    "reload(gtu)\n",
    "torch.cuda.empty_cache()\n",
    "embs = gtu.extract_embedding_in_mem(model, data, layer_to_quant=-1)\n",
    "print(f\"{embs.shape=}\")\n",
    "\n",
    "# translate into an anndata object and plot\n",
    "adata = gtu.embedding_to_adata(embs)\n",
    "adata.obs = df.copy()\n",
    "\n",
    "sc.tl.pca(adata, n_comps=25)\n",
    "sc.pp.neighbors(adata, n_neighbors=200)\n",
    "sc.tl.umap(adata, \n",
    "           min_dist=0.75,\n",
    "          )\n",
    "\n",
    "plt.rcParams['figure.dpi'] = 200\n",
    "plt.rcParams['figure.figsize'] = 7, 7\n",
    "\n",
    "sc.pl.umap(\n",
    "    adata,\n",
    "    color=[\"cell_type\", \"dataset\"],\n",
    "    ncols=1,\n",
    "    size=30,\n",
    ")\n",
    "\n",
    "adata"
   ]
  },
  {
   "cell_type": "markdown",
   "id": "5dcb1760-be35-4be9-a8c7-cdb5f2610cdd",
   "metadata": {},
   "source": [
    "# Clean up cell types"
   ]
  },
  {
   "cell_type": "code",
   "execution_count": null,
   "id": "49b4c8b3-b5d5-4aab-b0a8-a72c1e482158",
   "metadata": {},
   "outputs": [],
   "source": [
    "fpath = \"ihsc_cell_types.csv\"\n",
    "cell_map = pd.read_csv(fpath, comment=\"#\")\n",
    "\n",
    "adata.obs = pd.merge(adata.obs, \n",
    "                     cell_map,\n",
    "                     how='left',\n",
    "                     left_on='cell_type',\n",
    "                     right_on='label',\n",
    "                    )\n",
    "\n",
    "plt.rcParams['figure.dpi'] = 200\n",
    "plt.rcParams['figure.figsize'] = 7, 7\n",
    "sc.pl.umap(\n",
    "    adata,\n",
    "    color=[\"standardized_cell_type\",\"broad_type\"],\n",
    "    ncols=1,\n",
    "    size=30,\n",
    ")"
   ]
  },
  {
   "cell_type": "code",
   "execution_count": null,
   "id": "c871368d-875b-4123-8984-13b79dd655eb",
   "metadata": {},
   "outputs": [],
   "source": [
    "df[df['dataset'] == \"pellin\"]['cell_type'].value_counts()"
   ]
  },
  {
   "cell_type": "markdown",
   "id": "d89bc712-a890-45df-92b1-113b9f1ee27c",
   "metadata": {},
   "source": [
    "# COMPUTE HSC CENTROID"
   ]
  },
  {
   "cell_type": "code",
   "execution_count": null,
   "id": "8f610049-d8a6-4c45-9499-db37c9bc3ab2",
   "metadata": {},
   "outputs": [],
   "source": [
    "HSC_embeddings = adata[adata.obs['cell_type'] == 'HSC', :].X\n",
    "hsc_cenroid = HSC_embeddings.mean(axis=0)\n",
    "hsc_cenroid = hsc_cenroid.reshape(1, -1)\n",
    "print(f\"{hsc_cenroid.shape=}\")"
   ]
  },
  {
   "cell_type": "code",
   "execution_count": null,
   "id": "b74371c6-4d60-47fc-b4d4-763f7bbd9b67",
   "metadata": {},
   "outputs": [],
   "source": [
    "tfs = [\n",
    "    'FOSB',\n",
    "    'FOS',\n",
    "    'REL',\n",
    "    'STAT5A',\n",
    "    'GATA2',\n",
    "]\n",
    "\n",
    "tf_tokens = token_df[token_df['gene_name'].isin(tfs)]['token_id'].to_list()\n",
    "print(tf_tokens)"
   ]
  },
  {
   "cell_type": "markdown",
   "id": "ec545d0d-3f9d-44c4-90d9-d60fcc8a009e",
   "metadata": {},
   "source": [
    "# Perturb the Data"
   ]
  },
  {
   "cell_type": "code",
   "execution_count": null,
   "id": "c0c0bf29-da7d-42b1-a4bc-5fd8c32c3e8b",
   "metadata": {
    "scrolled": true
   },
   "outputs": [],
   "source": [
    "def perturb_data(df, tokens):\n",
    "    \"\"\"\n",
    "    Perturbs the input_ids in a DataFrame by prepending a list of tokens.\n",
    "\n",
    "    Args:\n",
    "      df (pandas.DataFrame): The input DataFrame with an 'input_ids' column.\n",
    "      tokens (list): The list of tokens to prepend.\n",
    "\n",
    "    Returns:\n",
    "      pandas.DataFrame: The combined DataFrame with original and perturbed data.\n",
    "    \"\"\"\n",
    "\n",
    "    perturbed = df.copy()\n",
    "    perturbed['state'] = 'perturbed'\n",
    "    perturbed['input_ids'] = perturbed['input_ids'].apply(\n",
    "      lambda x: list(tokens) + list(x)[:len(x) - len(tokens)]\n",
    "    )\n",
    "\n",
    "    df['state'] = 'raw'\n",
    "    combined_df = pd.concat([df, perturbed])\n",
    "    return combined_df\n",
    "\n",
    "sample_size = 400\n",
    "fb_cells = adata.obs[adata.obs['cell_type'] == 'Fibroblasts'].copy()\n",
    "fb_cells = fb_cells.sample(sample_size)\n",
    "fb_cells = fb_cells.reset_index(names='cell_id')\n",
    "\n",
    "perturbed = perturb_data(fb_cells, tf_tokens)\n",
    "perturbed = perturbed.reset_index(drop=True)\n",
    "perturbed_data = Dataset.from_pandas(perturbed)\n",
    "\n",
    "# extract the embeddings\n",
    "torch.cuda.empty_cache()\n",
    "test_embs = gtu.extract_embedding_in_mem(model, perturbed_data, layer_to_quant=-1)\n",
    "\n",
    "perturbed"
   ]
  },
  {
   "cell_type": "markdown",
   "id": "7b1cb373-7a09-4a5a-aa9d-4b95bacaf310",
   "metadata": {},
   "source": [
    "# Compute Distance to HSC"
   ]
  },
  {
   "cell_type": "code",
   "execution_count": null,
   "id": "b456a7fe-c473-4c5c-b03c-e33321c2abcb",
   "metadata": {},
   "outputs": [],
   "source": [
    "metric = 'cosine'\n",
    "Xa = test_embs.to_numpy()\n",
    "Xb = hsc_cenroid\n",
    "\n",
    "print(f\"{Xa.shape=} {Xb.shape=}\")\n",
    "D = cdist(Xa, Xb, metric=metric)\n",
    "print(f\"{D.shape=}\")\n",
    "\n",
    "perturbed['distance_to_hsc'] = D.ravel()\n",
    "perturbed"
   ]
  },
  {
   "cell_type": "markdown",
   "id": "63baaf79-c5d3-43cc-a2d2-a607ad284eba",
   "metadata": {},
   "source": [
    "# Compute distance between raw and perturbed states"
   ]
  },
  {
   "cell_type": "code",
   "execution_count": null,
   "id": "3a3ebc09-fbbd-40d5-8488-f5d00274696f",
   "metadata": {},
   "outputs": [],
   "source": [
    "P = squareform(pdist(Xa, metric=metric))\n",
    "print(f\"{P.shape=}\")\n",
    "print(P)"
   ]
  },
  {
   "cell_type": "code",
   "execution_count": null,
   "id": "64a0fa8a-fca8-485b-835f-3ef5dadacac2",
   "metadata": {},
   "outputs": [],
   "source": [
    "result = []\n",
    "\n",
    "for cell_id, group in perturbed.groupby('cell_id'):\n",
    "    idx = group.index.to_list()\n",
    "    \n",
    "    raw_row = group.iloc[0]\n",
    "    perturbed_row = group.iloc[1]\n",
    "\n",
    "    row = {\n",
    "        'cell_id' : cell_id,\n",
    "        'raw_to_hsc' : raw_row['distance_to_hsc'],\n",
    "        'perturbed_to_hsc' : perturbed_row['distance_to_hsc'],\n",
    "        'raw_to_perturbed' : P[idx[0], idx[1]],\n",
    "    }\n",
    "    \n",
    "    result.append(row)\n",
    "    \n",
    "result = pd.DataFrame(result)\n",
    "result.head()"
   ]
  },
  {
   "cell_type": "code",
   "execution_count": null,
   "id": "5bd194c3-4b41-483f-a2cb-c4cbb53a4d35",
   "metadata": {},
   "outputs": [],
   "source": [
    "plt.rcParams['figure.dpi'] = 75\n",
    "sns.histplot(data=result, \n",
    "             x='raw_to_hsc')"
   ]
  },
  {
   "cell_type": "code",
   "execution_count": null,
   "id": "1a0fa036-a038-47df-9503-a42ea05b8d03",
   "metadata": {},
   "outputs": [],
   "source": [
    "plt.rcParams['figure.dpi'] = 75\n",
    "sns.histplot(data=result, \n",
    "             x='perturbed_to_hsc')"
   ]
  },
  {
   "cell_type": "code",
   "execution_count": null,
   "id": "80cf0600-7e6a-4390-8744-fd9c17cc3db3",
   "metadata": {},
   "outputs": [],
   "source": [
    "plt.rcParams['figure.dpi'] = 75\n",
    "sns.histplot(data=result, \n",
    "             x='raw_to_perturbed')"
   ]
  },
  {
   "cell_type": "code",
   "execution_count": null,
   "id": "b630033f-58f7-497e-8dd0-361c395906f6",
   "metadata": {},
   "outputs": [],
   "source": [
    "break"
   ]
  },
  {
   "cell_type": "code",
   "execution_count": null,
   "id": "579094bf-3b29-4d3b-8b7c-dfb688454fc2",
   "metadata": {},
   "outputs": [],
   "source": []
  }
 ],
 "metadata": {
  "kernelspec": {
   "display_name": "geneformer2",
   "language": "python",
   "name": "geneformer2"
  },
  "language_info": {
   "codemirror_mode": {
    "name": "ipython",
    "version": 3
   },
   "file_extension": ".py",
   "mimetype": "text/x-python",
   "name": "python",
   "nbconvert_exporter": "python",
   "pygments_lexer": "ipython3",
   "version": "3.10.14"
  }
 },
 "nbformat": 4,
 "nbformat_minor": 5
}
