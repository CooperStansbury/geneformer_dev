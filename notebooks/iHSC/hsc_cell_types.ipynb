{
 "cells": [
  {
   "cell_type": "code",
   "execution_count": 1,
   "id": "e8fb8682-ed3b-4547-a4ed-68850597eca3",
   "metadata": {},
   "outputs": [
    {
     "name": "stderr",
     "output_type": "stream",
     "text": [
      "/home/cstansbu/miniconda3/envs/geneformer/lib/python3.10/site-packages/tqdm/auto.py:21: TqdmWarning: IProgress not found. Please update jupyter and ipywidgets. See https://ipywidgets.readthedocs.io/en/stable/user_install.html\n",
      "  from .autonotebook import tqdm as notebook_tqdm\n"
     ]
    }
   ],
   "source": [
    "import sys\n",
    "import seaborn as sns\n",
    "import pandas as pd \n",
    "import numpy as np\n",
    "import matplotlib.pyplot as plt\n",
    "\n",
    "import torch\n",
    "import anndata as an\n",
    "import scanpy as sc\n",
    "import os\n",
    "import gc\n",
    "from importlib import reload\n",
    "\n",
    "from datasets import Dataset, load_from_disk\n",
    "from datasets import load_dataset\n",
    "\n",
    "# local imports\n",
    "sys.path.insert(0, '../../scripts/')\n",
    "import geneformer_utils as gtu\n",
    "\n",
    "sns.set_style('white')\n",
    "torch.cuda.empty_cache()"
   ]
  },
  {
   "cell_type": "code",
   "execution_count": 2,
   "id": "9a498461-ca55-4cbc-ba03-7f09f57b44e4",
   "metadata": {},
   "outputs": [
    {
     "data": {
      "text/plain": [
       "['B Cell',\n",
       " 'Common Lymphoid Progenitor',\n",
       " 'Common Myeloid Progenitor',\n",
       " 'Dendritic Cell',\n",
       " 'Endothelial Cell',\n",
       " 'Erythrocyte',\n",
       " 'Fibroblast',\n",
       " 'Granulocyte',\n",
       " 'Granulocyte-Macrophage Progenitor',\n",
       " 'HSC',\n",
       " 'Macrophage',\n",
       " 'Mast Cell',\n",
       " 'Megakaryocyte-Erythroid Progenitor',\n",
       " 'Monocyte',\n",
       " 'Multi-Lymphoid Progenitor',\n",
       " 'Multipotent Progenitor',\n",
       " 'NK Cell',\n",
       " 'NK T Cell',\n",
       " 'Neutrophil',\n",
       " 'Plasma Cell',\n",
       " 'Smooth Muscle Cell',\n",
       " 'T Cell',\n",
       " 'iHSC']"
      ]
     },
     "execution_count": 2,
     "metadata": {},
     "output_type": "execute_result"
    }
   ],
   "source": [
    "fpath = \"ihsc_cell_types.csv\"\n",
    "ctypes = pd.read_csv(fpath)\n",
    "ctypes.head()\n",
    "\n",
    "sorted(ctypes['standardized_cell_type'].unique())"
   ]
  },
  {
   "cell_type": "markdown",
   "id": "0789d73a-2896-405a-889d-a699fe882f29",
   "metadata": {},
   "source": [
    "# Data Summary"
   ]
  },
  {
   "cell_type": "code",
   "execution_count": 3,
   "id": "19b29555-2fff-4553-b915-b6481168bb75",
   "metadata": {},
   "outputs": [
    {
     "data": {
      "text/plain": [
       "Dataset({\n",
       "    features: ['input_ids', 'cell_type', 'dataset', 'length', 'ignore', 'standardized_cell_type', 'broad_type', '__index_level_0__'],\n",
       "    num_rows: 214715\n",
       "})"
      ]
     },
     "execution_count": 3,
     "metadata": {},
     "output_type": "execute_result"
    }
   ],
   "source": [
    "fpath = \"/scratch/indikar_root/indikar1/shared_data/geneformer/fine_tune/hsc.dataset\"\n",
    "\n",
    "data = load_from_disk(fpath)\n",
    "data"
   ]
  },
  {
   "cell_type": "code",
   "execution_count": 4,
   "id": "5b970b3a-15e0-4e3a-a647-ada105086689",
   "metadata": {},
   "outputs": [
    {
     "data": {
      "text/plain": [
       "(214715, 8)"
      ]
     },
     "execution_count": 4,
     "metadata": {},
     "output_type": "execute_result"
    }
   ],
   "source": [
    "df = data.to_pandas()\n",
    "df.shape"
   ]
  },
  {
   "cell_type": "code",
   "execution_count": 10,
   "id": "feebc73f-ea95-43c6-b841-ce89dc64dd83",
   "metadata": {},
   "outputs": [
    {
     "name": "stdout",
     "output_type": "stream",
     "text": [
      "\\begin{tabular}{lr}\n",
      "\\toprule\n",
      "cell_type & count \\\\\n",
      "\\midrule\n",
      "T Cell & 31324 \\\\\n",
      "Monocyte & 24568 \\\\\n",
      "Megakaryocyte-Erythroid Progenitor & 22542 \\\\\n",
      "HSC & 20090 \\\\\n",
      "Fibroblast & 15308 \\\\\n",
      "B Cell & 13630 \\\\\n",
      "Neutrophil & 11807 \\\\\n",
      "Erythrocyte & 10635 \\\\\n",
      "Multipotent Progenitor & 9394 \\\\\n",
      "iHSC & 8574 \\\\\n",
      "NK Cell & 8508 \\\\\n",
      "Common Myeloid Progenitor & 7186 \\\\\n",
      "Macrophage & 6861 \\\\\n",
      "Endothelial Cell & 5494 \\\\\n",
      "Granulocyte-Macrophage Progenitor & 4893 \\\\\n",
      "Common Lymphoid Progenitor & 3640 \\\\\n",
      "Smooth Muscle Cell & 3091 \\\\\n",
      "Dendritic Cell & 2709 \\\\\n",
      "Plasma Cell & 2051 \\\\\n",
      "Multi-Lymphoid Progenitor & 928 \\\\\n",
      "Granulocyte & 855 \\\\\n",
      "NK T Cell & 518 \\\\\n",
      "Mast Cell & 109 \\\\\n",
      "\\bottomrule\n",
      "\\end{tabular}\n",
      "\n"
     ]
    }
   ],
   "source": [
    "counts = df['standardized_cell_type'].value_counts().reset_index()\n",
    "counts.columns = ['cell_type', 'count']\n",
    "print(counts.to_latex(index=False))"
   ]
  },
  {
   "cell_type": "code",
   "execution_count": 11,
   "id": "a664748d-b0f2-4f04-a049-d6f7dad2c63a",
   "metadata": {},
   "outputs": [
    {
     "name": "stdout",
     "output_type": "stream",
     "text": [
      "\\begin{tabular}{lr}\n",
      "\\toprule\n",
      "cell_type & count \\\\\n",
      "\\midrule\n",
      "TS_Blood & 49344 \\\\\n",
      "weng_young2_all & 28948 \\\\\n",
      "weng_young1_all_t2 & 25252 \\\\\n",
      "TS_Fat & 18769 \\\\\n",
      "weng_young1_all_t1 & 18420 \\\\\n",
      "weng_old2_BMMC_HSPC & 17011 \\\\\n",
      "TS_Vasculature & 14818 \\\\\n",
      "weng_old1_BMMC_HSPC & 12781 \\\\\n",
      "TS_Bone_Marrow & 11676 \\\\\n",
      "iHSC & 8574 \\\\\n",
      "pellin & 5419 \\\\\n",
      "weng_young2_HSC & 3703 \\\\\n",
      "\\bottomrule\n",
      "\\end{tabular}\n",
      "\n"
     ]
    }
   ],
   "source": [
    "counts = df['dataset'].value_counts().reset_index()\n",
    "counts.columns = ['cell_type', 'count']\n",
    "print(counts.to_latex(index=False))"
   ]
  },
  {
   "cell_type": "code",
   "execution_count": 14,
   "id": "39972764-c32a-4324-82b1-b5102c39d736",
   "metadata": {},
   "outputs": [
    {
     "data": {
      "text/plain": [
       "dataset\n",
       "weng_young2_all        4996\n",
       "weng_young1_all_t2     4845\n",
       "weng_young1_all_t1     4510\n",
       "weng_young2_HSC        3243\n",
       "pellin                 1282\n",
       "weng_old2_BMMC_HSPC     934\n",
       "weng_old1_BMMC_HSPC     280\n",
       "Name: count, dtype: int64"
      ]
     },
     "execution_count": 14,
     "metadata": {},
     "output_type": "execute_result"
    }
   ],
   "source": [
    "df[df['standardized_cell_type'] == 'HSC']['dataset'].value_counts()"
   ]
  },
  {
   "cell_type": "code",
   "execution_count": null,
   "id": "8cffa064-e1ce-43b7-a934-0ee25e8faad1",
   "metadata": {},
   "outputs": [],
   "source": []
  }
 ],
 "metadata": {
  "kernelspec": {
   "display_name": "geneformer",
   "language": "python",
   "name": "geneformer"
  },
  "language_info": {
   "codemirror_mode": {
    "name": "ipython",
    "version": 3
   },
   "file_extension": ".py",
   "mimetype": "text/x-python",
   "name": "python",
   "nbconvert_exporter": "python",
   "pygments_lexer": "ipython3",
   "version": "3.10.13"
  }
 },
 "nbformat": 4,
 "nbformat_minor": 5
}
