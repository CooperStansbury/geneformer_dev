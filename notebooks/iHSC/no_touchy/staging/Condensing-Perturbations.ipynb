{
 "cells": [
  {
   "cell_type": "markdown",
   "id": "32dc0801-b95c-493e-a2a8-446d73f724ef",
   "metadata": {},
   "source": [
    "# Condensing Perturbations to One File"
   ]
  },
  {
   "cell_type": "code",
   "execution_count": 1,
   "id": "b8100b61-c5db-44ba-ae40-6de86acf4bd7",
   "metadata": {},
   "outputs": [
    {
     "data": {
      "text/plain": [
       "'\\nIn the SLURM job for the perturbation code, each recipe is its own file. This code combines all of these files into one.  Takes quite a bit of time to run (reads from and writes to many large files).\\nThe other way to fix this issue is to write only to one file.\\nIt does not do a great job at accounting for if there are duplicates of a file, since loop is done by cluster number and two identical files would have duplicates of these columns (check this in direcgtory before running). \\n'"
      ]
     },
     "execution_count": 1,
     "metadata": {},
     "output_type": "execute_result"
    }
   ],
   "source": [
    "\"\"\"\n",
    "In the SLURM job for the perturbation code, each recipe is its own file. This code combines all of these files into one.  Takes quite a bit of time to run (reads from and writes to many large files).\n",
    "The other way to fix this issue is to write only to one file, which would make isolating recipes of interest more difficult.\n",
    "It does not do a great job at accounting for if there are duplicates of a file, since loop is done by cluster number and two identical files would have duplicates of these columns (check this in direcgtory before running). \n",
    "For the Fib - iHSC Geneformer task, \n",
    "\"\"\""
   ]
  },
  {
   "cell_type": "code",
   "execution_count": null,
   "id": "31a35db7-4e99-4b96-b3d8-924b068a4900",
   "metadata": {},
   "outputs": [],
   "source": []
  },
  {
   "cell_type": "code",
   "execution_count": null,
   "id": "dc05fcd4-acdd-4d25-893e-9f8d8ac75f26",
   "metadata": {},
   "outputs": [],
   "source": []
  }
 ],
 "metadata": {
  "kernelspec": {
   "display_name": "geneformer2",
   "language": "python",
   "name": "geneformer2"
  },
  "language_info": {
   "codemirror_mode": {
    "name": "ipython",
    "version": 3
   },
   "file_extension": ".py",
   "mimetype": "text/x-python",
   "name": "python",
   "nbconvert_exporter": "python",
   "pygments_lexer": "ipython3",
   "version": "3.10.14"
  }
 },
 "nbformat": 4,
 "nbformat_minor": 5
}
