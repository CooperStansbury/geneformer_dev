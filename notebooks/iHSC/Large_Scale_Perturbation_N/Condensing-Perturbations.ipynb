{
 "cells": [
  {
   "cell_type": "markdown",
   "id": "32dc0801-b95c-493e-a2a8-446d73f724ef",
   "metadata": {},
   "source": [
    "# Condensing Perturbations to One File"
   ]
  },
  {
   "cell_type": "code",
   "execution_count": 1,
   "id": "b8100b61-c5db-44ba-ae40-6de86acf4bd7",
   "metadata": {},
   "outputs": [
    {
     "data": {
      "text/plain": [
       "'\\nIn the SLURM job for the perturbation code, each recipe is its own file. This code combines all of these files into one.  Takes quite a bit of time to run (reads from and writes to many large files).\\nThe other way to fix this issue is to write only to one file.\\nIt does not do a great job at accounting for if there are duplicates of a file, since loop is done by cluster number and two identical files would have duplicates of these columns (check this in direcgtory before running). \\n'"
      ]
     },
     "execution_count": 1,
     "metadata": {},
     "output_type": "execute_result"
    }
   ],
   "source": [
    "\"\"\"\n",
    "In the SLURM job for the perturbation code, each recipe is its own file. This code combines all of these files into one.  Takes quite a bit of time to run (reads from and writes to many large files).\n",
    "The other way to fix this issue is to write only to one file, which would make isolating recipes of interest more difficult.\n",
    "It does not do a great job at accounting for if there are duplicates of a file, since loop is done by cluster number and two identical files would have duplicates of these columns (check this in direcgtory before running). \n",
    "For the Fib - iHSC Geneformer task, \n",
    "\"\"\""
   ]
  },
  {
   "cell_type": "markdown",
   "id": "6b789d58-4f89-44fe-960d-e654cb98ee44",
   "metadata": {},
   "source": [
    "#### Important note: original slurm job duplicated the 252nd perturbation recipe; the files were investigated and found to be duplicates.  If this happens in future perturbation tasks, it may be easiest to manually delete the file before all recipes are concatenated."
   ]
  },
  {
   "cell_type": "markdown",
   "id": "e7248250-6495-4854-bc2e-341ffb1e55cc",
   "metadata": {},
   "source": [
    "## Concatenating Recipe Files"
   ]
  },
  {
   "cell_type": "code",
   "execution_count": null,
   "id": "48d80859-1ff5-4de7-a179-41f65ff3fe05",
   "metadata": {},
   "outputs": [],
   "source": [
    "from itertools import combinations\n",
    "import pandas as pd\n",
    "import anndata as ad\n",
    "import numpy as np\n",
    "from sklearn.cluster import KMeans\n",
    "import os\n",
    "\n",
    "def ten_choose_five():\n",
    "    gene_list = [\n",
    "        'GATA2', \n",
    "        'GFI1B', \n",
    "        'FOS', \n",
    "        'STAT5A',\n",
    "        'REL',\n",
    "        'FOSB',\n",
    "        'IKZF1',\n",
    "        'RUNX3',\n",
    "        'MEF2C',\n",
    "        'ETV6',\n",
    "    ]\n",
    "    len_sublist = 5\n",
    "    sublists = list(combinations(gene_list, len_sublist))\n",
    "    \n",
    "    df = pd.DataFrame({\n",
    "        'recipe_iteration': range(1, len(sublists) + 1),\n",
    "        'recipe_list': [list(sublist) for sublist in sublists]\n",
    "    })\n",
    "    return df\n",
    "\n",
    "pert_df = ten_choose_five()\n",
    "pert_df['recipe_list'] = pert_df['recipe_list'].apply(lambda x: ';'.join(x))\n",
    "pert_dict = pert_df.set_index('recipe_list')['recipe_iteration'].to_dict()\n",
    "\n",
    "# List of files to process\n",
    "  # Replace with actual file names\n",
    "\n",
    "# Initialize a list to collect data\n",
    "all_data = []\n",
    "\n",
    "for file in files_in_directory:\n",
    "    print(\"Going to read in \", file)\n",
    "    one_recipe_adata = ad.read_h5ad(file)\n",
    "    print(one_recipe_adata.obs.columns)\n",
    "\n",
    "    one_recipe_adata = one_recipe_adata[one_recipe_adata.obs['type'] == 'reprogrammed']\n",
    "\n",
    "    # Perform K-means clustering\n",
    "    kmeans = KMeans(n_clusters=10, random_state=0).fit(one_recipe_adata.X)\n",
    "    one_recipe_adata.obs['kmeans_clusters'] = kmeans.labels_\n",
    "\n",
    "    # Extract recipe number\n",
    "    recipe_names_this_file = one_recipe_adata.obs['recipe'].unique()\n",
    "    if len(recipe_names_this_file) == 1:\n",
    "        recipe_as_string = recipe_names_this_file[0]\n",
    "        recipe_num = pert_dict.get(recipe_as_string, None)\n",
    "        if recipe_num is None:\n",
    "            print(f\"Recipe number not found for {recipe_as_string}\")\n",
    "            continue\n",
    "    else:\n",
    "        print('Error: There are multiple unique values or no values in the column.')\n",
    "        continue\n",
    "\n",
    "    # Combine recipe number with kmeans cluster number\n",
    "    one_recipe_adata.obs['kmeans'] = one_recipe_adata.obs['kmeans_clusters'].apply(\n",
    "        lambda x: int(f\"{recipe_num}{x}\")\n",
    "    )\n",
    "\n",
    "    # Collect data\n",
    "    all_data.append(one_recipe_adata)\n",
    "\n",
    "# Concatenate all AnnData objects\n",
    "combined_adata = ad.concat(all_data, join='outer')\n",
    "\n"
   ]
  },
  {
   "cell_type": "code",
   "execution_count": null,
   "id": "3fa93082-69dc-43f4-949a-b68723551fe8",
   "metadata": {},
   "outputs": [],
   "source": [
    "# From here, write combined_adata to your desired location"
   ]
  },
  {
   "cell_type": "code",
   "execution_count": null,
   "id": "b3a3fba1-0123-43fc-b425-3178cfdf1869",
   "metadata": {},
   "outputs": [],
   "source": []
  },
  {
   "cell_type": "code",
   "execution_count": null,
   "id": "d4d66ad7-481e-49c7-a921-662deaacfe5c",
   "metadata": {},
   "outputs": [],
   "source": [
    "break"
   ]
  },
  {
   "cell_type": "code",
   "execution_count": null,
   "id": "e2bb78b0-4919-4c69-8bb3-bb6ef4cbde27",
   "metadata": {},
   "outputs": [],
   "source": [
    "# This has already been performed for the 252 Fib - iHSC geneformer experiment, and can be found at \n",
    "combined_adata = ad.read_h5ad('/nfs/turbo/umms-indikar/shared/projects/geneformer/fib15k/8_14_originals_working/perturbed_combined_good.h5ad')\n",
    "combined_adata.head()"
   ]
  }
 ],
 "metadata": {
  "kernelspec": {
   "display_name": "geneformer2",
   "language": "python",
   "name": "geneformer2"
  },
  "language_info": {
   "codemirror_mode": {
    "name": "ipython",
    "version": 3
   },
   "file_extension": ".py",
   "mimetype": "text/x-python",
   "name": "python",
   "nbconvert_exporter": "python",
   "pygments_lexer": "ipython3",
   "version": "3.10.14"
  }
 },
 "nbformat": 4,
 "nbformat_minor": 5
}
