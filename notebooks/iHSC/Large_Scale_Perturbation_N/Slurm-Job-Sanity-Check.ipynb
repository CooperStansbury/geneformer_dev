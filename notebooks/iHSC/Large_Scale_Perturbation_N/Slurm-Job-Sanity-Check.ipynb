{
 "cells": [
  {
   "cell_type": "markdown",
   "id": "1a1b843c-86ed-4868-9d5e-f8f3767ee47b",
   "metadata": {},
   "source": [
    "# Making sure the test files from the slurm job (10 cells each, 4 jobs) are nonempty"
   ]
  },
  {
   "cell_type": "code",
   "execution_count": null,
   "id": "3c5fc0ad-e3d9-49bd-aac0-efd9e6c53af1",
   "metadata": {},
   "outputs": [],
   "source": [
    "import scanpy as sc\n",
    "\n",
    "# Replace 'your_file.h5ad' with the path to your .h5ad file\n",
    "file_paths = ['/nfs/turbo/umms-indikar/shared/projects/geneformer/fib15k/2024-07-30_20-07-55_job_number_1.h5ad']\n",
    "              \n",
    "total_rows = 0\n",
    "\n",
    "for i in file_paths:\n",
    "# Read the .h5ad file\n",
    "    adata = sc.read_h5ad(file_path)\n",
    "    print(\"read file number \")\n",
    "    print(i)\n",
    "    print(\" of 4\")\n",
    "\n",
    "    # Display the .X info\n",
    "    print(\"Shape of .X:\", adata.X.shape)\n",
    "    total_rows += adata.obs.shape[0]\n",
    "    # Display the .obs header\n",
    "    print(\"Header of .obs:\", adata.obs.columns.tolist())\n",
    "print(\"The total number of cells in the final perturbed matrix is: \")\n",
    "print(total_rows)\n",
    "    "
   ]
  },
  {
   "cell_type": "code",
   "execution_count": 5,
   "id": "9996cc03-5181-43fc-abef-014b025f6cdb",
   "metadata": {},
   "outputs": [
    {
     "name": "stdout",
     "output_type": "stream",
     "text": [
      "Shape of .X: (30616, 512)\n",
      "Header of .obs: ['input_ids', 'cell_type', 'dataset', 'length', 'ignore', 'standardized_cell_type', 'broad_type', '__index_level_0__', 'cell_id', 'recipe', 'type']\n"
     ]
    },
    {
     "name": "stderr",
     "output_type": "stream",
     "text": [
      "/home/oliven/miniconda3/envs/geneformer2/lib/python3.10/site-packages/anndata/_core/aligned_df.py:67: ImplicitModificationWarning: Transforming to str index.\n",
      "  warnings.warn(\"Transforming to str index.\", ImplicitModificationWarning)\n"
     ]
    }
   ],
   "source": [
    "import scanpy as sc\n",
    "file_path = '/nfs/turbo/umms-indikar/shared/projects/geneformer/fib15k/2024-07-30_20-07-55_job_number_1.h5ad'\n",
    "adata = sc.read_h5ad(file_path)\n",
    "print(\"Shape of .X:\", adata.X.shape)\n",
    "print(\"Header of .obs:\", adata.obs.columns.tolist())"
   ]
  },
  {
   "cell_type": "code",
   "execution_count": null,
   "id": "e7d97e2a-2634-419f-ae04-b401b7dd9ebd",
   "metadata": {},
   "outputs": [],
   "source": []
  },
  {
   "cell_type": "code",
   "execution_count": 9,
   "id": "f34409b5-a062-42e6-80bc-39e802527c3b",
   "metadata": {},
   "outputs": [
    {
     "data": {
      "text/plain": [
       "30616"
      ]
     },
     "execution_count": 9,
     "metadata": {},
     "output_type": "execute_result"
    }
   ],
   "source": [
    "adata.obs.shape[0]"
   ]
  },
  {
   "cell_type": "code",
   "execution_count": null,
   "id": "4f70f17c-4a7e-4258-af48-a9a12072c42d",
   "metadata": {},
   "outputs": [],
   "source": []
  }
 ],
 "metadata": {
  "kernelspec": {
   "display_name": "geneformer2",
   "language": "python",
   "name": "geneformer2"
  },
  "language_info": {
   "codemirror_mode": {
    "name": "ipython",
    "version": 3
   },
   "file_extension": ".py",
   "mimetype": "text/x-python",
   "name": "python",
   "nbconvert_exporter": "python",
   "pygments_lexer": "ipython3",
   "version": "3.10.14"
  }
 },
 "nbformat": 4,
 "nbformat_minor": 5
}
