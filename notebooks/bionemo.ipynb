{
 "cells": [
  {
   "cell_type": "code",
   "execution_count": 1,
   "id": "0f5c13ef-825d-437c-9c48-1cb17677be97",
   "metadata": {},
   "outputs": [],
   "source": [
    "import pickle"
   ]
  },
  {
   "cell_type": "code",
   "execution_count": 6,
   "id": "cfda0360-a143-4a3a-ae6b-34f958cf656e",
   "metadata": {},
   "outputs": [
    {
     "data": {
      "text/plain": [
       "40248"
      ]
     },
     "execution_count": 6,
     "metadata": {},
     "output_type": "execute_result"
    }
   ],
   "source": [
    "def load_pkl_to_dict(file_path):\n",
    "    \"\"\"Loads a .pkl file into a Python dictionary.\n",
    "\n",
    "    Args:\n",
    "      file_path: The path to the .pkl file.\n",
    "\n",
    "    Returns:\n",
    "      The loaded dictionary, or None if there's an error.\n",
    "    \"\"\"\n",
    "\n",
    "    try:\n",
    "        with open(file_path, 'rb') as file:\n",
    "            data = pickle.load(file)\n",
    "            return data\n",
    "    except FileNotFoundError:\n",
    "        print(f\"Error: File not found at {file_path}\")\n",
    "        return None\n",
    "    except pickle.UnpicklingError:\n",
    "        print(f\"Error: Unable to unpickle data from {file_path}\")\n",
    "        return None\n",
    "    except Exception as e:\n",
    "        print(f\"An unexpected error occurred: {e}\")\n",
    "        return None\n",
    "    \n",
    "fpath = \"/nfs/turbo/umms-indikar/shared/projects/bionemo/geneformer/experiments/finetune/data/processed/train/gene_name_id_dict.pkl\"\n",
    "data = load_pkl_to_dict(fpath)\n",
    "len(data)"
   ]
  },
  {
   "cell_type": "code",
   "execution_count": 12,
   "id": "3224bb22-3e88-497f-be97-75bc3d926ad4",
   "metadata": {},
   "outputs": [
    {
     "data": {
      "text/plain": [
       "['FOS', 'FOSL1', 'FOSL1P1', 'FOSB', 'FOSL2-AS1', 'FOSL2']"
      ]
     },
     "execution_count": 12,
     "metadata": {},
     "output_type": "execute_result"
    }
   ],
   "source": [
    "[x for x in data.keys() if 'FOS' in x]"
   ]
  },
  {
   "cell_type": "code",
   "execution_count": null,
   "id": "94c666ca-77d3-4b41-9b7b-3088de893b5c",
   "metadata": {},
   "outputs": [],
   "source": []
  }
 ],
 "metadata": {
  "kernelspec": {
   "display_name": "bioinf",
   "language": "python",
   "name": "bioinf"
  },
  "language_info": {
   "codemirror_mode": {
    "name": "ipython",
    "version": 3
   },
   "file_extension": ".py",
   "mimetype": "text/x-python",
   "name": "python",
   "nbconvert_exporter": "python",
   "pygments_lexer": "ipython3",
   "version": "3.10.14"
  }
 },
 "nbformat": 4,
 "nbformat_minor": 5
}
