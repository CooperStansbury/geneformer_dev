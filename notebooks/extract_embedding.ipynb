{
 "cells": [
  {
   "cell_type": "code",
   "execution_count": 1,
   "id": "da3b2e7e-868a-425d-9581-bb4ac3dd4f3c",
   "metadata": {},
   "outputs": [
    {
     "name": "stderr",
     "output_type": "stream",
     "text": [
      "/home/cstansbu/miniconda3/envs/geneformer/lib/python3.10/site-packages/tqdm/auto.py:21: TqdmWarning: IProgress not found. Please update jupyter and ipywidgets. See https://ipywidgets.readthedocs.io/en/stable/user_install.html\n",
      "  from .autonotebook import tqdm as notebook_tqdm\n"
     ]
    }
   ],
   "source": [
    "import seaborn as sns\n",
    "import pandas as pd \n",
    "import numpy as np\n",
    "from scipy.spatial.distance import squareform, pdist\n",
    "import matplotlib.pyplot as plt\n",
    "import torch\n",
    "import anndata as an\n",
    "import scanpy as sc\n",
    "import umap\n",
    "import gc\n",
    "\n",
    "from datasets import Dataset, load_from_disk\n",
    "from datasets import load_dataset\n",
    "from geneformer import EmbExtractor\n",
    "\n",
    "sns.set_style('white')"
   ]
  },
  {
   "cell_type": "code",
   "execution_count": 2,
   "id": "263bd307-d1d0-42fa-8e24-e4ceb193aee2",
   "metadata": {},
   "outputs": [],
   "source": [
    "# break"
   ]
  },
  {
   "cell_type": "code",
   "execution_count": 3,
   "id": "4104efe8-8e37-4fc3-b597-857453e1672b",
   "metadata": {},
   "outputs": [],
   "source": [
    "# model = \"/nfs/turbo/umms-indikar/shared/projects/HSC/data/geneformer/fine_tuned_models/geneformer-6L-30M_CellClassifier_cardiomyopathies_220224\"\n",
    "model = \"/nfs/turbo/umms-indikar/shared/projects/geneformer/geneformer-12L-30M/\"\n",
    "data_path = \"/nfs/turbo/umms-indikar/shared/projects/geneformer/data/rajapakse_lab_data.dataset\"\n",
    "outpath = \"/scratch/indikar_root/indikar1/cstansbu/geneformer\""
   ]
  },
  {
   "cell_type": "code",
   "execution_count": 8,
   "id": "05cdd716-edaf-456f-89f2-48810dee42bc",
   "metadata": {},
   "outputs": [
    {
     "data": {
      "text/html": [
       "<div>\n",
       "<style scoped>\n",
       "    .dataframe tbody tr th:only-of-type {\n",
       "        vertical-align: middle;\n",
       "    }\n",
       "\n",
       "    .dataframe tbody tr th {\n",
       "        vertical-align: top;\n",
       "    }\n",
       "\n",
       "    .dataframe thead th {\n",
       "        text-align: right;\n",
       "    }\n",
       "</style>\n",
       "<table border=\"1\" class=\"dataframe\">\n",
       "  <thead>\n",
       "    <tr style=\"text-align: right;\">\n",
       "      <th></th>\n",
       "      <th>input_ids</th>\n",
       "      <th>dataset</th>\n",
       "      <th>sample_id</th>\n",
       "      <th>timepoint</th>\n",
       "      <th>hour</th>\n",
       "      <th>n_counts</th>\n",
       "      <th>control</th>\n",
       "      <th>length</th>\n",
       "    </tr>\n",
       "  </thead>\n",
       "  <tbody>\n",
       "    <tr>\n",
       "      <th>0</th>\n",
       "      <td>[10920, 4415, 7492, 11900, 11350, 10027, 3584,...</td>\n",
       "      <td>liu_2018</td>\n",
       "      <td>63246</td>\n",
       "      <td>1.0</td>\n",
       "      <td>-48.0</td>\n",
       "      <td>11940999</td>\n",
       "      <td>True</td>\n",
       "      <td>2048</td>\n",
       "    </tr>\n",
       "    <tr>\n",
       "      <th>1</th>\n",
       "      <td>[4415, 10920, 7492, 10027, 11350, 3584, 1732, ...</td>\n",
       "      <td>liu_2018</td>\n",
       "      <td>63252</td>\n",
       "      <td>2.0</td>\n",
       "      <td>0.0</td>\n",
       "      <td>18063509</td>\n",
       "      <td>False</td>\n",
       "      <td>2048</td>\n",
       "    </tr>\n",
       "    <tr>\n",
       "      <th>2</th>\n",
       "      <td>[4415, 10920, 7492, 2852, 10027, 11350, 3584, ...</td>\n",
       "      <td>liu_2018</td>\n",
       "      <td>63249</td>\n",
       "      <td>3.0</td>\n",
       "      <td>8.0</td>\n",
       "      <td>11031474</td>\n",
       "      <td>False</td>\n",
       "      <td>2048</td>\n",
       "    </tr>\n",
       "    <tr>\n",
       "      <th>3</th>\n",
       "      <td>[7492, 4415, 10920, 9235, 6013, 6839, 10939, 5...</td>\n",
       "      <td>liu_2018</td>\n",
       "      <td>63261</td>\n",
       "      <td>1.0</td>\n",
       "      <td>16.0</td>\n",
       "      <td>16761043</td>\n",
       "      <td>False</td>\n",
       "      <td>2048</td>\n",
       "    </tr>\n",
       "    <tr>\n",
       "      <th>4</th>\n",
       "      <td>[7492, 4415, 10920, 11900, 16683, 10027, 6013,...</td>\n",
       "      <td>liu_2018</td>\n",
       "      <td>63258</td>\n",
       "      <td>2.0</td>\n",
       "      <td>24.0</td>\n",
       "      <td>8244802</td>\n",
       "      <td>False</td>\n",
       "      <td>2048</td>\n",
       "    </tr>\n",
       "  </tbody>\n",
       "</table>\n",
       "</div>"
      ],
      "text/plain": [
       "                                           input_ids   dataset sample_id  \\\n",
       "0  [10920, 4415, 7492, 11900, 11350, 10027, 3584,...  liu_2018     63246   \n",
       "1  [4415, 10920, 7492, 10027, 11350, 3584, 1732, ...  liu_2018     63252   \n",
       "2  [4415, 10920, 7492, 2852, 10027, 11350, 3584, ...  liu_2018     63249   \n",
       "3  [7492, 4415, 10920, 9235, 6013, 6839, 10939, 5...  liu_2018     63261   \n",
       "4  [7492, 4415, 10920, 11900, 16683, 10027, 6013,...  liu_2018     63258   \n",
       "\n",
       "   timepoint  hour  n_counts  control  length  \n",
       "0        1.0 -48.0  11940999     True    2048  \n",
       "1        2.0   0.0  18063509    False    2048  \n",
       "2        3.0   8.0  11031474    False    2048  \n",
       "3        1.0  16.0  16761043    False    2048  \n",
       "4        2.0  24.0   8244802    False    2048  "
      ]
     },
     "execution_count": 8,
     "metadata": {},
     "output_type": "execute_result"
    }
   ],
   "source": [
    "def load_and_subset_data(data_path: str, num_cells: int = 100) -> pd.DataFrame:\n",
    "    \"\"\"Loads a dataset from disk, selects a subset of cells, and converts it to a Pandas DataFrame.\n",
    "\n",
    "    Args:\n",
    "        data_path (str): Path to the dataset file.\n",
    "        num_cells (int, optional): Number of cells to include in the subset (default: 100).\n",
    "\n",
    "    Returns:\n",
    "        pd.DataFrame: The subset of data as a Pandas DataFrame.\n",
    "    \"\"\"\n",
    "\n",
    "    data = load_from_disk(data_path)\n",
    "    if num_cells > len(data):\n",
    "        raise ValueError(f\"Requested subset size ({num_cells}) exceeds dataset length ({len(data)})\")\n",
    "\n",
    "    data_subset = data.select([i for i in range(num_cells)])\n",
    "    df = data_subset.to_pandas()\n",
    "\n",
    "    return df\n",
    "\n",
    "# Example usage:\n",
    "df = load_and_subset_data(data_path, num_cells=66)\n",
    "\n",
    "df.head()"
   ]
  },
  {
   "cell_type": "code",
   "execution_count": null,
   "id": "4319f63a-681e-4ca6-9dad-a139b9a3521d",
   "metadata": {},
   "outputs": [],
   "source": [
    "# print(torch.cuda.memory_summary(device=None, abbreviated=False))"
   ]
  },
  {
   "cell_type": "code",
   "execution_count": 10,
   "id": "adc3a392-c530-4742-9c67-c1ff27bbbdf4",
   "metadata": {},
   "outputs": [
    {
     "name": "stderr",
     "output_type": "stream",
     "text": [
      "100%|██████████| 3/3 [00:03<00:00,  1.33s/it]\n"
     ]
    }
   ],
   "source": [
    "torch.cuda.empty_cache()\n",
    "\n",
    "n_cells = 66\n",
    "# 0 for last layer, -1 for second to last\n",
    "layer = 0 \n",
    "\n",
    "# initiate EmbExtractor\n",
    "embex = EmbExtractor(model_type=\"Pretrained\",\n",
    "                     num_classes=0,\n",
    "                     max_ncells=n_cells,\n",
    "                     emb_mode='cell',\n",
    "                     emb_layer=layer,\n",
    "                     emb_label=[\"dataset\", \"sample_id\", \"timepoint\", \"hour\", 'control'],\n",
    "                     forward_batch_size=30,\n",
    "                     nproc=16,\n",
    "                      )\n",
    "\n",
    "# extracts embedding from input data\n",
    "embs = embex.extract_embs(model,\n",
    "                          data_path,\n",
    "                          outpath,\n",
    "                          \"test\")\n"
   ]
  },
  {
   "cell_type": "code",
   "execution_count": 11,
   "id": "38955dff-0a2d-4801-94bc-19f27bce9ede",
   "metadata": {},
   "outputs": [
    {
     "data": {
      "text/html": [
       "<div>\n",
       "<style scoped>\n",
       "    .dataframe tbody tr th:only-of-type {\n",
       "        vertical-align: middle;\n",
       "    }\n",
       "\n",
       "    .dataframe tbody tr th {\n",
       "        vertical-align: top;\n",
       "    }\n",
       "\n",
       "    .dataframe thead th {\n",
       "        text-align: right;\n",
       "    }\n",
       "</style>\n",
       "<table border=\"1\" class=\"dataframe\">\n",
       "  <thead>\n",
       "    <tr style=\"text-align: right;\">\n",
       "      <th></th>\n",
       "      <th>0</th>\n",
       "      <th>1</th>\n",
       "      <th>2</th>\n",
       "      <th>3</th>\n",
       "      <th>4</th>\n",
       "      <th>5</th>\n",
       "      <th>6</th>\n",
       "      <th>7</th>\n",
       "      <th>8</th>\n",
       "      <th>9</th>\n",
       "      <th>...</th>\n",
       "      <th>507</th>\n",
       "      <th>508</th>\n",
       "      <th>509</th>\n",
       "      <th>510</th>\n",
       "      <th>511</th>\n",
       "      <th>dataset</th>\n",
       "      <th>sample_id</th>\n",
       "      <th>timepoint</th>\n",
       "      <th>hour</th>\n",
       "      <th>control</th>\n",
       "    </tr>\n",
       "  </thead>\n",
       "  <tbody>\n",
       "    <tr>\n",
       "      <th>0</th>\n",
       "      <td>-0.267749</td>\n",
       "      <td>-0.562284</td>\n",
       "      <td>1.086843</td>\n",
       "      <td>-0.220784</td>\n",
       "      <td>0.304524</td>\n",
       "      <td>0.122247</td>\n",
       "      <td>-0.005547</td>\n",
       "      <td>-0.323727</td>\n",
       "      <td>0.460995</td>\n",
       "      <td>0.477571</td>\n",
       "      <td>...</td>\n",
       "      <td>0.379134</td>\n",
       "      <td>-0.004659</td>\n",
       "      <td>-0.436545</td>\n",
       "      <td>0.354680</td>\n",
       "      <td>-0.386282</td>\n",
       "      <td>liu_2018</td>\n",
       "      <td>63246</td>\n",
       "      <td>1.0</td>\n",
       "      <td>-48.0</td>\n",
       "      <td>True</td>\n",
       "    </tr>\n",
       "    <tr>\n",
       "      <th>1</th>\n",
       "      <td>-0.305709</td>\n",
       "      <td>-0.638381</td>\n",
       "      <td>0.890797</td>\n",
       "      <td>-0.211967</td>\n",
       "      <td>0.294883</td>\n",
       "      <td>0.121767</td>\n",
       "      <td>0.249747</td>\n",
       "      <td>-0.481699</td>\n",
       "      <td>0.611989</td>\n",
       "      <td>0.449617</td>\n",
       "      <td>...</td>\n",
       "      <td>0.304695</td>\n",
       "      <td>-0.211474</td>\n",
       "      <td>-0.581763</td>\n",
       "      <td>0.195274</td>\n",
       "      <td>-0.246072</td>\n",
       "      <td>liu_2018</td>\n",
       "      <td>63252</td>\n",
       "      <td>2.0</td>\n",
       "      <td>0.0</td>\n",
       "      <td>False</td>\n",
       "    </tr>\n",
       "    <tr>\n",
       "      <th>2</th>\n",
       "      <td>-0.137678</td>\n",
       "      <td>-0.415226</td>\n",
       "      <td>1.010852</td>\n",
       "      <td>-0.328790</td>\n",
       "      <td>0.320330</td>\n",
       "      <td>0.170488</td>\n",
       "      <td>-0.041598</td>\n",
       "      <td>-0.333038</td>\n",
       "      <td>0.571108</td>\n",
       "      <td>0.411519</td>\n",
       "      <td>...</td>\n",
       "      <td>0.456451</td>\n",
       "      <td>-0.176525</td>\n",
       "      <td>-0.435575</td>\n",
       "      <td>0.274627</td>\n",
       "      <td>-0.342817</td>\n",
       "      <td>liu_2018</td>\n",
       "      <td>63249</td>\n",
       "      <td>3.0</td>\n",
       "      <td>8.0</td>\n",
       "      <td>False</td>\n",
       "    </tr>\n",
       "    <tr>\n",
       "      <th>3</th>\n",
       "      <td>-0.092060</td>\n",
       "      <td>-0.441962</td>\n",
       "      <td>0.923349</td>\n",
       "      <td>-0.247277</td>\n",
       "      <td>0.387609</td>\n",
       "      <td>0.136011</td>\n",
       "      <td>0.275124</td>\n",
       "      <td>-0.493670</td>\n",
       "      <td>0.829564</td>\n",
       "      <td>0.052557</td>\n",
       "      <td>...</td>\n",
       "      <td>0.548500</td>\n",
       "      <td>-0.030934</td>\n",
       "      <td>-0.350777</td>\n",
       "      <td>0.016487</td>\n",
       "      <td>-0.347049</td>\n",
       "      <td>liu_2018</td>\n",
       "      <td>63261</td>\n",
       "      <td>1.0</td>\n",
       "      <td>16.0</td>\n",
       "      <td>False</td>\n",
       "    </tr>\n",
       "    <tr>\n",
       "      <th>4</th>\n",
       "      <td>-0.168132</td>\n",
       "      <td>-0.575757</td>\n",
       "      <td>1.050635</td>\n",
       "      <td>-0.215729</td>\n",
       "      <td>0.390796</td>\n",
       "      <td>0.174873</td>\n",
       "      <td>0.213113</td>\n",
       "      <td>-0.476623</td>\n",
       "      <td>0.745153</td>\n",
       "      <td>0.447791</td>\n",
       "      <td>...</td>\n",
       "      <td>0.344536</td>\n",
       "      <td>0.106221</td>\n",
       "      <td>-0.388316</td>\n",
       "      <td>0.007238</td>\n",
       "      <td>-0.421886</td>\n",
       "      <td>liu_2018</td>\n",
       "      <td>63258</td>\n",
       "      <td>2.0</td>\n",
       "      <td>24.0</td>\n",
       "      <td>False</td>\n",
       "    </tr>\n",
       "  </tbody>\n",
       "</table>\n",
       "<p>5 rows × 517 columns</p>\n",
       "</div>"
      ],
      "text/plain": [
       "          0         1         2         3         4         5         6  \\\n",
       "0 -0.267749 -0.562284  1.086843 -0.220784  0.304524  0.122247 -0.005547   \n",
       "1 -0.305709 -0.638381  0.890797 -0.211967  0.294883  0.121767  0.249747   \n",
       "2 -0.137678 -0.415226  1.010852 -0.328790  0.320330  0.170488 -0.041598   \n",
       "3 -0.092060 -0.441962  0.923349 -0.247277  0.387609  0.136011  0.275124   \n",
       "4 -0.168132 -0.575757  1.050635 -0.215729  0.390796  0.174873  0.213113   \n",
       "\n",
       "          7         8         9  ...       507       508       509       510  \\\n",
       "0 -0.323727  0.460995  0.477571  ...  0.379134 -0.004659 -0.436545  0.354680   \n",
       "1 -0.481699  0.611989  0.449617  ...  0.304695 -0.211474 -0.581763  0.195274   \n",
       "2 -0.333038  0.571108  0.411519  ...  0.456451 -0.176525 -0.435575  0.274627   \n",
       "3 -0.493670  0.829564  0.052557  ...  0.548500 -0.030934 -0.350777  0.016487   \n",
       "4 -0.476623  0.745153  0.447791  ...  0.344536  0.106221 -0.388316  0.007238   \n",
       "\n",
       "        511   dataset  sample_id  timepoint  hour  control  \n",
       "0 -0.386282  liu_2018      63246        1.0 -48.0     True  \n",
       "1 -0.246072  liu_2018      63252        2.0   0.0    False  \n",
       "2 -0.342817  liu_2018      63249        3.0   8.0    False  \n",
       "3 -0.347049  liu_2018      63261        1.0  16.0    False  \n",
       "4 -0.421886  liu_2018      63258        2.0  24.0    False  \n",
       "\n",
       "[5 rows x 517 columns]"
      ]
     },
     "execution_count": 11,
     "metadata": {},
     "output_type": "execute_result"
    }
   ],
   "source": [
    "embs.head()"
   ]
  },
  {
   "cell_type": "code",
   "execution_count": null,
   "id": "c3c87528-a08d-4316-b939-de2d4729acb0",
   "metadata": {},
   "outputs": [],
   "source": []
  },
  {
   "cell_type": "code",
   "execution_count": null,
   "id": "b3721e36-02bc-460c-a2d1-28cf704d3cd6",
   "metadata": {},
   "outputs": [],
   "source": [
    "# break"
   ]
  },
  {
   "cell_type": "code",
   "execution_count": 13,
   "id": "41a5ee22-17e6-4c78-96c3-d6ca12435bd6",
   "metadata": {},
   "outputs": [
    {
     "data": {
      "text/plain": [
       "AnnData object with n_obs × n_vars = 66 × 512\n",
       "    obs: 'dataset', 'sample_id', 'timepoint', 'hour', 'control'"
      ]
     },
     "execution_count": 13,
     "metadata": {},
     "output_type": "execute_result"
    }
   ],
   "source": [
    "def embedding_to_adata(df: pd.DataFrame, n_dim: int = None) -> an.AnnData:\n",
    "    \"\"\"Converts a Pandas DataFrame with an embedding to an AnnData object.\n",
    "\n",
    "    Args:\n",
    "        df: The input DataFrame with numerical embedding columns and optional metadata columns.\n",
    "        n_dim: The number of dimensions to keep in the embedding. If None, all dimensions are kept.\n",
    "\n",
    "    Returns:\n",
    "        The converted AnnData object.\n",
    "\n",
    "    Raises:\n",
    "        ValueError: If `n_dim` exceeds the available dimensions in the DataFrame.\n",
    "    \"\"\"\n",
    "\n",
    "    if n_dim is not None and n_dim > df.shape[1]:\n",
    "        raise ValueError(f\"n_dim ({n_dim}) exceeds available dimensions ({df.shape[1]})\")\n",
    "\n",
    "    # Assuming embedding columns are those that are not integers\n",
    "    is_metadata = df.columns.astype(str).str.isdigit()\n",
    "    metadata_df = df.loc[:, ~is_metadata]\n",
    "    embedding_df = df.loc[:, is_metadata]\n",
    "\n",
    "    cell_index = pd.Index([f\"C{x}\" for x in range(df.shape[0])], name='obs_names')\n",
    "\n",
    "    if n_dim is not None:\n",
    "        embedding_df = embedding_df.iloc[:, :n_dim]\n",
    "\n",
    "    var_index = pd.Index([f\"D{x}\" for x in range(embedding_df.shape[1])], name='var_names')\n",
    "\n",
    "    adata = an.AnnData(embedding_df.to_numpy())\n",
    "    adata.obs_names = cell_index\n",
    "    adata.var_names = var_index\n",
    "    adata.obs = metadata_df\n",
    "    return adata\n",
    "\n",
    "    \n",
    "adata = embedding_to_adata(embs)\n",
    "adata"
   ]
  },
  {
   "cell_type": "markdown",
   "id": "9da40b1e-3524-4a36-b90a-ee76e15ee814",
   "metadata": {},
   "source": [
    "# PCA of embeddings"
   ]
  },
  {
   "cell_type": "code",
   "execution_count": 14,
   "id": "40c72451-d4be-43cd-a971-cb0fb2dba516",
   "metadata": {},
   "outputs": [
    {
     "name": "stderr",
     "output_type": "stream",
     "text": [
      "/home/cstansbu/miniconda3/envs/geneformer/lib/python3.10/site-packages/anndata/_core/anndata.py:1209: SettingWithCopyWarning: \n",
      "A value is trying to be set on a copy of a slice from a DataFrame.\n",
      "Try using .loc[row_indexer,col_indexer] = value instead\n",
      "\n",
      "See the caveats in the documentation: https://pandas.pydata.org/pandas-docs/stable/user_guide/indexing.html#returning-a-view-versus-a-copy\n",
      "  df[key] = c\n"
     ]
    },
    {
     "data": {
      "image/png": "[encoded data removed]",
      "text/plain": [
       "<Figure size 640x480 with 1 Axes>"
      ]
     },
     "metadata": {},
     "output_type": "display_data"
    }
   ],
   "source": [
    "sc.tl.pca(adata)\n",
    "sc.pp.neighbors(adata)\n",
    "sc.tl.umap(adata, min_dist=0.1)\n",
    "sc.pl.umap(\n",
    "    adata,\n",
    "    color=[\"dataset\"],\n",
    "    ncols=1,\n",
    "    # Setting a smaller point size to get prevent overlap\n",
    "    size=30,\n",
    ")"
   ]
  },
  {
   "cell_type": "code",
   "execution_count": null,
   "id": "1acd8c99-aef9-4309-8c62-1e5a35b522a7",
   "metadata": {},
   "outputs": [],
   "source": [
    "break"
   ]
  },
  {
   "cell_type": "markdown",
   "id": "a24daf09-b35d-4724-b608-fabf1bae785d",
   "metadata": {},
   "source": [
    "# Neighbor Graph (no PCA of embeddings)"
   ]
  },
  {
   "cell_type": "code",
   "execution_count": null,
   "id": "b5fa3aac-52cf-4969-8aba-9507d13d3a8a",
   "metadata": {},
   "outputs": [],
   "source": [
    "sc.pp.neighbors(adata, use_rep='X')\n",
    "sc.tl.umap(adata, min_dist=0.1)\n",
    "sc.pl.umap(\n",
    "    adata,\n",
    "    color=[\"cell_type\", \"dataset\", \"n_counts\", \"length\"],\n",
    "    ncols=1,\n",
    "    size=30,\n",
    ")"
   ]
  },
  {
   "cell_type": "code",
   "execution_count": null,
   "id": "18635751-1446-4f89-a8be-496891b1d415",
   "metadata": {},
   "outputs": [],
   "source": [
    "break"
   ]
  },
  {
   "cell_type": "code",
   "execution_count": null,
   "id": "6bca643e-42c8-4d51-a5cf-d1712f6bfc95",
   "metadata": {},
   "outputs": [],
   "source": []
  },
  {
   "cell_type": "code",
   "execution_count": null,
   "id": "33fc027a-234d-42c9-9abf-35196a7823fa",
   "metadata": {},
   "outputs": [],
   "source": []
  },
  {
   "cell_type": "code",
   "execution_count": null,
   "id": "d3b8f0a4-366e-4501-8cdf-6ecc2e466ff2",
   "metadata": {},
   "outputs": [],
   "source": []
  },
  {
   "cell_type": "code",
   "execution_count": null,
   "id": "38c393ed-a81c-43e7-83bc-7e4e525190b5",
   "metadata": {},
   "outputs": [],
   "source": []
  },
  {
   "cell_type": "code",
   "execution_count": null,
   "id": "64eee760-faa7-4b65-9058-2467a5bd9bfa",
   "metadata": {},
   "outputs": [],
   "source": [
    "reducer = umap.UMAP()\n",
    "embedding = reducer.fit_transform(adata.X)\n",
    "\n",
    "adata.obs['UMAP 1'] = embedding[:, 0]\n",
    "adata.obs['UMAP 2'] = embedding[:, 1]\n",
    "\n",
    "adata"
   ]
  },
  {
   "cell_type": "code",
   "execution_count": null,
   "id": "e46bcc2e-9ae1-471f-8bc5-4558b6f2a0c2",
   "metadata": {},
   "outputs": [],
   "source": [
    "adata.obs['dataset'].unique()"
   ]
  },
  {
   "cell_type": "code",
   "execution_count": null,
   "id": "0a920429-3a71-45e9-a213-6ca7d1455d14",
   "metadata": {},
   "outputs": [],
   "source": [
    "plt.rcParams['figure.dpi'] = 300\n",
    "plt.rcParams['figure.figsize'] = 5, 5\n",
    "\n",
    "sns.scatterplot(data=adata.obs,\n",
    "                x='UMAP 1',\n",
    "                y='UMAP 2',\n",
    "                ec='none',\n",
    "                lw=0.1,\n",
    "                alpha=0.9,\n",
    "                hue='dataset',\n",
    "                s=5)\n",
    "\n",
    "\n",
    "plt.xticks([])\n",
    "plt.yticks([])\n",
    "\n",
    "\n",
    "sns.move_legend(plt.gca(), \n",
    "                loc='upper right',\n",
    "                bbox_to_anchor=(1.7, 1))\n",
    "\n",
    "plt.gca().set_aspect('equal')"
   ]
  },
  {
   "cell_type": "markdown",
   "id": "adbbef48-5325-4b8e-87fa-cf6df9ba9711",
   "metadata": {},
   "source": [
    "# Neighbor Graph (no PCA of embeddings)"
   ]
  },
  {
   "cell_type": "code",
   "execution_count": null,
   "id": "b2cb8438-b363-4113-851d-3a89e5c8fefa",
   "metadata": {},
   "outputs": [],
   "source": [
    "sc.pp.neighbors(adata)\n",
    "sc.tl.umap(adata)\n",
    "sc.pl.umap(\n",
    "    adata,\n",
    "    color=[\"cell_type\", \"dataset\"],\n",
    "    n_cols=1,\n",
    "    # Setting a smaller point size to get prevent overlap\n",
    "    size=10,\n",
    ")"
   ]
  },
  {
   "cell_type": "code",
   "execution_count": null,
   "id": "f5f55e49-8c37-40c6-8062-ded826241b8f",
   "metadata": {},
   "outputs": [],
   "source": [
    "break"
   ]
  },
  {
   "cell_type": "code",
   "execution_count": null,
   "id": "5707dd9c-8335-459e-bd91-faeb571e76ac",
   "metadata": {},
   "outputs": [],
   "source": []
  },
  {
   "cell_type": "code",
   "execution_count": null,
   "id": "01843c0f-0c46-4d5f-9587-42e4208d5ea1",
   "metadata": {},
   "outputs": [],
   "source": []
  },
  {
   "cell_type": "code",
   "execution_count": null,
   "id": "a66d40fe-29af-474c-b5e2-2c4383518a29",
   "metadata": {},
   "outputs": [],
   "source": [
    "comp_1 = 4\n",
    "comp_2 = 5\n",
    "\n",
    "sns.scatterplot(data=embs,\n",
    "                x=comp_1,\n",
    "                y=comp_2,\n",
    "                ec='none',\n",
    "                lw=0.1,\n",
    "                alpha=0.9,\n",
    "                hue='dataset',\n",
    "                s=5)\n",
    "\n",
    "\n",
    "plt.xticks([])\n",
    "plt.yticks([])\n",
    "\n",
    "sns.move_legend(plt.gca(), \n",
    "                loc='upper right',\n",
    "                bbox_to_anchor=(1.7, 1))\n",
    "\n",
    "plt.gca().set_aspect('equal')"
   ]
  },
  {
   "cell_type": "code",
   "execution_count": null,
   "id": "b255fd35-e66c-41dd-9e10-a791783e0976",
   "metadata": {},
   "outputs": [],
   "source": []
  },
  {
   "cell_type": "code",
   "execution_count": null,
   "id": "e691cfd5-86d2-4aab-96ae-a3af46c0bf71",
   "metadata": {},
   "outputs": [],
   "source": []
  },
  {
   "cell_type": "code",
   "execution_count": null,
   "id": "9298cb8e-6608-4cfb-9b00-49dc1652e02e",
   "metadata": {},
   "outputs": [],
   "source": []
  },
  {
   "cell_type": "code",
   "execution_count": null,
   "id": "0baab1a6-f2aa-426e-8e2d-46692345406b",
   "metadata": {},
   "outputs": [],
   "source": [
    "sc.tl.pca(adata, n_comps=5)\n",
    "sc.pp.neighbors(adata)\n",
    "sc.tl.umap(adata)\n",
    "sc.pl.umap(\n",
    "    adata,\n",
    "    color=\"cell_type\",\n",
    "    # Setting a smaller point size to get prevent overlap\n",
    "    size=10,\n",
    ")"
   ]
  },
  {
   "cell_type": "code",
   "execution_count": null,
   "id": "fcb95f92-f5eb-47a7-8be1-2269e8810e05",
   "metadata": {},
   "outputs": [],
   "source": [
    "break"
   ]
  },
  {
   "cell_type": "code",
   "execution_count": null,
   "id": "db772b72-2c63-4103-a8c5-c27b107e7b50",
   "metadata": {},
   "outputs": [],
   "source": [
    "sc.tl.leiden(adata, n_iterations=2)\n",
    "sc.pl.umap(adata, color=[\"leiden\"])"
   ]
  },
  {
   "cell_type": "code",
   "execution_count": null,
   "id": "bdf80196-1d40-4b5c-95b3-24b589d052f9",
   "metadata": {},
   "outputs": [],
   "source": []
  },
  {
   "cell_type": "code",
   "execution_count": null,
   "id": "cff8517e-12a2-4b3b-aeb8-dcbe9f9f01d3",
   "metadata": {},
   "outputs": [],
   "source": []
  },
  {
   "cell_type": "code",
   "execution_count": null,
   "id": "8ffb54a2-92d6-437e-a600-25970da5b401",
   "metadata": {},
   "outputs": [],
   "source": [
    "break"
   ]
  },
  {
   "cell_type": "code",
   "execution_count": null,
   "id": "18e7c503-eb9f-4897-b929-5c0bb0ba1926",
   "metadata": {},
   "outputs": [],
   "source": [
    "sns.scatterplot(data=embs,\n",
    "                x=0,\n",
    "                y=1,\n",
    "                hue='dataset',\n",
    "                s=10)\n",
    "\n",
    "sns.move_legend(plt.gca(), \n",
    "                loc='upper right',\n",
    "                bbox_to_anchor=(1.7, 1))\n",
    "\n",
    "plt.gca().set_aspect('equal')"
   ]
  },
  {
   "cell_type": "code",
   "execution_count": null,
   "id": "9ee40f89-6b88-4d60-9a62-ea1e767e30d9",
   "metadata": {},
   "outputs": [],
   "source": [
    "break"
   ]
  },
  {
   "cell_type": "code",
   "execution_count": null,
   "id": "123fd075-6f6c-481d-89cf-d80ee5f6ecb1",
   "metadata": {},
   "outputs": [],
   "source": [
    "sc.tl.pca(adata)\n",
    "sc.pp.neighbors(adata, n_neighbors=21)\n",
    "sc.tl.umap(adata, min_dist=0.2)\n",
    "\n",
    "adata"
   ]
  },
  {
   "cell_type": "code",
   "execution_count": null,
   "id": "113e3bec-15b2-414f-9a6e-53149465d48f",
   "metadata": {},
   "outputs": [],
   "source": [
    "sc.pl.umap(adata, \n",
    "           color=['dataset'])"
   ]
  },
  {
   "cell_type": "code",
   "execution_count": null,
   "id": "88bf1b9d-c333-4112-b3ec-d3bcb4cd81b0",
   "metadata": {},
   "outputs": [],
   "source": [
    "break"
   ]
  },
  {
   "cell_type": "code",
   "execution_count": null,
   "id": "66a1bed4-7eb8-4c50-bf92-1f68033a519f",
   "metadata": {},
   "outputs": [],
   "source": []
  },
  {
   "cell_type": "code",
   "execution_count": null,
   "id": "5fec5868-ab5f-455c-9dc8-d084a0da551a",
   "metadata": {},
   "outputs": [],
   "source": []
  },
  {
   "cell_type": "code",
   "execution_count": null,
   "id": "3a48932e-d460-4620-a5b8-f5d2a0011d84",
   "metadata": {},
   "outputs": [],
   "source": [
    "df = embs.copy()\n",
    "\n",
    "sns.scatterplot(data=df,  \n",
    "                x=0,\n",
    "                y=2,\n",
    "                alpha=0.6,\n",
    "                s=10,\n",
    "                palette=\"Set1\",\n",
    "                # legend=False,\n",
    "                hue='dataset')\n",
    "\n",
    "sns.move_legend(plt.gca(), \n",
    "                loc='upper right',\n",
    "                bbox_to_anchor=(1.4, 1))\n"
   ]
  },
  {
   "cell_type": "code",
   "execution_count": null,
   "id": "579094bf-3b29-4d3b-8b7c-dfb688454fc2",
   "metadata": {},
   "outputs": [],
   "source": []
  }
 ],
 "metadata": {
  "kernelspec": {
   "display_name": "geneformer",
   "language": "python",
   "name": "geneformer"
  },
  "language_info": {
   "codemirror_mode": {
    "name": "ipython",
    "version": 3
   },
   "file_extension": ".py",
   "mimetype": "text/x-python",
   "name": "python",
   "nbconvert_exporter": "python",
   "pygments_lexer": "ipython3",
   "version": "3.10.13"
  }
 },
 "nbformat": 4,
 "nbformat_minor": 5
}
