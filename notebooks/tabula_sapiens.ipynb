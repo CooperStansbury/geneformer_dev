{
 "cells": [
  {
   "cell_type": "code",
   "execution_count": 1,
   "id": "da3b2e7e-868a-425d-9581-bb4ac3dd4f3c",
   "metadata": {},
   "outputs": [
    {
     "name": "stderr",
     "output_type": "stream",
     "text": [
      "/home/cstansbu/miniconda3/envs/geneformer/lib/python3.10/site-packages/tqdm/auto.py:21: TqdmWarning: IProgress not found. Please update jupyter and ipywidgets. See https://ipywidgets.readthedocs.io/en/stable/user_install.html\n",
      "  from .autonotebook import tqdm as notebook_tqdm\n"
     ]
    }
   ],
   "source": [
    "import seaborn as sns\n",
    "import pandas as pd \n",
    "import numpy as np\n",
    "from scipy.spatial.distance import squareform, pdist\n",
    "import matplotlib.pyplot as plt\n",
    "import torch\n",
    "import anndata as an\n",
    "import scanpy as sc\n",
    "import umap\n",
    "import gc\n",
    "from importlib import reload\n",
    "\n",
    "from datasets import Dataset, load_from_disk\n",
    "from datasets import load_dataset\n",
    "from geneformer import EmbExtractor\n",
    "import geneformer\n",
    "\n",
    "# local imports\n",
    "import geneformer_utils as gtu\n",
    "\n",
    "sns.set_style('white')"
   ]
  },
  {
   "cell_type": "markdown",
   "id": "43d30c78-221c-4943-ac7c-6af9d7238d73",
   "metadata": {},
   "source": [
    "# Load data"
   ]
  },
  {
   "cell_type": "code",
   "execution_count": 2,
   "id": "d7581b22-dd01-4886-b626-33d8f26f71b7",
   "metadata": {},
   "outputs": [
    {
     "name": "stdout",
     "output_type": "stream",
     "text": [
      "df.shape=(10000, 13)\n"
     ]
    },
    {
     "data": {
      "text/html": [
       "<div>\n",
       "<style scoped>\n",
       "    .dataframe tbody tr th:only-of-type {\n",
       "        vertical-align: middle;\n",
       "    }\n",
       "\n",
       "    .dataframe tbody tr th {\n",
       "        vertical-align: top;\n",
       "    }\n",
       "\n",
       "    .dataframe thead th {\n",
       "        text-align: right;\n",
       "    }\n",
       "</style>\n",
       "<table border=\"1\" class=\"dataframe\">\n",
       "  <thead>\n",
       "    <tr style=\"text-align: right;\">\n",
       "      <th></th>\n",
       "      <th>input_ids</th>\n",
       "      <th>organ_tissue</th>\n",
       "      <th>method</th>\n",
       "      <th>donor</th>\n",
       "      <th>anatomical_information</th>\n",
       "      <th>n_counts_UMIs</th>\n",
       "      <th>n_genes</th>\n",
       "      <th>cell_ontology_class</th>\n",
       "      <th>free_annotation</th>\n",
       "      <th>manually_annotated</th>\n",
       "      <th>compartment</th>\n",
       "      <th>gender</th>\n",
       "      <th>length</th>\n",
       "    </tr>\n",
       "  </thead>\n",
       "  <tbody>\n",
       "    <tr>\n",
       "      <th>0</th>\n",
       "      <td>[2701, 9009, 7352, 61, 10920, 15990, 15987, 18...</td>\n",
       "      <td>Muscle</td>\n",
       "      <td>10X</td>\n",
       "      <td>TSP2</td>\n",
       "      <td>rectusabdominus</td>\n",
       "      <td>11002.0</td>\n",
       "      <td>3038</td>\n",
       "      <td>mesenchymal stem cell</td>\n",
       "      <td>mesenchymal stem cell</td>\n",
       "      <td>True</td>\n",
       "      <td>stromal</td>\n",
       "      <td>female</td>\n",
       "      <td>2048</td>\n",
       "    </tr>\n",
       "    <tr>\n",
       "      <th>1</th>\n",
       "      <td>[6348, 5069, 808, 17626, 12018, 9748, 6489, 15...</td>\n",
       "      <td>Muscle</td>\n",
       "      <td>10X</td>\n",
       "      <td>TSP2</td>\n",
       "      <td>rectusabdominus</td>\n",
       "      <td>4456.0</td>\n",
       "      <td>1685</td>\n",
       "      <td>capillary endothelial cell</td>\n",
       "      <td>capillary endothelial cell</td>\n",
       "      <td>True</td>\n",
       "      <td>endothelial</td>\n",
       "      <td>female</td>\n",
       "      <td>1562</td>\n",
       "    </tr>\n",
       "    <tr>\n",
       "      <th>2</th>\n",
       "      <td>[14816, 3072, 10691, 5776, 7283, 1683, 15169, ...</td>\n",
       "      <td>Muscle</td>\n",
       "      <td>smartseq2</td>\n",
       "      <td>TSP2</td>\n",
       "      <td>diaphragm</td>\n",
       "      <td>163457.0</td>\n",
       "      <td>1551</td>\n",
       "      <td>endothelial cell of vascular tree</td>\n",
       "      <td>endothelial cell of vascular tree</td>\n",
       "      <td>True</td>\n",
       "      <td>endothelial</td>\n",
       "      <td>female</td>\n",
       "      <td>1358</td>\n",
       "    </tr>\n",
       "    <tr>\n",
       "      <th>3</th>\n",
       "      <td>[9009, 376, 18367, 6489, 454, 16916, 2225, 942...</td>\n",
       "      <td>Muscle</td>\n",
       "      <td>10X</td>\n",
       "      <td>TSP14</td>\n",
       "      <td>Abdomen</td>\n",
       "      <td>11555.0</td>\n",
       "      <td>3121</td>\n",
       "      <td>mesenchymal stem cell</td>\n",
       "      <td>mesenchymal stem cell</td>\n",
       "      <td>True</td>\n",
       "      <td>stromal</td>\n",
       "      <td>male</td>\n",
       "      <td>2048</td>\n",
       "    </tr>\n",
       "    <tr>\n",
       "      <th>4</th>\n",
       "      <td>[16916, 9009, 5080, 10920, 877, 4923, 2124, 79...</td>\n",
       "      <td>Muscle</td>\n",
       "      <td>10X</td>\n",
       "      <td>TSP2</td>\n",
       "      <td>rectusabdominus</td>\n",
       "      <td>11517.0</td>\n",
       "      <td>2963</td>\n",
       "      <td>mesenchymal stem cell</td>\n",
       "      <td>mesenchymal stem cell</td>\n",
       "      <td>True</td>\n",
       "      <td>stromal</td>\n",
       "      <td>female</td>\n",
       "      <td>2048</td>\n",
       "    </tr>\n",
       "  </tbody>\n",
       "</table>\n",
       "</div>"
      ],
      "text/plain": [
       "                                           input_ids organ_tissue     method  \\\n",
       "0  [2701, 9009, 7352, 61, 10920, 15990, 15987, 18...       Muscle        10X   \n",
       "1  [6348, 5069, 808, 17626, 12018, 9748, 6489, 15...       Muscle        10X   \n",
       "2  [14816, 3072, 10691, 5776, 7283, 1683, 15169, ...       Muscle  smartseq2   \n",
       "3  [9009, 376, 18367, 6489, 454, 16916, 2225, 942...       Muscle        10X   \n",
       "4  [16916, 9009, 5080, 10920, 877, 4923, 2124, 79...       Muscle        10X   \n",
       "\n",
       "   donor anatomical_information  n_counts_UMIs  n_genes  \\\n",
       "0   TSP2        rectusabdominus        11002.0     3038   \n",
       "1   TSP2        rectusabdominus         4456.0     1685   \n",
       "2   TSP2              diaphragm       163457.0     1551   \n",
       "3  TSP14                Abdomen        11555.0     3121   \n",
       "4   TSP2        rectusabdominus        11517.0     2963   \n",
       "\n",
       "                 cell_ontology_class                    free_annotation  \\\n",
       "0              mesenchymal stem cell              mesenchymal stem cell   \n",
       "1         capillary endothelial cell         capillary endothelial cell   \n",
       "2  endothelial cell of vascular tree  endothelial cell of vascular tree   \n",
       "3              mesenchymal stem cell              mesenchymal stem cell   \n",
       "4              mesenchymal stem cell              mesenchymal stem cell   \n",
       "\n",
       "   manually_annotated  compartment  gender  length  \n",
       "0                True      stromal  female    2048  \n",
       "1                True  endothelial  female    1562  \n",
       "2                True  endothelial  female    1358  \n",
       "3                True      stromal    male    2048  \n",
       "4                True      stromal  female    2048  "
      ]
     },
     "execution_count": 2,
     "metadata": {},
     "output_type": "execute_result"
    }
   ],
   "source": [
    "reload(gtu)\n",
    "torch.cuda.empty_cache()\n",
    "num_cells = 10000\n",
    "\n",
    "\"\"\"Load the model\"\"\"\n",
    "# model_path = \"/nfs/turbo/umms-indikar/shared/projects/geneformer/fine_tuned_models/geneformer-6L-30M_CellClassifier_cardiomyopathies_220224/\"\n",
    "model_path = \"/nfs/turbo/umms-indikar/shared/projects/geneformer/geneformer-12L-30M/\"\n",
    "model = gtu.load_model(model_path)\n",
    "\n",
    "\"\"\"Load the data\"\"\"\n",
    "data_path = \"/nfs/turbo/umms-indikar/shared/projects/geneformer/data/tabula_sapiens_muscle.dataset\"\n",
    "df = gtu.load_data_as_dataframe(data_path, num_cells=num_cells, shuffle=True)\n",
    "\n",
    "# convert into arrow dataset\n",
    "data = Dataset.from_pandas(df)\n",
    "\n",
    "# useful for later\n",
    "features = df.columns.to_list()\n",
    "features.remove(\"input_ids\")\n",
    "\n",
    "print(f\"{df.shape=}\")\n",
    "df.head()"
   ]
  },
  {
   "cell_type": "code",
   "execution_count": 3,
   "id": "b937ba20-8f2b-4b7e-8dde-735b3f2921bd",
   "metadata": {},
   "outputs": [
    {
     "name": "stderr",
     "output_type": "stream",
     "text": [
      "100%|██████████| 1000/1000 [10:10<00:00,  1.64it/s]"
     ]
    },
    {
     "name": "stdout",
     "output_type": "stream",
     "text": [
      "embs.shape=(10000, 512)\n"
     ]
    },
    {
     "name": "stderr",
     "output_type": "stream",
     "text": [
      "\n"
     ]
    },
    {
     "data": {
      "text/html": [
       "<div>\n",
       "<style scoped>\n",
       "    .dataframe tbody tr th:only-of-type {\n",
       "        vertical-align: middle;\n",
       "    }\n",
       "\n",
       "    .dataframe tbody tr th {\n",
       "        vertical-align: top;\n",
       "    }\n",
       "\n",
       "    .dataframe thead th {\n",
       "        text-align: right;\n",
       "    }\n",
       "</style>\n",
       "<table border=\"1\" class=\"dataframe\">\n",
       "  <thead>\n",
       "    <tr style=\"text-align: right;\">\n",
       "      <th></th>\n",
       "      <th>0</th>\n",
       "      <th>1</th>\n",
       "      <th>2</th>\n",
       "      <th>3</th>\n",
       "      <th>4</th>\n",
       "      <th>5</th>\n",
       "      <th>6</th>\n",
       "      <th>7</th>\n",
       "      <th>8</th>\n",
       "      <th>9</th>\n",
       "      <th>...</th>\n",
       "      <th>502</th>\n",
       "      <th>503</th>\n",
       "      <th>504</th>\n",
       "      <th>505</th>\n",
       "      <th>506</th>\n",
       "      <th>507</th>\n",
       "      <th>508</th>\n",
       "      <th>509</th>\n",
       "      <th>510</th>\n",
       "      <th>511</th>\n",
       "    </tr>\n",
       "  </thead>\n",
       "  <tbody>\n",
       "    <tr>\n",
       "      <th>0</th>\n",
       "      <td>0.010958</td>\n",
       "      <td>-0.087159</td>\n",
       "      <td>1.652395</td>\n",
       "      <td>-0.083996</td>\n",
       "      <td>-0.024927</td>\n",
       "      <td>-0.107489</td>\n",
       "      <td>-0.667254</td>\n",
       "      <td>0.034595</td>\n",
       "      <td>0.000294</td>\n",
       "      <td>0.397330</td>\n",
       "      <td>...</td>\n",
       "      <td>0.434004</td>\n",
       "      <td>-0.232511</td>\n",
       "      <td>0.154670</td>\n",
       "      <td>-0.428088</td>\n",
       "      <td>0.117187</td>\n",
       "      <td>0.177142</td>\n",
       "      <td>0.237579</td>\n",
       "      <td>0.097980</td>\n",
       "      <td>0.381286</td>\n",
       "      <td>-0.448270</td>\n",
       "    </tr>\n",
       "    <tr>\n",
       "      <th>1</th>\n",
       "      <td>0.003885</td>\n",
       "      <td>0.042521</td>\n",
       "      <td>1.681913</td>\n",
       "      <td>-0.416512</td>\n",
       "      <td>-0.240424</td>\n",
       "      <td>-0.412216</td>\n",
       "      <td>-0.678460</td>\n",
       "      <td>0.047384</td>\n",
       "      <td>-0.002755</td>\n",
       "      <td>0.281365</td>\n",
       "      <td>...</td>\n",
       "      <td>0.445421</td>\n",
       "      <td>0.100039</td>\n",
       "      <td>0.151362</td>\n",
       "      <td>-0.537323</td>\n",
       "      <td>0.211351</td>\n",
       "      <td>-0.122623</td>\n",
       "      <td>0.066097</td>\n",
       "      <td>0.340459</td>\n",
       "      <td>0.485910</td>\n",
       "      <td>-0.395220</td>\n",
       "    </tr>\n",
       "    <tr>\n",
       "      <th>2</th>\n",
       "      <td>-0.259811</td>\n",
       "      <td>-0.407567</td>\n",
       "      <td>1.509599</td>\n",
       "      <td>-0.155009</td>\n",
       "      <td>0.007000</td>\n",
       "      <td>-0.161127</td>\n",
       "      <td>0.047335</td>\n",
       "      <td>-0.295696</td>\n",
       "      <td>0.348368</td>\n",
       "      <td>0.755738</td>\n",
       "      <td>...</td>\n",
       "      <td>0.273619</td>\n",
       "      <td>-0.589696</td>\n",
       "      <td>0.137482</td>\n",
       "      <td>0.208909</td>\n",
       "      <td>0.113663</td>\n",
       "      <td>-0.071778</td>\n",
       "      <td>-0.101334</td>\n",
       "      <td>-0.414200</td>\n",
       "      <td>0.222108</td>\n",
       "      <td>-0.135593</td>\n",
       "    </tr>\n",
       "    <tr>\n",
       "      <th>3</th>\n",
       "      <td>0.122791</td>\n",
       "      <td>0.191594</td>\n",
       "      <td>1.603823</td>\n",
       "      <td>-0.043077</td>\n",
       "      <td>-0.002565</td>\n",
       "      <td>-0.128820</td>\n",
       "      <td>-0.770756</td>\n",
       "      <td>0.213566</td>\n",
       "      <td>-0.030185</td>\n",
       "      <td>0.312940</td>\n",
       "      <td>...</td>\n",
       "      <td>0.555596</td>\n",
       "      <td>-0.098368</td>\n",
       "      <td>0.145776</td>\n",
       "      <td>-0.397160</td>\n",
       "      <td>0.185694</td>\n",
       "      <td>0.161895</td>\n",
       "      <td>0.285428</td>\n",
       "      <td>-0.159241</td>\n",
       "      <td>0.332957</td>\n",
       "      <td>-0.554396</td>\n",
       "    </tr>\n",
       "    <tr>\n",
       "      <th>4</th>\n",
       "      <td>0.002351</td>\n",
       "      <td>0.029626</td>\n",
       "      <td>1.663690</td>\n",
       "      <td>-0.030830</td>\n",
       "      <td>0.010237</td>\n",
       "      <td>-0.152045</td>\n",
       "      <td>-0.697064</td>\n",
       "      <td>0.051871</td>\n",
       "      <td>-0.075700</td>\n",
       "      <td>0.316962</td>\n",
       "      <td>...</td>\n",
       "      <td>0.473939</td>\n",
       "      <td>-0.091035</td>\n",
       "      <td>0.165517</td>\n",
       "      <td>-0.325740</td>\n",
       "      <td>0.051812</td>\n",
       "      <td>0.091567</td>\n",
       "      <td>0.295048</td>\n",
       "      <td>0.203928</td>\n",
       "      <td>0.417891</td>\n",
       "      <td>-0.448658</td>\n",
       "    </tr>\n",
       "  </tbody>\n",
       "</table>\n",
       "<p>5 rows × 512 columns</p>\n",
       "</div>"
      ],
      "text/plain": [
       "        0         1         2         3         4         5         6    \\\n",
       "0  0.010958 -0.087159  1.652395 -0.083996 -0.024927 -0.107489 -0.667254   \n",
       "1  0.003885  0.042521  1.681913 -0.416512 -0.240424 -0.412216 -0.678460   \n",
       "2 -0.259811 -0.407567  1.509599 -0.155009  0.007000 -0.161127  0.047335   \n",
       "3  0.122791  0.191594  1.603823 -0.043077 -0.002565 -0.128820 -0.770756   \n",
       "4  0.002351  0.029626  1.663690 -0.030830  0.010237 -0.152045 -0.697064   \n",
       "\n",
       "        7         8         9    ...       502       503       504       505  \\\n",
       "0  0.034595  0.000294  0.397330  ...  0.434004 -0.232511  0.154670 -0.428088   \n",
       "1  0.047384 -0.002755  0.281365  ...  0.445421  0.100039  0.151362 -0.537323   \n",
       "2 -0.295696  0.348368  0.755738  ...  0.273619 -0.589696  0.137482  0.208909   \n",
       "3  0.213566 -0.030185  0.312940  ...  0.555596 -0.098368  0.145776 -0.397160   \n",
       "4  0.051871 -0.075700  0.316962  ...  0.473939 -0.091035  0.165517 -0.325740   \n",
       "\n",
       "        506       507       508       509       510       511  \n",
       "0  0.117187  0.177142  0.237579  0.097980  0.381286 -0.448270  \n",
       "1  0.211351 -0.122623  0.066097  0.340459  0.485910 -0.395220  \n",
       "2  0.113663 -0.071778 -0.101334 -0.414200  0.222108 -0.135593  \n",
       "3  0.185694  0.161895  0.285428 -0.159241  0.332957 -0.554396  \n",
       "4  0.051812  0.091567  0.295048  0.203928  0.417891 -0.448658  \n",
       "\n",
       "[5 rows x 512 columns]"
      ]
     },
     "execution_count": 3,
     "metadata": {},
     "output_type": "execute_result"
    }
   ],
   "source": [
    "reload(gtu)\n",
    "embs = gtu.extract_embedding_in_mem(model, data)\n",
    "print(f\"{embs.shape=}\")\n",
    "embs.head()"
   ]
  },
  {
   "cell_type": "code",
   "execution_count": 6,
   "id": "e667a9e2-0b29-42ff-94c6-a05e1a4aee81",
   "metadata": {},
   "outputs": [
    {
     "data": {
      "image/png": "[encoded data removed]",
      "text/plain": [
       "<Figure size 727.8x960 with 2 Axes>"
      ]
     },
     "metadata": {},
     "output_type": "display_data"
    },
    {
     "data": {
      "text/plain": [
       "AnnData object with n_obs × n_vars = 10000 × 512\n",
       "    obs: 'input_ids', 'organ_tissue', 'method', 'donor', 'anatomical_information', 'n_counts_UMIs', 'n_genes', 'cell_ontology_class', 'free_annotation', 'manually_annotated', 'compartment', 'gender', 'length'\n",
       "    uns: 'pca', 'neighbors', 'umap', 'free_annotation_colors', 'compartment_colors'\n",
       "    obsm: 'X_pca', 'X_umap'\n",
       "    varm: 'PCs'\n",
       "    obsp: 'distances', 'connectivities'"
      ]
     },
     "execution_count": 6,
     "metadata": {},
     "output_type": "execute_result"
    }
   ],
   "source": [
    "# translate into an anndata object and plot\n",
    "adata = gtu.embedding_to_adata(embs)\n",
    "adata.obs = df.copy()\n",
    "\n",
    "sc.tl.pca(adata)\n",
    "sc.pp.neighbors(adata)\n",
    "sc.tl.umap(adata, min_dist=0.1)\n",
    "sc.pl.umap(\n",
    "    adata,\n",
    "    color=[\"free_annotation\", \"compartment\"],\n",
    "    ncols=1,\n",
    "    size=30,\n",
    ")\n",
    "\n",
    "adata"
   ]
  },
  {
   "cell_type": "code",
   "execution_count": 8,
   "id": "a7a607d8-db67-42d5-8df4-4c33b0ed7c3c",
   "metadata": {},
   "outputs": [
    {
     "data": {
      "image/png": "[encoded data removed]",
      "text/plain": [
       "<Figure size 640x480 with 1 Axes>"
      ]
     },
     "metadata": {},
     "output_type": "display_data"
    }
   ],
   "source": [
    "sc.pl.umap(\n",
    "    adata,\n",
    "    color=[\"gender\"],\n",
    "    ncols=1,\n",
    "    size=30,\n",
    ")"
   ]
  },
  {
   "cell_type": "code",
   "execution_count": null,
   "id": "3d859977-ee06-4391-8ce3-6d9749bd977c",
   "metadata": {},
   "outputs": [],
   "source": []
  },
  {
   "cell_type": "code",
   "execution_count": 5,
   "id": "82d351a1-6a6f-45ad-90d3-ce39b6d34bf5",
   "metadata": {},
   "outputs": [
    {
     "ename": "SyntaxError",
     "evalue": "'break' outside loop (668683560.py, line 1)",
     "output_type": "error",
     "traceback": [
      "\u001b[0;36m  Cell \u001b[0;32mIn[5], line 1\u001b[0;36m\u001b[0m\n\u001b[0;31m    break\u001b[0m\n\u001b[0m    ^\u001b[0m\n\u001b[0;31mSyntaxError\u001b[0m\u001b[0;31m:\u001b[0m 'break' outside loop\n"
     ]
    }
   ],
   "source": [
    "break"
   ]
  },
  {
   "cell_type": "code",
   "execution_count": null,
   "id": "c238550a-c339-4c95-afe3-70531374be8f",
   "metadata": {},
   "outputs": [],
   "source": []
  },
  {
   "cell_type": "markdown",
   "id": "d37b94cd-4f29-4d5e-a7ba-7ff06228301e",
   "metadata": {},
   "source": [
    "# Original Geneformer Extraction"
   ]
  },
  {
   "cell_type": "code",
   "execution_count": null,
   "id": "adc3a392-c530-4742-9c67-c1ff27bbbdf4",
   "metadata": {},
   "outputs": [],
   "source": [
    "torch.cuda.empty_cache()\n",
    "\n",
    "n_cells = 10000\n",
    "# 0 for last layer, -1 for second to last\n",
    "layer = -1\n",
    "\n",
    "# initiate EmbExtractor\n",
    "embex = EmbExtractor(model_type=\"Pretrained\",\n",
    "                     num_classes=0,\n",
    "                     max_ncells=n_cells,\n",
    "                     emb_mode='cell',\n",
    "                     emb_layer=layer,\n",
    "                     emb_label=features,\n",
    "                     forward_batch_size=30,\n",
    "                     nproc=16,\n",
    "                      )\n",
    "\n",
    "# extracts embedding from input data\n",
    "embs = embex.extract_embs(model,\n",
    "                          data_path,\n",
    "                          outpath,\n",
    "                          \"test\")\n",
    "\n",
    "embs.head()"
   ]
  },
  {
   "cell_type": "code",
   "execution_count": null,
   "id": "6e5d12ca-1157-4a78-992b-c57eb6ac1556",
   "metadata": {},
   "outputs": [],
   "source": [
    "# translate into an anndata object and plot\n",
    "adata = gtu.embedding_to_adata(embs)\n",
    "\n",
    "sc.tl.pca(adata)\n",
    "sc.pp.neighbors(adata)\n",
    "sc.tl.umap(adata, min_dist=0.1)\n",
    "sc.pl.umap(\n",
    "    adata,\n",
    "    color=[\"free_annotation\"],\n",
    "    ncols=1,\n",
    "    size=30,\n",
    ")\n",
    "\n",
    "adata"
   ]
  },
  {
   "cell_type": "code",
   "execution_count": null,
   "id": "e1f25d4a-5489-4898-806b-679e0038a1fb",
   "metadata": {},
   "outputs": [],
   "source": [
    "# break"
   ]
  },
  {
   "cell_type": "code",
   "execution_count": null,
   "id": "0691dd61-5d65-44af-b1bf-7dd37077d462",
   "metadata": {},
   "outputs": [],
   "source": [
    "break"
   ]
  },
  {
   "cell_type": "markdown",
   "id": "54a274e8-e6b9-400d-9626-26903fa7773f",
   "metadata": {},
   "source": [
    "# in-memory embedding extraction"
   ]
  },
  {
   "cell_type": "code",
   "execution_count": null,
   "id": "cba184a1-c7bb-4d60-b8d9-23f374a75ef8",
   "metadata": {},
   "outputs": [],
   "source": [
    "reload(gtu)\n",
    "model_path = \"/nfs/turbo/umms-indikar/shared/projects/geneformer/fine_tuned_models/geneformer-6L-30M_CellClassifier_cardiomyopathies_220224/\"\n",
    "model = gtu.load_model(model_path)\n",
    "type(model)"
   ]
  },
  {
   "cell_type": "code",
   "execution_count": null,
   "id": "adfd1a02-0f17-4cf5-98fc-d061a0e8c11a",
   "metadata": {},
   "outputs": [],
   "source": [
    "data_path = \"/nfs/turbo/umms-indikar/shared/projects/geneformer/data/rajapakse_lab_data.dataset\"\n",
    "data = load_from_disk(data_path)\n",
    "type(data)"
   ]
  },
  {
   "cell_type": "code",
   "execution_count": null,
   "id": "ab97e3e0-fc25-4a87-a419-515426184b22",
   "metadata": {},
   "outputs": [],
   "source": [
    "reload(gtu)\n",
    "token_path = gtu.DEFAULT_TOKEN_PATH\n",
    "tokens = gtu.load_pickle(token_path)\n",
    "print(tokens.get(\"<pad>\"))\n",
    "# len(tokens)"
   ]
  },
  {
   "cell_type": "code",
   "execution_count": null,
   "id": "c0ccc5bb-0ff8-4e55-b002-87358e1b8491",
   "metadata": {},
   "outputs": [],
   "source": [
    "reload(gtu)\n",
    "embs = gtu.extract_embedding_in_mem(model, data)\n",
    "embs.head()"
   ]
  },
  {
   "cell_type": "markdown",
   "id": "d43ce39a-c7e9-4600-a29c-2d5926afde58",
   "metadata": {},
   "source": [
    "# a simple perturbation example\n",
    "\n"
   ]
  },
  {
   "cell_type": "code",
   "execution_count": null,
   "id": "9620d4c4-b309-4751-8a7f-8a8fc0ebdb5b",
   "metadata": {},
   "outputs": [],
   "source": [
    "token_data_path = \"/nfs/turbo/umms-indikar/shared/projects/geneformer/token_mappings.csv\"\n",
    "token_df = pd.read_csv(token_data_path)\n",
    "token_df.head()"
   ]
  },
  {
   "cell_type": "code",
   "execution_count": null,
   "id": "217fd4a9-e9de-4b74-9c92-504834887ff4",
   "metadata": {},
   "outputs": [],
   "source": [
    "# extract the yamanaka factors\n",
    "query_genes = [\n",
    "    'POU5F1', # oct4\n",
    "    'SOX2',\n",
    "    'KLF4',\n",
    "    'MYC'   \n",
    "]\n",
    "\n",
    "genes = token_df[token_df['gene_name'].isin(query_genes)]\n",
    "force_tokens = genes['token_id'].to_list()\n",
    "genes"
   ]
  },
  {
   "cell_type": "code",
   "execution_count": null,
   "id": "b8af675f-3a44-40f9-b3ee-a68c3fc143bd",
   "metadata": {},
   "outputs": [],
   "source": [
    "# convert the arrow dataset to a dataframe\n",
    "raw_data = data.to_pandas()\n",
    "raw_data['type'] = 'raw'\n",
    "print(raw_data[['input_ids']].head())\n",
    "print()\n",
    "\n",
    "# perturb the cells\n",
    "perturbed = raw_data.copy()\n",
    "perturbed['type'] = 'perturbed'\n",
    "perturbed['input_ids'] = perturbed['input_ids'].apply(lambda x: list(force_tokens) + list(x)[:len(x) - len(force_tokens)])\n",
    "print(perturbed[['input_ids']].head())\n",
    "\n",
    "# join the data back together\n",
    "df = pd.concat([raw_data, perturbed])\n",
    "print(f\"{df.shape=}\")\n",
    "df.head()"
   ]
  },
  {
   "cell_type": "code",
   "execution_count": null,
   "id": "01ef70ed-f519-457c-aa9e-dfd093237d8e",
   "metadata": {},
   "outputs": [],
   "source": [
    "# convert back into arrow dataset\n",
    "new_data = Dataset.from_pandas(df)\n",
    "\n",
    "# extract embeddings \n",
    "embs = gtu.extract_embedding_in_mem(model, new_data)\n",
    "embs.head()"
   ]
  },
  {
   "cell_type": "code",
   "execution_count": null,
   "id": "244a9c8c-13c4-44c2-80f5-4adb757359ee",
   "metadata": {},
   "outputs": [],
   "source": [
    "reload(gtu)\n",
    "adata = gtu.make_embedding_anndata(embs, df)\n",
    "\n",
    "sc.tl.pca(adata)\n",
    "sc.pp.neighbors(adata)\n",
    "sc.tl.umap(adata, min_dist=0.1)\n",
    "sc.pl.umap(\n",
    "    adata,\n",
    "    color=[\"type\"],\n",
    "    ncols=1,\n",
    "    # Setting a smaller point size to get prevent overlap\n",
    "    size=30,\n",
    ")"
   ]
  },
  {
   "cell_type": "markdown",
   "id": "fef76096-0a3a-45fd-bdfc-dba273b8c67b",
   "metadata": {},
   "source": [
    "# Archive"
   ]
  },
  {
   "cell_type": "code",
   "execution_count": null,
   "id": "494ffed4-f012-44c4-9833-5d126ef9357a",
   "metadata": {},
   "outputs": [],
   "source": [
    "break"
   ]
  },
  {
   "cell_type": "markdown",
   "id": "adbbef48-5325-4b8e-87fa-cf6df9ba9711",
   "metadata": {},
   "source": [
    "# Neighbor Graph (no PCA of embeddings)"
   ]
  },
  {
   "cell_type": "code",
   "execution_count": null,
   "id": "b2cb8438-b363-4113-851d-3a89e5c8fefa",
   "metadata": {},
   "outputs": [],
   "source": [
    "sc.pp.neighbors(adata)\n",
    "sc.tl.umap(adata)\n",
    "sc.pl.umap(\n",
    "    adata,\n",
    "    color=[\"cell_type\", \"dataset\"],\n",
    "    n_cols=1,\n",
    "    # Setting a smaller point size to get prevent overlap\n",
    "    size=10,\n",
    ")"
   ]
  },
  {
   "cell_type": "code",
   "execution_count": null,
   "id": "f5f55e49-8c37-40c6-8062-ded826241b8f",
   "metadata": {},
   "outputs": [],
   "source": [
    "break"
   ]
  },
  {
   "cell_type": "code",
   "execution_count": null,
   "id": "5707dd9c-8335-459e-bd91-faeb571e76ac",
   "metadata": {},
   "outputs": [],
   "source": []
  },
  {
   "cell_type": "code",
   "execution_count": null,
   "id": "01843c0f-0c46-4d5f-9587-42e4208d5ea1",
   "metadata": {},
   "outputs": [],
   "source": []
  },
  {
   "cell_type": "code",
   "execution_count": null,
   "id": "a66d40fe-29af-474c-b5e2-2c4383518a29",
   "metadata": {},
   "outputs": [],
   "source": [
    "comp_1 = 4\n",
    "comp_2 = 5\n",
    "\n",
    "sns.scatterplot(data=embs,\n",
    "                x=comp_1,\n",
    "                y=comp_2,\n",
    "                ec='none',\n",
    "                lw=0.1,\n",
    "                alpha=0.9,\n",
    "                hue='dataset',\n",
    "                s=5)\n",
    "\n",
    "\n",
    "plt.xticks([])\n",
    "plt.yticks([])\n",
    "\n",
    "sns.move_legend(plt.gca(), \n",
    "                loc='upper right',\n",
    "                bbox_to_anchor=(1.7, 1))\n",
    "\n",
    "plt.gca().set_aspect('equal')"
   ]
  },
  {
   "cell_type": "code",
   "execution_count": null,
   "id": "b255fd35-e66c-41dd-9e10-a791783e0976",
   "metadata": {},
   "outputs": [],
   "source": []
  },
  {
   "cell_type": "code",
   "execution_count": null,
   "id": "e691cfd5-86d2-4aab-96ae-a3af46c0bf71",
   "metadata": {},
   "outputs": [],
   "source": []
  },
  {
   "cell_type": "code",
   "execution_count": null,
   "id": "9298cb8e-6608-4cfb-9b00-49dc1652e02e",
   "metadata": {},
   "outputs": [],
   "source": []
  },
  {
   "cell_type": "code",
   "execution_count": null,
   "id": "0baab1a6-f2aa-426e-8e2d-46692345406b",
   "metadata": {},
   "outputs": [],
   "source": [
    "sc.tl.pca(adata, n_comps=5)\n",
    "sc.pp.neighbors(adata)\n",
    "sc.tl.umap(adata)\n",
    "sc.pl.umap(\n",
    "    adata,\n",
    "    color=\"cell_type\",\n",
    "    # Setting a smaller point size to get prevent overlap\n",
    "    size=10,\n",
    ")"
   ]
  },
  {
   "cell_type": "code",
   "execution_count": null,
   "id": "fcb95f92-f5eb-47a7-8be1-2269e8810e05",
   "metadata": {},
   "outputs": [],
   "source": [
    "break"
   ]
  },
  {
   "cell_type": "code",
   "execution_count": null,
   "id": "db772b72-2c63-4103-a8c5-c27b107e7b50",
   "metadata": {},
   "outputs": [],
   "source": [
    "sc.tl.leiden(adata, n_iterations=2)\n",
    "sc.pl.umap(adata, color=[\"leiden\"])"
   ]
  },
  {
   "cell_type": "code",
   "execution_count": null,
   "id": "bdf80196-1d40-4b5c-95b3-24b589d052f9",
   "metadata": {},
   "outputs": [],
   "source": []
  },
  {
   "cell_type": "code",
   "execution_count": null,
   "id": "cff8517e-12a2-4b3b-aeb8-dcbe9f9f01d3",
   "metadata": {},
   "outputs": [],
   "source": []
  },
  {
   "cell_type": "code",
   "execution_count": null,
   "id": "8ffb54a2-92d6-437e-a600-25970da5b401",
   "metadata": {},
   "outputs": [],
   "source": [
    "break"
   ]
  },
  {
   "cell_type": "code",
   "execution_count": null,
   "id": "18e7c503-eb9f-4897-b929-5c0bb0ba1926",
   "metadata": {},
   "outputs": [],
   "source": [
    "sns.scatterplot(data=embs,\n",
    "                x=0,\n",
    "                y=1,\n",
    "                hue='dataset',\n",
    "                s=10)\n",
    "\n",
    "sns.move_legend(plt.gca(), \n",
    "                loc='upper right',\n",
    "                bbox_to_anchor=(1.7, 1))\n",
    "\n",
    "plt.gca().set_aspect('equal')"
   ]
  },
  {
   "cell_type": "code",
   "execution_count": null,
   "id": "9ee40f89-6b88-4d60-9a62-ea1e767e30d9",
   "metadata": {},
   "outputs": [],
   "source": [
    "break"
   ]
  },
  {
   "cell_type": "code",
   "execution_count": null,
   "id": "123fd075-6f6c-481d-89cf-d80ee5f6ecb1",
   "metadata": {},
   "outputs": [],
   "source": [
    "sc.tl.pca(adata)\n",
    "sc.pp.neighbors(adata, n_neighbors=21)\n",
    "sc.tl.umap(adata, min_dist=0.2)\n",
    "\n",
    "adata"
   ]
  },
  {
   "cell_type": "code",
   "execution_count": null,
   "id": "113e3bec-15b2-414f-9a6e-53149465d48f",
   "metadata": {},
   "outputs": [],
   "source": [
    "sc.pl.umap(adata, \n",
    "           color=['dataset'])"
   ]
  },
  {
   "cell_type": "code",
   "execution_count": null,
   "id": "88bf1b9d-c333-4112-b3ec-d3bcb4cd81b0",
   "metadata": {},
   "outputs": [],
   "source": [
    "break"
   ]
  },
  {
   "cell_type": "code",
   "execution_count": null,
   "id": "66a1bed4-7eb8-4c50-bf92-1f68033a519f",
   "metadata": {},
   "outputs": [],
   "source": []
  },
  {
   "cell_type": "code",
   "execution_count": null,
   "id": "5fec5868-ab5f-455c-9dc8-d084a0da551a",
   "metadata": {},
   "outputs": [],
   "source": []
  },
  {
   "cell_type": "code",
   "execution_count": null,
   "id": "3a48932e-d460-4620-a5b8-f5d2a0011d84",
   "metadata": {},
   "outputs": [],
   "source": [
    "df = embs.copy()\n",
    "\n",
    "sns.scatterplot(data=df,  \n",
    "                x=0,\n",
    "                y=2,\n",
    "                alpha=0.6,\n",
    "                s=10,\n",
    "                palette=\"Set1\",\n",
    "                # legend=False,\n",
    "                hue='dataset')\n",
    "\n",
    "sns.move_legend(plt.gca(), \n",
    "                loc='upper right',\n",
    "                bbox_to_anchor=(1.4, 1))\n"
   ]
  },
  {
   "cell_type": "code",
   "execution_count": null,
   "id": "579094bf-3b29-4d3b-8b7c-dfb688454fc2",
   "metadata": {},
   "outputs": [],
   "source": []
  }
 ],
 "metadata": {
  "kernelspec": {
   "display_name": "geneformer",
   "language": "python",
   "name": "geneformer"
  },
  "language_info": {
   "codemirror_mode": {
    "name": "ipython",
    "version": 3
   },
   "file_extension": ".py",
   "mimetype": "text/x-python",
   "name": "python",
   "nbconvert_exporter": "python",
   "pygments_lexer": "ipython3",
   "version": "3.10.13"
  }
 },
 "nbformat": 4,
 "nbformat_minor": 5
}
